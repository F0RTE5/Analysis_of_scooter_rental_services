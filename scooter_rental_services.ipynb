{
 "cells": [
  {
   "cell_type": "markdown",
   "id": "4a76147a",
   "metadata": {},
   "source": [
    "# Анализ сервиса аренды самокатов GoFast"
   ]
  },
  {
   "cell_type": "markdown",
   "id": "dd88b6b1",
   "metadata": {},
   "source": [
    "**Описание проекта:**\n",
    "\n",
    "Мы анализируем работу сервиса аренды самокатов **GoFast**. Нам были переданы данные о некоторых пользователях из нескольких городов, а также об их поездках.\n",
    "\n",
    "Чтобы совершать поездки по городу, пользователи сервиса GoFast пользуются мобильным приложением. Сервисом можно пользоваться:\n",
    "\n",
    "- без подписки\n",
    " - абонентская плата отсутствует\n",
    " - стоимость одной минуты поездки — 8 рублей\n",
    " - стоимость старта (начала поездки) — 50 рублей\n",
    " \n",
    "- С подпиской Ultra\n",
    " - абонентская плата — 199 рублей в месяц\n",
    " - стоимость одной минуты поездки — 6 рублей\n",
    " - стоимость старта — бесплатно\n",
    " \n",
    " \n",
    "**Цель проекта:**\n",
    "\n",
    "Проанализировать данные и проверить гипотезы:\n",
    "\n",
    "- Тратят ли пользователи с подпиской больше времени на поездки?\n",
    "- Можно ли сказать, что среднее расстояние, которое проезжают пользователи с подпиской за одну поездку, не превышает 3130 метров?\n",
    "- Будет ли помесячная выручка от пользователей с подпиской по месяцам выше, чем выручка от пользователей без подписки?\n",
    "\n",
    "**Описание данных:**\n",
    "\n",
    "- **users_go**\n",
    " - **user_id** - уникальный идентификатор пользователя\n",
    " - **name** - имя пользователя\n",
    " - **age** - возраст\n",
    " - **city** - город\n",
    " - **subscription_type** - тип подписки (free, ultra)\n",
    "- **rides_go**\n",
    " - **user_id** - уникальный идентификатор пользователя\n",
    " - **distance** - расстояние, которое пользователь проехал в текущей сессии (в метрах)\n",
    " - **duration** - продолжительность сессии (в минутах) — время с того момента, как пользователь нажал кнопку «Начать поездку» до момента, как он нажал кнопку «Завершить поездку»\n",
    " - **date** - дата совершения поездки\n",
    "- **subscriptions_go**\n",
    " - **subscription_type** - тип подписки\n",
    " - **minute_price** - стоимость одной минуты поездки по данной подписке\n",
    " - **start_ride_price** - стоимость начала поездки\n",
    " - **subscription_fee** - стоимость ежемесячного платежа\n",
    " \n",
    "**План работы:**\n",
    "\n",
    "[1. Загрузка данных](#section_1)\n",
    "\n",
    "[2. Предобработка данных](#section_2)\n",
    "\n",
    "[3. Исследовательский анализ данных](#section_3)\n",
    "\n",
    "[4. Объединение данных](#section_4)\n",
    "\n",
    "[5. Подсчёт выручки](#section_5)\n",
    "\n",
    "[6. Проверка гипотез](#section_6)\n",
    "\n",
    "[7. Распределения](#section_7)\n",
    "\n",
    "[8. Общий вывод](#section_8)\n"
   ]
  },
  {
   "cell_type": "code",
   "execution_count": 1,
   "id": "72576667",
   "metadata": {},
   "outputs": [],
   "source": [
    "#Загрузка библиотек\n",
    "import pandas as pd\n",
    "import numpy as np\n",
    "import seaborn as sns\n",
    "from math import sqrt\n",
    "from scipy import stats as st\n",
    "from scipy.stats import binom\n",
    "from matplotlib import pyplot as plt\n",
    "from numpy import random"
   ]
  },
  {
   "cell_type": "markdown",
   "id": "c42cbe00",
   "metadata": {},
   "source": [
    "## Загрузка данных \n",
    "<a id='section_1'></a>"
   ]
  },
  {
   "cell_type": "code",
   "execution_count": 2,
   "id": "eff9f206",
   "metadata": {},
   "outputs": [],
   "source": [
    "#Загрузка датафреймов\n",
    "users_go = pd.read_csv('/datasets/users_go.csv')\n",
    "rides_go = pd.read_csv('/datasets/rides_go.csv')\n",
    "subscriptions_go = pd.read_csv('/datasets/subscriptions_go.csv')"
   ]
  },
  {
   "cell_type": "code",
   "execution_count": 3,
   "id": "1bdff242",
   "metadata": {},
   "outputs": [
    {
     "name": "stdout",
     "output_type": "stream",
     "text": [
      "<class 'pandas.core.frame.DataFrame'>\n",
      "RangeIndex: 1565 entries, 0 to 1564\n",
      "Data columns (total 5 columns):\n",
      " #   Column             Non-Null Count  Dtype \n",
      "---  ------             --------------  ----- \n",
      " 0   user_id            1565 non-null   int64 \n",
      " 1   name               1565 non-null   object\n",
      " 2   age                1565 non-null   int64 \n",
      " 3   city               1565 non-null   object\n",
      " 4   subscription_type  1565 non-null   object\n",
      "dtypes: int64(2), object(3)\n",
      "memory usage: 61.3+ KB\n"
     ]
    }
   ],
   "source": [
    "#Общая информация users\n",
    "users_go.info()"
   ]
  },
  {
   "cell_type": "code",
   "execution_count": 4,
   "id": "5b55d522",
   "metadata": {},
   "outputs": [
    {
     "data": {
      "text/html": [
       "<div>\n",
       "<style scoped>\n",
       "    .dataframe tbody tr th:only-of-type {\n",
       "        vertical-align: middle;\n",
       "    }\n",
       "\n",
       "    .dataframe tbody tr th {\n",
       "        vertical-align: top;\n",
       "    }\n",
       "\n",
       "    .dataframe thead th {\n",
       "        text-align: right;\n",
       "    }\n",
       "</style>\n",
       "<table border=\"1\" class=\"dataframe\">\n",
       "  <thead>\n",
       "    <tr style=\"text-align: right;\">\n",
       "      <th></th>\n",
       "      <th>user_id</th>\n",
       "      <th>name</th>\n",
       "      <th>age</th>\n",
       "      <th>city</th>\n",
       "      <th>subscription_type</th>\n",
       "    </tr>\n",
       "  </thead>\n",
       "  <tbody>\n",
       "    <tr>\n",
       "      <th>0</th>\n",
       "      <td>1</td>\n",
       "      <td>Кира</td>\n",
       "      <td>22</td>\n",
       "      <td>Тюмень</td>\n",
       "      <td>ultra</td>\n",
       "    </tr>\n",
       "    <tr>\n",
       "      <th>1</th>\n",
       "      <td>2</td>\n",
       "      <td>Станислав</td>\n",
       "      <td>31</td>\n",
       "      <td>Омск</td>\n",
       "      <td>ultra</td>\n",
       "    </tr>\n",
       "    <tr>\n",
       "      <th>2</th>\n",
       "      <td>3</td>\n",
       "      <td>Алексей</td>\n",
       "      <td>20</td>\n",
       "      <td>Москва</td>\n",
       "      <td>ultra</td>\n",
       "    </tr>\n",
       "    <tr>\n",
       "      <th>3</th>\n",
       "      <td>4</td>\n",
       "      <td>Константин</td>\n",
       "      <td>26</td>\n",
       "      <td>Ростов-на-Дону</td>\n",
       "      <td>ultra</td>\n",
       "    </tr>\n",
       "    <tr>\n",
       "      <th>4</th>\n",
       "      <td>5</td>\n",
       "      <td>Адель</td>\n",
       "      <td>28</td>\n",
       "      <td>Омск</td>\n",
       "      <td>ultra</td>\n",
       "    </tr>\n",
       "    <tr>\n",
       "      <th>5</th>\n",
       "      <td>6</td>\n",
       "      <td>Регина</td>\n",
       "      <td>25</td>\n",
       "      <td>Краснодар</td>\n",
       "      <td>ultra</td>\n",
       "    </tr>\n",
       "    <tr>\n",
       "      <th>6</th>\n",
       "      <td>7</td>\n",
       "      <td>Игорь</td>\n",
       "      <td>23</td>\n",
       "      <td>Омск</td>\n",
       "      <td>ultra</td>\n",
       "    </tr>\n",
       "    <tr>\n",
       "      <th>7</th>\n",
       "      <td>8</td>\n",
       "      <td>Юрий</td>\n",
       "      <td>23</td>\n",
       "      <td>Краснодар</td>\n",
       "      <td>ultra</td>\n",
       "    </tr>\n",
       "    <tr>\n",
       "      <th>8</th>\n",
       "      <td>9</td>\n",
       "      <td>Ян</td>\n",
       "      <td>21</td>\n",
       "      <td>Пятигорск</td>\n",
       "      <td>ultra</td>\n",
       "    </tr>\n",
       "    <tr>\n",
       "      <th>9</th>\n",
       "      <td>10</td>\n",
       "      <td>Валерий</td>\n",
       "      <td>18</td>\n",
       "      <td>Екатеринбург</td>\n",
       "      <td>ultra</td>\n",
       "    </tr>\n",
       "  </tbody>\n",
       "</table>\n",
       "</div>"
      ],
      "text/plain": [
       "   user_id        name  age            city subscription_type\n",
       "0        1        Кира   22          Тюмень             ultra\n",
       "1        2   Станислав   31            Омск             ultra\n",
       "2        3     Алексей   20          Москва             ultra\n",
       "3        4  Константин   26  Ростов-на-Дону             ultra\n",
       "4        5       Адель   28            Омск             ultra\n",
       "5        6      Регина   25       Краснодар             ultra\n",
       "6        7       Игорь   23            Омск             ultra\n",
       "7        8        Юрий   23       Краснодар             ultra\n",
       "8        9          Ян   21       Пятигорск             ultra\n",
       "9       10     Валерий   18    Екатеринбург             ultra"
      ]
     },
     "execution_count": 4,
     "metadata": {},
     "output_type": "execute_result"
    }
   ],
   "source": [
    "#Первые 10 строк users\n",
    "users_go.head(10)"
   ]
  },
  {
   "cell_type": "code",
   "execution_count": 5,
   "id": "442cbb41",
   "metadata": {},
   "outputs": [
    {
     "name": "stdout",
     "output_type": "stream",
     "text": [
      "<class 'pandas.core.frame.DataFrame'>\n",
      "RangeIndex: 18068 entries, 0 to 18067\n",
      "Data columns (total 4 columns):\n",
      " #   Column    Non-Null Count  Dtype  \n",
      "---  ------    --------------  -----  \n",
      " 0   user_id   18068 non-null  int64  \n",
      " 1   distance  18068 non-null  float64\n",
      " 2   duration  18068 non-null  float64\n",
      " 3   date      18068 non-null  object \n",
      "dtypes: float64(2), int64(1), object(1)\n",
      "memory usage: 564.8+ KB\n"
     ]
    }
   ],
   "source": [
    "#Общая информация rides\n",
    "rides_go.info()"
   ]
  },
  {
   "cell_type": "code",
   "execution_count": 6,
   "id": "9230169d",
   "metadata": {},
   "outputs": [
    {
     "data": {
      "text/html": [
       "<div>\n",
       "<style scoped>\n",
       "    .dataframe tbody tr th:only-of-type {\n",
       "        vertical-align: middle;\n",
       "    }\n",
       "\n",
       "    .dataframe tbody tr th {\n",
       "        vertical-align: top;\n",
       "    }\n",
       "\n",
       "    .dataframe thead th {\n",
       "        text-align: right;\n",
       "    }\n",
       "</style>\n",
       "<table border=\"1\" class=\"dataframe\">\n",
       "  <thead>\n",
       "    <tr style=\"text-align: right;\">\n",
       "      <th></th>\n",
       "      <th>user_id</th>\n",
       "      <th>distance</th>\n",
       "      <th>duration</th>\n",
       "      <th>date</th>\n",
       "    </tr>\n",
       "  </thead>\n",
       "  <tbody>\n",
       "    <tr>\n",
       "      <th>0</th>\n",
       "      <td>1</td>\n",
       "      <td>4409.919140</td>\n",
       "      <td>25.599769</td>\n",
       "      <td>2021-01-01</td>\n",
       "    </tr>\n",
       "    <tr>\n",
       "      <th>1</th>\n",
       "      <td>1</td>\n",
       "      <td>2617.592153</td>\n",
       "      <td>15.816871</td>\n",
       "      <td>2021-01-18</td>\n",
       "    </tr>\n",
       "    <tr>\n",
       "      <th>2</th>\n",
       "      <td>1</td>\n",
       "      <td>754.159807</td>\n",
       "      <td>6.232113</td>\n",
       "      <td>2021-04-20</td>\n",
       "    </tr>\n",
       "    <tr>\n",
       "      <th>3</th>\n",
       "      <td>1</td>\n",
       "      <td>2694.783254</td>\n",
       "      <td>18.511000</td>\n",
       "      <td>2021-08-11</td>\n",
       "    </tr>\n",
       "    <tr>\n",
       "      <th>4</th>\n",
       "      <td>1</td>\n",
       "      <td>4028.687306</td>\n",
       "      <td>26.265803</td>\n",
       "      <td>2021-08-28</td>\n",
       "    </tr>\n",
       "    <tr>\n",
       "      <th>5</th>\n",
       "      <td>1</td>\n",
       "      <td>2770.890808</td>\n",
       "      <td>16.650138</td>\n",
       "      <td>2021-10-09</td>\n",
       "    </tr>\n",
       "    <tr>\n",
       "      <th>6</th>\n",
       "      <td>1</td>\n",
       "      <td>3039.020292</td>\n",
       "      <td>14.927879</td>\n",
       "      <td>2021-10-19</td>\n",
       "    </tr>\n",
       "    <tr>\n",
       "      <th>7</th>\n",
       "      <td>1</td>\n",
       "      <td>2842.118050</td>\n",
       "      <td>23.117468</td>\n",
       "      <td>2021-11-06</td>\n",
       "    </tr>\n",
       "    <tr>\n",
       "      <th>8</th>\n",
       "      <td>1</td>\n",
       "      <td>3412.690668</td>\n",
       "      <td>15.238072</td>\n",
       "      <td>2021-11-14</td>\n",
       "    </tr>\n",
       "    <tr>\n",
       "      <th>9</th>\n",
       "      <td>1</td>\n",
       "      <td>748.690645</td>\n",
       "      <td>15.041884</td>\n",
       "      <td>2021-11-22</td>\n",
       "    </tr>\n",
       "  </tbody>\n",
       "</table>\n",
       "</div>"
      ],
      "text/plain": [
       "   user_id     distance   duration        date\n",
       "0        1  4409.919140  25.599769  2021-01-01\n",
       "1        1  2617.592153  15.816871  2021-01-18\n",
       "2        1   754.159807   6.232113  2021-04-20\n",
       "3        1  2694.783254  18.511000  2021-08-11\n",
       "4        1  4028.687306  26.265803  2021-08-28\n",
       "5        1  2770.890808  16.650138  2021-10-09\n",
       "6        1  3039.020292  14.927879  2021-10-19\n",
       "7        1  2842.118050  23.117468  2021-11-06\n",
       "8        1  3412.690668  15.238072  2021-11-14\n",
       "9        1   748.690645  15.041884  2021-11-22"
      ]
     },
     "execution_count": 6,
     "metadata": {},
     "output_type": "execute_result"
    }
   ],
   "source": [
    "#Первые 10 строк rides\n",
    "rides_go.head(10)"
   ]
  },
  {
   "cell_type": "code",
   "execution_count": 7,
   "id": "b807ef10",
   "metadata": {},
   "outputs": [
    {
     "name": "stdout",
     "output_type": "stream",
     "text": [
      "<class 'pandas.core.frame.DataFrame'>\n",
      "RangeIndex: 2 entries, 0 to 1\n",
      "Data columns (total 4 columns):\n",
      " #   Column             Non-Null Count  Dtype \n",
      "---  ------             --------------  ----- \n",
      " 0   subscription_type  2 non-null      object\n",
      " 1   minute_price       2 non-null      int64 \n",
      " 2   start_ride_price   2 non-null      int64 \n",
      " 3   subscription_fee   2 non-null      int64 \n",
      "dtypes: int64(3), object(1)\n",
      "memory usage: 192.0+ bytes\n"
     ]
    }
   ],
   "source": [
    "#Общая информация subscriptions\n",
    "subscriptions_go.info()"
   ]
  },
  {
   "cell_type": "code",
   "execution_count": 8,
   "id": "9a2c77f9",
   "metadata": {
    "scrolled": true
   },
   "outputs": [
    {
     "data": {
      "text/html": [
       "<div>\n",
       "<style scoped>\n",
       "    .dataframe tbody tr th:only-of-type {\n",
       "        vertical-align: middle;\n",
       "    }\n",
       "\n",
       "    .dataframe tbody tr th {\n",
       "        vertical-align: top;\n",
       "    }\n",
       "\n",
       "    .dataframe thead th {\n",
       "        text-align: right;\n",
       "    }\n",
       "</style>\n",
       "<table border=\"1\" class=\"dataframe\">\n",
       "  <thead>\n",
       "    <tr style=\"text-align: right;\">\n",
       "      <th></th>\n",
       "      <th>subscription_type</th>\n",
       "      <th>minute_price</th>\n",
       "      <th>start_ride_price</th>\n",
       "      <th>subscription_fee</th>\n",
       "    </tr>\n",
       "  </thead>\n",
       "  <tbody>\n",
       "    <tr>\n",
       "      <th>0</th>\n",
       "      <td>free</td>\n",
       "      <td>8</td>\n",
       "      <td>50</td>\n",
       "      <td>0</td>\n",
       "    </tr>\n",
       "    <tr>\n",
       "      <th>1</th>\n",
       "      <td>ultra</td>\n",
       "      <td>6</td>\n",
       "      <td>0</td>\n",
       "      <td>199</td>\n",
       "    </tr>\n",
       "  </tbody>\n",
       "</table>\n",
       "</div>"
      ],
      "text/plain": [
       "  subscription_type  minute_price  start_ride_price  subscription_fee\n",
       "0              free             8                50                 0\n",
       "1             ultra             6                 0               199"
      ]
     },
     "execution_count": 8,
     "metadata": {},
     "output_type": "execute_result"
    }
   ],
   "source": [
    "#Вся таблица subscriptions\n",
    "subscriptions_go"
   ]
  },
  {
   "cell_type": "markdown",
   "id": "0a2890ad",
   "metadata": {},
   "source": [
    "### Промежуточный вывод после загрузке данных\n",
    "**users_go** - 1565 записей, пропусков нет.\n",
    "\n",
    "**rides_go** - 18068 записей, пропусков нет, требуется изменение типа данных в столбце **date** на *datetime*.\n",
    "\n",
    "**subscriptions_go** - 2 записи, пропусков нет."
   ]
  },
  {
   "cell_type": "markdown",
   "id": "e95ebca7",
   "metadata": {},
   "source": [
    "## Предобработка данных\n",
    "<a id='section_2'></a>"
   ]
  },
  {
   "cell_type": "code",
   "execution_count": 9,
   "id": "3ffeab37",
   "metadata": {},
   "outputs": [
    {
     "data": {
      "text/plain": [
       "31"
      ]
     },
     "execution_count": 9,
     "metadata": {},
     "output_type": "execute_result"
    }
   ],
   "source": [
    "#Кол-во дубликтов в users\n",
    "users_go.duplicated().sum()"
   ]
  },
  {
   "cell_type": "code",
   "execution_count": 10,
   "id": "b84f0964",
   "metadata": {},
   "outputs": [],
   "source": [
    "#Удалене повторяющихся строк в users\n",
    "users_go = users_go.drop_duplicates().reset_index(drop=True)"
   ]
  },
  {
   "cell_type": "code",
   "execution_count": 11,
   "id": "0da3b1e1",
   "metadata": {},
   "outputs": [
    {
     "data": {
      "text/plain": [
       "0"
      ]
     },
     "execution_count": 11,
     "metadata": {},
     "output_type": "execute_result"
    }
   ],
   "source": [
    "#Кол-во дубликатов в rides\n",
    "rides_go.duplicated().sum()"
   ]
  },
  {
   "cell_type": "code",
   "execution_count": 12,
   "id": "49ea58be",
   "metadata": {},
   "outputs": [],
   "source": [
    "#Изменение типа данных в столбцу date в таблице rides\n",
    "rides_go['date'] = pd.to_datetime(rides_go['date'], format='%Y-%m-%d')"
   ]
  },
  {
   "cell_type": "markdown",
   "id": "50e1f47c",
   "metadata": {},
   "source": [
    "Прежде чем создать столбец с номерами месяцев, проверим за какой период в годах предоставлены данные."
   ]
  },
  {
   "cell_type": "code",
   "execution_count": 13,
   "id": "b11a9f2b",
   "metadata": {},
   "outputs": [
    {
     "data": {
      "text/plain": [
       "2021    18068\n",
       "Name: date, dtype: int64"
      ]
     },
     "execution_count": 13,
     "metadata": {},
     "output_type": "execute_result"
    }
   ],
   "source": [
    "#Проверка за какие года предоставлены данные\n",
    "rides_go['date'].dt.year.value_counts()"
   ]
  },
  {
   "cell_type": "markdown",
   "id": "ea03f8cc",
   "metadata": {},
   "source": [
    "Выборка предоставлена только за 2021 год, столбец с годами не нужен."
   ]
  },
  {
   "cell_type": "code",
   "execution_count": 14,
   "id": "709f1191",
   "metadata": {},
   "outputs": [],
   "source": [
    "#Создание нового столбца\n",
    "rides_go['month'] = rides_go['date'].dt.month"
   ]
  },
  {
   "cell_type": "code",
   "execution_count": 15,
   "id": "b736103c",
   "metadata": {},
   "outputs": [
    {
     "data": {
      "text/html": [
       "<div>\n",
       "<style scoped>\n",
       "    .dataframe tbody tr th:only-of-type {\n",
       "        vertical-align: middle;\n",
       "    }\n",
       "\n",
       "    .dataframe tbody tr th {\n",
       "        vertical-align: top;\n",
       "    }\n",
       "\n",
       "    .dataframe thead th {\n",
       "        text-align: right;\n",
       "    }\n",
       "</style>\n",
       "<table border=\"1\" class=\"dataframe\">\n",
       "  <thead>\n",
       "    <tr style=\"text-align: right;\">\n",
       "      <th></th>\n",
       "      <th>user_id</th>\n",
       "      <th>distance</th>\n",
       "      <th>duration</th>\n",
       "      <th>date</th>\n",
       "      <th>month</th>\n",
       "    </tr>\n",
       "  </thead>\n",
       "  <tbody>\n",
       "    <tr>\n",
       "      <th>0</th>\n",
       "      <td>1</td>\n",
       "      <td>4409.919140</td>\n",
       "      <td>25.599769</td>\n",
       "      <td>2021-01-01</td>\n",
       "      <td>1</td>\n",
       "    </tr>\n",
       "    <tr>\n",
       "      <th>1</th>\n",
       "      <td>1</td>\n",
       "      <td>2617.592153</td>\n",
       "      <td>15.816871</td>\n",
       "      <td>2021-01-18</td>\n",
       "      <td>1</td>\n",
       "    </tr>\n",
       "    <tr>\n",
       "      <th>2</th>\n",
       "      <td>1</td>\n",
       "      <td>754.159807</td>\n",
       "      <td>6.232113</td>\n",
       "      <td>2021-04-20</td>\n",
       "      <td>4</td>\n",
       "    </tr>\n",
       "    <tr>\n",
       "      <th>3</th>\n",
       "      <td>1</td>\n",
       "      <td>2694.783254</td>\n",
       "      <td>18.511000</td>\n",
       "      <td>2021-08-11</td>\n",
       "      <td>8</td>\n",
       "    </tr>\n",
       "    <tr>\n",
       "      <th>4</th>\n",
       "      <td>1</td>\n",
       "      <td>4028.687306</td>\n",
       "      <td>26.265803</td>\n",
       "      <td>2021-08-28</td>\n",
       "      <td>8</td>\n",
       "    </tr>\n",
       "    <tr>\n",
       "      <th>5</th>\n",
       "      <td>1</td>\n",
       "      <td>2770.890808</td>\n",
       "      <td>16.650138</td>\n",
       "      <td>2021-10-09</td>\n",
       "      <td>10</td>\n",
       "    </tr>\n",
       "    <tr>\n",
       "      <th>6</th>\n",
       "      <td>1</td>\n",
       "      <td>3039.020292</td>\n",
       "      <td>14.927879</td>\n",
       "      <td>2021-10-19</td>\n",
       "      <td>10</td>\n",
       "    </tr>\n",
       "    <tr>\n",
       "      <th>7</th>\n",
       "      <td>1</td>\n",
       "      <td>2842.118050</td>\n",
       "      <td>23.117468</td>\n",
       "      <td>2021-11-06</td>\n",
       "      <td>11</td>\n",
       "    </tr>\n",
       "    <tr>\n",
       "      <th>8</th>\n",
       "      <td>1</td>\n",
       "      <td>3412.690668</td>\n",
       "      <td>15.238072</td>\n",
       "      <td>2021-11-14</td>\n",
       "      <td>11</td>\n",
       "    </tr>\n",
       "    <tr>\n",
       "      <th>9</th>\n",
       "      <td>1</td>\n",
       "      <td>748.690645</td>\n",
       "      <td>15.041884</td>\n",
       "      <td>2021-11-22</td>\n",
       "      <td>11</td>\n",
       "    </tr>\n",
       "  </tbody>\n",
       "</table>\n",
       "</div>"
      ],
      "text/plain": [
       "   user_id     distance   duration       date  month\n",
       "0        1  4409.919140  25.599769 2021-01-01      1\n",
       "1        1  2617.592153  15.816871 2021-01-18      1\n",
       "2        1   754.159807   6.232113 2021-04-20      4\n",
       "3        1  2694.783254  18.511000 2021-08-11      8\n",
       "4        1  4028.687306  26.265803 2021-08-28      8\n",
       "5        1  2770.890808  16.650138 2021-10-09     10\n",
       "6        1  3039.020292  14.927879 2021-10-19     10\n",
       "7        1  2842.118050  23.117468 2021-11-06     11\n",
       "8        1  3412.690668  15.238072 2021-11-14     11\n",
       "9        1   748.690645  15.041884 2021-11-22     11"
      ]
     },
     "execution_count": 15,
     "metadata": {},
     "output_type": "execute_result"
    }
   ],
   "source": [
    "#Визуализация результатов\n",
    "rides_go.head(10)"
   ]
  },
  {
   "cell_type": "markdown",
   "id": "371a2e87",
   "metadata": {},
   "source": [
    "На всякий случай проверю названия городов и имена на неявные дубликаты."
   ]
  },
  {
   "cell_type": "code",
   "execution_count": 16,
   "id": "87ddb103",
   "metadata": {},
   "outputs": [
    {
     "data": {
      "text/plain": [
       "array(['Тюмень', 'Омск', 'Москва', 'Ростов-на-Дону', 'Краснодар',\n",
       "       'Пятигорск', 'Екатеринбург', 'Сочи'], dtype=object)"
      ]
     },
     "execution_count": 16,
     "metadata": {},
     "output_type": "execute_result"
    }
   ],
   "source": [
    "#Уникальные значения названий городов\n",
    "users_go['city'].unique()"
   ]
  },
  {
   "cell_type": "code",
   "execution_count": 17,
   "id": "7b4f4374",
   "metadata": {},
   "outputs": [
    {
     "data": {
      "text/plain": [
       "array(['Кира', 'Станислав', 'Алексей', 'Константин', 'Адель', 'Регина',\n",
       "       'Игорь', 'Юрий', 'Ян', 'Валерий', 'Агата', 'Марк', 'Ева',\n",
       "       'Антонина', 'Валерия', 'Амалия', 'Даниил', 'Аделина', 'Святогор',\n",
       "       'Борис', 'Вероника', 'Ростислав', 'Назар', 'Эдуард', 'Василий',\n",
       "       'Денис', 'Тамара', 'Николай', 'Эвелина', 'Федор', 'Руслан', 'Иван',\n",
       "       'Любовь', 'Ярослава', 'Майя', 'Ильдар', 'Данила', 'Нина',\n",
       "       'Стефания', 'Ясмина', 'Дмитрий', 'Александр', 'Одиссей', 'Арсений',\n",
       "       'Алла', 'Таисия', 'Максим', 'Юлиана', 'Павел', 'Карина', 'Алиса',\n",
       "       'Лидия', 'Рамиль', 'Родион', 'Ника', 'Оксана', 'Анастасия',\n",
       "       'Маргарита', 'Вера', 'Тимур', 'Никита', 'Лев', 'Влад', 'Артур',\n",
       "       'Анна', 'Ольга', 'Вячеслав', 'Ксения', 'Виталина', 'Владислав',\n",
       "       'Тамерлан', 'Амина', 'Вадим', 'Олеся', 'Зарина', 'Егор', 'Гордей',\n",
       "       'Лилия', 'Святослав', 'Роберт', 'Амир', 'Влада', 'Богдан',\n",
       "       'Полина', 'Марат', 'Елисей', 'Макар', 'Алина', 'Глеб', 'Андрей',\n",
       "       'Альбина', 'Людмила', 'Марсель', 'Милена', 'Диана', 'Дарина',\n",
       "       'Данил', 'Артемий', 'Лиана', 'Альберт', 'Герман', 'Жанна', 'Нелли',\n",
       "       'Евгения', 'Ариана', 'Самира', 'Захар', 'Эльвира', 'Екатерина',\n",
       "       'Инна', 'Демид', 'Яна', 'Михаил', 'Татьяна', 'Степан', 'Мелания',\n",
       "       'Тимофей', 'Ирина', 'Анжелика', 'Владислава', 'Елизавета',\n",
       "       'Мадина', 'Снежана', 'Даниэль', 'Рустам', 'Каролина', 'Ангелина',\n",
       "       'Владимир', 'Виктория', 'Валентина', 'Семен', 'Арина', 'Лариса',\n",
       "       'Есения', 'Галина', 'Кирилл', 'Игнат', 'Виталий', 'Эмилия',\n",
       "       'Виолетта', 'Яромир', 'Софья', 'Мирослава', 'Евгений', 'Варвара',\n",
       "       'Платон', 'Наталия', 'Анатолий', 'Кристина', 'Всеволод', 'Дарья',\n",
       "       'Наташа', 'Мария', 'Марина', 'Василиса', 'Юлия', 'Илья', 'Злата',\n",
       "       'Роман', 'Наталья', 'Элина', 'Арсен', 'Айдар', 'Алия', 'Виктор',\n",
       "       'Мирон', 'Ульяна', 'Георгий', 'Петр', 'Эльмира', 'Олег', 'Дамир',\n",
       "       'Самир', 'Ярослав', 'Камилла', 'Сергей', 'Эмиль', 'Радмир',\n",
       "       'Савелий', 'Елена', 'Антон', 'Мирослав', 'София', 'Тихон', 'Артём',\n",
       "       'Давид', 'Григорий', 'Алёна', 'Светлана', 'Леонид', 'Александра',\n",
       "       'Василина', 'Милана', 'Матвей'], dtype=object)"
      ]
     },
     "execution_count": 17,
     "metadata": {},
     "output_type": "execute_result"
    }
   ],
   "source": [
    "#Уникалные значения имен пользователей\n",
    "users_go['name'].unique()"
   ]
  },
  {
   "cell_type": "code",
   "execution_count": 18,
   "id": "729ae498",
   "metadata": {},
   "outputs": [
    {
     "name": "stdout",
     "output_type": "stream",
     "text": [
      "<class 'pandas.core.frame.DataFrame'>\n",
      "RangeIndex: 1534 entries, 0 to 1533\n",
      "Data columns (total 5 columns):\n",
      " #   Column             Non-Null Count  Dtype \n",
      "---  ------             --------------  ----- \n",
      " 0   user_id            1534 non-null   int64 \n",
      " 1   name               1534 non-null   object\n",
      " 2   age                1534 non-null   int64 \n",
      " 3   city               1534 non-null   object\n",
      " 4   subscription_type  1534 non-null   object\n",
      "dtypes: int64(2), object(3)\n",
      "memory usage: 60.0+ KB\n"
     ]
    }
   ],
   "source": [
    "#Общая информация для users после предобработки\n",
    "users_go.info()"
   ]
  },
  {
   "cell_type": "code",
   "execution_count": 19,
   "id": "6e65f736",
   "metadata": {
    "scrolled": true
   },
   "outputs": [
    {
     "name": "stdout",
     "output_type": "stream",
     "text": [
      "<class 'pandas.core.frame.DataFrame'>\n",
      "RangeIndex: 18068 entries, 0 to 18067\n",
      "Data columns (total 5 columns):\n",
      " #   Column    Non-Null Count  Dtype         \n",
      "---  ------    --------------  -----         \n",
      " 0   user_id   18068 non-null  int64         \n",
      " 1   distance  18068 non-null  float64       \n",
      " 2   duration  18068 non-null  float64       \n",
      " 3   date      18068 non-null  datetime64[ns]\n",
      " 4   month     18068 non-null  int64         \n",
      "dtypes: datetime64[ns](1), float64(2), int64(2)\n",
      "memory usage: 705.9 KB\n"
     ]
    }
   ],
   "source": [
    "#Общая информация для rides после предобработки\n",
    "rides_go.info()"
   ]
  },
  {
   "cell_type": "markdown",
   "id": "6ee9a0d1",
   "metadata": {},
   "source": [
    "### Промежуточный вывод после предобработки данных:\n",
    "- **users_go**\n",
    " - Удален 31 дубликат.\n",
    " - Были проверены столбцы **city** и **name** на неявные дубликаты, аномалий найдено не было.\n",
    "- **rides_go**\n",
    " - Тип данных столбца **date** изменен на *datetime*.\n",
    " - Вся выбока только за 2021 год.\n",
    " - Создан столбец с номером месяца поездки."
   ]
  },
  {
   "cell_type": "markdown",
   "id": "212593c7",
   "metadata": {},
   "source": [
    "## Исследовательский анализ данных\n",
    "<a id='section_3'></a>"
   ]
  },
  {
   "cell_type": "code",
   "execution_count": 20,
   "id": "03f81517",
   "metadata": {},
   "outputs": [
    {
     "name": "stdout",
     "output_type": "stream",
     "text": [
      "Кол-во пользователей по городам:\n",
      "\n",
      "Пятигорск         219\n",
      "Екатеринбург      204\n",
      "Ростов-на-Дону    198\n",
      "Краснодар         193\n",
      "Сочи              189\n",
      "Омск              183\n",
      "Тюмень            180\n",
      "Москва            168\n",
      "Name: city, dtype: int64\n"
     ]
    },
    {
     "data": {
      "image/png": "[encoded data removed]",
      "text/plain": [
       "<Figure size 432x288 with 1 Axes>"
      ]
     },
     "metadata": {
      "needs_background": "light"
     },
     "output_type": "display_data"
    }
   ],
   "source": [
    "#Кол-во пользователей из каждого города\n",
    "print(f'Кол-во пользователей по городам:\\n')\n",
    "print(users_go['city'].value_counts().sort_values(ascending = False))\n",
    "users_go['city'].value_counts().plot(x='city',\n",
    "                                     kind='bar',\n",
    "                                     title='Распределение пользователей по городам',\n",
    "                                     xlabel = 'Города', ylabel = 'Кол-во пользователей')\n",
    "plt.show()\n",
    "\n"
   ]
  },
  {
   "cell_type": "markdown",
   "id": "8d5d7652",
   "metadata": {},
   "source": [
    "Больше всего пользуются арендой самокатов в более южных городах, где сезон проката больше, станно на этом фоне выглят Екатеринбург, который даже севернее Москвы."
   ]
  },
  {
   "cell_type": "code",
   "execution_count": 21,
   "id": "af9e8bea",
   "metadata": {},
   "outputs": [
    {
     "data": {
      "image/png": "[encoded data removed]",
      "text/plain": [
       "<Figure size 360x360 with 1 Axes>"
      ]
     },
     "metadata": {},
     "output_type": "display_data"
    },
    {
     "name": "stdout",
     "output_type": "stream",
     "text": [
      "В абсолютных числах:\n"
     ]
    },
    {
     "data": {
      "text/plain": [
       "free     835\n",
       "ultra    699\n",
       "Name: subscription_type, dtype: int64"
      ]
     },
     "execution_count": 21,
     "metadata": {},
     "output_type": "execute_result"
    }
   ],
   "source": [
    "#Пользователи с подпиской и без\n",
    "users_go['subscription_type'].value_counts().plot(kind='pie', autopct='%.2f',\n",
    "                                                  title='Соотношение пользователей с подпиской и без',\n",
    "                                                  figsize=(5,5))\n",
    "\n",
    "\n",
    "plt.show()\n",
    "\n",
    "print('В абсолютных числах:')\n",
    "users_go['subscription_type'].value_counts().sort_values(ascending = False)"
   ]
  },
  {
   "cell_type": "markdown",
   "id": "0194c0db",
   "metadata": {},
   "source": [
    "Пользователей с подпиской меньше (45%), чем пользователей без подписки (55%)."
   ]
  },
  {
   "cell_type": "code",
   "execution_count": 22,
   "id": "21a0b158",
   "metadata": {},
   "outputs": [
    {
     "data": {
      "text/html": [
       "<div>\n",
       "<style scoped>\n",
       "    .dataframe tbody tr th:only-of-type {\n",
       "        vertical-align: middle;\n",
       "    }\n",
       "\n",
       "    .dataframe tbody tr th {\n",
       "        vertical-align: top;\n",
       "    }\n",
       "\n",
       "    .dataframe thead th {\n",
       "        text-align: right;\n",
       "    }\n",
       "</style>\n",
       "<table border=\"1\" class=\"dataframe\">\n",
       "  <thead>\n",
       "    <tr style=\"text-align: right;\">\n",
       "      <th></th>\n",
       "      <th>age</th>\n",
       "      <th>distance</th>\n",
       "      <th>duration</th>\n",
       "    </tr>\n",
       "  </thead>\n",
       "  <tbody>\n",
       "    <tr>\n",
       "      <th>count</th>\n",
       "      <td>18068.000000</td>\n",
       "      <td>18068.000000</td>\n",
       "      <td>18068.000000</td>\n",
       "    </tr>\n",
       "    <tr>\n",
       "      <th>mean</th>\n",
       "      <td>24.893071</td>\n",
       "      <td>3070.659976</td>\n",
       "      <td>17.805011</td>\n",
       "    </tr>\n",
       "    <tr>\n",
       "      <th>std</th>\n",
       "      <td>4.582216</td>\n",
       "      <td>1116.831209</td>\n",
       "      <td>6.091051</td>\n",
       "    </tr>\n",
       "    <tr>\n",
       "      <th>min</th>\n",
       "      <td>12.000000</td>\n",
       "      <td>0.855683</td>\n",
       "      <td>0.500000</td>\n",
       "    </tr>\n",
       "    <tr>\n",
       "      <th>25%</th>\n",
       "      <td>22.000000</td>\n",
       "      <td>2543.226360</td>\n",
       "      <td>13.597563</td>\n",
       "    </tr>\n",
       "    <tr>\n",
       "      <th>50%</th>\n",
       "      <td>25.000000</td>\n",
       "      <td>3133.609994</td>\n",
       "      <td>17.678395</td>\n",
       "    </tr>\n",
       "    <tr>\n",
       "      <th>75%</th>\n",
       "      <td>28.000000</td>\n",
       "      <td>3776.222735</td>\n",
       "      <td>21.724800</td>\n",
       "    </tr>\n",
       "    <tr>\n",
       "      <th>max</th>\n",
       "      <td>43.000000</td>\n",
       "      <td>7211.007745</td>\n",
       "      <td>40.823963</td>\n",
       "    </tr>\n",
       "  </tbody>\n",
       "</table>\n",
       "</div>"
      ],
      "text/plain": [
       "                age      distance      duration\n",
       "count  18068.000000  18068.000000  18068.000000\n",
       "mean      24.893071   3070.659976     17.805011\n",
       "std        4.582216   1116.831209      6.091051\n",
       "min       12.000000      0.855683      0.500000\n",
       "25%       22.000000   2543.226360     13.597563\n",
       "50%       25.000000   3133.609994     17.678395\n",
       "75%       28.000000   3776.222735     21.724800\n",
       "max       43.000000   7211.007745     40.823963"
      ]
     },
     "execution_count": 22,
     "metadata": {},
     "output_type": "execute_result"
    }
   ],
   "source": [
    "#Описание данных столбцов age, distance и duration таблицы rides\n",
    "users_go[['user_id', 'age']].merge(rides_go[['user_id', 'distance', 'duration']])[['age', 'distance', 'duration']].describe()"
   ]
  },
  {
   "cell_type": "code",
   "execution_count": 23,
   "id": "11289832",
   "metadata": {},
   "outputs": [],
   "source": [
    "#Функция для создания сетки на нескольких графиках\n",
    "def grid_on(ax):\n",
    "    for row in ax:\n",
    "        for ax in row:\n",
    "            ax.grid(True)"
   ]
  },
  {
   "cell_type": "code",
   "execution_count": 24,
   "id": "b0ec4c50",
   "metadata": {},
   "outputs": [
    {
     "data": {
      "image/png": "[encoded data removed]",
      "text/plain": [
       "<Figure size 1080x1080 with 6 Axes>"
      ]
     },
     "metadata": {
      "needs_background": "light"
     },
     "output_type": "display_data"
    }
   ],
   "source": [
    "#Cоздание графиков\n",
    "fig_1, ax_1 = plt.subplots(3, 2)\n",
    "fig_1.tight_layout(h_pad=1)\n",
    "fig_1.set_figheight(15)\n",
    "fig_1.set_figwidth(15)\n",
    "grid_on(ax_1)\n",
    "\n",
    "#Присвоение названий графикам для более удобной работы\n",
    "age_span = ax_1[0, 0]\n",
    "age_hist = ax_1[0, 1]\n",
    "distance_span = ax_1[1, 0]\n",
    "distance_hist = ax_1[1, 1]\n",
    "duration_span = ax_1[2, 0]\n",
    "duration_hist = ax_1[2, 1]\n",
    "\n",
    "#Заголовки\n",
    "age_span.set_title('Диаграмма размаха возрастов пользователей', pad=12)\n",
    "age_hist.set_title('Гистограмма распределения возрастов пользователей', pad=12)\n",
    "distance_span.set_title('Диаграмма размаха дальности поездок', pad=12)\n",
    "duration_span.set_title('Диаграмма размаха длительности поездок', pad=12)\n",
    "distance_hist.set_title('Гистограмма распределения дальности поездок', pad=12)\n",
    "duration_hist.set_title('Гистограмма распределения длительности поездок', pad=12)\n",
    "\n",
    "#Подписи к осям графиков\n",
    "age_span.axes.get_xaxis().set_visible(False)\n",
    "age_span.set_ylabel('Возраст')\n",
    "age_hist.set_xlabel('Возраст')\n",
    "age_hist.set_ylabel('Кол-во пользователей')\n",
    "distance_span.axes.get_xaxis().set_visible(False)\n",
    "distance_span.set_ylabel('Метры')\n",
    "distance_hist.set_xlabel('Метры')\n",
    "distance_hist.set_ylabel('Кол-во пользователей')\n",
    "duration_span.axes.get_xaxis().set_visible(False)\n",
    "duration_span.set_ylabel('Минуты')\n",
    "duration_hist.set_xlabel('Минуты')\n",
    "duration_hist.set_ylabel('Кол-во пользователей')\n",
    "\n",
    "#Нанесение на графики данных\n",
    "age_span.boxplot(users_go['age'])\n",
    "age_hist.hist(users_go['age'])\n",
    "distance_span.boxplot(rides_go['distance'])\n",
    "duration_span.boxplot(rides_go['duration'])\n",
    "distance_hist.hist(rides_go['distance'], bins=50)\n",
    "duration_hist.hist(rides_go['duration'], bins=50)\n",
    "\n",
    "\n",
    "\n",
    "\n",
    "plt.show()"
   ]
  },
  {
   "cell_type": "markdown",
   "id": "f3b0aa35",
   "metadata": {},
   "source": [
    "**Возраст пользователей:**\n",
    "- Распределение стремится к нормальному.\n",
    "- Наибоолее распространенный возраст - 25 лет, минимальный - 12 лет, максимальный - 43 года, большинство пользователй находится в диапазоне от 20 лет до 30 лет.\n",
    "\n",
    "**Дальность поездок:**\n",
    "- Есть два всплеска на 600 м и 3000 м.\n",
    "- Распределение стремится к нормальному, если не считать первый всплеск.\n",
    "- Большинство поездок находятся в диапазоне от 2500 м до 4000 м, медиана на 3100 м, первый квартиль - 2550 м, третий квартиль - 3800 м, минимальная дальность поездки - 1 м (видимо человек передумал), максимальная - 7200 м.\n",
    "\n",
    "**Длительность поездок**\n",
    "- Распределение стремится к нормальному.\n",
    "- Большинство поездок находится в дипазоне от 10 мин до 25 мин, медиана - 18 мин, первый квартиль - 14 мин, третий квартиль - 22 мин, минисальная длительность поездки - 0.5 мин, максимальная - 41 мин.\n",
    "- Есть аномальный всплеск на нуле, нужно проверить."
   ]
  },
  {
   "cell_type": "code",
   "execution_count": 25,
   "id": "a2748205",
   "metadata": {},
   "outputs": [
    {
     "data": {
      "text/html": [
       "<div>\n",
       "<style scoped>\n",
       "    .dataframe tbody tr th:only-of-type {\n",
       "        vertical-align: middle;\n",
       "    }\n",
       "\n",
       "    .dataframe tbody tr th {\n",
       "        vertical-align: top;\n",
       "    }\n",
       "\n",
       "    .dataframe thead th {\n",
       "        text-align: right;\n",
       "    }\n",
       "</style>\n",
       "<table border=\"1\" class=\"dataframe\">\n",
       "  <thead>\n",
       "    <tr style=\"text-align: right;\">\n",
       "      <th></th>\n",
       "      <th>user_id</th>\n",
       "      <th>distance</th>\n",
       "      <th>duration</th>\n",
       "      <th>date</th>\n",
       "      <th>month</th>\n",
       "    </tr>\n",
       "  </thead>\n",
       "  <tbody>\n",
       "    <tr>\n",
       "      <th>6611</th>\n",
       "      <td>707</td>\n",
       "      <td>28.793204</td>\n",
       "      <td>14.143966</td>\n",
       "      <td>2021-09-12</td>\n",
       "      <td>9</td>\n",
       "    </tr>\n",
       "    <tr>\n",
       "      <th>6691</th>\n",
       "      <td>712</td>\n",
       "      <td>23.963062</td>\n",
       "      <td>2.053251</td>\n",
       "      <td>2021-11-22</td>\n",
       "      <td>11</td>\n",
       "    </tr>\n",
       "    <tr>\n",
       "      <th>6850</th>\n",
       "      <td>724</td>\n",
       "      <td>30.473763</td>\n",
       "      <td>3.166221</td>\n",
       "      <td>2021-05-09</td>\n",
       "      <td>5</td>\n",
       "    </tr>\n",
       "    <tr>\n",
       "      <th>7389</th>\n",
       "      <td>762</td>\n",
       "      <td>35.061903</td>\n",
       "      <td>7.087655</td>\n",
       "      <td>2021-05-27</td>\n",
       "      <td>5</td>\n",
       "    </tr>\n",
       "    <tr>\n",
       "      <th>7841</th>\n",
       "      <td>796</td>\n",
       "      <td>7.097072</td>\n",
       "      <td>10.026614</td>\n",
       "      <td>2021-11-26</td>\n",
       "      <td>11</td>\n",
       "    </tr>\n",
       "    <tr>\n",
       "      <th>8324</th>\n",
       "      <td>835</td>\n",
       "      <td>12.233115</td>\n",
       "      <td>4.034952</td>\n",
       "      <td>2021-09-19</td>\n",
       "      <td>9</td>\n",
       "    </tr>\n",
       "    <tr>\n",
       "      <th>8658</th>\n",
       "      <td>861</td>\n",
       "      <td>6.784447</td>\n",
       "      <td>6.015656</td>\n",
       "      <td>2021-07-21</td>\n",
       "      <td>7</td>\n",
       "    </tr>\n",
       "    <tr>\n",
       "      <th>8906</th>\n",
       "      <td>880</td>\n",
       "      <td>11.283615</td>\n",
       "      <td>2.035632</td>\n",
       "      <td>2021-03-28</td>\n",
       "      <td>3</td>\n",
       "    </tr>\n",
       "    <tr>\n",
       "      <th>9128</th>\n",
       "      <td>896</td>\n",
       "      <td>31.803410</td>\n",
       "      <td>8.079509</td>\n",
       "      <td>2021-03-16</td>\n",
       "      <td>3</td>\n",
       "    </tr>\n",
       "    <tr>\n",
       "      <th>9439</th>\n",
       "      <td>918</td>\n",
       "      <td>38.711151</td>\n",
       "      <td>11.165905</td>\n",
       "      <td>2021-06-08</td>\n",
       "      <td>6</td>\n",
       "    </tr>\n",
       "    <tr>\n",
       "      <th>9541</th>\n",
       "      <td>925</td>\n",
       "      <td>2.570787</td>\n",
       "      <td>3.011018</td>\n",
       "      <td>2021-10-19</td>\n",
       "      <td>10</td>\n",
       "    </tr>\n",
       "    <tr>\n",
       "      <th>9784</th>\n",
       "      <td>943</td>\n",
       "      <td>26.784378</td>\n",
       "      <td>5.053569</td>\n",
       "      <td>2021-12-29</td>\n",
       "      <td>12</td>\n",
       "    </tr>\n",
       "    <tr>\n",
       "      <th>9927</th>\n",
       "      <td>952</td>\n",
       "      <td>34.287979</td>\n",
       "      <td>9.097966</td>\n",
       "      <td>2021-11-04</td>\n",
       "      <td>11</td>\n",
       "    </tr>\n",
       "    <tr>\n",
       "      <th>10349</th>\n",
       "      <td>982</td>\n",
       "      <td>43.690381</td>\n",
       "      <td>13.201648</td>\n",
       "      <td>2021-07-21</td>\n",
       "      <td>7</td>\n",
       "    </tr>\n",
       "    <tr>\n",
       "      <th>11555</th>\n",
       "      <td>1069</td>\n",
       "      <td>0.855683</td>\n",
       "      <td>10.001902</td>\n",
       "      <td>2021-01-31</td>\n",
       "      <td>1</td>\n",
       "    </tr>\n",
       "    <tr>\n",
       "      <th>11566</th>\n",
       "      <td>1069</td>\n",
       "      <td>44.016496</td>\n",
       "      <td>13.110041</td>\n",
       "      <td>2021-06-20</td>\n",
       "      <td>6</td>\n",
       "    </tr>\n",
       "    <tr>\n",
       "      <th>11862</th>\n",
       "      <td>1091</td>\n",
       "      <td>15.630873</td>\n",
       "      <td>13.044660</td>\n",
       "      <td>2021-03-29</td>\n",
       "      <td>3</td>\n",
       "    </tr>\n",
       "    <tr>\n",
       "      <th>13638</th>\n",
       "      <td>1219</td>\n",
       "      <td>40.287856</td>\n",
       "      <td>8.109876</td>\n",
       "      <td>2021-09-19</td>\n",
       "      <td>9</td>\n",
       "    </tr>\n",
       "    <tr>\n",
       "      <th>13690</th>\n",
       "      <td>1223</td>\n",
       "      <td>4.329506</td>\n",
       "      <td>4.008958</td>\n",
       "      <td>2021-05-22</td>\n",
       "      <td>5</td>\n",
       "    </tr>\n",
       "    <tr>\n",
       "      <th>13940</th>\n",
       "      <td>1240</td>\n",
       "      <td>15.000606</td>\n",
       "      <td>10.045002</td>\n",
       "      <td>2021-08-20</td>\n",
       "      <td>8</td>\n",
       "    </tr>\n",
       "    <tr>\n",
       "      <th>14081</th>\n",
       "      <td>1251</td>\n",
       "      <td>41.212830</td>\n",
       "      <td>2.224797</td>\n",
       "      <td>2021-04-15</td>\n",
       "      <td>4</td>\n",
       "    </tr>\n",
       "    <tr>\n",
       "      <th>14676</th>\n",
       "      <td>1293</td>\n",
       "      <td>30.586955</td>\n",
       "      <td>9.096590</td>\n",
       "      <td>2021-01-14</td>\n",
       "      <td>1</td>\n",
       "    </tr>\n",
       "    <tr>\n",
       "      <th>15104</th>\n",
       "      <td>1323</td>\n",
       "      <td>22.393227</td>\n",
       "      <td>7.061072</td>\n",
       "      <td>2021-10-25</td>\n",
       "      <td>10</td>\n",
       "    </tr>\n",
       "    <tr>\n",
       "      <th>15607</th>\n",
       "      <td>1362</td>\n",
       "      <td>46.560533</td>\n",
       "      <td>2.253967</td>\n",
       "      <td>2021-09-22</td>\n",
       "      <td>9</td>\n",
       "    </tr>\n",
       "    <tr>\n",
       "      <th>15626</th>\n",
       "      <td>1364</td>\n",
       "      <td>15.366168</td>\n",
       "      <td>6.057623</td>\n",
       "      <td>2021-08-22</td>\n",
       "      <td>8</td>\n",
       "    </tr>\n",
       "    <tr>\n",
       "      <th>15870</th>\n",
       "      <td>1381</td>\n",
       "      <td>31.391295</td>\n",
       "      <td>14.099130</td>\n",
       "      <td>2021-06-29</td>\n",
       "      <td>6</td>\n",
       "    </tr>\n",
       "    <tr>\n",
       "      <th>16409</th>\n",
       "      <td>1417</td>\n",
       "      <td>44.728663</td>\n",
       "      <td>10.127796</td>\n",
       "      <td>2021-09-20</td>\n",
       "      <td>9</td>\n",
       "    </tr>\n",
       "    <tr>\n",
       "      <th>16442</th>\n",
       "      <td>1419</td>\n",
       "      <td>41.282076</td>\n",
       "      <td>4.154808</td>\n",
       "      <td>2021-11-20</td>\n",
       "      <td>11</td>\n",
       "    </tr>\n",
       "    <tr>\n",
       "      <th>17173</th>\n",
       "      <td>1471</td>\n",
       "      <td>27.965145</td>\n",
       "      <td>3.093217</td>\n",
       "      <td>2021-10-06</td>\n",
       "      <td>10</td>\n",
       "    </tr>\n",
       "    <tr>\n",
       "      <th>17414</th>\n",
       "      <td>1489</td>\n",
       "      <td>22.314412</td>\n",
       "      <td>6.074381</td>\n",
       "      <td>2021-10-06</td>\n",
       "      <td>10</td>\n",
       "    </tr>\n",
       "    <tr>\n",
       "      <th>17646</th>\n",
       "      <td>1506</td>\n",
       "      <td>37.002836</td>\n",
       "      <td>4.170782</td>\n",
       "      <td>2021-06-27</td>\n",
       "      <td>6</td>\n",
       "    </tr>\n",
       "  </tbody>\n",
       "</table>\n",
       "</div>"
      ],
      "text/plain": [
       "       user_id   distance   duration       date  month\n",
       "6611       707  28.793204  14.143966 2021-09-12      9\n",
       "6691       712  23.963062   2.053251 2021-11-22     11\n",
       "6850       724  30.473763   3.166221 2021-05-09      5\n",
       "7389       762  35.061903   7.087655 2021-05-27      5\n",
       "7841       796   7.097072  10.026614 2021-11-26     11\n",
       "8324       835  12.233115   4.034952 2021-09-19      9\n",
       "8658       861   6.784447   6.015656 2021-07-21      7\n",
       "8906       880  11.283615   2.035632 2021-03-28      3\n",
       "9128       896  31.803410   8.079509 2021-03-16      3\n",
       "9439       918  38.711151  11.165905 2021-06-08      6\n",
       "9541       925   2.570787   3.011018 2021-10-19     10\n",
       "9784       943  26.784378   5.053569 2021-12-29     12\n",
       "9927       952  34.287979   9.097966 2021-11-04     11\n",
       "10349      982  43.690381  13.201648 2021-07-21      7\n",
       "11555     1069   0.855683  10.001902 2021-01-31      1\n",
       "11566     1069  44.016496  13.110041 2021-06-20      6\n",
       "11862     1091  15.630873  13.044660 2021-03-29      3\n",
       "13638     1219  40.287856   8.109876 2021-09-19      9\n",
       "13690     1223   4.329506   4.008958 2021-05-22      5\n",
       "13940     1240  15.000606  10.045002 2021-08-20      8\n",
       "14081     1251  41.212830   2.224797 2021-04-15      4\n",
       "14676     1293  30.586955   9.096590 2021-01-14      1\n",
       "15104     1323  22.393227   7.061072 2021-10-25     10\n",
       "15607     1362  46.560533   2.253967 2021-09-22      9\n",
       "15626     1364  15.366168   6.057623 2021-08-22      8\n",
       "15870     1381  31.391295  14.099130 2021-06-29      6\n",
       "16409     1417  44.728663  10.127796 2021-09-20      9\n",
       "16442     1419  41.282076   4.154808 2021-11-20     11\n",
       "17173     1471  27.965145   3.093217 2021-10-06     10\n",
       "17414     1489  22.314412   6.074381 2021-10-06     10\n",
       "17646     1506  37.002836   4.170782 2021-06-27      6"
      ]
     },
     "execution_count": 25,
     "metadata": {},
     "output_type": "execute_result"
    }
   ],
   "source": [
    "rides_go.query('distance < 50')"
   ]
  },
  {
   "cell_type": "markdown",
   "id": "15654d43",
   "metadata": {},
   "source": [
    "Вероятно в каждой поездке дальностью меньше 50 м, пользователь передумал куда-либо ехать, оставим эти данные без изменений."
   ]
  },
  {
   "cell_type": "code",
   "execution_count": 26,
   "id": "abc0bb8b",
   "metadata": {},
   "outputs": [
    {
     "data": {
      "text/html": [
       "<div>\n",
       "<style scoped>\n",
       "    .dataframe tbody tr th:only-of-type {\n",
       "        vertical-align: middle;\n",
       "    }\n",
       "\n",
       "    .dataframe tbody tr th {\n",
       "        vertical-align: top;\n",
       "    }\n",
       "\n",
       "    .dataframe thead th {\n",
       "        text-align: right;\n",
       "    }\n",
       "</style>\n",
       "<table border=\"1\" class=\"dataframe\">\n",
       "  <thead>\n",
       "    <tr style=\"text-align: right;\">\n",
       "      <th></th>\n",
       "      <th>user_id</th>\n",
       "      <th>distance</th>\n",
       "      <th>duration</th>\n",
       "      <th>date</th>\n",
       "      <th>month</th>\n",
       "    </tr>\n",
       "  </thead>\n",
       "  <tbody>\n",
       "    <tr>\n",
       "      <th>15132</th>\n",
       "      <td>1325</td>\n",
       "      <td>4030.308008</td>\n",
       "      <td>0.5</td>\n",
       "      <td>2021-12-22</td>\n",
       "      <td>12</td>\n",
       "    </tr>\n",
       "    <tr>\n",
       "      <th>17909</th>\n",
       "      <td>1524</td>\n",
       "      <td>4103.998874</td>\n",
       "      <td>0.5</td>\n",
       "      <td>2021-06-18</td>\n",
       "      <td>6</td>\n",
       "    </tr>\n",
       "    <tr>\n",
       "      <th>10692</th>\n",
       "      <td>1006</td>\n",
       "      <td>4106.278268</td>\n",
       "      <td>0.5</td>\n",
       "      <td>2021-10-31</td>\n",
       "      <td>10</td>\n",
       "    </tr>\n",
       "    <tr>\n",
       "      <th>9698</th>\n",
       "      <td>937</td>\n",
       "      <td>4169.066800</td>\n",
       "      <td>0.5</td>\n",
       "      <td>2021-12-12</td>\n",
       "      <td>12</td>\n",
       "    </tr>\n",
       "    <tr>\n",
       "      <th>14342</th>\n",
       "      <td>1268</td>\n",
       "      <td>4177.139336</td>\n",
       "      <td>0.5</td>\n",
       "      <td>2021-06-09</td>\n",
       "      <td>6</td>\n",
       "    </tr>\n",
       "    <tr>\n",
       "      <th>...</th>\n",
       "      <td>...</td>\n",
       "      <td>...</td>\n",
       "      <td>...</td>\n",
       "      <td>...</td>\n",
       "      <td>...</td>\n",
       "    </tr>\n",
       "    <tr>\n",
       "      <th>14574</th>\n",
       "      <td>1285</td>\n",
       "      <td>6316.574814</td>\n",
       "      <td>0.5</td>\n",
       "      <td>2021-09-25</td>\n",
       "      <td>9</td>\n",
       "    </tr>\n",
       "    <tr>\n",
       "      <th>13701</th>\n",
       "      <td>1224</td>\n",
       "      <td>6414.516026</td>\n",
       "      <td>0.5</td>\n",
       "      <td>2021-07-15</td>\n",
       "      <td>7</td>\n",
       "    </tr>\n",
       "    <tr>\n",
       "      <th>11385</th>\n",
       "      <td>1057</td>\n",
       "      <td>6601.197575</td>\n",
       "      <td>0.5</td>\n",
       "      <td>2021-02-07</td>\n",
       "      <td>2</td>\n",
       "    </tr>\n",
       "    <tr>\n",
       "      <th>17242</th>\n",
       "      <td>1477</td>\n",
       "      <td>6724.932981</td>\n",
       "      <td>0.5</td>\n",
       "      <td>2021-01-12</td>\n",
       "      <td>1</td>\n",
       "    </tr>\n",
       "    <tr>\n",
       "      <th>16309</th>\n",
       "      <td>1411</td>\n",
       "      <td>7211.007745</td>\n",
       "      <td>0.5</td>\n",
       "      <td>2021-04-15</td>\n",
       "      <td>4</td>\n",
       "    </tr>\n",
       "  </tbody>\n",
       "</table>\n",
       "<p>95 rows × 5 columns</p>\n",
       "</div>"
      ],
      "text/plain": [
       "       user_id     distance  duration       date  month\n",
       "15132     1325  4030.308008       0.5 2021-12-22     12\n",
       "17909     1524  4103.998874       0.5 2021-06-18      6\n",
       "10692     1006  4106.278268       0.5 2021-10-31     10\n",
       "9698       937  4169.066800       0.5 2021-12-12     12\n",
       "14342     1268  4177.139336       0.5 2021-06-09      6\n",
       "...        ...          ...       ...        ...    ...\n",
       "14574     1285  6316.574814       0.5 2021-09-25      9\n",
       "13701     1224  6414.516026       0.5 2021-07-15      7\n",
       "11385     1057  6601.197575       0.5 2021-02-07      2\n",
       "17242     1477  6724.932981       0.5 2021-01-12      1\n",
       "16309     1411  7211.007745       0.5 2021-04-15      4\n",
       "\n",
       "[95 rows x 5 columns]"
      ]
     },
     "execution_count": 26,
     "metadata": {},
     "output_type": "execute_result"
    }
   ],
   "source": [
    "#Срез с аномалией\n",
    "rides_go.query('duration <= 1').sort_values('distance')"
   ]
  },
  {
   "cell_type": "markdown",
   "id": "548bdeea",
   "metadata": {},
   "source": [
    "Взял разрез по длительности поездок меньше минуты. По этому разрезу видно, что минимальная дистанция при такой длительности поездки составляет 4 км, за пол минуты такое расстояние проехать невозможно, а вот за пол часа вполне. Делаем вывод, что в этом срезе, время указано в часах, исправим эту аномалию."
   ]
  },
  {
   "cell_type": "code",
   "execution_count": 27,
   "id": "cd33915d",
   "metadata": {},
   "outputs": [],
   "source": [
    "#Исправление аномалии\n",
    "rides_go.loc[rides_go['duration']==0.5, 'duration'] = rides_go['duration']*60"
   ]
  },
  {
   "cell_type": "code",
   "execution_count": 28,
   "id": "53e8810e",
   "metadata": {},
   "outputs": [
    {
     "name": "stdout",
     "output_type": "stream",
     "text": [
      "<class 'pandas.core.frame.DataFrame'>\n",
      "RangeIndex: 1534 entries, 0 to 1533\n",
      "Data columns (total 5 columns):\n",
      " #   Column             Non-Null Count  Dtype \n",
      "---  ------             --------------  ----- \n",
      " 0   user_id            1534 non-null   int64 \n",
      " 1   name               1534 non-null   object\n",
      " 2   age                1534 non-null   int64 \n",
      " 3   city               1534 non-null   object\n",
      " 4   subscription_type  1534 non-null   object\n",
      "dtypes: int64(2), object(3)\n",
      "memory usage: 60.0+ KB\n"
     ]
    }
   ],
   "source": [
    "#users после предобработки\n",
    "users_go.info()"
   ]
  },
  {
   "cell_type": "code",
   "execution_count": 29,
   "id": "9cd5846c",
   "metadata": {},
   "outputs": [
    {
     "name": "stdout",
     "output_type": "stream",
     "text": [
      "<class 'pandas.core.frame.DataFrame'>\n",
      "RangeIndex: 18068 entries, 0 to 18067\n",
      "Data columns (total 5 columns):\n",
      " #   Column    Non-Null Count  Dtype         \n",
      "---  ------    --------------  -----         \n",
      " 0   user_id   18068 non-null  int64         \n",
      " 1   distance  18068 non-null  float64       \n",
      " 2   duration  18068 non-null  float64       \n",
      " 3   date      18068 non-null  datetime64[ns]\n",
      " 4   month     18068 non-null  int64         \n",
      "dtypes: datetime64[ns](1), float64(2), int64(2)\n",
      "memory usage: 705.9 KB\n"
     ]
    }
   ],
   "source": [
    "#rides после предобработки\n",
    "rides_go.info()"
   ]
  },
  {
   "cell_type": "markdown",
   "id": "f49ab4ec",
   "metadata": {},
   "source": [
    "### Промежуточный вывод после исследовательского анализа данных\n",
    "**Распределение пользователей по городам:**\n",
    "- Больше всего пользуются арендой самокатов вболее южных городах, где сезон проката больше, станно на этом фоне выглят Екатеринбург, который даже севернее Москвы.\n",
    "\n",
    "**Распределение пользователей по типу подписки:**\n",
    "- Пользователей с подпиской меньше (45%), чем пользователей без подписки (55%).\n",
    "\n",
    "**Возраст пользователей:**\n",
    "- Распределение стремится к нормальному.\n",
    "- Наибоолее распространенный возраст - 25 лет, минимальный - 12 лет, максимальный - 43 года, большинство пользователй находится в диапазоне от 20 лет до 30 лет.\n",
    "\n",
    "**Дальность поездок:**\n",
    "- Есть два всплеска на 600 м и 3000 м.\n",
    "- Распределение стремится к нормальному, если не считать первый всплеск.\n",
    "- Большинство поездок находятся в диапазоне от 2500 м до 4000 м, медиана на 3100 м, первый квартиль - 2550 м, третий квартиль - 3800 м, минимальная дальность поездки - 1 м (видимо человек передумал), максимальная - 7200 м.\n",
    "\n",
    "**Длительность поездок**\n",
    "- Распределение стремится к нормальному.\n",
    "- Большинство поездок находится в дипазоне от 10 мин до 25 мин, медиана - 18 мин, первый квартиль - 14 мин, третий квартиль - 22 мин, минисальная длительность поездки - 0.5 мин, максимальная - 41 мин.\n",
    "- Была исправлена аномалия с поезками в пол минуты, оказалось время в некоторых строках было указано в часах."
   ]
  },
  {
   "cell_type": "markdown",
   "id": "4ef51331",
   "metadata": {},
   "source": [
    "## Объединение данных\n",
    "<a id='section_4'></a>"
   ]
  },
  {
   "cell_type": "code",
   "execution_count": 30,
   "id": "6bf288b5",
   "metadata": {},
   "outputs": [],
   "source": [
    "#Объединение данных из трех таблиц в одну\n",
    "full_data = users_go.merge(rides_go, on='user_id').merge(subscriptions_go, on='subscription_type')"
   ]
  },
  {
   "cell_type": "code",
   "execution_count": 31,
   "id": "1419c6d3",
   "metadata": {},
   "outputs": [
    {
     "name": "stdout",
     "output_type": "stream",
     "text": [
      "<class 'pandas.core.frame.DataFrame'>\n",
      "Int64Index: 18068 entries, 0 to 18067\n",
      "Data columns (total 12 columns):\n",
      " #   Column             Non-Null Count  Dtype         \n",
      "---  ------             --------------  -----         \n",
      " 0   user_id            18068 non-null  int64         \n",
      " 1   name               18068 non-null  object        \n",
      " 2   age                18068 non-null  int64         \n",
      " 3   city               18068 non-null  object        \n",
      " 4   subscription_type  18068 non-null  object        \n",
      " 5   distance           18068 non-null  float64       \n",
      " 6   duration           18068 non-null  float64       \n",
      " 7   date               18068 non-null  datetime64[ns]\n",
      " 8   month              18068 non-null  int64         \n",
      " 9   minute_price       18068 non-null  int64         \n",
      " 10  start_ride_price   18068 non-null  int64         \n",
      " 11  subscription_fee   18068 non-null  int64         \n",
      "dtypes: datetime64[ns](1), float64(2), int64(6), object(3)\n",
      "memory usage: 1.8+ MB\n"
     ]
    }
   ],
   "source": [
    "full_data.info()"
   ]
  },
  {
   "cell_type": "code",
   "execution_count": 32,
   "id": "1566afeb",
   "metadata": {
    "scrolled": true
   },
   "outputs": [
    {
     "data": {
      "text/html": [
       "<div>\n",
       "<style scoped>\n",
       "    .dataframe tbody tr th:only-of-type {\n",
       "        vertical-align: middle;\n",
       "    }\n",
       "\n",
       "    .dataframe tbody tr th {\n",
       "        vertical-align: top;\n",
       "    }\n",
       "\n",
       "    .dataframe thead th {\n",
       "        text-align: right;\n",
       "    }\n",
       "</style>\n",
       "<table border=\"1\" class=\"dataframe\">\n",
       "  <thead>\n",
       "    <tr style=\"text-align: right;\">\n",
       "      <th></th>\n",
       "      <th>user_id</th>\n",
       "      <th>name</th>\n",
       "      <th>age</th>\n",
       "      <th>city</th>\n",
       "      <th>subscription_type</th>\n",
       "      <th>distance</th>\n",
       "      <th>duration</th>\n",
       "      <th>date</th>\n",
       "      <th>month</th>\n",
       "      <th>minute_price</th>\n",
       "      <th>start_ride_price</th>\n",
       "      <th>subscription_fee</th>\n",
       "    </tr>\n",
       "  </thead>\n",
       "  <tbody>\n",
       "    <tr>\n",
       "      <th>0</th>\n",
       "      <td>1</td>\n",
       "      <td>Кира</td>\n",
       "      <td>22</td>\n",
       "      <td>Тюмень</td>\n",
       "      <td>ultra</td>\n",
       "      <td>4409.919140</td>\n",
       "      <td>25.599769</td>\n",
       "      <td>2021-01-01</td>\n",
       "      <td>1</td>\n",
       "      <td>6</td>\n",
       "      <td>0</td>\n",
       "      <td>199</td>\n",
       "    </tr>\n",
       "    <tr>\n",
       "      <th>1</th>\n",
       "      <td>1</td>\n",
       "      <td>Кира</td>\n",
       "      <td>22</td>\n",
       "      <td>Тюмень</td>\n",
       "      <td>ultra</td>\n",
       "      <td>2617.592153</td>\n",
       "      <td>15.816871</td>\n",
       "      <td>2021-01-18</td>\n",
       "      <td>1</td>\n",
       "      <td>6</td>\n",
       "      <td>0</td>\n",
       "      <td>199</td>\n",
       "    </tr>\n",
       "    <tr>\n",
       "      <th>2</th>\n",
       "      <td>1</td>\n",
       "      <td>Кира</td>\n",
       "      <td>22</td>\n",
       "      <td>Тюмень</td>\n",
       "      <td>ultra</td>\n",
       "      <td>754.159807</td>\n",
       "      <td>6.232113</td>\n",
       "      <td>2021-04-20</td>\n",
       "      <td>4</td>\n",
       "      <td>6</td>\n",
       "      <td>0</td>\n",
       "      <td>199</td>\n",
       "    </tr>\n",
       "    <tr>\n",
       "      <th>3</th>\n",
       "      <td>1</td>\n",
       "      <td>Кира</td>\n",
       "      <td>22</td>\n",
       "      <td>Тюмень</td>\n",
       "      <td>ultra</td>\n",
       "      <td>2694.783254</td>\n",
       "      <td>18.511000</td>\n",
       "      <td>2021-08-11</td>\n",
       "      <td>8</td>\n",
       "      <td>6</td>\n",
       "      <td>0</td>\n",
       "      <td>199</td>\n",
       "    </tr>\n",
       "    <tr>\n",
       "      <th>4</th>\n",
       "      <td>1</td>\n",
       "      <td>Кира</td>\n",
       "      <td>22</td>\n",
       "      <td>Тюмень</td>\n",
       "      <td>ultra</td>\n",
       "      <td>4028.687306</td>\n",
       "      <td>26.265803</td>\n",
       "      <td>2021-08-28</td>\n",
       "      <td>8</td>\n",
       "      <td>6</td>\n",
       "      <td>0</td>\n",
       "      <td>199</td>\n",
       "    </tr>\n",
       "    <tr>\n",
       "      <th>5</th>\n",
       "      <td>1</td>\n",
       "      <td>Кира</td>\n",
       "      <td>22</td>\n",
       "      <td>Тюмень</td>\n",
       "      <td>ultra</td>\n",
       "      <td>2770.890808</td>\n",
       "      <td>16.650138</td>\n",
       "      <td>2021-10-09</td>\n",
       "      <td>10</td>\n",
       "      <td>6</td>\n",
       "      <td>0</td>\n",
       "      <td>199</td>\n",
       "    </tr>\n",
       "    <tr>\n",
       "      <th>6</th>\n",
       "      <td>1</td>\n",
       "      <td>Кира</td>\n",
       "      <td>22</td>\n",
       "      <td>Тюмень</td>\n",
       "      <td>ultra</td>\n",
       "      <td>3039.020292</td>\n",
       "      <td>14.927879</td>\n",
       "      <td>2021-10-19</td>\n",
       "      <td>10</td>\n",
       "      <td>6</td>\n",
       "      <td>0</td>\n",
       "      <td>199</td>\n",
       "    </tr>\n",
       "    <tr>\n",
       "      <th>7</th>\n",
       "      <td>1</td>\n",
       "      <td>Кира</td>\n",
       "      <td>22</td>\n",
       "      <td>Тюмень</td>\n",
       "      <td>ultra</td>\n",
       "      <td>2842.118050</td>\n",
       "      <td>23.117468</td>\n",
       "      <td>2021-11-06</td>\n",
       "      <td>11</td>\n",
       "      <td>6</td>\n",
       "      <td>0</td>\n",
       "      <td>199</td>\n",
       "    </tr>\n",
       "    <tr>\n",
       "      <th>8</th>\n",
       "      <td>1</td>\n",
       "      <td>Кира</td>\n",
       "      <td>22</td>\n",
       "      <td>Тюмень</td>\n",
       "      <td>ultra</td>\n",
       "      <td>3412.690668</td>\n",
       "      <td>15.238072</td>\n",
       "      <td>2021-11-14</td>\n",
       "      <td>11</td>\n",
       "      <td>6</td>\n",
       "      <td>0</td>\n",
       "      <td>199</td>\n",
       "    </tr>\n",
       "    <tr>\n",
       "      <th>9</th>\n",
       "      <td>1</td>\n",
       "      <td>Кира</td>\n",
       "      <td>22</td>\n",
       "      <td>Тюмень</td>\n",
       "      <td>ultra</td>\n",
       "      <td>748.690645</td>\n",
       "      <td>15.041884</td>\n",
       "      <td>2021-11-22</td>\n",
       "      <td>11</td>\n",
       "      <td>6</td>\n",
       "      <td>0</td>\n",
       "      <td>199</td>\n",
       "    </tr>\n",
       "    <tr>\n",
       "      <th>10</th>\n",
       "      <td>1</td>\n",
       "      <td>Кира</td>\n",
       "      <td>22</td>\n",
       "      <td>Тюмень</td>\n",
       "      <td>ultra</td>\n",
       "      <td>4031.020195</td>\n",
       "      <td>17.674448</td>\n",
       "      <td>2021-12-14</td>\n",
       "      <td>12</td>\n",
       "      <td>6</td>\n",
       "      <td>0</td>\n",
       "      <td>199</td>\n",
       "    </tr>\n",
       "    <tr>\n",
       "      <th>11</th>\n",
       "      <td>1</td>\n",
       "      <td>Кира</td>\n",
       "      <td>22</td>\n",
       "      <td>Тюмень</td>\n",
       "      <td>ultra</td>\n",
       "      <td>2720.609748</td>\n",
       "      <td>9.529463</td>\n",
       "      <td>2021-12-22</td>\n",
       "      <td>12</td>\n",
       "      <td>6</td>\n",
       "      <td>0</td>\n",
       "      <td>199</td>\n",
       "    </tr>\n",
       "    <tr>\n",
       "      <th>12</th>\n",
       "      <td>2</td>\n",
       "      <td>Станислав</td>\n",
       "      <td>31</td>\n",
       "      <td>Омск</td>\n",
       "      <td>ultra</td>\n",
       "      <td>3105.086678</td>\n",
       "      <td>24.307514</td>\n",
       "      <td>2021-03-15</td>\n",
       "      <td>3</td>\n",
       "      <td>6</td>\n",
       "      <td>0</td>\n",
       "      <td>199</td>\n",
       "    </tr>\n",
       "    <tr>\n",
       "      <th>13</th>\n",
       "      <td>2</td>\n",
       "      <td>Станислав</td>\n",
       "      <td>31</td>\n",
       "      <td>Омск</td>\n",
       "      <td>ultra</td>\n",
       "      <td>3053.519401</td>\n",
       "      <td>11.543256</td>\n",
       "      <td>2021-03-18</td>\n",
       "      <td>3</td>\n",
       "      <td>6</td>\n",
       "      <td>0</td>\n",
       "      <td>199</td>\n",
       "    </tr>\n",
       "    <tr>\n",
       "      <th>14</th>\n",
       "      <td>2</td>\n",
       "      <td>Станислав</td>\n",
       "      <td>31</td>\n",
       "      <td>Омск</td>\n",
       "      <td>ultra</td>\n",
       "      <td>4029.116927</td>\n",
       "      <td>25.109188</td>\n",
       "      <td>2021-03-23</td>\n",
       "      <td>3</td>\n",
       "      <td>6</td>\n",
       "      <td>0</td>\n",
       "      <td>199</td>\n",
       "    </tr>\n",
       "    <tr>\n",
       "      <th>15</th>\n",
       "      <td>2</td>\n",
       "      <td>Станислав</td>\n",
       "      <td>31</td>\n",
       "      <td>Омск</td>\n",
       "      <td>ultra</td>\n",
       "      <td>2805.786329</td>\n",
       "      <td>20.652145</td>\n",
       "      <td>2021-04-08</td>\n",
       "      <td>4</td>\n",
       "      <td>6</td>\n",
       "      <td>0</td>\n",
       "      <td>199</td>\n",
       "    </tr>\n",
       "    <tr>\n",
       "      <th>16</th>\n",
       "      <td>2</td>\n",
       "      <td>Станислав</td>\n",
       "      <td>31</td>\n",
       "      <td>Омск</td>\n",
       "      <td>ultra</td>\n",
       "      <td>3358.595495</td>\n",
       "      <td>18.396489</td>\n",
       "      <td>2021-04-13</td>\n",
       "      <td>4</td>\n",
       "      <td>6</td>\n",
       "      <td>0</td>\n",
       "      <td>199</td>\n",
       "    </tr>\n",
       "    <tr>\n",
       "      <th>17</th>\n",
       "      <td>2</td>\n",
       "      <td>Станислав</td>\n",
       "      <td>31</td>\n",
       "      <td>Омск</td>\n",
       "      <td>ultra</td>\n",
       "      <td>3255.338202</td>\n",
       "      <td>13.851127</td>\n",
       "      <td>2021-06-20</td>\n",
       "      <td>6</td>\n",
       "      <td>6</td>\n",
       "      <td>0</td>\n",
       "      <td>199</td>\n",
       "    </tr>\n",
       "    <tr>\n",
       "      <th>18</th>\n",
       "      <td>2</td>\n",
       "      <td>Станислав</td>\n",
       "      <td>31</td>\n",
       "      <td>Омск</td>\n",
       "      <td>ultra</td>\n",
       "      <td>3942.817648</td>\n",
       "      <td>20.142725</td>\n",
       "      <td>2021-07-02</td>\n",
       "      <td>7</td>\n",
       "      <td>6</td>\n",
       "      <td>0</td>\n",
       "      <td>199</td>\n",
       "    </tr>\n",
       "    <tr>\n",
       "      <th>19</th>\n",
       "      <td>2</td>\n",
       "      <td>Станислав</td>\n",
       "      <td>31</td>\n",
       "      <td>Омск</td>\n",
       "      <td>ultra</td>\n",
       "      <td>2837.905316</td>\n",
       "      <td>26.027432</td>\n",
       "      <td>2021-07-18</td>\n",
       "      <td>7</td>\n",
       "      <td>6</td>\n",
       "      <td>0</td>\n",
       "      <td>199</td>\n",
       "    </tr>\n",
       "  </tbody>\n",
       "</table>\n",
       "</div>"
      ],
      "text/plain": [
       "    user_id       name  age    city subscription_type     distance   duration  \\\n",
       "0         1       Кира   22  Тюмень             ultra  4409.919140  25.599769   \n",
       "1         1       Кира   22  Тюмень             ultra  2617.592153  15.816871   \n",
       "2         1       Кира   22  Тюмень             ultra   754.159807   6.232113   \n",
       "3         1       Кира   22  Тюмень             ultra  2694.783254  18.511000   \n",
       "4         1       Кира   22  Тюмень             ultra  4028.687306  26.265803   \n",
       "5         1       Кира   22  Тюмень             ultra  2770.890808  16.650138   \n",
       "6         1       Кира   22  Тюмень             ultra  3039.020292  14.927879   \n",
       "7         1       Кира   22  Тюмень             ultra  2842.118050  23.117468   \n",
       "8         1       Кира   22  Тюмень             ultra  3412.690668  15.238072   \n",
       "9         1       Кира   22  Тюмень             ultra   748.690645  15.041884   \n",
       "10        1       Кира   22  Тюмень             ultra  4031.020195  17.674448   \n",
       "11        1       Кира   22  Тюмень             ultra  2720.609748   9.529463   \n",
       "12        2  Станислав   31    Омск             ultra  3105.086678  24.307514   \n",
       "13        2  Станислав   31    Омск             ultra  3053.519401  11.543256   \n",
       "14        2  Станислав   31    Омск             ultra  4029.116927  25.109188   \n",
       "15        2  Станислав   31    Омск             ultra  2805.786329  20.652145   \n",
       "16        2  Станислав   31    Омск             ultra  3358.595495  18.396489   \n",
       "17        2  Станислав   31    Омск             ultra  3255.338202  13.851127   \n",
       "18        2  Станислав   31    Омск             ultra  3942.817648  20.142725   \n",
       "19        2  Станислав   31    Омск             ultra  2837.905316  26.027432   \n",
       "\n",
       "         date  month  minute_price  start_ride_price  subscription_fee  \n",
       "0  2021-01-01      1             6                 0               199  \n",
       "1  2021-01-18      1             6                 0               199  \n",
       "2  2021-04-20      4             6                 0               199  \n",
       "3  2021-08-11      8             6                 0               199  \n",
       "4  2021-08-28      8             6                 0               199  \n",
       "5  2021-10-09     10             6                 0               199  \n",
       "6  2021-10-19     10             6                 0               199  \n",
       "7  2021-11-06     11             6                 0               199  \n",
       "8  2021-11-14     11             6                 0               199  \n",
       "9  2021-11-22     11             6                 0               199  \n",
       "10 2021-12-14     12             6                 0               199  \n",
       "11 2021-12-22     12             6                 0               199  \n",
       "12 2021-03-15      3             6                 0               199  \n",
       "13 2021-03-18      3             6                 0               199  \n",
       "14 2021-03-23      3             6                 0               199  \n",
       "15 2021-04-08      4             6                 0               199  \n",
       "16 2021-04-13      4             6                 0               199  \n",
       "17 2021-06-20      6             6                 0               199  \n",
       "18 2021-07-02      7             6                 0               199  \n",
       "19 2021-07-18      7             6                 0               199  "
      ]
     },
     "execution_count": 32,
     "metadata": {},
     "output_type": "execute_result"
    }
   ],
   "source": [
    "#Первые 20 строк data\n",
    "full_data.head(20)"
   ]
  },
  {
   "cell_type": "markdown",
   "id": "0f736865",
   "metadata": {},
   "source": [
    "Оъединение таблиц прошло корректно, кол-во строк соответствует кол-ву строк датафрейма **rides_go**, пропущенных значений нет."
   ]
  },
  {
   "cell_type": "code",
   "execution_count": 33,
   "id": "4cfaa904",
   "metadata": {},
   "outputs": [],
   "source": [
    "#Создание таблицы пользователей с подпиской\n",
    "full_data_ultra = full_data[full_data['subscription_type'] == 'ultra'].reset_index(drop=True)"
   ]
  },
  {
   "cell_type": "code",
   "execution_count": 34,
   "id": "0bbaaad1",
   "metadata": {},
   "outputs": [
    {
     "name": "stdout",
     "output_type": "stream",
     "text": [
      "<class 'pandas.core.frame.DataFrame'>\n",
      "RangeIndex: 6500 entries, 0 to 6499\n",
      "Data columns (total 12 columns):\n",
      " #   Column             Non-Null Count  Dtype         \n",
      "---  ------             --------------  -----         \n",
      " 0   user_id            6500 non-null   int64         \n",
      " 1   name               6500 non-null   object        \n",
      " 2   age                6500 non-null   int64         \n",
      " 3   city               6500 non-null   object        \n",
      " 4   subscription_type  6500 non-null   object        \n",
      " 5   distance           6500 non-null   float64       \n",
      " 6   duration           6500 non-null   float64       \n",
      " 7   date               6500 non-null   datetime64[ns]\n",
      " 8   month              6500 non-null   int64         \n",
      " 9   minute_price       6500 non-null   int64         \n",
      " 10  start_ride_price   6500 non-null   int64         \n",
      " 11  subscription_fee   6500 non-null   int64         \n",
      "dtypes: datetime64[ns](1), float64(2), int64(6), object(3)\n",
      "memory usage: 609.5+ KB\n"
     ]
    }
   ],
   "source": [
    "#Общая информация full_data_ultra\n",
    "full_data_ultra.info()"
   ]
  },
  {
   "cell_type": "code",
   "execution_count": 35,
   "id": "c84e0ee9",
   "metadata": {},
   "outputs": [
    {
     "data": {
      "text/html": [
       "<div>\n",
       "<style scoped>\n",
       "    .dataframe tbody tr th:only-of-type {\n",
       "        vertical-align: middle;\n",
       "    }\n",
       "\n",
       "    .dataframe tbody tr th {\n",
       "        vertical-align: top;\n",
       "    }\n",
       "\n",
       "    .dataframe thead th {\n",
       "        text-align: right;\n",
       "    }\n",
       "</style>\n",
       "<table border=\"1\" class=\"dataframe\">\n",
       "  <thead>\n",
       "    <tr style=\"text-align: right;\">\n",
       "      <th></th>\n",
       "      <th>user_id</th>\n",
       "      <th>name</th>\n",
       "      <th>age</th>\n",
       "      <th>city</th>\n",
       "      <th>subscription_type</th>\n",
       "      <th>distance</th>\n",
       "      <th>duration</th>\n",
       "      <th>date</th>\n",
       "      <th>month</th>\n",
       "      <th>minute_price</th>\n",
       "      <th>start_ride_price</th>\n",
       "      <th>subscription_fee</th>\n",
       "    </tr>\n",
       "  </thead>\n",
       "  <tbody>\n",
       "    <tr>\n",
       "      <th>0</th>\n",
       "      <td>1</td>\n",
       "      <td>Кира</td>\n",
       "      <td>22</td>\n",
       "      <td>Тюмень</td>\n",
       "      <td>ultra</td>\n",
       "      <td>4409.919140</td>\n",
       "      <td>25.599769</td>\n",
       "      <td>2021-01-01</td>\n",
       "      <td>1</td>\n",
       "      <td>6</td>\n",
       "      <td>0</td>\n",
       "      <td>199</td>\n",
       "    </tr>\n",
       "    <tr>\n",
       "      <th>1</th>\n",
       "      <td>1</td>\n",
       "      <td>Кира</td>\n",
       "      <td>22</td>\n",
       "      <td>Тюмень</td>\n",
       "      <td>ultra</td>\n",
       "      <td>2617.592153</td>\n",
       "      <td>15.816871</td>\n",
       "      <td>2021-01-18</td>\n",
       "      <td>1</td>\n",
       "      <td>6</td>\n",
       "      <td>0</td>\n",
       "      <td>199</td>\n",
       "    </tr>\n",
       "    <tr>\n",
       "      <th>2</th>\n",
       "      <td>1</td>\n",
       "      <td>Кира</td>\n",
       "      <td>22</td>\n",
       "      <td>Тюмень</td>\n",
       "      <td>ultra</td>\n",
       "      <td>754.159807</td>\n",
       "      <td>6.232113</td>\n",
       "      <td>2021-04-20</td>\n",
       "      <td>4</td>\n",
       "      <td>6</td>\n",
       "      <td>0</td>\n",
       "      <td>199</td>\n",
       "    </tr>\n",
       "    <tr>\n",
       "      <th>3</th>\n",
       "      <td>1</td>\n",
       "      <td>Кира</td>\n",
       "      <td>22</td>\n",
       "      <td>Тюмень</td>\n",
       "      <td>ultra</td>\n",
       "      <td>2694.783254</td>\n",
       "      <td>18.511000</td>\n",
       "      <td>2021-08-11</td>\n",
       "      <td>8</td>\n",
       "      <td>6</td>\n",
       "      <td>0</td>\n",
       "      <td>199</td>\n",
       "    </tr>\n",
       "    <tr>\n",
       "      <th>4</th>\n",
       "      <td>1</td>\n",
       "      <td>Кира</td>\n",
       "      <td>22</td>\n",
       "      <td>Тюмень</td>\n",
       "      <td>ultra</td>\n",
       "      <td>4028.687306</td>\n",
       "      <td>26.265803</td>\n",
       "      <td>2021-08-28</td>\n",
       "      <td>8</td>\n",
       "      <td>6</td>\n",
       "      <td>0</td>\n",
       "      <td>199</td>\n",
       "    </tr>\n",
       "    <tr>\n",
       "      <th>5</th>\n",
       "      <td>1</td>\n",
       "      <td>Кира</td>\n",
       "      <td>22</td>\n",
       "      <td>Тюмень</td>\n",
       "      <td>ultra</td>\n",
       "      <td>2770.890808</td>\n",
       "      <td>16.650138</td>\n",
       "      <td>2021-10-09</td>\n",
       "      <td>10</td>\n",
       "      <td>6</td>\n",
       "      <td>0</td>\n",
       "      <td>199</td>\n",
       "    </tr>\n",
       "    <tr>\n",
       "      <th>6</th>\n",
       "      <td>1</td>\n",
       "      <td>Кира</td>\n",
       "      <td>22</td>\n",
       "      <td>Тюмень</td>\n",
       "      <td>ultra</td>\n",
       "      <td>3039.020292</td>\n",
       "      <td>14.927879</td>\n",
       "      <td>2021-10-19</td>\n",
       "      <td>10</td>\n",
       "      <td>6</td>\n",
       "      <td>0</td>\n",
       "      <td>199</td>\n",
       "    </tr>\n",
       "    <tr>\n",
       "      <th>7</th>\n",
       "      <td>1</td>\n",
       "      <td>Кира</td>\n",
       "      <td>22</td>\n",
       "      <td>Тюмень</td>\n",
       "      <td>ultra</td>\n",
       "      <td>2842.118050</td>\n",
       "      <td>23.117468</td>\n",
       "      <td>2021-11-06</td>\n",
       "      <td>11</td>\n",
       "      <td>6</td>\n",
       "      <td>0</td>\n",
       "      <td>199</td>\n",
       "    </tr>\n",
       "    <tr>\n",
       "      <th>8</th>\n",
       "      <td>1</td>\n",
       "      <td>Кира</td>\n",
       "      <td>22</td>\n",
       "      <td>Тюмень</td>\n",
       "      <td>ultra</td>\n",
       "      <td>3412.690668</td>\n",
       "      <td>15.238072</td>\n",
       "      <td>2021-11-14</td>\n",
       "      <td>11</td>\n",
       "      <td>6</td>\n",
       "      <td>0</td>\n",
       "      <td>199</td>\n",
       "    </tr>\n",
       "    <tr>\n",
       "      <th>9</th>\n",
       "      <td>1</td>\n",
       "      <td>Кира</td>\n",
       "      <td>22</td>\n",
       "      <td>Тюмень</td>\n",
       "      <td>ultra</td>\n",
       "      <td>748.690645</td>\n",
       "      <td>15.041884</td>\n",
       "      <td>2021-11-22</td>\n",
       "      <td>11</td>\n",
       "      <td>6</td>\n",
       "      <td>0</td>\n",
       "      <td>199</td>\n",
       "    </tr>\n",
       "    <tr>\n",
       "      <th>10</th>\n",
       "      <td>1</td>\n",
       "      <td>Кира</td>\n",
       "      <td>22</td>\n",
       "      <td>Тюмень</td>\n",
       "      <td>ultra</td>\n",
       "      <td>4031.020195</td>\n",
       "      <td>17.674448</td>\n",
       "      <td>2021-12-14</td>\n",
       "      <td>12</td>\n",
       "      <td>6</td>\n",
       "      <td>0</td>\n",
       "      <td>199</td>\n",
       "    </tr>\n",
       "    <tr>\n",
       "      <th>11</th>\n",
       "      <td>1</td>\n",
       "      <td>Кира</td>\n",
       "      <td>22</td>\n",
       "      <td>Тюмень</td>\n",
       "      <td>ultra</td>\n",
       "      <td>2720.609748</td>\n",
       "      <td>9.529463</td>\n",
       "      <td>2021-12-22</td>\n",
       "      <td>12</td>\n",
       "      <td>6</td>\n",
       "      <td>0</td>\n",
       "      <td>199</td>\n",
       "    </tr>\n",
       "    <tr>\n",
       "      <th>12</th>\n",
       "      <td>2</td>\n",
       "      <td>Станислав</td>\n",
       "      <td>31</td>\n",
       "      <td>Омск</td>\n",
       "      <td>ultra</td>\n",
       "      <td>3105.086678</td>\n",
       "      <td>24.307514</td>\n",
       "      <td>2021-03-15</td>\n",
       "      <td>3</td>\n",
       "      <td>6</td>\n",
       "      <td>0</td>\n",
       "      <td>199</td>\n",
       "    </tr>\n",
       "    <tr>\n",
       "      <th>13</th>\n",
       "      <td>2</td>\n",
       "      <td>Станислав</td>\n",
       "      <td>31</td>\n",
       "      <td>Омск</td>\n",
       "      <td>ultra</td>\n",
       "      <td>3053.519401</td>\n",
       "      <td>11.543256</td>\n",
       "      <td>2021-03-18</td>\n",
       "      <td>3</td>\n",
       "      <td>6</td>\n",
       "      <td>0</td>\n",
       "      <td>199</td>\n",
       "    </tr>\n",
       "    <tr>\n",
       "      <th>14</th>\n",
       "      <td>2</td>\n",
       "      <td>Станислав</td>\n",
       "      <td>31</td>\n",
       "      <td>Омск</td>\n",
       "      <td>ultra</td>\n",
       "      <td>4029.116927</td>\n",
       "      <td>25.109188</td>\n",
       "      <td>2021-03-23</td>\n",
       "      <td>3</td>\n",
       "      <td>6</td>\n",
       "      <td>0</td>\n",
       "      <td>199</td>\n",
       "    </tr>\n",
       "    <tr>\n",
       "      <th>15</th>\n",
       "      <td>2</td>\n",
       "      <td>Станислав</td>\n",
       "      <td>31</td>\n",
       "      <td>Омск</td>\n",
       "      <td>ultra</td>\n",
       "      <td>2805.786329</td>\n",
       "      <td>20.652145</td>\n",
       "      <td>2021-04-08</td>\n",
       "      <td>4</td>\n",
       "      <td>6</td>\n",
       "      <td>0</td>\n",
       "      <td>199</td>\n",
       "    </tr>\n",
       "    <tr>\n",
       "      <th>16</th>\n",
       "      <td>2</td>\n",
       "      <td>Станислав</td>\n",
       "      <td>31</td>\n",
       "      <td>Омск</td>\n",
       "      <td>ultra</td>\n",
       "      <td>3358.595495</td>\n",
       "      <td>18.396489</td>\n",
       "      <td>2021-04-13</td>\n",
       "      <td>4</td>\n",
       "      <td>6</td>\n",
       "      <td>0</td>\n",
       "      <td>199</td>\n",
       "    </tr>\n",
       "    <tr>\n",
       "      <th>17</th>\n",
       "      <td>2</td>\n",
       "      <td>Станислав</td>\n",
       "      <td>31</td>\n",
       "      <td>Омск</td>\n",
       "      <td>ultra</td>\n",
       "      <td>3255.338202</td>\n",
       "      <td>13.851127</td>\n",
       "      <td>2021-06-20</td>\n",
       "      <td>6</td>\n",
       "      <td>6</td>\n",
       "      <td>0</td>\n",
       "      <td>199</td>\n",
       "    </tr>\n",
       "    <tr>\n",
       "      <th>18</th>\n",
       "      <td>2</td>\n",
       "      <td>Станислав</td>\n",
       "      <td>31</td>\n",
       "      <td>Омск</td>\n",
       "      <td>ultra</td>\n",
       "      <td>3942.817648</td>\n",
       "      <td>20.142725</td>\n",
       "      <td>2021-07-02</td>\n",
       "      <td>7</td>\n",
       "      <td>6</td>\n",
       "      <td>0</td>\n",
       "      <td>199</td>\n",
       "    </tr>\n",
       "    <tr>\n",
       "      <th>19</th>\n",
       "      <td>2</td>\n",
       "      <td>Станислав</td>\n",
       "      <td>31</td>\n",
       "      <td>Омск</td>\n",
       "      <td>ultra</td>\n",
       "      <td>2837.905316</td>\n",
       "      <td>26.027432</td>\n",
       "      <td>2021-07-18</td>\n",
       "      <td>7</td>\n",
       "      <td>6</td>\n",
       "      <td>0</td>\n",
       "      <td>199</td>\n",
       "    </tr>\n",
       "  </tbody>\n",
       "</table>\n",
       "</div>"
      ],
      "text/plain": [
       "    user_id       name  age    city subscription_type     distance   duration  \\\n",
       "0         1       Кира   22  Тюмень             ultra  4409.919140  25.599769   \n",
       "1         1       Кира   22  Тюмень             ultra  2617.592153  15.816871   \n",
       "2         1       Кира   22  Тюмень             ultra   754.159807   6.232113   \n",
       "3         1       Кира   22  Тюмень             ultra  2694.783254  18.511000   \n",
       "4         1       Кира   22  Тюмень             ultra  4028.687306  26.265803   \n",
       "5         1       Кира   22  Тюмень             ultra  2770.890808  16.650138   \n",
       "6         1       Кира   22  Тюмень             ultra  3039.020292  14.927879   \n",
       "7         1       Кира   22  Тюмень             ultra  2842.118050  23.117468   \n",
       "8         1       Кира   22  Тюмень             ultra  3412.690668  15.238072   \n",
       "9         1       Кира   22  Тюмень             ultra   748.690645  15.041884   \n",
       "10        1       Кира   22  Тюмень             ultra  4031.020195  17.674448   \n",
       "11        1       Кира   22  Тюмень             ultra  2720.609748   9.529463   \n",
       "12        2  Станислав   31    Омск             ultra  3105.086678  24.307514   \n",
       "13        2  Станислав   31    Омск             ultra  3053.519401  11.543256   \n",
       "14        2  Станислав   31    Омск             ultra  4029.116927  25.109188   \n",
       "15        2  Станислав   31    Омск             ultra  2805.786329  20.652145   \n",
       "16        2  Станислав   31    Омск             ultra  3358.595495  18.396489   \n",
       "17        2  Станислав   31    Омск             ultra  3255.338202  13.851127   \n",
       "18        2  Станислав   31    Омск             ultra  3942.817648  20.142725   \n",
       "19        2  Станислав   31    Омск             ultra  2837.905316  26.027432   \n",
       "\n",
       "         date  month  minute_price  start_ride_price  subscription_fee  \n",
       "0  2021-01-01      1             6                 0               199  \n",
       "1  2021-01-18      1             6                 0               199  \n",
       "2  2021-04-20      4             6                 0               199  \n",
       "3  2021-08-11      8             6                 0               199  \n",
       "4  2021-08-28      8             6                 0               199  \n",
       "5  2021-10-09     10             6                 0               199  \n",
       "6  2021-10-19     10             6                 0               199  \n",
       "7  2021-11-06     11             6                 0               199  \n",
       "8  2021-11-14     11             6                 0               199  \n",
       "9  2021-11-22     11             6                 0               199  \n",
       "10 2021-12-14     12             6                 0               199  \n",
       "11 2021-12-22     12             6                 0               199  \n",
       "12 2021-03-15      3             6                 0               199  \n",
       "13 2021-03-18      3             6                 0               199  \n",
       "14 2021-03-23      3             6                 0               199  \n",
       "15 2021-04-08      4             6                 0               199  \n",
       "16 2021-04-13      4             6                 0               199  \n",
       "17 2021-06-20      6             6                 0               199  \n",
       "18 2021-07-02      7             6                 0               199  \n",
       "19 2021-07-18      7             6                 0               199  "
      ]
     },
     "execution_count": 35,
     "metadata": {},
     "output_type": "execute_result"
    }
   ],
   "source": [
    "#Первые 20 строк full_data_ultra\n",
    "full_data_ultra.head(20)"
   ]
  },
  {
   "cell_type": "code",
   "execution_count": 36,
   "id": "7a2418f6",
   "metadata": {},
   "outputs": [],
   "source": [
    "#Создание таблицы пользователей без подписки\n",
    "full_data_free = full_data[full_data['subscription_type'] == 'free'].reset_index(drop=True)"
   ]
  },
  {
   "cell_type": "code",
   "execution_count": 37,
   "id": "efaa5e7b",
   "metadata": {},
   "outputs": [
    {
     "name": "stdout",
     "output_type": "stream",
     "text": [
      "<class 'pandas.core.frame.DataFrame'>\n",
      "RangeIndex: 11568 entries, 0 to 11567\n",
      "Data columns (total 12 columns):\n",
      " #   Column             Non-Null Count  Dtype         \n",
      "---  ------             --------------  -----         \n",
      " 0   user_id            11568 non-null  int64         \n",
      " 1   name               11568 non-null  object        \n",
      " 2   age                11568 non-null  int64         \n",
      " 3   city               11568 non-null  object        \n",
      " 4   subscription_type  11568 non-null  object        \n",
      " 5   distance           11568 non-null  float64       \n",
      " 6   duration           11568 non-null  float64       \n",
      " 7   date               11568 non-null  datetime64[ns]\n",
      " 8   month              11568 non-null  int64         \n",
      " 9   minute_price       11568 non-null  int64         \n",
      " 10  start_ride_price   11568 non-null  int64         \n",
      " 11  subscription_fee   11568 non-null  int64         \n",
      "dtypes: datetime64[ns](1), float64(2), int64(6), object(3)\n",
      "memory usage: 1.1+ MB\n"
     ]
    }
   ],
   "source": [
    "#Общая информация full_data_free\n",
    "full_data_free.info()"
   ]
  },
  {
   "cell_type": "code",
   "execution_count": 38,
   "id": "6938de3a",
   "metadata": {
    "scrolled": true
   },
   "outputs": [
    {
     "data": {
      "text/html": [
       "<div>\n",
       "<style scoped>\n",
       "    .dataframe tbody tr th:only-of-type {\n",
       "        vertical-align: middle;\n",
       "    }\n",
       "\n",
       "    .dataframe tbody tr th {\n",
       "        vertical-align: top;\n",
       "    }\n",
       "\n",
       "    .dataframe thead th {\n",
       "        text-align: right;\n",
       "    }\n",
       "</style>\n",
       "<table border=\"1\" class=\"dataframe\">\n",
       "  <thead>\n",
       "    <tr style=\"text-align: right;\">\n",
       "      <th></th>\n",
       "      <th>user_id</th>\n",
       "      <th>name</th>\n",
       "      <th>age</th>\n",
       "      <th>city</th>\n",
       "      <th>subscription_type</th>\n",
       "      <th>distance</th>\n",
       "      <th>duration</th>\n",
       "      <th>date</th>\n",
       "      <th>month</th>\n",
       "      <th>minute_price</th>\n",
       "      <th>start_ride_price</th>\n",
       "      <th>subscription_fee</th>\n",
       "    </tr>\n",
       "  </thead>\n",
       "  <tbody>\n",
       "    <tr>\n",
       "      <th>0</th>\n",
       "      <td>700</td>\n",
       "      <td>Айдар</td>\n",
       "      <td>22</td>\n",
       "      <td>Омск</td>\n",
       "      <td>free</td>\n",
       "      <td>2515.690719</td>\n",
       "      <td>14.944286</td>\n",
       "      <td>2021-01-02</td>\n",
       "      <td>1</td>\n",
       "      <td>8</td>\n",
       "      <td>50</td>\n",
       "      <td>0</td>\n",
       "    </tr>\n",
       "    <tr>\n",
       "      <th>1</th>\n",
       "      <td>700</td>\n",
       "      <td>Айдар</td>\n",
       "      <td>22</td>\n",
       "      <td>Омск</td>\n",
       "      <td>free</td>\n",
       "      <td>846.932642</td>\n",
       "      <td>16.234663</td>\n",
       "      <td>2021-02-01</td>\n",
       "      <td>2</td>\n",
       "      <td>8</td>\n",
       "      <td>50</td>\n",
       "      <td>0</td>\n",
       "    </tr>\n",
       "    <tr>\n",
       "      <th>2</th>\n",
       "      <td>700</td>\n",
       "      <td>Айдар</td>\n",
       "      <td>22</td>\n",
       "      <td>Омск</td>\n",
       "      <td>free</td>\n",
       "      <td>4004.434142</td>\n",
       "      <td>20.016628</td>\n",
       "      <td>2021-02-04</td>\n",
       "      <td>2</td>\n",
       "      <td>8</td>\n",
       "      <td>50</td>\n",
       "      <td>0</td>\n",
       "    </tr>\n",
       "    <tr>\n",
       "      <th>3</th>\n",
       "      <td>700</td>\n",
       "      <td>Айдар</td>\n",
       "      <td>22</td>\n",
       "      <td>Омск</td>\n",
       "      <td>free</td>\n",
       "      <td>1205.911290</td>\n",
       "      <td>9.782872</td>\n",
       "      <td>2021-02-10</td>\n",
       "      <td>2</td>\n",
       "      <td>8</td>\n",
       "      <td>50</td>\n",
       "      <td>0</td>\n",
       "    </tr>\n",
       "    <tr>\n",
       "      <th>4</th>\n",
       "      <td>700</td>\n",
       "      <td>Айдар</td>\n",
       "      <td>22</td>\n",
       "      <td>Омск</td>\n",
       "      <td>free</td>\n",
       "      <td>3047.379435</td>\n",
       "      <td>17.427673</td>\n",
       "      <td>2021-02-14</td>\n",
       "      <td>2</td>\n",
       "      <td>8</td>\n",
       "      <td>50</td>\n",
       "      <td>0</td>\n",
       "    </tr>\n",
       "    <tr>\n",
       "      <th>5</th>\n",
       "      <td>700</td>\n",
       "      <td>Айдар</td>\n",
       "      <td>22</td>\n",
       "      <td>Омск</td>\n",
       "      <td>free</td>\n",
       "      <td>4342.002254</td>\n",
       "      <td>22.368009</td>\n",
       "      <td>2021-02-23</td>\n",
       "      <td>2</td>\n",
       "      <td>8</td>\n",
       "      <td>50</td>\n",
       "      <td>0</td>\n",
       "    </tr>\n",
       "    <tr>\n",
       "      <th>6</th>\n",
       "      <td>700</td>\n",
       "      <td>Айдар</td>\n",
       "      <td>22</td>\n",
       "      <td>Омск</td>\n",
       "      <td>free</td>\n",
       "      <td>3798.334905</td>\n",
       "      <td>18.243756</td>\n",
       "      <td>2021-03-03</td>\n",
       "      <td>3</td>\n",
       "      <td>8</td>\n",
       "      <td>50</td>\n",
       "      <td>0</td>\n",
       "    </tr>\n",
       "    <tr>\n",
       "      <th>7</th>\n",
       "      <td>700</td>\n",
       "      <td>Айдар</td>\n",
       "      <td>22</td>\n",
       "      <td>Омск</td>\n",
       "      <td>free</td>\n",
       "      <td>2984.551206</td>\n",
       "      <td>15.424899</td>\n",
       "      <td>2021-04-09</td>\n",
       "      <td>4</td>\n",
       "      <td>8</td>\n",
       "      <td>50</td>\n",
       "      <td>0</td>\n",
       "    </tr>\n",
       "    <tr>\n",
       "      <th>8</th>\n",
       "      <td>700</td>\n",
       "      <td>Айдар</td>\n",
       "      <td>22</td>\n",
       "      <td>Омск</td>\n",
       "      <td>free</td>\n",
       "      <td>3360.107141</td>\n",
       "      <td>16.765497</td>\n",
       "      <td>2021-06-12</td>\n",
       "      <td>6</td>\n",
       "      <td>8</td>\n",
       "      <td>50</td>\n",
       "      <td>0</td>\n",
       "    </tr>\n",
       "    <tr>\n",
       "      <th>9</th>\n",
       "      <td>700</td>\n",
       "      <td>Айдар</td>\n",
       "      <td>22</td>\n",
       "      <td>Омск</td>\n",
       "      <td>free</td>\n",
       "      <td>2567.543847</td>\n",
       "      <td>11.312160</td>\n",
       "      <td>2021-06-23</td>\n",
       "      <td>6</td>\n",
       "      <td>8</td>\n",
       "      <td>50</td>\n",
       "      <td>0</td>\n",
       "    </tr>\n",
       "    <tr>\n",
       "      <th>10</th>\n",
       "      <td>700</td>\n",
       "      <td>Айдар</td>\n",
       "      <td>22</td>\n",
       "      <td>Омск</td>\n",
       "      <td>free</td>\n",
       "      <td>4110.232038</td>\n",
       "      <td>15.807640</td>\n",
       "      <td>2021-07-08</td>\n",
       "      <td>7</td>\n",
       "      <td>8</td>\n",
       "      <td>50</td>\n",
       "      <td>0</td>\n",
       "    </tr>\n",
       "    <tr>\n",
       "      <th>11</th>\n",
       "      <td>700</td>\n",
       "      <td>Айдар</td>\n",
       "      <td>22</td>\n",
       "      <td>Омск</td>\n",
       "      <td>free</td>\n",
       "      <td>288.974241</td>\n",
       "      <td>4.788112</td>\n",
       "      <td>2021-07-18</td>\n",
       "      <td>7</td>\n",
       "      <td>8</td>\n",
       "      <td>50</td>\n",
       "      <td>0</td>\n",
       "    </tr>\n",
       "    <tr>\n",
       "      <th>12</th>\n",
       "      <td>700</td>\n",
       "      <td>Айдар</td>\n",
       "      <td>22</td>\n",
       "      <td>Омск</td>\n",
       "      <td>free</td>\n",
       "      <td>4071.654669</td>\n",
       "      <td>16.370546</td>\n",
       "      <td>2021-08-17</td>\n",
       "      <td>8</td>\n",
       "      <td>8</td>\n",
       "      <td>50</td>\n",
       "      <td>0</td>\n",
       "    </tr>\n",
       "    <tr>\n",
       "      <th>13</th>\n",
       "      <td>700</td>\n",
       "      <td>Айдар</td>\n",
       "      <td>22</td>\n",
       "      <td>Омск</td>\n",
       "      <td>free</td>\n",
       "      <td>1920.188901</td>\n",
       "      <td>9.608453</td>\n",
       "      <td>2021-10-08</td>\n",
       "      <td>10</td>\n",
       "      <td>8</td>\n",
       "      <td>50</td>\n",
       "      <td>0</td>\n",
       "    </tr>\n",
       "    <tr>\n",
       "      <th>14</th>\n",
       "      <td>700</td>\n",
       "      <td>Айдар</td>\n",
       "      <td>22</td>\n",
       "      <td>Омск</td>\n",
       "      <td>free</td>\n",
       "      <td>4402.389717</td>\n",
       "      <td>33.013035</td>\n",
       "      <td>2021-10-15</td>\n",
       "      <td>10</td>\n",
       "      <td>8</td>\n",
       "      <td>50</td>\n",
       "      <td>0</td>\n",
       "    </tr>\n",
       "    <tr>\n",
       "      <th>15</th>\n",
       "      <td>700</td>\n",
       "      <td>Айдар</td>\n",
       "      <td>22</td>\n",
       "      <td>Омск</td>\n",
       "      <td>free</td>\n",
       "      <td>2409.555418</td>\n",
       "      <td>8.560513</td>\n",
       "      <td>2021-11-03</td>\n",
       "      <td>11</td>\n",
       "      <td>8</td>\n",
       "      <td>50</td>\n",
       "      <td>0</td>\n",
       "    </tr>\n",
       "    <tr>\n",
       "      <th>16</th>\n",
       "      <td>700</td>\n",
       "      <td>Айдар</td>\n",
       "      <td>22</td>\n",
       "      <td>Омск</td>\n",
       "      <td>free</td>\n",
       "      <td>2639.817512</td>\n",
       "      <td>8.656752</td>\n",
       "      <td>2021-11-14</td>\n",
       "      <td>11</td>\n",
       "      <td>8</td>\n",
       "      <td>50</td>\n",
       "      <td>0</td>\n",
       "    </tr>\n",
       "    <tr>\n",
       "      <th>17</th>\n",
       "      <td>700</td>\n",
       "      <td>Айдар</td>\n",
       "      <td>22</td>\n",
       "      <td>Омск</td>\n",
       "      <td>free</td>\n",
       "      <td>3686.409695</td>\n",
       "      <td>13.899449</td>\n",
       "      <td>2021-11-21</td>\n",
       "      <td>11</td>\n",
       "      <td>8</td>\n",
       "      <td>50</td>\n",
       "      <td>0</td>\n",
       "    </tr>\n",
       "    <tr>\n",
       "      <th>18</th>\n",
       "      <td>701</td>\n",
       "      <td>Иван</td>\n",
       "      <td>31</td>\n",
       "      <td>Екатеринбург</td>\n",
       "      <td>free</td>\n",
       "      <td>2676.472894</td>\n",
       "      <td>17.470598</td>\n",
       "      <td>2021-01-23</td>\n",
       "      <td>1</td>\n",
       "      <td>8</td>\n",
       "      <td>50</td>\n",
       "      <td>0</td>\n",
       "    </tr>\n",
       "    <tr>\n",
       "      <th>19</th>\n",
       "      <td>701</td>\n",
       "      <td>Иван</td>\n",
       "      <td>31</td>\n",
       "      <td>Екатеринбург</td>\n",
       "      <td>free</td>\n",
       "      <td>2743.677431</td>\n",
       "      <td>14.974710</td>\n",
       "      <td>2021-02-13</td>\n",
       "      <td>2</td>\n",
       "      <td>8</td>\n",
       "      <td>50</td>\n",
       "      <td>0</td>\n",
       "    </tr>\n",
       "  </tbody>\n",
       "</table>\n",
       "</div>"
      ],
      "text/plain": [
       "    user_id   name  age          city subscription_type     distance  \\\n",
       "0       700  Айдар   22          Омск              free  2515.690719   \n",
       "1       700  Айдар   22          Омск              free   846.932642   \n",
       "2       700  Айдар   22          Омск              free  4004.434142   \n",
       "3       700  Айдар   22          Омск              free  1205.911290   \n",
       "4       700  Айдар   22          Омск              free  3047.379435   \n",
       "5       700  Айдар   22          Омск              free  4342.002254   \n",
       "6       700  Айдар   22          Омск              free  3798.334905   \n",
       "7       700  Айдар   22          Омск              free  2984.551206   \n",
       "8       700  Айдар   22          Омск              free  3360.107141   \n",
       "9       700  Айдар   22          Омск              free  2567.543847   \n",
       "10      700  Айдар   22          Омск              free  4110.232038   \n",
       "11      700  Айдар   22          Омск              free   288.974241   \n",
       "12      700  Айдар   22          Омск              free  4071.654669   \n",
       "13      700  Айдар   22          Омск              free  1920.188901   \n",
       "14      700  Айдар   22          Омск              free  4402.389717   \n",
       "15      700  Айдар   22          Омск              free  2409.555418   \n",
       "16      700  Айдар   22          Омск              free  2639.817512   \n",
       "17      700  Айдар   22          Омск              free  3686.409695   \n",
       "18      701   Иван   31  Екатеринбург              free  2676.472894   \n",
       "19      701   Иван   31  Екатеринбург              free  2743.677431   \n",
       "\n",
       "     duration       date  month  minute_price  start_ride_price  \\\n",
       "0   14.944286 2021-01-02      1             8                50   \n",
       "1   16.234663 2021-02-01      2             8                50   \n",
       "2   20.016628 2021-02-04      2             8                50   \n",
       "3    9.782872 2021-02-10      2             8                50   \n",
       "4   17.427673 2021-02-14      2             8                50   \n",
       "5   22.368009 2021-02-23      2             8                50   \n",
       "6   18.243756 2021-03-03      3             8                50   \n",
       "7   15.424899 2021-04-09      4             8                50   \n",
       "8   16.765497 2021-06-12      6             8                50   \n",
       "9   11.312160 2021-06-23      6             8                50   \n",
       "10  15.807640 2021-07-08      7             8                50   \n",
       "11   4.788112 2021-07-18      7             8                50   \n",
       "12  16.370546 2021-08-17      8             8                50   \n",
       "13   9.608453 2021-10-08     10             8                50   \n",
       "14  33.013035 2021-10-15     10             8                50   \n",
       "15   8.560513 2021-11-03     11             8                50   \n",
       "16   8.656752 2021-11-14     11             8                50   \n",
       "17  13.899449 2021-11-21     11             8                50   \n",
       "18  17.470598 2021-01-23      1             8                50   \n",
       "19  14.974710 2021-02-13      2             8                50   \n",
       "\n",
       "    subscription_fee  \n",
       "0                  0  \n",
       "1                  0  \n",
       "2                  0  \n",
       "3                  0  \n",
       "4                  0  \n",
       "5                  0  \n",
       "6                  0  \n",
       "7                  0  \n",
       "8                  0  \n",
       "9                  0  \n",
       "10                 0  \n",
       "11                 0  \n",
       "12                 0  \n",
       "13                 0  \n",
       "14                 0  \n",
       "15                 0  \n",
       "16                 0  \n",
       "17                 0  \n",
       "18                 0  \n",
       "19                 0  "
      ]
     },
     "execution_count": 38,
     "metadata": {},
     "output_type": "execute_result"
    }
   ],
   "source": [
    "#Первые 20 строк full_data_free\n",
    "full_data_free.head(20)"
   ]
  },
  {
   "cell_type": "markdown",
   "id": "34be9b3d",
   "metadata": {},
   "source": [
    "В **full_data_ultra** 6500 записей, в **full_data_free** 11568 записей, суммарно в двух датафреймах 18068 записей, это число соответствует числу записей исходного датафрейма, создание датафремов прошло корректно."
   ]
  },
  {
   "cell_type": "code",
   "execution_count": 39,
   "id": "fe9e1313",
   "metadata": {},
   "outputs": [
    {
     "data": {
      "image/png": "[encoded data removed]",
      "text/plain": [
       "<Figure size 1008x432 with 2 Axes>"
      ]
     },
     "metadata": {
      "needs_background": "light"
     },
     "output_type": "display_data"
    }
   ],
   "source": [
    "fig_2, ax_2 = plt.subplots(1, 2)\n",
    "fig_2.tight_layout(h_pad=1)\n",
    "fig_2.set_figheight(6)\n",
    "fig_2.set_figwidth(14)\n",
    "\n",
    "for ax in ax_2:\n",
    "    ax.grid(True)\n",
    "\n",
    "distances_hist = ax_2[0]\n",
    "durations_hist = ax_2[1]\n",
    "\n",
    "distances_hist.set_title('Гистограмма распределений дальностей поездок', pad=10)\n",
    "durations_hist.set_title('Гистограмма распределений длителностей поездок', pad=10)\n",
    "\n",
    "distances_hist.set_xlabel('Метры')\n",
    "distances_hist.set_ylabel('Кол-во пользователей')\n",
    "durations_hist.set_xlabel('Минуты')\n",
    "durations_hist.set_ylabel('Кол-во пользователей')\n",
    "\n",
    "distances_hist.hist(full_data_ultra['distance'], bins=40, alpha=0.5, color='red', label='ultra')\n",
    "distances_hist.hist(full_data_free['distance'], bins=40, alpha=0.5, color='blue', label='free')\n",
    "distances_hist.legend()\n",
    "\n",
    "durations_hist.hist(full_data_ultra['duration'], bins=40, alpha=0.5, color='red', label='ultra')\n",
    "durations_hist.hist(full_data_free['duration'], bins=40, alpha=0.5, color='blue', label='free')\n",
    "durations_hist.legend()\n",
    "\n",
    "plt.show()"
   ]
  },
  {
   "cell_type": "code",
   "execution_count": 40,
   "id": "6de1508a",
   "metadata": {},
   "outputs": [
    {
     "data": {
      "text/html": [
       "<div>\n",
       "<style scoped>\n",
       "    .dataframe tbody tr th:only-of-type {\n",
       "        vertical-align: middle;\n",
       "    }\n",
       "\n",
       "    .dataframe tbody tr th {\n",
       "        vertical-align: top;\n",
       "    }\n",
       "\n",
       "    .dataframe thead tr th {\n",
       "        text-align: left;\n",
       "    }\n",
       "</style>\n",
       "<table border=\"1\" class=\"dataframe\">\n",
       "  <thead>\n",
       "    <tr>\n",
       "      <th></th>\n",
       "      <th>distance_ultra</th>\n",
       "      <th>distance_free</th>\n",
       "      <th>duration_ultra</th>\n",
       "      <th>duration_free</th>\n",
       "    </tr>\n",
       "  </thead>\n",
       "  <tbody>\n",
       "    <tr>\n",
       "      <th>count</th>\n",
       "      <td>6500.000000</td>\n",
       "      <td>11568.000000</td>\n",
       "      <td>6500.000000</td>\n",
       "      <td>11568.000000</td>\n",
       "    </tr>\n",
       "    <tr>\n",
       "      <th>mean</th>\n",
       "      <td>3115.445388</td>\n",
       "      <td>3045.495282</td>\n",
       "      <td>18.541985</td>\n",
       "      <td>17.633172</td>\n",
       "    </tr>\n",
       "    <tr>\n",
       "      <th>std</th>\n",
       "      <td>836.895330</td>\n",
       "      <td>1246.173806</td>\n",
       "      <td>5.572048</td>\n",
       "      <td>6.239577</td>\n",
       "    </tr>\n",
       "    <tr>\n",
       "      <th>min</th>\n",
       "      <td>244.210438</td>\n",
       "      <td>0.855683</td>\n",
       "      <td>3.760353</td>\n",
       "      <td>2.035632</td>\n",
       "    </tr>\n",
       "    <tr>\n",
       "      <th>25%</th>\n",
       "      <td>2785.444017</td>\n",
       "      <td>2366.562689</td>\n",
       "      <td>14.524654</td>\n",
       "      <td>13.127082</td>\n",
       "    </tr>\n",
       "    <tr>\n",
       "      <th>50%</th>\n",
       "      <td>3148.637229</td>\n",
       "      <td>3114.648465</td>\n",
       "      <td>18.178153</td>\n",
       "      <td>17.446822</td>\n",
       "    </tr>\n",
       "    <tr>\n",
       "      <th>75%</th>\n",
       "      <td>3560.574425</td>\n",
       "      <td>3905.697894</td>\n",
       "      <td>21.884129</td>\n",
       "      <td>21.779484</td>\n",
       "    </tr>\n",
       "    <tr>\n",
       "      <th>max</th>\n",
       "      <td>5699.769662</td>\n",
       "      <td>7211.007745</td>\n",
       "      <td>40.823963</td>\n",
       "      <td>34.948498</td>\n",
       "    </tr>\n",
       "  </tbody>\n",
       "</table>\n",
       "</div>"
      ],
      "text/plain": [
       "      distance_ultra distance_free duration_ultra duration_free\n",
       "count    6500.000000  11568.000000    6500.000000  11568.000000\n",
       "mean     3115.445388   3045.495282      18.541985     17.633172\n",
       "std       836.895330   1246.173806       5.572048      6.239577\n",
       "min       244.210438      0.855683       3.760353      2.035632\n",
       "25%      2785.444017   2366.562689      14.524654     13.127082\n",
       "50%      3148.637229   3114.648465      18.178153     17.446822\n",
       "75%      3560.574425   3905.697894      21.884129     21.779484\n",
       "max      5699.769662   7211.007745      40.823963     34.948498"
      ]
     },
     "execution_count": 40,
     "metadata": {},
     "output_type": "execute_result"
    }
   ],
   "source": [
    "#Описание данных столбцов с дистанцией и длительностью поездок для пользователей с подпиской и без нее\n",
    "ultra_desc = full_data_ultra[['distance', 'duration']].describe()\n",
    "free_desc = full_data_free[['distance', 'duration']].describe()\n",
    "\n",
    "ultra_desc.columns = [['distance_ultra', 'duration_ultra']]\n",
    "free_desc.columns = [['distance_free', 'duration_free']]\n",
    "\n",
    "full_desc = ultra_desc.join(free_desc)\n",
    "full_desc = full_desc[['distance_ultra', 'distance_free', 'duration_ultra', 'duration_free']]\n",
    "\n",
    "full_desc"
   ]
  },
  {
   "cell_type": "markdown",
   "id": "30ab2246",
   "metadata": {},
   "source": [
    "### Промежуточный вывод после объединениея  данных\n",
    "\n",
    "1. Был создан датафрем с объединенными данными из исходных.\n",
    "2. Из объединенного датафрейма было создано 2 датафрема: в одном пользователи с подпиской, в другом без подписки.\n",
    "\n",
    "**ultra:**\n",
    "- Дальность поездок имеют два всплеска на 1000 м и 3000 м, большинство поездок в диапазоне от 2500 м до 4000 м, минимальная дальность - 244 м, максимальная дальность - 5700 м, медиана 3150 м, первый квартиль - 2800 м, третий квартиль 3560 м, стандартное отклонение 837 м.\n",
    "- Длительность поездок нормально распределена, большинство поездок находится в диапазоне от 10 мин до 25 мин, минимальная длительность - 4 мин, максимальная - 41 мин, медиана - 18 мин, первый квартиль - 14 мин, третий квартиль - 22 мин, стандартное отклонение - 5.6 мин\n",
    "\n",
    "**free:**\n",
    "- Дальность поездок имеют два всплеска на 500 м и 3000 м, большинство поездок в диапазоне от 2000 м до 5000 м, минимальная дальность - 1 м, максимальная дальность - 7200 м, медиана 3100 м, первый квартиль - 2400 м, третий квартиль 3900 м, стандартное отклонение 1246 м.\n",
    "- Длительность поездок нормально распределена, большинство поездок находится в диапазоне от 5 мин до 30 мин, минимальная длительность - 2 мин, максимальная - 35 мин, медиана - 17 мин, первый квартиль - 13 мин, третий квартиль - 22 мин, стандартное отклонение 6 мин.\n",
    "\n",
    "**Сравнение ultra и free:**\n",
    "- Дальности поездок пользователей без подписки сильнее разбросаны, чем дальности поездок пользователей с подпиской, медианы и средние примерно равны минимальная дальность у пользователей с подпиской больше, чем у пользователей без подписки, а максимальная наоборот меньше.\n",
    "- Длительности поездок пользователей без подписки чуть сильнее разбросаны, чем длительности поездок пользователей с подпиской, медианы и средние примерно равны, минимальная и максимальная длительность у пользователей с подпиской больше, чем у пользователей без подписки."
   ]
  },
  {
   "cell_type": "markdown",
   "id": "402d620f",
   "metadata": {},
   "source": [
    "## Подсчёт выручки\n",
    "<a id='section_5'></a>"
   ]
  },
  {
   "cell_type": "code",
   "execution_count": 41,
   "id": "b586200b",
   "metadata": {},
   "outputs": [],
   "source": [
    "#Округление длительностей поездок\n",
    "full_data['duration'] = np.ceil(full_data['duration'])"
   ]
  },
  {
   "cell_type": "code",
   "execution_count": 42,
   "id": "f5cea973",
   "metadata": {},
   "outputs": [
    {
     "data": {
      "text/plain": [
       "0    26.0\n",
       "1    16.0\n",
       "2     7.0\n",
       "3    19.0\n",
       "4    27.0\n",
       "Name: duration, dtype: float64"
      ]
     },
     "execution_count": 42,
     "metadata": {},
     "output_type": "execute_result"
    }
   ],
   "source": [
    "#Проверка округления\n",
    "full_data['duration'].head()"
   ]
  },
  {
   "cell_type": "code",
   "execution_count": 43,
   "id": "53049e0a",
   "metadata": {},
   "outputs": [],
   "source": [
    "#Создвание своднойц таблицы\n",
    "aggregated_rides = pd.pivot_table(full_data,\n",
    "                                  index=['user_id', 'month'],\n",
    "                                  values = ['distance', 'duration', 'name', 'subscription_type',],\n",
    "                                  aggfunc = {'distance': sum,\n",
    "                                            'duration': sum,\n",
    "                                            'name': len,\n",
    "                                            'subscription_type': max},\n",
    "                                )"
   ]
  },
  {
   "cell_type": "code",
   "execution_count": 44,
   "id": "24705edc",
   "metadata": {},
   "outputs": [],
   "source": [
    "#Переименование столбцов\n",
    "aggregated_rides.rename(columns={'name': 'rides_count'}, inplace=True)"
   ]
  },
  {
   "cell_type": "code",
   "execution_count": 45,
   "id": "4f498e5d",
   "metadata": {},
   "outputs": [
    {
     "data": {
      "text/html": [
       "<div>\n",
       "<style scoped>\n",
       "    .dataframe tbody tr th:only-of-type {\n",
       "        vertical-align: middle;\n",
       "    }\n",
       "\n",
       "    .dataframe tbody tr th {\n",
       "        vertical-align: top;\n",
       "    }\n",
       "\n",
       "    .dataframe thead th {\n",
       "        text-align: right;\n",
       "    }\n",
       "</style>\n",
       "<table border=\"1\" class=\"dataframe\">\n",
       "  <thead>\n",
       "    <tr style=\"text-align: right;\">\n",
       "      <th></th>\n",
       "      <th></th>\n",
       "      <th>distance</th>\n",
       "      <th>duration</th>\n",
       "      <th>rides_count</th>\n",
       "      <th>subscription_type</th>\n",
       "    </tr>\n",
       "    <tr>\n",
       "      <th>user_id</th>\n",
       "      <th>month</th>\n",
       "      <th></th>\n",
       "      <th></th>\n",
       "      <th></th>\n",
       "      <th></th>\n",
       "    </tr>\n",
       "  </thead>\n",
       "  <tbody>\n",
       "    <tr>\n",
       "      <th rowspan=\"6\" valign=\"top\">1</th>\n",
       "      <th>1</th>\n",
       "      <td>7027.511294</td>\n",
       "      <td>42.0</td>\n",
       "      <td>2</td>\n",
       "      <td>ultra</td>\n",
       "    </tr>\n",
       "    <tr>\n",
       "      <th>4</th>\n",
       "      <td>754.159807</td>\n",
       "      <td>7.0</td>\n",
       "      <td>1</td>\n",
       "      <td>ultra</td>\n",
       "    </tr>\n",
       "    <tr>\n",
       "      <th>8</th>\n",
       "      <td>6723.470560</td>\n",
       "      <td>46.0</td>\n",
       "      <td>2</td>\n",
       "      <td>ultra</td>\n",
       "    </tr>\n",
       "    <tr>\n",
       "      <th>10</th>\n",
       "      <td>5809.911100</td>\n",
       "      <td>32.0</td>\n",
       "      <td>2</td>\n",
       "      <td>ultra</td>\n",
       "    </tr>\n",
       "    <tr>\n",
       "      <th>11</th>\n",
       "      <td>7003.499363</td>\n",
       "      <td>56.0</td>\n",
       "      <td>3</td>\n",
       "      <td>ultra</td>\n",
       "    </tr>\n",
       "    <tr>\n",
       "      <th>12</th>\n",
       "      <td>6751.629942</td>\n",
       "      <td>28.0</td>\n",
       "      <td>2</td>\n",
       "      <td>ultra</td>\n",
       "    </tr>\n",
       "    <tr>\n",
       "      <th rowspan=\"7\" valign=\"top\">2</th>\n",
       "      <th>3</th>\n",
       "      <td>10187.723006</td>\n",
       "      <td>63.0</td>\n",
       "      <td>3</td>\n",
       "      <td>ultra</td>\n",
       "    </tr>\n",
       "    <tr>\n",
       "      <th>4</th>\n",
       "      <td>6164.381824</td>\n",
       "      <td>40.0</td>\n",
       "      <td>2</td>\n",
       "      <td>ultra</td>\n",
       "    </tr>\n",
       "    <tr>\n",
       "      <th>6</th>\n",
       "      <td>3255.338202</td>\n",
       "      <td>14.0</td>\n",
       "      <td>1</td>\n",
       "      <td>ultra</td>\n",
       "    </tr>\n",
       "    <tr>\n",
       "      <th>7</th>\n",
       "      <td>6780.722964</td>\n",
       "      <td>48.0</td>\n",
       "      <td>2</td>\n",
       "      <td>ultra</td>\n",
       "    </tr>\n",
       "    <tr>\n",
       "      <th>8</th>\n",
       "      <td>923.007439</td>\n",
       "      <td>7.0</td>\n",
       "      <td>1</td>\n",
       "      <td>ultra</td>\n",
       "    </tr>\n",
       "    <tr>\n",
       "      <th>10</th>\n",
       "      <td>2824.636598</td>\n",
       "      <td>19.0</td>\n",
       "      <td>1</td>\n",
       "      <td>ultra</td>\n",
       "    </tr>\n",
       "    <tr>\n",
       "      <th>12</th>\n",
       "      <td>3828.248580</td>\n",
       "      <td>12.0</td>\n",
       "      <td>1</td>\n",
       "      <td>ultra</td>\n",
       "    </tr>\n",
       "    <tr>\n",
       "      <th rowspan=\"7\" valign=\"top\">3</th>\n",
       "      <th>1</th>\n",
       "      <td>3061.777147</td>\n",
       "      <td>13.0</td>\n",
       "      <td>1</td>\n",
       "      <td>ultra</td>\n",
       "    </tr>\n",
       "    <tr>\n",
       "      <th>2</th>\n",
       "      <td>5421.152016</td>\n",
       "      <td>39.0</td>\n",
       "      <td>2</td>\n",
       "      <td>ultra</td>\n",
       "    </tr>\n",
       "    <tr>\n",
       "      <th>4</th>\n",
       "      <td>2956.651632</td>\n",
       "      <td>21.0</td>\n",
       "      <td>1</td>\n",
       "      <td>ultra</td>\n",
       "    </tr>\n",
       "    <tr>\n",
       "      <th>5</th>\n",
       "      <td>9064.026918</td>\n",
       "      <td>63.0</td>\n",
       "      <td>3</td>\n",
       "      <td>ultra</td>\n",
       "    </tr>\n",
       "    <tr>\n",
       "      <th>7</th>\n",
       "      <td>10919.595403</td>\n",
       "      <td>67.0</td>\n",
       "      <td>3</td>\n",
       "      <td>ultra</td>\n",
       "    </tr>\n",
       "    <tr>\n",
       "      <th>9</th>\n",
       "      <td>2891.012822</td>\n",
       "      <td>23.0</td>\n",
       "      <td>1</td>\n",
       "      <td>ultra</td>\n",
       "    </tr>\n",
       "    <tr>\n",
       "      <th>12</th>\n",
       "      <td>2593.381928</td>\n",
       "      <td>13.0</td>\n",
       "      <td>1</td>\n",
       "      <td>ultra</td>\n",
       "    </tr>\n",
       "  </tbody>\n",
       "</table>\n",
       "</div>"
      ],
      "text/plain": [
       "                   distance  duration  rides_count subscription_type\n",
       "user_id month                                                       \n",
       "1       1       7027.511294      42.0            2             ultra\n",
       "        4        754.159807       7.0            1             ultra\n",
       "        8       6723.470560      46.0            2             ultra\n",
       "        10      5809.911100      32.0            2             ultra\n",
       "        11      7003.499363      56.0            3             ultra\n",
       "        12      6751.629942      28.0            2             ultra\n",
       "2       3      10187.723006      63.0            3             ultra\n",
       "        4       6164.381824      40.0            2             ultra\n",
       "        6       3255.338202      14.0            1             ultra\n",
       "        7       6780.722964      48.0            2             ultra\n",
       "        8        923.007439       7.0            1             ultra\n",
       "        10      2824.636598      19.0            1             ultra\n",
       "        12      3828.248580      12.0            1             ultra\n",
       "3       1       3061.777147      13.0            1             ultra\n",
       "        2       5421.152016      39.0            2             ultra\n",
       "        4       2956.651632      21.0            1             ultra\n",
       "        5       9064.026918      63.0            3             ultra\n",
       "        7      10919.595403      67.0            3             ultra\n",
       "        9       2891.012822      23.0            1             ultra\n",
       "        12      2593.381928      13.0            1             ultra"
      ]
     },
     "execution_count": 45,
     "metadata": {},
     "output_type": "execute_result"
    }
   ],
   "source": [
    "aggregated_rides.head(20)"
   ]
  },
  {
   "cell_type": "code",
   "execution_count": 46,
   "id": "3b9b1098",
   "metadata": {},
   "outputs": [],
   "source": [
    "#Функция подсчтеа прибыли от одного пользователя за один месяц\n",
    "def revenue(row):\n",
    "    sub = subscriptions_go[subscriptions_go['subscription_type']==row['subscription_type']].values\n",
    "    start_ride_price = sub[0, 2]\n",
    "    minute_price = sub[0, 1]\n",
    "    subscription_fee = sub[0, 3]\n",
    "    return start_ride_price * row['rides_count'] + minute_price * row['duration'] + subscription_fee"
   ]
  },
  {
   "cell_type": "code",
   "execution_count": 47,
   "id": "8ee47c7c",
   "metadata": {},
   "outputs": [],
   "source": [
    "#Создание столбца с прибылью от пользоветей за один месяц\n",
    "aggregated_rides['user_monthly_revenue'] = aggregated_rides.apply(revenue, axis=1)"
   ]
  },
  {
   "cell_type": "code",
   "execution_count": 48,
   "id": "51360cb2",
   "metadata": {},
   "outputs": [
    {
     "data": {
      "text/html": [
       "<div>\n",
       "<style scoped>\n",
       "    .dataframe tbody tr th:only-of-type {\n",
       "        vertical-align: middle;\n",
       "    }\n",
       "\n",
       "    .dataframe tbody tr th {\n",
       "        vertical-align: top;\n",
       "    }\n",
       "\n",
       "    .dataframe thead th {\n",
       "        text-align: right;\n",
       "    }\n",
       "</style>\n",
       "<table border=\"1\" class=\"dataframe\">\n",
       "  <thead>\n",
       "    <tr style=\"text-align: right;\">\n",
       "      <th></th>\n",
       "      <th></th>\n",
       "      <th>distance</th>\n",
       "      <th>duration</th>\n",
       "      <th>rides_count</th>\n",
       "      <th>subscription_type</th>\n",
       "      <th>user_monthly_revenue</th>\n",
       "    </tr>\n",
       "    <tr>\n",
       "      <th>user_id</th>\n",
       "      <th>month</th>\n",
       "      <th></th>\n",
       "      <th></th>\n",
       "      <th></th>\n",
       "      <th></th>\n",
       "      <th></th>\n",
       "    </tr>\n",
       "  </thead>\n",
       "  <tbody>\n",
       "    <tr>\n",
       "      <th rowspan=\"5\" valign=\"top\">1</th>\n",
       "      <th>1</th>\n",
       "      <td>7027.511294</td>\n",
       "      <td>42.0</td>\n",
       "      <td>2</td>\n",
       "      <td>ultra</td>\n",
       "      <td>451.0</td>\n",
       "    </tr>\n",
       "    <tr>\n",
       "      <th>4</th>\n",
       "      <td>754.159807</td>\n",
       "      <td>7.0</td>\n",
       "      <td>1</td>\n",
       "      <td>ultra</td>\n",
       "      <td>241.0</td>\n",
       "    </tr>\n",
       "    <tr>\n",
       "      <th>8</th>\n",
       "      <td>6723.470560</td>\n",
       "      <td>46.0</td>\n",
       "      <td>2</td>\n",
       "      <td>ultra</td>\n",
       "      <td>475.0</td>\n",
       "    </tr>\n",
       "    <tr>\n",
       "      <th>10</th>\n",
       "      <td>5809.911100</td>\n",
       "      <td>32.0</td>\n",
       "      <td>2</td>\n",
       "      <td>ultra</td>\n",
       "      <td>391.0</td>\n",
       "    </tr>\n",
       "    <tr>\n",
       "      <th>11</th>\n",
       "      <td>7003.499363</td>\n",
       "      <td>56.0</td>\n",
       "      <td>3</td>\n",
       "      <td>ultra</td>\n",
       "      <td>535.0</td>\n",
       "    </tr>\n",
       "    <tr>\n",
       "      <th>...</th>\n",
       "      <th>...</th>\n",
       "      <td>...</td>\n",
       "      <td>...</td>\n",
       "      <td>...</td>\n",
       "      <td>...</td>\n",
       "      <td>...</td>\n",
       "    </tr>\n",
       "    <tr>\n",
       "      <th rowspan=\"5\" valign=\"top\">1534</th>\n",
       "      <th>6</th>\n",
       "      <td>3409.468534</td>\n",
       "      <td>26.0</td>\n",
       "      <td>2</td>\n",
       "      <td>free</td>\n",
       "      <td>308.0</td>\n",
       "    </tr>\n",
       "    <tr>\n",
       "      <th>8</th>\n",
       "      <td>7622.453034</td>\n",
       "      <td>48.0</td>\n",
       "      <td>2</td>\n",
       "      <td>free</td>\n",
       "      <td>484.0</td>\n",
       "    </tr>\n",
       "    <tr>\n",
       "      <th>9</th>\n",
       "      <td>4928.173852</td>\n",
       "      <td>23.0</td>\n",
       "      <td>1</td>\n",
       "      <td>free</td>\n",
       "      <td>234.0</td>\n",
       "    </tr>\n",
       "    <tr>\n",
       "      <th>11</th>\n",
       "      <td>13350.015305</td>\n",
       "      <td>78.0</td>\n",
       "      <td>4</td>\n",
       "      <td>free</td>\n",
       "      <td>824.0</td>\n",
       "    </tr>\n",
       "    <tr>\n",
       "      <th>12</th>\n",
       "      <td>2371.711192</td>\n",
       "      <td>16.0</td>\n",
       "      <td>1</td>\n",
       "      <td>free</td>\n",
       "      <td>178.0</td>\n",
       "    </tr>\n",
       "  </tbody>\n",
       "</table>\n",
       "<p>11331 rows × 5 columns</p>\n",
       "</div>"
      ],
      "text/plain": [
       "                   distance  duration  rides_count subscription_type  \\\n",
       "user_id month                                                          \n",
       "1       1       7027.511294      42.0            2             ultra   \n",
       "        4        754.159807       7.0            1             ultra   \n",
       "        8       6723.470560      46.0            2             ultra   \n",
       "        10      5809.911100      32.0            2             ultra   \n",
       "        11      7003.499363      56.0            3             ultra   \n",
       "...                     ...       ...          ...               ...   \n",
       "1534    6       3409.468534      26.0            2              free   \n",
       "        8       7622.453034      48.0            2              free   \n",
       "        9       4928.173852      23.0            1              free   \n",
       "        11     13350.015305      78.0            4              free   \n",
       "        12      2371.711192      16.0            1              free   \n",
       "\n",
       "               user_monthly_revenue  \n",
       "user_id month                        \n",
       "1       1                     451.0  \n",
       "        4                     241.0  \n",
       "        8                     475.0  \n",
       "        10                    391.0  \n",
       "        11                    535.0  \n",
       "...                             ...  \n",
       "1534    6                     308.0  \n",
       "        8                     484.0  \n",
       "        9                     234.0  \n",
       "        11                    824.0  \n",
       "        12                    178.0  \n",
       "\n",
       "[11331 rows x 5 columns]"
      ]
     },
     "execution_count": 48,
     "metadata": {},
     "output_type": "execute_result"
    }
   ],
   "source": [
    "#Визуализация получившейся таблицы\n",
    "aggregated_rides"
   ]
  },
  {
   "cell_type": "markdown",
   "id": "5cd75531",
   "metadata": {},
   "source": [
    "### Промежуточные выводы после подсчета выручки\n",
    "\n",
    "1. Округлили длительности поездок в большую сторону в **full_data**.\n",
    "2. На основе **full_data** создали датафрейм **aggregated_rides**, где найдено суммарное расстояние, кол-во поездок и суммарное кол-во поездок для каждого пользователя за каждый месяц.\n",
    "3. В **aggregated_rides** был добавлени столбец с помесячной выручкой от каждого пользователя."
   ]
  },
  {
   "cell_type": "markdown",
   "id": "41545ac0",
   "metadata": {},
   "source": [
    "## Проверка гипотез\n",
    "<a id='section_6'></a>"
   ]
  },
  {
   "cell_type": "code",
   "execution_count": 49,
   "id": "ccdc1f8e",
   "metadata": {},
   "outputs": [],
   "source": [
    "#Функция для вывода результатов проверки гипотезы\n",
    "def hypothesis_test_res(results, alpha):\n",
    "    print('p-значение:', results.pvalue)\n",
    "\n",
    "    if results.pvalue < alpha:\n",
    "        print('Отвергаем нулевую гипотезу')\n",
    "    else:\n",
    "        print('Не получилось отвергнуть нулевую гипотезу')"
   ]
  },
  {
   "cell_type": "markdown",
   "id": "d7524366",
   "metadata": {},
   "source": [
    "### \n",
    "\n",
    "Тратят ли пользователи с подпиской больше времени на поездки?\n",
    "\n",
    "- H_0: Среднее время поездки пользователей с подпиской = среднее время поездки пользователей без подписки\n",
    "- H_1: Среднее время поездки пользователей с подпиской > среднее время поездки пользователей без подписки"
   ]
  },
  {
   "cell_type": "code",
   "execution_count": 50,
   "id": "6147f36d",
   "metadata": {},
   "outputs": [
    {
     "name": "stdout",
     "output_type": "stream",
     "text": [
      "p-значение: 9.65242247012189e-23\n",
      "Отвергаем нулевую гипотезу\n"
     ]
    }
   ],
   "source": [
    "#Проверка гипотезы\n",
    "results = st.ttest_ind(full_data_ultra['duration'], full_data_free['duration'], alternative='greater')\n",
    "\n",
    "alpha = .05\n",
    "\n",
    "hypothesis_test_res(results, alpha)"
   ]
  },
  {
   "cell_type": "markdown",
   "id": "0143bb98",
   "metadata": {},
   "source": [
    "По результатам проверки, отвергли гипотезу H_0: Среднее время поездки пользователей с подпиской = среднее время поездки пользователей без подписки, в пользу H_1: Среднее время поездки пользователей с подпиской > среднее время поездки пользователей без подписки."
   ]
  },
  {
   "cell_type": "markdown",
   "id": "dbd8fa3f",
   "metadata": {},
   "source": [
    "### \n",
    "\n",
    "Расстояние одной поездки в 3130 метров — оптимальное с точки зрения износа самоката. Можно ли сказать, что среднее расстояние, которое проезжают пользователи с подпиской за одну поездку, не превышает 3130 метров? Проверьте гипотезу и сделайте выводы.\n",
    "\n",
    "- H_0: Среднее расстояние поездки пользователей с подпиской = 3130 м\n",
    "- H_1: Среднее расстояние поездки пользователей с подпиской > 3130 м"
   ]
  },
  {
   "cell_type": "code",
   "execution_count": 51,
   "id": "fbeb3a47",
   "metadata": {
    "scrolled": true
   },
   "outputs": [
    {
     "name": "stdout",
     "output_type": "stream",
     "text": [
      "p-значение: 0.9195368847849785\n",
      "Не получилось отвергнуть нулевую гипотезу\n"
     ]
    }
   ],
   "source": [
    "#Проверка гипотезы\n",
    "target_number = 3130\n",
    "\n",
    "results = st.ttest_1samp(full_data_ultra['distance'], target_number, alternative='greater')\n",
    "\n",
    "alpha = .05\n",
    "\n",
    "hypothesis_test_res(results, alpha)"
   ]
  },
  {
   "cell_type": "markdown",
   "id": "f85f1975",
   "metadata": {},
   "source": [
    "Мы увеличили свою увепенность в том, что среднее время поездки пользователей с подпиской меньше 3130 метров, а значит износ самокатов находится на оптимальнос уровне."
   ]
  },
  {
   "cell_type": "markdown",
   "id": "038e5339",
   "metadata": {},
   "source": [
    "### \n",
    "\n",
    "Будет ли помесячная выручка от пользователей с подпиской по месяцам выше, чем выручка от пользователей без подписки?\n",
    "\n",
    "- H_0: Помесячная выручка от пользователей с подпиской = помесячная выручка от пользователей без подписки\n",
    "- H_1: Помесячная выручка от пользователей с подпиской > помесячная выручка от пользователей без подписки"
   ]
  },
  {
   "cell_type": "code",
   "execution_count": 52,
   "id": "314d7fb7",
   "metadata": {
    "scrolled": true
   },
   "outputs": [
    {
     "name": "stdout",
     "output_type": "stream",
     "text": [
      "p-значение: 7.430720991422216e-26\n",
      "Отвергаем нулевую гипотезу\n"
     ]
    }
   ],
   "source": [
    "#Проверка гипотезы\n",
    "results = st.ttest_ind(aggregated_rides[aggregated_rides['subscription_type'] == 'ultra']['user_monthly_revenue'],\n",
    "                       aggregated_rides[aggregated_rides['subscription_type'] == 'free']['user_monthly_revenue'],\n",
    "                       alternative='greater')\n",
    "\n",
    "alpha = .05\n",
    "\n",
    "hypothesis_test_res(results, alpha)"
   ]
  },
  {
   "cell_type": "markdown",
   "id": "8fd0124c",
   "metadata": {},
   "source": [
    "По результатам проверки, отверли гипотезу H_0: Помесячная выручка от пользователей с подпиской = помесячная выручка от пользователей без подписки H_1: Помесячная выручка от пользователей с подпиской > помесячная выручка от пользователей без подписки."
   ]
  },
  {
   "cell_type": "markdown",
   "id": "686c3626",
   "metadata": {},
   "source": [
    "### \n",
    "\n",
    "Представьте такую ситуацию: техническая команда сервиса обновила сервера, с которыми взаимодействует мобильное приложение. Она надеется, что из-за этого количество обращений в техподдержку значимо снизилось. Некоторый файл содержит для каждого пользователя данные о количестве обращений до обновления и после него. Какой тест вам понадобился бы для проверки этой гипотезы?\n",
    "\n",
    "Ответ: Мы хотим проверить гипотезу двух зависимых выборок, следовательно используем: st.ttest_rel(), гипотеза должна быть односторонней."
   ]
  },
  {
   "cell_type": "markdown",
   "id": "f1fdd7d0",
   "metadata": {},
   "source": [
    "### Промежуточный вывод после проверки гипотез\n",
    "\n",
    "**6.1**: По результатам проверки, отвергли гипотезу H_0: Среднее время поездки пользователей с подпиской = среднее время поездки пользователей без подписки, в пользу H_1: Среднее время поездки пользователей с подпиской > среднее время поездки пользователей без подписки.\n",
    "\n",
    "**6.2**: Мы увеличили свою увепенность в том, что среднее время поездки пользователей с подпиской меньше 3130 метров, а значит износ самокатов находится на оптимальнос уровне.\n",
    "\n",
    "**6.3**: По результатам проверки, отверли гипотезу H_0: Помесячная выручка от пользователей с подпиской = помесячная выручка от пользователей без подписки в пользу H_1: Помесячная выручка от пользователей с подпиской > помесячная выручка от пользователей без подписки.\n",
    "\n",
    "**6.4**: Мы хотим проверить гипотезу двух зависимых выборок, следовательно используем: st.ttest_rel(), гипотеза должна быть односторонней.\n"
   ]
  },
  {
   "cell_type": "markdown",
   "id": "61213c5e",
   "metadata": {},
   "source": [
    "## Распределения\n",
    "<a id='section_7'></a>"
   ]
  },
  {
   "cell_type": "markdown",
   "id": "c1313551",
   "metadata": {},
   "source": [
    "###  \n",
    "Отделу маркетинга GoFast поставили задачу: нужно провести акцию с раздачей промокодов на один бесплатный месяц подписки, в рамках которой как минимум 100 существующих клиентов должны продлить эту подписку. То есть по завершении периода действия подписки пользователь может либо отказаться от неё, либо продлить, совершив соответствующий платёж. \n",
    "Эта акция уже проводилась ранее и по итогу выяснилось, что после бесплатного пробного периода подписку продлевают \n",
    "10 % пользователей. Выясните, какое минимальное количество промокодов нужно разослать, чтобы вероятность не выполнить план была примерно 5 %. Подберите параметры распределения, описывающего эту ситуацию, постройте график распределения и сформулируйте ответ на вопрос о количестве промокодов."
   ]
  },
  {
   "cell_type": "code",
   "execution_count": 53,
   "id": "c14698b1",
   "metadata": {},
   "outputs": [
    {
     "data": {
      "image/png": "[encoded data removed]",
      "text/plain": [
       "<Figure size 360x360 with 1 Axes>"
      ]
     },
     "metadata": {
      "needs_background": "light"
     },
     "output_type": "display_data"
    },
    {
     "name": "stdout",
     "output_type": "stream",
     "text": [
      "Минимальное кол-во промокодов, которое нужно разослать, чтобы вероятность не выполнить план в как минимум 100 продлений была\n",
      "примерно 5% = 1161.\n"
     ]
    }
   ],
   "source": [
    "#Расчет и построение графика\n",
    "promo_number = 1000\n",
    "p = 0.1\n",
    "target_success = 100\n",
    "traget_probability = 0.05\n",
    "\n",
    "while traget_probability < binom.cdf(target_success-1, promo_number, p):\n",
    "    promo_number += 1\n",
    "    \n",
    "distr = random.binomial(n=promo_number, p=p, size=2000)\n",
    "\n",
    "sns.displot(data=distr).set(title = 'Гистограмма распределения', xlabel ='Кол-во продлений', ylabel='Кол-во событий')\n",
    "\n",
    "#ax_3.set_title('Гистограмма распределения')\n",
    "\n",
    "plt.show()\n",
    "\n",
    "print(f'Минимальное кол-во промокодов, которое нужно разослать, чтобы вероятность не выполнить план в как минимум {target_success} продлений была\\nпримерно {round(traget_probability*100)}% = {promo_number}.')"
   ]
  },
  {
   "cell_type": "markdown",
   "id": "53710449",
   "metadata": {},
   "source": [
    "### \n",
    "Отдел маркетинга рассылает клиентам push-уведомления в мобильном приложении. Клиенты могут открыть его или не открывать. Известно, что уведомления открывают около 40 % получивших клиентов. Отдел планирует разослать 1 млн уведомлений. С помощью аппроксимации постройте примерный график распределения и оцените вероятность того, что уведомление откроют не более 399,5 тыс. пользователей."
   ]
  },
  {
   "cell_type": "code",
   "execution_count": 54,
   "id": "8cb6e830",
   "metadata": {},
   "outputs": [
    {
     "data": {
      "image/png": "[encoded data removed]",
      "text/plain": [
       "<Figure size 432x288 with 1 Axes>"
      ]
     },
     "metadata": {
      "needs_background": "light"
     },
     "output_type": "display_data"
    },
    {
     "name": "stdout",
     "output_type": "stream",
     "text": [
      "Вероятность того, что уведомление откроют не более 399,5 тыс. пользователей составляет примерно 15.37%\n"
     ]
    }
   ],
   "source": [
    "#Расчет и построение графика\n",
    "n = 1000000\n",
    "p = .4\n",
    "target = 399500\n",
    "\n",
    "mu = n * p\n",
    "sigma = sqrt(n * p * (1 - p))\n",
    "\n",
    "left = mu - 4 * sigma\n",
    "right = mu + 4 * sigma\n",
    "\n",
    "x = np.arange(left, right, 1)\n",
    "\n",
    "plt.title('График распределения вероятностей открытия уведомлений', pad=10)\n",
    "plt.xlabel('Кол-во пользователей')\n",
    "plt.ylabel('Вероятность')\n",
    "\n",
    "plt.plot(x, st.norm.pdf(x, mu, sigma), color='blue')\n",
    "\n",
    "plt.grid(True)\n",
    "\n",
    "plt.show()\n",
    "\n",
    "distr = st.norm(mu, sigma)\n",
    "\n",
    "print(f'Вероятность того, что уведомление откроют не более 399,5 тыс. пользователей составляет примерно {round(distr.cdf(399500)*100, 2)}%')"
   ]
  },
  {
   "cell_type": "markdown",
   "id": "71d22a51",
   "metadata": {},
   "source": [
    "### Промежуточный вывод после построения распределений\n",
    "\n",
    "**№7.1** \n",
    "\n",
    "Минимальное кол-во промокодов, которое нужно разослать, чтобы вероятность не выполнить план в 100 продлений была примерно 5%, при условии что вероятность продления подписки составляет 10%, равно 1161.\n",
    "\n",
    "**№7.2**\n",
    "\n",
    "Вероятность того, что уведомление откроют не более 399,5 тыс. пользователей составляет примерно 15.37% при миллионе разосланных уведомлений и 40%ой вероятности открытия уведомления каждым пользователем."
   ]
  },
  {
   "cell_type": "markdown",
   "id": "bea0ba40",
   "metadata": {},
   "source": [
    "## Общий вывод\n",
    "<a id='section_8'></a>"
   ]
  },
  {
   "cell_type": "markdown",
   "id": "9a498fed",
   "metadata": {},
   "source": [
    "В процессе исследования данных о пользователях популярного сервиса аренды самокатов **GoFast**, было сделано следующее:\n",
    "\n",
    "**1. Загрузка данных**\n",
    " - **users_go**: 1565 строк.\n",
    " - **rides_go**: 18065 строк.\n",
    " - **subscriptions_go**: 2 строки.\n",
    "\n",
    "**2. Предобработка данных**\n",
    "- **users_go**\n",
    " - Удален 31 дубликат.\n",
    " - Были проверены столбцы **city** и **name** на неявные дубликаты, аномалий найдено не было.\n",
    "- **rides_go**\n",
    " - Тип данных столбца **date** изменен на *datetime*.\n",
    " - Вся выбока только за 2021 год.\n",
    " - Создан столбец с номером месяца поездки.\n",
    " \n",
    "**3. Исследовательский анализ**\n",
    "**Распределение пользователей по городам:**\n",
    "- Больше всего пользуются арендой самокатов в более южных городах, где сезон проката больше, станно на этом фоне выглят Екатеринбург, который даже севернее Москвы.\n",
    "\n",
    "**Распределение пользователей по типу подписки:**\n",
    "- Пользователей с подпиской меньше (45%), чем пользователей без подписки (55%).\n",
    "\n",
    "**Возраст пользователей:**\n",
    "- Распределение стремится к нормальному.\n",
    "- Наибоолее распространенный возраст - 25 лет, минимальный - 12 лет, максимальный - 43 года, большинство пользователй находится в диапазоне от 20 лет до 30 лет.\n",
    "\n",
    "**Дальность поездок:**\n",
    "- Есть два всплеска на 600 м и 3000 м.\n",
    "- Распределение стремится к нормальному, если не считать первый всплеск.\n",
    "- Большинство поездок находятся в диапазоне от 2500 м до 4000 м, медиана на 3100 м, первый квартиль - 2550 м, третий квартиль - 3800 м, минимальная дальность поездки - 1 м (видимо человек передумал), максимальная - 7200 м.\n",
    "\n",
    "**Длительность поездок**\n",
    "- Распределение стремится к нормальному.\n",
    "- Большинство поездок находится в дипазоне от 10 мин до 25 мин, медиана - 18 мин, первый квартиль - 14 мин, третий квартиль - 22 мин, минисальная длительность поездки - 0.5 мин, максимальная - 41 мин.\n",
    "- Была исправлена аномалия с поезками в пол минуты, оказалось время в некоторых строках было указано в часах.\n",
    "\n",
    "**4. Объединение данных**\n",
    "1. Был создан датафрем с объединенными данными из исходных.\n",
    "2. Из объединенного датафрейма было создано 2 датафрема: в одном пользователи с подпиской, в другом без подписки.\n",
    "\n",
    "**ultra:**\n",
    "- Дальность поездок имеют два всплеска на 1000 м и 3000 м, большинство поездок в диапазоне от 2500 м до 4000 м, минимальная дальность - 244 м, максимальная дальность - 5700 м, медиана 3150 м, первый квартиль - 2800 м, третий квартиль 3560 м, стандартное отклонение 837 м.\n",
    "- Длительность поездок нормально распределена, большинство поездок находится в диапазоне от 10 мин до 25 мин, минимальная длительность - 4 мин, максимальная - 41 мин, медиана - 18 мин, первый квартиль - 14 мин, третий квартиль - 22 мин, стандартное отклонение - 5.6 мин.\n",
    "\n",
    "**free:**\n",
    "- Дальность поездок имеют два всплеска на 500 м и 3000 м, большинство поездок в диапазоне от 2000 м до 5000 м, минимальная дальность - 1 м, максимальная дальность - 7200 м, медиана 3100 м, первый квартиль - 2400 м, третий квартиль 3900 м, стандартное отклонение 1246 м.\n",
    "- Длительность поездок нормально распределена, большинство поездок находится в диапазоне от 5 мин до 30 мин, минимальная длительность - 2 мин, максимальная - 35 мин, медиана - 17 мин, первый квартиль - 13 мин, третий квартиль - 22 мин, стандартное отклонение 6 мин.\n",
    "\n",
    "**Сравнение ultra и free:**\n",
    "- Дальности поездок пользователей без подписки сильнее разбросаны, чем дальности поездок пользователей с подпиской, медианы и средние примерно равны минимальная дальность у пользователей с подпиской больше, чем у пользователей без подписки, а максимальная наоборот меньше.\n",
    "- Длительности поездок пользователей без подписки чуть сильнее разбросаны, чем длительности поездок пользователей с подпиской, медианы и средние примерно равны, минимальная и максимальная длительность у пользователей с подпиской больше, чем у пользователей без подписки.\n",
    "\n",
    "**5. Подсчет выручки**\n",
    "1. Округлили длительности поездок в большую сторону в **full_data**.\n",
    "2. На основе **full_data** создали датафрейм **aggregated_rides**, где найдено суммарное расстояние, кол-во поездок и суммарное кол-во поездок для каждого пользователя за каждый месяц.\n",
    "3. В **aggregated_rides** был добавлени столбец с помесячной выручкой от каждого пользователя.\n",
    "\n",
    "**6. Проверка гипотез**\n",
    "\n",
    "**6.1**: По результатам проверки, отвергли гипотезу H_0: Среднее время поездки пользователей с подпиской = среднее время поездки пользователей без подписки, в пользу H_1: Среднее время поездки пользователей с подпиской > среднее время поездки пользователей без подписки.\n",
    "\n",
    "**6.2**: Мы увеличили свою увепенность в том, что среднее время поездки пользователей с подпиской меньше 3130 метров, а значит износ самокатов находится на оптимальнос уровне.\n",
    "\n",
    "**6.3**: По результатам проверки, отверли гипотезу H_0: Помесячная выручка от пользователей с подпиской = помесячная выручка от пользователей без подписки  в пользу H_1: Помесячная выручка от пользователей с подпиской > помесячная выручка от пользователей без подписки.\n",
    "\n",
    "**6.4**: Мы хотим проверить гипотезу двух зависимых выборок, следовательно используем: st.ttest_rel(), гипотеза должна быть односторонней.\n",
    "\n",
    "**7. Распределения**\n",
    "\n",
    "**№7.1** \n",
    "\n",
    "Минимальное кол-во промокодов, которое нужно разослать, чтобы вероятность не выполнить план в 100 продлений была примерно 5%, при условии что вероятность продления подписки составляет 10%, равно 1172.\n",
    "\n",
    "**№7.2**\n",
    "\n",
    "Вероятность того, что уведомление откроют не более 399,5 тыс. пользователей составляет примерно 15.37% при миллионе разосланных уведомлений и 40%ой вероятности открытия уведомления каждым пользователем.\n",
    "\n",
    "**8. Рекомендации**\n",
    "\n",
    "Есть проблема с данными о длительности поездок, где бывают поездки длительностью меньше минуты и дальностью в 5 км (столбец **duration** таблицы **rides_go**), на самом деле время в этих строках указано в часах, а не в минутах. Это явная ошибка, которую стоит исправить.\n",
    "\n",
    "**9. Резюме**\n",
    "\n",
    "На основе проведенного исследования, можно сказать, что пользователи с подпиской более выгодны компании, чем пользователи без подписки."
   ]
  }
 ],
 "metadata": {
  "ExecuteTimeLog": [
   {
    "duration": 53,
    "start_time": "2024-05-09T17:20:47.099Z"
   },
   {
    "duration": 456,
    "start_time": "2024-05-09T17:20:53.780Z"
   },
   {
    "duration": 212,
    "start_time": "2024-05-09T17:20:54.659Z"
   },
   {
    "duration": 68,
    "start_time": "2024-05-09T17:21:58.201Z"
   },
   {
    "duration": 25,
    "start_time": "2024-05-09T17:22:32.824Z"
   },
   {
    "duration": 22,
    "start_time": "2024-05-09T17:22:47.858Z"
   },
   {
    "duration": 3,
    "start_time": "2024-05-09T17:23:12.839Z"
   },
   {
    "duration": 69,
    "start_time": "2024-05-09T17:23:13.298Z"
   },
   {
    "duration": 11,
    "start_time": "2024-05-09T17:23:13.596Z"
   },
   {
    "duration": 12,
    "start_time": "2024-05-09T17:23:14.120Z"
   },
   {
    "duration": 10,
    "start_time": "2024-05-09T17:23:14.494Z"
   },
   {
    "duration": 20,
    "start_time": "2024-05-09T17:24:29.897Z"
   },
   {
    "duration": 9,
    "start_time": "2024-05-09T17:24:48.409Z"
   },
   {
    "duration": 9,
    "start_time": "2024-05-09T17:25:01.393Z"
   },
   {
    "duration": 6,
    "start_time": "2024-05-09T17:28:28.203Z"
   },
   {
    "duration": 8,
    "start_time": "2024-05-09T17:28:48.822Z"
   },
   {
    "duration": 7,
    "start_time": "2024-05-09T17:30:52.265Z"
   },
   {
    "duration": 6,
    "start_time": "2024-05-09T17:30:58.082Z"
   },
   {
    "duration": 8,
    "start_time": "2024-05-09T17:33:18.941Z"
   },
   {
    "duration": 11,
    "start_time": "2024-05-09T17:33:29.295Z"
   },
   {
    "duration": 34,
    "start_time": "2024-05-09T17:33:50.967Z"
   },
   {
    "duration": 8,
    "start_time": "2024-05-09T17:34:01.643Z"
   },
   {
    "duration": 10,
    "start_time": "2024-05-09T17:34:04.467Z"
   },
   {
    "duration": 6,
    "start_time": "2024-05-09T17:34:25.795Z"
   },
   {
    "duration": 7,
    "start_time": "2024-05-09T17:34:35.818Z"
   },
   {
    "duration": 6,
    "start_time": "2024-05-09T17:35:34.379Z"
   },
   {
    "duration": 10,
    "start_time": "2024-05-09T17:36:15.087Z"
   },
   {
    "duration": 8,
    "start_time": "2024-05-09T17:37:01.197Z"
   },
   {
    "duration": 7,
    "start_time": "2024-05-09T17:37:09.816Z"
   },
   {
    "duration": 7,
    "start_time": "2024-05-09T17:37:31.724Z"
   },
   {
    "duration": 10,
    "start_time": "2024-05-09T17:37:35.081Z"
   },
   {
    "duration": 6,
    "start_time": "2024-05-09T17:37:39.150Z"
   },
   {
    "duration": 9,
    "start_time": "2024-05-09T17:37:46.225Z"
   },
   {
    "duration": 6,
    "start_time": "2024-05-09T17:39:59.295Z"
   },
   {
    "duration": 14,
    "start_time": "2024-05-09T17:43:37.604Z"
   },
   {
    "duration": 5,
    "start_time": "2024-05-09T17:44:20.710Z"
   },
   {
    "duration": 14,
    "start_time": "2024-05-09T17:44:24.354Z"
   },
   {
    "duration": 9,
    "start_time": "2024-05-09T17:44:35.719Z"
   },
   {
    "duration": 6,
    "start_time": "2024-05-09T17:44:47.295Z"
   },
   {
    "duration": 7,
    "start_time": "2024-05-09T17:44:49.259Z"
   },
   {
    "duration": 8,
    "start_time": "2024-05-09T17:45:12.974Z"
   },
   {
    "duration": 8,
    "start_time": "2024-05-09T17:45:18.389Z"
   },
   {
    "duration": 4,
    "start_time": "2024-05-09T17:56:23.765Z"
   },
   {
    "duration": 6,
    "start_time": "2024-05-09T17:56:46.555Z"
   },
   {
    "duration": 9,
    "start_time": "2024-05-09T17:57:13.159Z"
   },
   {
    "duration": 4,
    "start_time": "2024-05-09T17:57:28.533Z"
   },
   {
    "duration": 4,
    "start_time": "2024-05-09T17:57:50.812Z"
   },
   {
    "duration": 8,
    "start_time": "2024-05-09T17:58:27.476Z"
   },
   {
    "duration": 5,
    "start_time": "2024-05-09T17:58:32.800Z"
   },
   {
    "duration": 7,
    "start_time": "2024-05-09T18:00:40.891Z"
   },
   {
    "duration": 9,
    "start_time": "2024-05-09T18:00:44.189Z"
   },
   {
    "duration": 8,
    "start_time": "2024-05-09T18:00:47.087Z"
   },
   {
    "duration": 6,
    "start_time": "2024-05-09T18:00:49.981Z"
   },
   {
    "duration": 5,
    "start_time": "2024-05-09T18:00:55.017Z"
   },
   {
    "duration": 8,
    "start_time": "2024-05-09T18:02:00.125Z"
   },
   {
    "duration": 9,
    "start_time": "2024-05-09T18:02:05.023Z"
   },
   {
    "duration": 7,
    "start_time": "2024-05-09T18:02:18.550Z"
   },
   {
    "duration": 9,
    "start_time": "2024-05-09T18:02:22.404Z"
   },
   {
    "duration": 11,
    "start_time": "2024-05-09T18:03:58.373Z"
   },
   {
    "duration": 10,
    "start_time": "2024-05-09T18:04:09.885Z"
   },
   {
    "duration": 9,
    "start_time": "2024-05-09T18:08:24.198Z"
   },
   {
    "duration": 8,
    "start_time": "2024-05-09T18:09:26.449Z"
   },
   {
    "duration": 12,
    "start_time": "2024-05-09T18:09:39.591Z"
   },
   {
    "duration": 15,
    "start_time": "2024-05-09T18:09:58.805Z"
   },
   {
    "duration": 12,
    "start_time": "2024-05-09T18:10:05.106Z"
   },
   {
    "duration": 8,
    "start_time": "2024-05-09T18:10:24.206Z"
   },
   {
    "duration": 8,
    "start_time": "2024-05-09T18:10:51.496Z"
   },
   {
    "duration": 587,
    "start_time": "2024-05-09T18:11:12.238Z"
   },
   {
    "duration": 153,
    "start_time": "2024-05-09T18:11:47.161Z"
   },
   {
    "duration": 147,
    "start_time": "2024-05-09T18:15:46.639Z"
   },
   {
    "duration": 19,
    "start_time": "2024-05-09T18:16:27.742Z"
   },
   {
    "duration": 9,
    "start_time": "2024-05-09T18:17:00.993Z"
   },
   {
    "duration": 7,
    "start_time": "2024-05-09T18:17:22.392Z"
   },
   {
    "duration": 8,
    "start_time": "2024-05-09T18:17:44.343Z"
   },
   {
    "duration": 125,
    "start_time": "2024-05-09T18:18:30.314Z"
   },
   {
    "duration": 188,
    "start_time": "2024-05-09T18:18:35.429Z"
   },
   {
    "duration": 179,
    "start_time": "2024-05-09T18:18:58.120Z"
   },
   {
    "duration": 155,
    "start_time": "2024-05-09T18:19:11.745Z"
   },
   {
    "duration": 109,
    "start_time": "2024-05-09T18:22:31.476Z"
   },
   {
    "duration": 6,
    "start_time": "2024-05-09T18:23:52.024Z"
   },
   {
    "duration": 6,
    "start_time": "2024-05-09T18:24:05.631Z"
   },
   {
    "duration": 9,
    "start_time": "2024-05-09T18:28:02.564Z"
   },
   {
    "duration": 18,
    "start_time": "2024-05-09T18:28:19.819Z"
   },
   {
    "duration": 128,
    "start_time": "2024-05-09T18:29:46.719Z"
   },
   {
    "duration": 132,
    "start_time": "2024-05-09T18:30:19.206Z"
   },
   {
    "duration": 204,
    "start_time": "2024-05-09T18:30:33.131Z"
   },
   {
    "duration": 129,
    "start_time": "2024-05-09T18:31:15.778Z"
   },
   {
    "duration": 140,
    "start_time": "2024-05-09T18:32:01.078Z"
   },
   {
    "duration": 192,
    "start_time": "2024-05-09T18:32:06.934Z"
   },
   {
    "duration": 17,
    "start_time": "2024-05-09T18:45:29.937Z"
   },
   {
    "duration": 14,
    "start_time": "2024-05-09T18:46:27.389Z"
   },
   {
    "duration": 14,
    "start_time": "2024-05-09T18:46:31.813Z"
   },
   {
    "duration": 13,
    "start_time": "2024-05-09T18:47:23.612Z"
   },
   {
    "duration": 15,
    "start_time": "2024-05-09T18:47:28.872Z"
   },
   {
    "duration": 5,
    "start_time": "2024-05-09T18:52:00.017Z"
   },
   {
    "duration": 9,
    "start_time": "2024-05-09T18:52:14.050Z"
   },
   {
    "duration": 456,
    "start_time": "2024-05-09T18:52:17.754Z"
   },
   {
    "duration": 74,
    "start_time": "2024-05-09T18:52:18.212Z"
   },
   {
    "duration": 14,
    "start_time": "2024-05-09T18:52:18.288Z"
   },
   {
    "duration": 19,
    "start_time": "2024-05-09T18:52:18.305Z"
   },
   {
    "duration": 16,
    "start_time": "2024-05-09T18:52:18.326Z"
   },
   {
    "duration": 37,
    "start_time": "2024-05-09T18:52:18.345Z"
   },
   {
    "duration": 10,
    "start_time": "2024-05-09T18:52:18.383Z"
   },
   {
    "duration": 9,
    "start_time": "2024-05-09T18:52:18.395Z"
   },
   {
    "duration": 7,
    "start_time": "2024-05-09T18:52:18.405Z"
   },
   {
    "duration": 7,
    "start_time": "2024-05-09T18:52:18.415Z"
   },
   {
    "duration": 12,
    "start_time": "2024-05-09T18:52:18.423Z"
   },
   {
    "duration": 13,
    "start_time": "2024-05-09T18:52:18.436Z"
   },
   {
    "duration": 32,
    "start_time": "2024-05-09T18:52:18.451Z"
   },
   {
    "duration": 7,
    "start_time": "2024-05-09T18:52:18.485Z"
   },
   {
    "duration": 11,
    "start_time": "2024-05-09T18:52:18.494Z"
   },
   {
    "duration": 15,
    "start_time": "2024-05-09T18:52:18.507Z"
   },
   {
    "duration": 5,
    "start_time": "2024-05-09T18:52:18.524Z"
   },
   {
    "duration": 5,
    "start_time": "2024-05-09T18:52:18.530Z"
   },
   {
    "duration": 21,
    "start_time": "2024-05-09T18:52:18.537Z"
   },
   {
    "duration": 29,
    "start_time": "2024-05-09T18:52:18.560Z"
   },
   {
    "duration": 6,
    "start_time": "2024-05-09T18:52:18.591Z"
   },
   {
    "duration": 7,
    "start_time": "2024-05-09T18:52:18.598Z"
   },
   {
    "duration": 8,
    "start_time": "2024-05-09T18:52:18.607Z"
   },
   {
    "duration": 361,
    "start_time": "2024-05-09T18:52:18.616Z"
   },
   {
    "duration": 153,
    "start_time": "2024-05-09T18:52:18.979Z"
   },
   {
    "duration": 16,
    "start_time": "2024-05-09T18:52:19.133Z"
   },
   {
    "duration": 5,
    "start_time": "2024-05-09T18:52:19.150Z"
   },
   {
    "duration": 36,
    "start_time": "2024-05-09T18:52:19.158Z"
   },
   {
    "duration": 134,
    "start_time": "2024-05-09T18:52:19.196Z"
   },
   {
    "duration": 211,
    "start_time": "2024-05-09T18:52:19.331Z"
   },
   {
    "duration": 129,
    "start_time": "2024-05-09T18:52:19.543Z"
   },
   {
    "duration": 279,
    "start_time": "2024-05-09T18:52:19.673Z"
   },
   {
    "duration": 16,
    "start_time": "2024-05-09T18:53:53.968Z"
   },
   {
    "duration": 16,
    "start_time": "2024-05-09T19:02:20.965Z"
   },
   {
    "duration": 15,
    "start_time": "2024-05-09T19:09:49.745Z"
   },
   {
    "duration": 124,
    "start_time": "2024-05-09T19:15:48.845Z"
   },
   {
    "duration": 191,
    "start_time": "2024-05-09T19:15:51.544Z"
   },
   {
    "duration": 17,
    "start_time": "2024-05-09T19:15:54.314Z"
   },
   {
    "duration": 6,
    "start_time": "2024-05-09T19:16:05.799Z"
   },
   {
    "duration": 121,
    "start_time": "2024-05-09T19:16:07.015Z"
   },
   {
    "duration": 185,
    "start_time": "2024-05-09T19:16:08.432Z"
   },
   {
    "duration": 15,
    "start_time": "2024-05-09T19:16:13.422Z"
   },
   {
    "duration": 7,
    "start_time": "2024-05-09T19:17:10.263Z"
   },
   {
    "duration": 9,
    "start_time": "2024-05-09T19:17:30.039Z"
   },
   {
    "duration": 392,
    "start_time": "2024-05-09T19:17:33.918Z"
   },
   {
    "duration": 70,
    "start_time": "2024-05-09T19:17:34.312Z"
   },
   {
    "duration": 11,
    "start_time": "2024-05-09T19:17:34.384Z"
   },
   {
    "duration": 22,
    "start_time": "2024-05-09T19:17:34.398Z"
   },
   {
    "duration": 11,
    "start_time": "2024-05-09T19:17:34.422Z"
   },
   {
    "duration": 10,
    "start_time": "2024-05-09T19:17:34.435Z"
   },
   {
    "duration": 37,
    "start_time": "2024-05-09T19:17:34.447Z"
   },
   {
    "duration": 7,
    "start_time": "2024-05-09T19:17:34.486Z"
   },
   {
    "duration": 8,
    "start_time": "2024-05-09T19:17:34.495Z"
   },
   {
    "duration": 6,
    "start_time": "2024-05-09T19:17:34.506Z"
   },
   {
    "duration": 15,
    "start_time": "2024-05-09T19:17:34.513Z"
   },
   {
    "duration": 5,
    "start_time": "2024-05-09T19:17:34.529Z"
   },
   {
    "duration": 9,
    "start_time": "2024-05-09T19:17:34.535Z"
   },
   {
    "duration": 42,
    "start_time": "2024-05-09T19:17:34.546Z"
   },
   {
    "duration": 8,
    "start_time": "2024-05-09T19:17:34.590Z"
   },
   {
    "duration": 9,
    "start_time": "2024-05-09T19:17:34.599Z"
   },
   {
    "duration": 5,
    "start_time": "2024-05-09T19:17:34.610Z"
   },
   {
    "duration": 11,
    "start_time": "2024-05-09T19:17:34.616Z"
   },
   {
    "duration": 11,
    "start_time": "2024-05-09T19:17:34.628Z"
   },
   {
    "duration": 21,
    "start_time": "2024-05-09T19:17:34.640Z"
   },
   {
    "duration": 25,
    "start_time": "2024-05-09T19:17:34.662Z"
   },
   {
    "duration": 7,
    "start_time": "2024-05-09T19:17:34.689Z"
   },
   {
    "duration": 19,
    "start_time": "2024-05-09T19:17:34.698Z"
   },
   {
    "duration": 338,
    "start_time": "2024-05-09T19:17:34.719Z"
   },
   {
    "duration": 165,
    "start_time": "2024-05-09T19:17:35.058Z"
   },
   {
    "duration": 15,
    "start_time": "2024-05-09T19:17:35.225Z"
   },
   {
    "duration": 4,
    "start_time": "2024-05-09T19:17:35.242Z"
   },
   {
    "duration": 38,
    "start_time": "2024-05-09T19:17:35.249Z"
   },
   {
    "duration": 137,
    "start_time": "2024-05-09T19:17:35.288Z"
   },
   {
    "duration": 211,
    "start_time": "2024-05-09T19:17:35.427Z"
   },
   {
    "duration": 16,
    "start_time": "2024-05-09T19:17:35.640Z"
   },
   {
    "duration": 17,
    "start_time": "2024-05-09T19:17:35.657Z"
   },
   {
    "duration": 128,
    "start_time": "2024-05-09T19:17:35.676Z"
   },
   {
    "duration": 249,
    "start_time": "2024-05-09T19:17:35.806Z"
   },
   {
    "duration": 25,
    "start_time": "2024-05-09T19:17:36.057Z"
   },
   {
    "duration": 6,
    "start_time": "2024-05-09T19:17:36.084Z"
   },
   {
    "duration": 181,
    "start_time": "2024-05-09T19:19:33.974Z"
   },
   {
    "duration": 384,
    "start_time": "2024-05-09T19:19:46.030Z"
   },
   {
    "duration": 69,
    "start_time": "2024-05-09T19:19:46.416Z"
   },
   {
    "duration": 11,
    "start_time": "2024-05-09T19:19:46.487Z"
   },
   {
    "duration": 22,
    "start_time": "2024-05-09T19:19:46.500Z"
   },
   {
    "duration": 12,
    "start_time": "2024-05-09T19:19:46.524Z"
   },
   {
    "duration": 12,
    "start_time": "2024-05-09T19:19:46.538Z"
   },
   {
    "duration": 31,
    "start_time": "2024-05-09T19:19:46.551Z"
   },
   {
    "duration": 7,
    "start_time": "2024-05-09T19:19:46.584Z"
   },
   {
    "duration": 26,
    "start_time": "2024-05-09T19:19:46.592Z"
   },
   {
    "duration": 10,
    "start_time": "2024-05-09T19:19:46.619Z"
   },
   {
    "duration": 15,
    "start_time": "2024-05-09T19:19:46.631Z"
   },
   {
    "duration": 5,
    "start_time": "2024-05-09T19:19:46.647Z"
   },
   {
    "duration": 11,
    "start_time": "2024-05-09T19:19:46.653Z"
   },
   {
    "duration": 7,
    "start_time": "2024-05-09T19:19:46.667Z"
   },
   {
    "duration": 9,
    "start_time": "2024-05-09T19:19:46.676Z"
   },
   {
    "duration": 16,
    "start_time": "2024-05-09T19:19:46.686Z"
   },
   {
    "duration": 5,
    "start_time": "2024-05-09T19:19:46.703Z"
   },
   {
    "duration": 15,
    "start_time": "2024-05-09T19:19:46.710Z"
   },
   {
    "duration": 11,
    "start_time": "2024-05-09T19:19:46.727Z"
   },
   {
    "duration": 15,
    "start_time": "2024-05-09T19:19:46.739Z"
   },
   {
    "duration": 5,
    "start_time": "2024-05-09T19:19:46.755Z"
   },
   {
    "duration": 21,
    "start_time": "2024-05-09T19:19:46.762Z"
   },
   {
    "duration": 8,
    "start_time": "2024-05-09T19:19:46.784Z"
   },
   {
    "duration": 349,
    "start_time": "2024-05-09T19:19:46.793Z"
   },
   {
    "duration": 159,
    "start_time": "2024-05-09T19:19:47.143Z"
   },
   {
    "duration": 15,
    "start_time": "2024-05-09T19:19:47.305Z"
   },
   {
    "duration": 5,
    "start_time": "2024-05-09T19:19:47.321Z"
   },
   {
    "duration": 17,
    "start_time": "2024-05-09T19:19:47.327Z"
   },
   {
    "duration": 150,
    "start_time": "2024-05-09T19:19:47.346Z"
   },
   {
    "duration": 211,
    "start_time": "2024-05-09T19:19:47.498Z"
   },
   {
    "duration": 16,
    "start_time": "2024-05-09T19:19:47.711Z"
   },
   {
    "duration": 10,
    "start_time": "2024-05-09T19:19:47.728Z"
   },
   {
    "duration": 154,
    "start_time": "2024-05-09T19:19:47.739Z"
   },
   {
    "duration": 258,
    "start_time": "2024-05-09T19:19:47.895Z"
   },
   {
    "duration": 14,
    "start_time": "2024-05-09T19:19:48.155Z"
   },
   {
    "duration": 15,
    "start_time": "2024-05-09T19:19:48.170Z"
   },
   {
    "duration": 12,
    "start_time": "2024-05-09T19:22:49.337Z"
   },
   {
    "duration": 11,
    "start_time": "2024-05-09T19:22:57.767Z"
   },
   {
    "duration": 10,
    "start_time": "2024-05-09T19:26:31.584Z"
   },
   {
    "duration": 16,
    "start_time": "2024-05-09T19:27:57.640Z"
   },
   {
    "duration": 155,
    "start_time": "2024-05-09T19:28:07.680Z"
   },
   {
    "duration": 175,
    "start_time": "2024-05-09T19:28:22.959Z"
   },
   {
    "duration": 803,
    "start_time": "2024-05-09T19:28:34.347Z"
   },
   {
    "duration": 13,
    "start_time": "2024-05-09T19:29:18.959Z"
   },
   {
    "duration": 163,
    "start_time": "2024-05-09T19:30:03.019Z"
   },
   {
    "duration": 141,
    "start_time": "2024-05-09T19:30:11.476Z"
   },
   {
    "duration": 141,
    "start_time": "2024-05-09T19:30:29.554Z"
   },
   {
    "duration": 387,
    "start_time": "2024-05-09T19:30:34.926Z"
   },
   {
    "duration": 70,
    "start_time": "2024-05-09T19:30:35.315Z"
   },
   {
    "duration": 12,
    "start_time": "2024-05-09T19:30:35.386Z"
   },
   {
    "duration": 27,
    "start_time": "2024-05-09T19:30:35.400Z"
   },
   {
    "duration": 14,
    "start_time": "2024-05-09T19:30:35.430Z"
   },
   {
    "duration": 9,
    "start_time": "2024-05-09T19:30:35.446Z"
   },
   {
    "duration": 44,
    "start_time": "2024-05-09T19:30:35.457Z"
   },
   {
    "duration": 31,
    "start_time": "2024-05-09T19:30:35.503Z"
   },
   {
    "duration": 17,
    "start_time": "2024-05-09T19:30:35.536Z"
   },
   {
    "duration": 11,
    "start_time": "2024-05-09T19:30:35.554Z"
   },
   {
    "duration": 6,
    "start_time": "2024-05-09T19:30:35.567Z"
   },
   {
    "duration": 7,
    "start_time": "2024-05-09T19:30:35.575Z"
   },
   {
    "duration": 10,
    "start_time": "2024-05-09T19:30:35.584Z"
   },
   {
    "duration": 7,
    "start_time": "2024-05-09T19:30:35.599Z"
   },
   {
    "duration": 15,
    "start_time": "2024-05-09T19:30:35.608Z"
   },
   {
    "duration": 14,
    "start_time": "2024-05-09T19:30:35.625Z"
   },
   {
    "duration": 10,
    "start_time": "2024-05-09T19:30:35.641Z"
   },
   {
    "duration": 25,
    "start_time": "2024-05-09T19:30:35.653Z"
   },
   {
    "duration": 21,
    "start_time": "2024-05-09T19:30:35.680Z"
   },
   {
    "duration": 22,
    "start_time": "2024-05-09T19:30:35.702Z"
   },
   {
    "duration": 10,
    "start_time": "2024-05-09T19:30:35.726Z"
   },
   {
    "duration": 24,
    "start_time": "2024-05-09T19:30:35.737Z"
   },
   {
    "duration": 21,
    "start_time": "2024-05-09T19:30:35.763Z"
   },
   {
    "duration": 415,
    "start_time": "2024-05-09T19:30:35.786Z"
   },
   {
    "duration": 153,
    "start_time": "2024-05-09T19:30:36.203Z"
   },
   {
    "duration": 25,
    "start_time": "2024-05-09T19:30:36.358Z"
   },
   {
    "duration": 4,
    "start_time": "2024-05-09T19:30:36.385Z"
   },
   {
    "duration": 21,
    "start_time": "2024-05-09T19:30:36.391Z"
   },
   {
    "duration": 137,
    "start_time": "2024-05-09T19:30:36.414Z"
   },
   {
    "duration": 204,
    "start_time": "2024-05-09T19:30:36.553Z"
   },
   {
    "duration": 26,
    "start_time": "2024-05-09T19:30:36.759Z"
   },
   {
    "duration": 5,
    "start_time": "2024-05-09T19:30:36.788Z"
   },
   {
    "duration": 134,
    "start_time": "2024-05-09T19:30:36.795Z"
   },
   {
    "duration": 253,
    "start_time": "2024-05-09T19:30:36.931Z"
   },
   {
    "duration": 15,
    "start_time": "2024-05-09T19:30:37.186Z"
   },
   {
    "duration": 5,
    "start_time": "2024-05-09T19:30:37.203Z"
   },
   {
    "duration": 13,
    "start_time": "2024-05-09T19:30:37.210Z"
   },
   {
    "duration": 22,
    "start_time": "2024-05-09T19:30:37.225Z"
   },
   {
    "duration": 8,
    "start_time": "2024-05-09T19:30:37.249Z"
   },
   {
    "duration": 171,
    "start_time": "2024-05-09T19:30:37.258Z"
   },
   {
    "duration": 13,
    "start_time": "2024-05-09T19:30:37.434Z"
   },
   {
    "duration": 161,
    "start_time": "2024-05-09T19:31:05.522Z"
   },
   {
    "duration": 150,
    "start_time": "2024-05-09T19:31:22.923Z"
   },
   {
    "duration": 164,
    "start_time": "2024-05-09T19:31:35.600Z"
   },
   {
    "duration": 6,
    "start_time": "2024-05-09T19:32:09.351Z"
   },
   {
    "duration": 6,
    "start_time": "2024-05-09T19:32:19.640Z"
   },
   {
    "duration": 7,
    "start_time": "2024-05-09T19:32:55.125Z"
   },
   {
    "duration": 26,
    "start_time": "2024-05-09T19:47:18.161Z"
   },
   {
    "duration": 29,
    "start_time": "2024-05-09T19:47:43.144Z"
   },
   {
    "duration": 24,
    "start_time": "2024-05-09T19:47:47.707Z"
   },
   {
    "duration": 27,
    "start_time": "2024-05-09T19:47:52.236Z"
   },
   {
    "duration": 26,
    "start_time": "2024-05-09T19:48:47.767Z"
   },
   {
    "duration": 33,
    "start_time": "2024-05-09T19:49:33.882Z"
   },
   {
    "duration": 30,
    "start_time": "2024-05-09T19:51:54.126Z"
   },
   {
    "duration": 14,
    "start_time": "2024-05-09T19:52:14.930Z"
   },
   {
    "duration": 31,
    "start_time": "2024-05-09T19:52:48.714Z"
   },
   {
    "duration": 14,
    "start_time": "2024-05-09T19:53:10.026Z"
   },
   {
    "duration": 30,
    "start_time": "2024-05-09T19:53:18.074Z"
   },
   {
    "duration": 383,
    "start_time": "2024-05-09T19:53:43.322Z"
   },
   {
    "duration": 69,
    "start_time": "2024-05-09T19:53:43.707Z"
   },
   {
    "duration": 12,
    "start_time": "2024-05-09T19:53:43.778Z"
   },
   {
    "duration": 19,
    "start_time": "2024-05-09T19:53:43.792Z"
   },
   {
    "duration": 12,
    "start_time": "2024-05-09T19:53:43.813Z"
   },
   {
    "duration": 11,
    "start_time": "2024-05-09T19:53:43.827Z"
   },
   {
    "duration": 12,
    "start_time": "2024-05-09T19:53:43.840Z"
   },
   {
    "duration": 37,
    "start_time": "2024-05-09T19:53:43.854Z"
   },
   {
    "duration": 10,
    "start_time": "2024-05-09T19:53:43.893Z"
   },
   {
    "duration": 14,
    "start_time": "2024-05-09T19:53:43.906Z"
   },
   {
    "duration": 8,
    "start_time": "2024-05-09T19:53:43.922Z"
   },
   {
    "duration": 7,
    "start_time": "2024-05-09T19:53:43.931Z"
   },
   {
    "duration": 10,
    "start_time": "2024-05-09T19:53:43.940Z"
   },
   {
    "duration": 34,
    "start_time": "2024-05-09T19:53:43.952Z"
   },
   {
    "duration": 9,
    "start_time": "2024-05-09T19:53:43.988Z"
   },
   {
    "duration": 10,
    "start_time": "2024-05-09T19:53:43.999Z"
   },
   {
    "duration": 15,
    "start_time": "2024-05-09T19:53:44.010Z"
   },
   {
    "duration": 7,
    "start_time": "2024-05-09T19:53:44.027Z"
   },
   {
    "duration": 12,
    "start_time": "2024-05-09T19:53:44.035Z"
   },
   {
    "duration": 10,
    "start_time": "2024-05-09T19:53:44.048Z"
   },
   {
    "duration": 6,
    "start_time": "2024-05-09T19:53:44.082Z"
   },
   {
    "duration": 13,
    "start_time": "2024-05-09T19:53:44.089Z"
   },
   {
    "duration": 26,
    "start_time": "2024-05-09T19:53:44.104Z"
   },
   {
    "duration": 345,
    "start_time": "2024-05-09T19:53:44.131Z"
   },
   {
    "duration": 150,
    "start_time": "2024-05-09T19:53:44.481Z"
   },
   {
    "duration": 15,
    "start_time": "2024-05-09T19:53:44.633Z"
   },
   {
    "duration": 5,
    "start_time": "2024-05-09T19:53:44.650Z"
   },
   {
    "duration": 39,
    "start_time": "2024-05-09T19:53:44.658Z"
   },
   {
    "duration": 144,
    "start_time": "2024-05-09T19:53:44.699Z"
   },
   {
    "duration": 200,
    "start_time": "2024-05-09T19:53:44.845Z"
   },
   {
    "duration": 16,
    "start_time": "2024-05-09T19:53:45.047Z"
   },
   {
    "duration": 24,
    "start_time": "2024-05-09T19:53:45.064Z"
   },
   {
    "duration": 154,
    "start_time": "2024-05-09T19:53:45.089Z"
   },
   {
    "duration": 249,
    "start_time": "2024-05-09T19:53:45.245Z"
   },
   {
    "duration": 15,
    "start_time": "2024-05-09T19:53:45.495Z"
   },
   {
    "duration": 5,
    "start_time": "2024-05-09T19:53:45.512Z"
   },
   {
    "duration": 25,
    "start_time": "2024-05-09T19:53:45.518Z"
   },
   {
    "duration": 24,
    "start_time": "2024-05-09T19:53:45.545Z"
   },
   {
    "duration": 33,
    "start_time": "2024-05-09T19:53:45.571Z"
   },
   {
    "duration": 14,
    "start_time": "2024-05-09T19:54:03.907Z"
   },
   {
    "duration": 14,
    "start_time": "2024-05-09T19:54:14.754Z"
   },
   {
    "duration": 23,
    "start_time": "2024-05-09T19:54:25.443Z"
   },
   {
    "duration": 16,
    "start_time": "2024-05-09T19:54:31.242Z"
   },
   {
    "duration": 17,
    "start_time": "2024-05-09T19:55:40.672Z"
   },
   {
    "duration": 15,
    "start_time": "2024-05-09T19:55:41.113Z"
   },
   {
    "duration": 98,
    "start_time": "2024-05-09T19:57:11.218Z"
   },
   {
    "duration": 16,
    "start_time": "2024-05-09T19:57:43.531Z"
   },
   {
    "duration": 29,
    "start_time": "2024-05-09T19:57:47.043Z"
   },
   {
    "duration": 18,
    "start_time": "2024-05-09T19:57:57.446Z"
   },
   {
    "duration": 28,
    "start_time": "2024-05-09T19:57:58.918Z"
   },
   {
    "duration": 16,
    "start_time": "2024-05-09T19:58:02.328Z"
   },
   {
    "duration": 16,
    "start_time": "2024-05-09T19:58:02.852Z"
   },
   {
    "duration": 28,
    "start_time": "2024-05-09T19:58:04.006Z"
   },
   {
    "duration": 7,
    "start_time": "2024-05-09T19:59:04.407Z"
   },
   {
    "duration": 6,
    "start_time": "2024-05-09T19:59:53.270Z"
   },
   {
    "duration": 16,
    "start_time": "2024-05-09T20:00:16.898Z"
   },
   {
    "duration": 16,
    "start_time": "2024-05-09T20:00:32.268Z"
   },
   {
    "duration": 7,
    "start_time": "2024-05-09T20:01:04.807Z"
   },
   {
    "duration": 16,
    "start_time": "2024-05-09T20:01:05.772Z"
   },
   {
    "duration": 6,
    "start_time": "2024-05-09T20:01:15.639Z"
   },
   {
    "duration": 14,
    "start_time": "2024-05-09T20:01:17.238Z"
   },
   {
    "duration": 16,
    "start_time": "2024-05-09T20:04:43.471Z"
   },
   {
    "duration": 265,
    "start_time": "2024-05-09T20:05:11.791Z"
   },
   {
    "duration": 265,
    "start_time": "2024-05-09T20:08:20.363Z"
   },
   {
    "duration": 349,
    "start_time": "2024-05-09T20:08:38.481Z"
   },
   {
    "duration": 17,
    "start_time": "2024-05-09T20:09:05.307Z"
   },
   {
    "duration": 360,
    "start_time": "2024-05-09T20:09:52.855Z"
   },
   {
    "duration": 11,
    "start_time": "2024-05-09T20:58:34.933Z"
   },
   {
    "duration": 10,
    "start_time": "2024-05-09T21:01:06.607Z"
   },
   {
    "duration": 13,
    "start_time": "2024-05-09T21:01:27.245Z"
   },
   {
    "duration": 13,
    "start_time": "2024-05-09T21:01:34.558Z"
   },
   {
    "duration": 9,
    "start_time": "2024-05-09T21:01:40.314Z"
   },
   {
    "duration": 14,
    "start_time": "2024-05-09T21:02:13.962Z"
   },
   {
    "duration": 41,
    "start_time": "2024-05-09T21:02:30.148Z"
   },
   {
    "duration": 8,
    "start_time": "2024-05-09T21:02:38.124Z"
   },
   {
    "duration": 15,
    "start_time": "2024-05-09T21:02:57.287Z"
   },
   {
    "duration": 9,
    "start_time": "2024-05-09T21:05:32.861Z"
   },
   {
    "duration": 13,
    "start_time": "2024-05-09T21:05:33.496Z"
   },
   {
    "duration": 8,
    "start_time": "2024-05-09T21:06:55.900Z"
   },
   {
    "duration": 14,
    "start_time": "2024-05-09T21:07:06.993Z"
   },
   {
    "duration": 15,
    "start_time": "2024-05-09T21:08:06.621Z"
   },
   {
    "duration": 14,
    "start_time": "2024-05-09T21:08:07.244Z"
   },
   {
    "duration": 6020,
    "start_time": "2024-05-09T21:10:22.738Z"
   },
   {
    "duration": 14,
    "start_time": "2024-05-09T21:10:28.759Z"
   },
   {
    "duration": 12,
    "start_time": "2024-05-09T21:10:44.796Z"
   },
   {
    "duration": 13,
    "start_time": "2024-05-09T21:10:45.549Z"
   },
   {
    "duration": 11,
    "start_time": "2024-05-09T21:15:11.780Z"
   },
   {
    "duration": 15,
    "start_time": "2024-05-09T23:21:31.393Z"
   },
   {
    "duration": 19,
    "start_time": "2024-05-09T23:25:57.484Z"
   },
   {
    "duration": 53,
    "start_time": "2024-05-10T07:32:27.770Z"
   },
   {
    "duration": 436,
    "start_time": "2024-05-10T07:32:35.017Z"
   },
   {
    "duration": 205,
    "start_time": "2024-05-10T07:32:35.455Z"
   },
   {
    "duration": 13,
    "start_time": "2024-05-10T07:32:35.661Z"
   },
   {
    "duration": 20,
    "start_time": "2024-05-10T07:32:35.676Z"
   },
   {
    "duration": 22,
    "start_time": "2024-05-10T07:32:35.698Z"
   },
   {
    "duration": 23,
    "start_time": "2024-05-10T07:32:35.721Z"
   },
   {
    "duration": 15,
    "start_time": "2024-05-10T07:32:35.746Z"
   },
   {
    "duration": 13,
    "start_time": "2024-05-10T07:32:35.763Z"
   },
   {
    "duration": 12,
    "start_time": "2024-05-10T07:32:35.778Z"
   },
   {
    "duration": 16,
    "start_time": "2024-05-10T07:32:35.794Z"
   },
   {
    "duration": 24,
    "start_time": "2024-05-10T07:32:35.812Z"
   },
   {
    "duration": 20,
    "start_time": "2024-05-10T07:32:35.838Z"
   },
   {
    "duration": 13,
    "start_time": "2024-05-10T07:32:35.860Z"
   },
   {
    "duration": 11,
    "start_time": "2024-05-10T07:32:35.875Z"
   },
   {
    "duration": 7,
    "start_time": "2024-05-10T07:32:35.888Z"
   },
   {
    "duration": 10,
    "start_time": "2024-05-10T07:32:35.896Z"
   },
   {
    "duration": 12,
    "start_time": "2024-05-10T07:32:35.908Z"
   },
   {
    "duration": 23,
    "start_time": "2024-05-10T07:32:35.922Z"
   },
   {
    "duration": 12,
    "start_time": "2024-05-10T07:32:35.947Z"
   },
   {
    "duration": 14,
    "start_time": "2024-05-10T07:32:35.961Z"
   },
   {
    "duration": 7,
    "start_time": "2024-05-10T07:32:35.978Z"
   },
   {
    "duration": 10,
    "start_time": "2024-05-10T07:32:35.987Z"
   },
   {
    "duration": 10,
    "start_time": "2024-05-10T07:32:35.999Z"
   },
   {
    "duration": 546,
    "start_time": "2024-05-10T07:32:36.030Z"
   },
   {
    "duration": 156,
    "start_time": "2024-05-10T07:32:36.578Z"
   },
   {
    "duration": 18,
    "start_time": "2024-05-10T07:32:36.735Z"
   },
   {
    "duration": 6,
    "start_time": "2024-05-10T07:32:36.755Z"
   },
   {
    "duration": 20,
    "start_time": "2024-05-10T07:32:36.764Z"
   },
   {
    "duration": 160,
    "start_time": "2024-05-10T07:32:36.786Z"
   },
   {
    "duration": 211,
    "start_time": "2024-05-10T07:32:36.948Z"
   },
   {
    "duration": 16,
    "start_time": "2024-05-10T07:32:37.161Z"
   },
   {
    "duration": 8,
    "start_time": "2024-05-10T07:32:37.179Z"
   },
   {
    "duration": 207,
    "start_time": "2024-05-10T07:32:37.188Z"
   },
   {
    "duration": 254,
    "start_time": "2024-05-10T07:32:37.396Z"
   },
   {
    "duration": 19,
    "start_time": "2024-05-10T07:32:37.655Z"
   },
   {
    "duration": 6,
    "start_time": "2024-05-10T07:32:37.676Z"
   },
   {
    "duration": 14,
    "start_time": "2024-05-10T07:32:37.683Z"
   },
   {
    "duration": 33,
    "start_time": "2024-05-10T07:32:37.699Z"
   },
   {
    "duration": 16,
    "start_time": "2024-05-10T07:32:37.733Z"
   },
   {
    "duration": 16,
    "start_time": "2024-05-10T07:32:37.751Z"
   },
   {
    "duration": 8,
    "start_time": "2024-05-10T07:32:37.769Z"
   },
   {
    "duration": 15,
    "start_time": "2024-05-10T07:32:37.779Z"
   },
   {
    "duration": 38,
    "start_time": "2024-05-10T07:32:37.796Z"
   },
   {
    "duration": 23,
    "start_time": "2024-05-10T07:32:37.835Z"
   },
   {
    "duration": 31,
    "start_time": "2024-05-10T07:32:37.859Z"
   },
   {
    "duration": 22,
    "start_time": "2024-05-10T07:32:37.892Z"
   },
   {
    "duration": 343,
    "start_time": "2024-05-10T07:32:37.916Z"
   },
   {
    "duration": 360,
    "start_time": "2024-05-10T07:32:38.261Z"
   },
   {
    "duration": 76,
    "start_time": "2024-05-10T07:32:38.623Z"
   },
   {
    "duration": 0,
    "start_time": "2024-05-10T07:32:38.701Z"
   },
   {
    "duration": 0,
    "start_time": "2024-05-10T07:32:38.702Z"
   },
   {
    "duration": 0,
    "start_time": "2024-05-10T07:32:38.703Z"
   },
   {
    "duration": 934,
    "start_time": "2024-05-10T07:32:44.639Z"
   },
   {
    "duration": 4,
    "start_time": "2024-05-10T07:36:30.096Z"
   },
   {
    "duration": 14,
    "start_time": "2024-05-10T07:36:30.521Z"
   },
   {
    "duration": 920,
    "start_time": "2024-05-10T07:37:06.175Z"
   },
   {
    "duration": 4,
    "start_time": "2024-05-10T07:37:07.724Z"
   },
   {
    "duration": 12,
    "start_time": "2024-05-10T07:37:10.344Z"
   },
   {
    "duration": 9,
    "start_time": "2024-05-10T07:38:22.184Z"
   },
   {
    "duration": 2,
    "start_time": "2024-05-10T07:38:55.842Z"
   },
   {
    "duration": 4,
    "start_time": "2024-05-10T07:39:01.662Z"
   },
   {
    "duration": 12,
    "start_time": "2024-05-10T07:39:12.760Z"
   },
   {
    "duration": 11,
    "start_time": "2024-05-10T07:39:25.847Z"
   },
   {
    "duration": 4,
    "start_time": "2024-05-10T07:39:34.371Z"
   },
   {
    "duration": 14,
    "start_time": "2024-05-10T07:39:34.785Z"
   },
   {
    "duration": 850,
    "start_time": "2024-05-10T07:40:42.616Z"
   },
   {
    "duration": 3,
    "start_time": "2024-05-10T07:40:43.468Z"
   },
   {
    "duration": 7,
    "start_time": "2024-05-10T07:40:43.472Z"
   },
   {
    "duration": 12,
    "start_time": "2024-05-10T07:40:47.326Z"
   },
   {
    "duration": 920,
    "start_time": "2024-05-10T07:41:23.739Z"
   },
   {
    "duration": 4,
    "start_time": "2024-05-10T07:41:24.661Z"
   },
   {
    "duration": 10,
    "start_time": "2024-05-10T07:41:24.667Z"
   },
   {
    "duration": 15,
    "start_time": "2024-05-10T07:41:25.273Z"
   },
   {
    "duration": 13,
    "start_time": "2024-05-10T07:41:39.766Z"
   },
   {
    "duration": 49,
    "start_time": "2024-05-10T07:50:41.097Z"
   },
   {
    "duration": 10,
    "start_time": "2024-05-10T07:50:52.537Z"
   },
   {
    "duration": 3,
    "start_time": "2024-05-10T07:54:35.811Z"
   },
   {
    "duration": 14155,
    "start_time": "2024-05-10T07:54:42.735Z"
   },
   {
    "duration": 0,
    "start_time": "2024-05-10T07:54:56.893Z"
   },
   {
    "duration": 14328,
    "start_time": "2024-05-10T07:54:57.148Z"
   },
   {
    "duration": 920,
    "start_time": "2024-05-10T07:58:02.184Z"
   },
   {
    "duration": 4,
    "start_time": "2024-05-10T07:58:03.106Z"
   },
   {
    "duration": 34,
    "start_time": "2024-05-10T07:58:03.129Z"
   },
   {
    "duration": 12,
    "start_time": "2024-05-10T07:58:03.849Z"
   },
   {
    "duration": 3,
    "start_time": "2024-05-10T07:58:07.347Z"
   },
   {
    "duration": 14156,
    "start_time": "2024-05-10T07:58:13.871Z"
   },
   {
    "duration": 3,
    "start_time": "2024-05-10T08:01:51.301Z"
   },
   {
    "duration": 14277,
    "start_time": "2024-05-10T08:01:51.993Z"
   },
   {
    "duration": 584,
    "start_time": "2024-05-10T08:05:06.209Z"
   },
   {
    "duration": 14340,
    "start_time": "2024-05-10T08:05:33.302Z"
   },
   {
    "duration": 14234,
    "start_time": "2024-05-10T08:16:13.538Z"
   },
   {
    "duration": 17,
    "start_time": "2024-05-10T08:17:08.422Z"
   },
   {
    "duration": 11,
    "start_time": "2024-05-10T08:17:30.575Z"
   },
   {
    "duration": 14066,
    "start_time": "2024-05-10T08:17:42.378Z"
   },
   {
    "duration": 3,
    "start_time": "2024-05-10T08:20:04.095Z"
   },
   {
    "duration": 7754,
    "start_time": "2024-05-10T08:20:08.980Z"
   },
   {
    "duration": 559,
    "start_time": "2024-05-10T08:20:32.412Z"
   },
   {
    "duration": 3,
    "start_time": "2024-05-10T08:21:10.196Z"
   },
   {
    "duration": 666,
    "start_time": "2024-05-10T08:21:12.818Z"
   },
   {
    "duration": 3570,
    "start_time": "2024-05-10T08:21:22.535Z"
   },
   {
    "duration": 18,
    "start_time": "2024-05-10T08:21:30.865Z"
   },
   {
    "duration": 3,
    "start_time": "2024-05-10T08:21:35.280Z"
   },
   {
    "duration": 3711,
    "start_time": "2024-05-10T08:21:35.678Z"
   },
   {
    "duration": 17,
    "start_time": "2024-05-10T08:21:39.391Z"
   },
   {
    "duration": 17,
    "start_time": "2024-05-10T08:21:52.937Z"
   },
   {
    "duration": 3690,
    "start_time": "2024-05-10T08:22:03.190Z"
   },
   {
    "duration": 17,
    "start_time": "2024-05-10T08:22:12.077Z"
   },
   {
    "duration": 17,
    "start_time": "2024-05-10T08:22:23.883Z"
   },
   {
    "duration": 4,
    "start_time": "2024-05-10T08:22:56.222Z"
   },
   {
    "duration": 13504,
    "start_time": "2024-05-10T08:22:56.651Z"
   },
   {
    "duration": 21,
    "start_time": "2024-05-10T08:24:04.004Z"
   },
   {
    "duration": 9,
    "start_time": "2024-05-10T08:24:47.344Z"
   },
   {
    "duration": 29,
    "start_time": "2024-05-10T08:25:00.848Z"
   },
   {
    "duration": 28,
    "start_time": "2024-05-10T08:25:08.273Z"
   },
   {
    "duration": 20,
    "start_time": "2024-05-10T08:25:46.975Z"
   },
   {
    "duration": 9,
    "start_time": "2024-05-10T08:27:22.058Z"
   },
   {
    "duration": 19,
    "start_time": "2024-05-10T08:27:36.900Z"
   },
   {
    "duration": 4,
    "start_time": "2024-05-10T08:32:25.472Z"
   },
   {
    "duration": 13561,
    "start_time": "2024-05-10T08:32:25.989Z"
   },
   {
    "duration": 20,
    "start_time": "2024-05-10T08:32:45.514Z"
   },
   {
    "duration": 5,
    "start_time": "2024-05-10T08:58:47.397Z"
   },
   {
    "duration": 11,
    "start_time": "2024-05-10T08:59:31.457Z"
   },
   {
    "duration": 7,
    "start_time": "2024-05-10T09:02:22.567Z"
   },
   {
    "duration": 4,
    "start_time": "2024-05-10T09:03:33.968Z"
   },
   {
    "duration": 16,
    "start_time": "2024-05-10T09:03:36.080Z"
   },
   {
    "duration": 604,
    "start_time": "2024-05-10T09:04:10.011Z"
   },
   {
    "duration": 16,
    "start_time": "2024-05-10T09:04:23.031Z"
   },
   {
    "duration": 5,
    "start_time": "2024-05-10T09:05:01.295Z"
   },
   {
    "duration": 4,
    "start_time": "2024-05-10T09:05:29.814Z"
   },
   {
    "duration": 4618,
    "start_time": "2024-05-10T09:05:30.407Z"
   },
   {
    "duration": 21,
    "start_time": "2024-05-10T09:05:38.545Z"
   },
   {
    "duration": 19,
    "start_time": "2024-05-10T09:05:48.528Z"
   },
   {
    "duration": 6,
    "start_time": "2024-05-10T09:11:54.569Z"
   },
   {
    "duration": 13,
    "start_time": "2024-05-10T09:12:17.226Z"
   },
   {
    "duration": 5,
    "start_time": "2024-05-10T09:13:47.101Z"
   },
   {
    "duration": 7,
    "start_time": "2024-05-10T09:14:48.932Z"
   },
   {
    "duration": 5,
    "start_time": "2024-05-10T09:15:11.192Z"
   },
   {
    "duration": 8,
    "start_time": "2024-05-10T09:15:34.579Z"
   },
   {
    "duration": 4,
    "start_time": "2024-05-10T09:15:47.007Z"
   },
   {
    "duration": 5,
    "start_time": "2024-05-10T09:17:14.004Z"
   },
   {
    "duration": 6,
    "start_time": "2024-05-10T09:17:26.646Z"
   },
   {
    "duration": 8,
    "start_time": "2024-05-10T09:18:48.336Z"
   },
   {
    "duration": 4,
    "start_time": "2024-05-10T09:25:10.285Z"
   },
   {
    "duration": 4688,
    "start_time": "2024-05-10T09:25:11.252Z"
   },
   {
    "duration": 20,
    "start_time": "2024-05-10T09:25:15.943Z"
   },
   {
    "duration": 418,
    "start_time": "2024-05-10T09:25:25.167Z"
   },
   {
    "duration": 72,
    "start_time": "2024-05-10T09:25:25.587Z"
   },
   {
    "duration": 12,
    "start_time": "2024-05-10T09:25:25.660Z"
   },
   {
    "duration": 27,
    "start_time": "2024-05-10T09:25:25.674Z"
   },
   {
    "duration": 11,
    "start_time": "2024-05-10T09:25:25.704Z"
   },
   {
    "duration": 19,
    "start_time": "2024-05-10T09:25:25.717Z"
   },
   {
    "duration": 19,
    "start_time": "2024-05-10T09:25:25.737Z"
   },
   {
    "duration": 23,
    "start_time": "2024-05-10T09:25:25.758Z"
   },
   {
    "duration": 42,
    "start_time": "2024-05-10T09:25:25.783Z"
   },
   {
    "duration": 30,
    "start_time": "2024-05-10T09:25:25.826Z"
   },
   {
    "duration": 5,
    "start_time": "2024-05-10T09:25:25.858Z"
   },
   {
    "duration": 7,
    "start_time": "2024-05-10T09:25:25.865Z"
   },
   {
    "duration": 13,
    "start_time": "2024-05-10T09:25:25.873Z"
   },
   {
    "duration": 7,
    "start_time": "2024-05-10T09:25:25.891Z"
   },
   {
    "duration": 15,
    "start_time": "2024-05-10T09:25:25.899Z"
   },
   {
    "duration": 19,
    "start_time": "2024-05-10T09:25:25.916Z"
   },
   {
    "duration": 9,
    "start_time": "2024-05-10T09:25:25.937Z"
   },
   {
    "duration": 10,
    "start_time": "2024-05-10T09:25:25.948Z"
   },
   {
    "duration": 33,
    "start_time": "2024-05-10T09:25:25.960Z"
   },
   {
    "duration": 11,
    "start_time": "2024-05-10T09:25:25.995Z"
   },
   {
    "duration": 6,
    "start_time": "2024-05-10T09:25:26.007Z"
   },
   {
    "duration": 10,
    "start_time": "2024-05-10T09:25:26.028Z"
   },
   {
    "duration": 21,
    "start_time": "2024-05-10T09:25:26.040Z"
   },
   {
    "duration": 358,
    "start_time": "2024-05-10T09:25:26.063Z"
   },
   {
    "duration": 167,
    "start_time": "2024-05-10T09:25:26.428Z"
   },
   {
    "duration": 33,
    "start_time": "2024-05-10T09:25:26.597Z"
   },
   {
    "duration": 6,
    "start_time": "2024-05-10T09:25:26.632Z"
   },
   {
    "duration": 31,
    "start_time": "2024-05-10T09:25:26.639Z"
   },
   {
    "duration": 143,
    "start_time": "2024-05-10T09:25:26.672Z"
   },
   {
    "duration": 224,
    "start_time": "2024-05-10T09:25:26.817Z"
   },
   {
    "duration": 17,
    "start_time": "2024-05-10T09:25:27.043Z"
   },
   {
    "duration": 19,
    "start_time": "2024-05-10T09:25:27.062Z"
   },
   {
    "duration": 139,
    "start_time": "2024-05-10T09:25:27.083Z"
   },
   {
    "duration": 265,
    "start_time": "2024-05-10T09:25:27.223Z"
   },
   {
    "duration": 16,
    "start_time": "2024-05-10T09:25:27.490Z"
   },
   {
    "duration": 28,
    "start_time": "2024-05-10T09:25:27.508Z"
   },
   {
    "duration": 23,
    "start_time": "2024-05-10T09:25:27.539Z"
   },
   {
    "duration": 15,
    "start_time": "2024-05-10T09:25:27.564Z"
   },
   {
    "duration": 21,
    "start_time": "2024-05-10T09:25:27.581Z"
   },
   {
    "duration": 31,
    "start_time": "2024-05-10T09:25:27.604Z"
   },
   {
    "duration": 8,
    "start_time": "2024-05-10T09:25:27.639Z"
   },
   {
    "duration": 23,
    "start_time": "2024-05-10T09:25:27.648Z"
   },
   {
    "duration": 12,
    "start_time": "2024-05-10T09:25:27.673Z"
   },
   {
    "duration": 44,
    "start_time": "2024-05-10T09:25:27.687Z"
   },
   {
    "duration": 32,
    "start_time": "2024-05-10T09:25:27.733Z"
   },
   {
    "duration": 20,
    "start_time": "2024-05-10T09:25:27.767Z"
   },
   {
    "duration": 370,
    "start_time": "2024-05-10T09:25:27.789Z"
   },
   {
    "duration": 369,
    "start_time": "2024-05-10T09:25:28.160Z"
   },
   {
    "duration": 847,
    "start_time": "2024-05-10T09:25:28.530Z"
   },
   {
    "duration": 3,
    "start_time": "2024-05-10T09:25:29.379Z"
   },
   {
    "duration": 12,
    "start_time": "2024-05-10T09:25:29.383Z"
   },
   {
    "duration": 15,
    "start_time": "2024-05-10T09:25:29.397Z"
   },
   {
    "duration": 7,
    "start_time": "2024-05-10T09:25:29.414Z"
   },
   {
    "duration": 4529,
    "start_time": "2024-05-10T09:25:29.428Z"
   },
   {
    "duration": 20,
    "start_time": "2024-05-10T09:25:33.959Z"
   },
   {
    "duration": 41,
    "start_time": "2024-05-10T09:25:33.981Z"
   },
   {
    "duration": 29,
    "start_time": "2024-05-10T09:25:34.024Z"
   },
   {
    "duration": 439,
    "start_time": "2024-05-11T12:09:37.425Z"
   },
   {
    "duration": 69,
    "start_time": "2024-05-11T12:09:37.866Z"
   },
   {
    "duration": 12,
    "start_time": "2024-05-11T12:09:37.937Z"
   },
   {
    "duration": 32,
    "start_time": "2024-05-11T12:09:37.951Z"
   },
   {
    "duration": 12,
    "start_time": "2024-05-11T12:09:37.985Z"
   },
   {
    "duration": 9,
    "start_time": "2024-05-11T12:09:37.999Z"
   },
   {
    "duration": 20,
    "start_time": "2024-05-11T12:09:38.010Z"
   },
   {
    "duration": 20,
    "start_time": "2024-05-11T12:09:38.031Z"
   },
   {
    "duration": 12,
    "start_time": "2024-05-11T12:09:38.053Z"
   },
   {
    "duration": 7,
    "start_time": "2024-05-11T12:09:38.069Z"
   },
   {
    "duration": 14,
    "start_time": "2024-05-11T12:09:38.077Z"
   },
   {
    "duration": 7,
    "start_time": "2024-05-11T12:09:38.093Z"
   },
   {
    "duration": 23,
    "start_time": "2024-05-11T12:09:38.101Z"
   },
   {
    "duration": 7,
    "start_time": "2024-05-11T12:09:38.130Z"
   },
   {
    "duration": 15,
    "start_time": "2024-05-11T12:09:38.139Z"
   },
   {
    "duration": 27,
    "start_time": "2024-05-11T12:09:38.155Z"
   },
   {
    "duration": 21,
    "start_time": "2024-05-11T12:09:38.184Z"
   },
   {
    "duration": 14,
    "start_time": "2024-05-11T12:09:38.206Z"
   },
   {
    "duration": 34,
    "start_time": "2024-05-11T12:09:38.222Z"
   },
   {
    "duration": 29,
    "start_time": "2024-05-11T12:09:38.257Z"
   },
   {
    "duration": 7,
    "start_time": "2024-05-11T12:09:38.288Z"
   },
   {
    "duration": 9,
    "start_time": "2024-05-11T12:09:38.297Z"
   },
   {
    "duration": 15,
    "start_time": "2024-05-11T12:09:38.307Z"
   },
   {
    "duration": 367,
    "start_time": "2024-05-11T12:09:38.324Z"
   },
   {
    "duration": 147,
    "start_time": "2024-05-11T12:09:38.693Z"
   },
   {
    "duration": 15,
    "start_time": "2024-05-11T12:09:38.841Z"
   },
   {
    "duration": 10,
    "start_time": "2024-05-11T12:09:38.857Z"
   },
   {
    "duration": 21,
    "start_time": "2024-05-11T12:09:38.871Z"
   },
   {
    "duration": 138,
    "start_time": "2024-05-11T12:09:38.894Z"
   },
   {
    "duration": 198,
    "start_time": "2024-05-11T12:09:39.033Z"
   },
   {
    "duration": 14,
    "start_time": "2024-05-11T12:09:39.233Z"
   },
   {
    "duration": 10,
    "start_time": "2024-05-11T12:09:39.248Z"
   },
   {
    "duration": 136,
    "start_time": "2024-05-11T12:09:39.259Z"
   },
   {
    "duration": 268,
    "start_time": "2024-05-11T12:09:39.398Z"
   },
   {
    "duration": 15,
    "start_time": "2024-05-11T12:09:39.668Z"
   },
   {
    "duration": 7,
    "start_time": "2024-05-11T12:09:39.685Z"
   },
   {
    "duration": 16,
    "start_time": "2024-05-11T12:09:39.693Z"
   },
   {
    "duration": 10,
    "start_time": "2024-05-11T12:09:39.729Z"
   },
   {
    "duration": 26,
    "start_time": "2024-05-11T12:09:39.741Z"
   },
   {
    "duration": 16,
    "start_time": "2024-05-11T12:09:39.768Z"
   },
   {
    "duration": 8,
    "start_time": "2024-05-11T12:09:39.786Z"
   },
   {
    "duration": 15,
    "start_time": "2024-05-11T12:09:39.796Z"
   },
   {
    "duration": 12,
    "start_time": "2024-05-11T12:09:39.829Z"
   },
   {
    "duration": 33,
    "start_time": "2024-05-11T12:09:39.843Z"
   },
   {
    "duration": 27,
    "start_time": "2024-05-11T12:09:39.878Z"
   },
   {
    "duration": 40,
    "start_time": "2024-05-11T12:09:39.907Z"
   },
   {
    "duration": 344,
    "start_time": "2024-05-11T12:09:39.950Z"
   },
   {
    "duration": 348,
    "start_time": "2024-05-11T12:09:40.295Z"
   },
   {
    "duration": 868,
    "start_time": "2024-05-11T12:09:40.644Z"
   },
   {
    "duration": 3,
    "start_time": "2024-05-11T12:09:41.514Z"
   },
   {
    "duration": 27,
    "start_time": "2024-05-11T12:09:41.519Z"
   },
   {
    "duration": 28,
    "start_time": "2024-05-11T12:09:41.548Z"
   },
   {
    "duration": 15,
    "start_time": "2024-05-11T12:09:41.578Z"
   },
   {
    "duration": 4459,
    "start_time": "2024-05-11T12:09:41.595Z"
   },
   {
    "duration": 19,
    "start_time": "2024-05-11T12:09:46.056Z"
   },
   {
    "duration": 81,
    "start_time": "2024-05-11T12:29:46.262Z"
   },
   {
    "duration": 9,
    "start_time": "2024-05-11T12:30:27.799Z"
   },
   {
    "duration": 522,
    "start_time": "2024-05-11T12:30:33.431Z"
   },
   {
    "duration": 37,
    "start_time": "2024-05-11T12:30:36.832Z"
   },
   {
    "duration": 6,
    "start_time": "2024-05-11T12:30:44.678Z"
   },
   {
    "duration": 7,
    "start_time": "2024-05-11T12:30:50.561Z"
   },
   {
    "duration": 5,
    "start_time": "2024-05-11T12:30:52.657Z"
   },
   {
    "duration": 47,
    "start_time": "2024-05-11T12:47:31.325Z"
   },
   {
    "duration": 5,
    "start_time": "2024-05-11T12:47:44.735Z"
   },
   {
    "duration": 7,
    "start_time": "2024-05-11T12:48:08.342Z"
   },
   {
    "duration": 5,
    "start_time": "2024-05-11T12:48:16.519Z"
   },
   {
    "duration": 4,
    "start_time": "2024-05-11T12:48:39.271Z"
   },
   {
    "duration": 5,
    "start_time": "2024-05-11T12:48:40.968Z"
   },
   {
    "duration": 5,
    "start_time": "2024-05-11T12:49:00.817Z"
   },
   {
    "duration": 6,
    "start_time": "2024-05-11T12:55:59.035Z"
   },
   {
    "duration": 4,
    "start_time": "2024-05-11T12:57:37.780Z"
   },
   {
    "duration": 11,
    "start_time": "2024-05-11T13:04:52.543Z"
   },
   {
    "duration": 6,
    "start_time": "2024-05-11T13:09:18.241Z"
   },
   {
    "duration": 8,
    "start_time": "2024-05-11T14:52:16.432Z"
   },
   {
    "duration": 39,
    "start_time": "2024-05-11T14:53:15.871Z"
   },
   {
    "duration": 12,
    "start_time": "2024-05-11T15:14:55.717Z"
   },
   {
    "duration": 3,
    "start_time": "2024-05-11T15:15:35.463Z"
   },
   {
    "duration": 174,
    "start_time": "2024-05-11T15:15:43.465Z"
   },
   {
    "duration": 3,
    "start_time": "2024-05-11T15:15:59.095Z"
   },
   {
    "duration": 124,
    "start_time": "2024-05-11T15:16:03.346Z"
   },
   {
    "duration": 1675,
    "start_time": "2024-05-11T15:16:19.359Z"
   },
   {
    "duration": 272,
    "start_time": "2024-05-11T15:16:53.641Z"
   },
   {
    "duration": 1691,
    "start_time": "2024-05-11T15:17:04.526Z"
   },
   {
    "duration": 1835,
    "start_time": "2024-05-11T15:17:15.515Z"
   },
   {
    "duration": 1728,
    "start_time": "2024-05-11T15:17:22.548Z"
   },
   {
    "duration": 1811,
    "start_time": "2024-05-11T15:34:48.950Z"
   },
   {
    "duration": 17,
    "start_time": "2024-05-11T15:53:49.647Z"
   },
   {
    "duration": 13,
    "start_time": "2024-05-11T15:53:55.247Z"
   },
   {
    "duration": 14,
    "start_time": "2024-05-11T15:54:09.864Z"
   },
   {
    "duration": 12,
    "start_time": "2024-05-11T15:54:21.982Z"
   },
   {
    "duration": 611,
    "start_time": "2024-05-11T15:54:31.284Z"
   },
   {
    "duration": 8,
    "start_time": "2024-05-11T15:55:15.199Z"
   },
   {
    "duration": 8,
    "start_time": "2024-05-11T15:55:25.754Z"
   },
   {
    "duration": 6,
    "start_time": "2024-05-11T15:55:32.238Z"
   },
   {
    "duration": 6,
    "start_time": "2024-05-11T15:57:20.468Z"
   },
   {
    "duration": 9,
    "start_time": "2024-05-11T16:01:55.500Z"
   },
   {
    "duration": 6,
    "start_time": "2024-05-11T16:02:44.970Z"
   },
   {
    "duration": 6,
    "start_time": "2024-05-11T16:02:57.320Z"
   },
   {
    "duration": 5,
    "start_time": "2024-05-11T16:03:02.593Z"
   },
   {
    "duration": 6,
    "start_time": "2024-05-11T16:03:14.548Z"
   },
   {
    "duration": 6,
    "start_time": "2024-05-11T16:03:20.957Z"
   },
   {
    "duration": 5,
    "start_time": "2024-05-11T16:07:51.869Z"
   },
   {
    "duration": 5,
    "start_time": "2024-05-11T16:07:58.688Z"
   },
   {
    "duration": 5,
    "start_time": "2024-05-11T16:08:03.332Z"
   },
   {
    "duration": 5,
    "start_time": "2024-05-11T16:08:07.625Z"
   },
   {
    "duration": 5,
    "start_time": "2024-05-11T16:09:07.101Z"
   },
   {
    "duration": 134,
    "start_time": "2024-05-11T16:13:58.357Z"
   },
   {
    "duration": 134,
    "start_time": "2024-05-11T16:14:11.589Z"
   },
   {
    "duration": 240,
    "start_time": "2024-05-11T16:14:20.028Z"
   },
   {
    "duration": 51,
    "start_time": "2024-05-12T11:16:45.083Z"
   },
   {
    "duration": 1239,
    "start_time": "2024-05-12T11:16:57.272Z"
   },
   {
    "duration": 63,
    "start_time": "2024-05-12T11:17:01.091Z"
   },
   {
    "duration": 325,
    "start_time": "2024-05-12T11:17:11.447Z"
   },
   {
    "duration": 125,
    "start_time": "2024-05-12T11:17:19.828Z"
   },
   {
    "duration": 147,
    "start_time": "2024-05-12T11:18:44.698Z"
   },
   {
    "duration": 154,
    "start_time": "2024-05-12T11:20:36.733Z"
   },
   {
    "duration": 36,
    "start_time": "2024-05-12T11:23:09.081Z"
   },
   {
    "duration": 77,
    "start_time": "2024-05-12T11:25:18.652Z"
   },
   {
    "duration": 26,
    "start_time": "2024-05-12T11:25:47.992Z"
   },
   {
    "duration": 46,
    "start_time": "2024-05-12T11:26:25.882Z"
   },
   {
    "duration": 9,
    "start_time": "2024-05-12T11:30:05.015Z"
   },
   {
    "duration": 4,
    "start_time": "2024-05-12T11:30:18.721Z"
   },
   {
    "duration": 8,
    "start_time": "2024-05-12T11:30:21.958Z"
   },
   {
    "duration": 59,
    "start_time": "2024-05-12T11:30:31.623Z"
   },
   {
    "duration": 149,
    "start_time": "2024-05-12T11:30:35.406Z"
   },
   {
    "duration": 347,
    "start_time": "2024-05-12T11:30:49.842Z"
   },
   {
    "duration": 342,
    "start_time": "2024-05-12T11:31:07.334Z"
   },
   {
    "duration": 345,
    "start_time": "2024-05-12T11:31:24.756Z"
   },
   {
    "duration": 331,
    "start_time": "2024-05-12T11:31:56.896Z"
   },
   {
    "duration": 13,
    "start_time": "2024-05-12T11:32:22.857Z"
   },
   {
    "duration": 359,
    "start_time": "2024-05-12T11:32:34.822Z"
   },
   {
    "duration": 399,
    "start_time": "2024-05-12T11:32:46.992Z"
   },
   {
    "duration": 357,
    "start_time": "2024-05-12T11:35:19.865Z"
   },
   {
    "duration": 369,
    "start_time": "2024-05-12T11:35:45.225Z"
   },
   {
    "duration": 3,
    "start_time": "2024-05-12T11:37:01.853Z"
   },
   {
    "duration": 5,
    "start_time": "2024-05-12T11:37:07.892Z"
   },
   {
    "duration": 5,
    "start_time": "2024-05-12T11:37:15.234Z"
   },
   {
    "duration": 4,
    "start_time": "2024-05-12T11:37:22.239Z"
   },
   {
    "duration": 4,
    "start_time": "2024-05-12T11:37:33.461Z"
   },
   {
    "duration": 4,
    "start_time": "2024-05-12T11:37:36.724Z"
   },
   {
    "duration": 4,
    "start_time": "2024-05-12T11:37:39.341Z"
   },
   {
    "duration": 5,
    "start_time": "2024-05-12T11:38:37.896Z"
   },
   {
    "duration": 8,
    "start_time": "2024-05-12T11:38:45.782Z"
   },
   {
    "duration": 14,
    "start_time": "2024-05-12T11:39:02.198Z"
   },
   {
    "duration": 7,
    "start_time": "2024-05-12T11:39:08.071Z"
   },
   {
    "duration": 6,
    "start_time": "2024-05-12T11:39:41.433Z"
   },
   {
    "duration": 395,
    "start_time": "2024-05-12T11:41:35.921Z"
   },
   {
    "duration": 7,
    "start_time": "2024-05-12T11:41:53.585Z"
   },
   {
    "duration": 5,
    "start_time": "2024-05-12T11:41:57.731Z"
   },
   {
    "duration": 8,
    "start_time": "2024-05-12T11:42:40.285Z"
   },
   {
    "duration": 319,
    "start_time": "2024-05-12T11:42:49.978Z"
   },
   {
    "duration": 327,
    "start_time": "2024-05-12T11:42:54.501Z"
   },
   {
    "duration": 388,
    "start_time": "2024-05-12T11:43:01.408Z"
   },
   {
    "duration": 374,
    "start_time": "2024-05-12T11:43:07.663Z"
   },
   {
    "duration": 381,
    "start_time": "2024-05-12T11:43:17.035Z"
   },
   {
    "duration": 468,
    "start_time": "2024-05-12T11:43:29.928Z"
   },
   {
    "duration": 328,
    "start_time": "2024-05-12T11:44:02.776Z"
   },
   {
    "duration": 292,
    "start_time": "2024-05-12T11:44:10.680Z"
   },
   {
    "duration": 321,
    "start_time": "2024-05-12T11:44:33.983Z"
   },
   {
    "duration": 341,
    "start_time": "2024-05-12T11:44:48.731Z"
   },
   {
    "duration": 344,
    "start_time": "2024-05-12T11:45:18.028Z"
   },
   {
    "duration": 319,
    "start_time": "2024-05-12T11:45:22.999Z"
   },
   {
    "duration": 405,
    "start_time": "2024-05-12T11:45:29.601Z"
   },
   {
    "duration": 430,
    "start_time": "2024-05-12T11:46:01.191Z"
   },
   {
    "duration": 343,
    "start_time": "2024-05-12T11:46:46.468Z"
   },
   {
    "duration": 457,
    "start_time": "2024-05-12T11:47:27.429Z"
   },
   {
    "duration": 340,
    "start_time": "2024-05-12T11:49:31.519Z"
   },
   {
    "duration": 307,
    "start_time": "2024-05-12T11:52:53.567Z"
   },
   {
    "duration": 280,
    "start_time": "2024-05-12T11:53:30.074Z"
   },
   {
    "duration": 583,
    "start_time": "2024-05-12T11:53:36.231Z"
   },
   {
    "duration": 48,
    "start_time": "2024-05-12T11:54:32.889Z"
   },
   {
    "duration": 1354,
    "start_time": "2024-05-12T11:54:40.381Z"
   },
   {
    "duration": 306,
    "start_time": "2024-05-12T11:54:41.737Z"
   },
   {
    "duration": 11,
    "start_time": "2024-05-12T11:54:42.045Z"
   },
   {
    "duration": 12,
    "start_time": "2024-05-12T11:54:42.059Z"
   },
   {
    "duration": 12,
    "start_time": "2024-05-12T11:54:42.073Z"
   },
   {
    "duration": 9,
    "start_time": "2024-05-12T11:54:42.087Z"
   },
   {
    "duration": 12,
    "start_time": "2024-05-12T11:54:42.098Z"
   },
   {
    "duration": 12,
    "start_time": "2024-05-12T11:54:42.112Z"
   },
   {
    "duration": 14,
    "start_time": "2024-05-12T11:54:42.126Z"
   },
   {
    "duration": 35,
    "start_time": "2024-05-12T11:54:42.142Z"
   },
   {
    "duration": 7,
    "start_time": "2024-05-12T11:54:42.179Z"
   },
   {
    "duration": 6,
    "start_time": "2024-05-12T11:54:42.188Z"
   },
   {
    "duration": 11,
    "start_time": "2024-05-12T11:54:42.197Z"
   },
   {
    "duration": 10,
    "start_time": "2024-05-12T11:54:42.209Z"
   },
   {
    "duration": 7,
    "start_time": "2024-05-12T11:54:42.222Z"
   },
   {
    "duration": 46,
    "start_time": "2024-05-12T11:54:42.231Z"
   },
   {
    "duration": 8,
    "start_time": "2024-05-12T11:54:42.280Z"
   },
   {
    "duration": 9,
    "start_time": "2024-05-12T11:54:42.290Z"
   },
   {
    "duration": 28,
    "start_time": "2024-05-12T11:54:42.301Z"
   },
   {
    "duration": 21,
    "start_time": "2024-05-12T11:54:42.331Z"
   },
   {
    "duration": 6,
    "start_time": "2024-05-12T11:54:42.353Z"
   },
   {
    "duration": 11,
    "start_time": "2024-05-12T11:54:42.360Z"
   },
   {
    "duration": 20,
    "start_time": "2024-05-12T11:54:42.373Z"
   },
   {
    "duration": 141,
    "start_time": "2024-05-12T11:54:42.394Z"
   },
   {
    "duration": 161,
    "start_time": "2024-05-12T11:54:42.537Z"
   },
   {
    "duration": 16,
    "start_time": "2024-05-12T11:54:42.699Z"
   },
   {
    "duration": 19,
    "start_time": "2024-05-12T11:54:42.717Z"
   },
   {
    "duration": 33,
    "start_time": "2024-05-12T11:54:42.740Z"
   },
   {
    "duration": 169,
    "start_time": "2024-05-12T11:54:42.775Z"
   },
   {
    "duration": 249,
    "start_time": "2024-05-12T11:54:42.946Z"
   },
   {
    "duration": 15,
    "start_time": "2024-05-12T11:54:43.197Z"
   },
   {
    "duration": 13,
    "start_time": "2024-05-12T11:54:43.214Z"
   },
   {
    "duration": 154,
    "start_time": "2024-05-12T11:54:43.229Z"
   },
   {
    "duration": 215,
    "start_time": "2024-05-12T11:54:43.386Z"
   },
   {
    "duration": 15,
    "start_time": "2024-05-12T11:54:43.602Z"
   },
   {
    "duration": 4,
    "start_time": "2024-05-12T11:54:43.619Z"
   },
   {
    "duration": 12,
    "start_time": "2024-05-12T11:54:43.625Z"
   },
   {
    "duration": 42,
    "start_time": "2024-05-12T11:54:43.639Z"
   },
   {
    "duration": 20,
    "start_time": "2024-05-12T11:54:43.684Z"
   },
   {
    "duration": 17,
    "start_time": "2024-05-12T11:54:43.705Z"
   },
   {
    "duration": 13,
    "start_time": "2024-05-12T11:54:43.723Z"
   },
   {
    "duration": 41,
    "start_time": "2024-05-12T11:54:43.737Z"
   },
   {
    "duration": 11,
    "start_time": "2024-05-12T11:54:43.780Z"
   },
   {
    "duration": 22,
    "start_time": "2024-05-12T11:54:43.793Z"
   },
   {
    "duration": 61,
    "start_time": "2024-05-12T11:54:43.817Z"
   },
   {
    "duration": 24,
    "start_time": "2024-05-12T11:54:43.880Z"
   },
   {
    "duration": 396,
    "start_time": "2024-05-12T11:54:43.906Z"
   },
   {
    "duration": 438,
    "start_time": "2024-05-12T11:54:44.304Z"
   },
   {
    "duration": 887,
    "start_time": "2024-05-12T11:54:44.744Z"
   },
   {
    "duration": 3,
    "start_time": "2024-05-12T11:54:45.633Z"
   },
   {
    "duration": 31,
    "start_time": "2024-05-12T11:54:45.637Z"
   },
   {
    "duration": 17,
    "start_time": "2024-05-12T11:54:45.670Z"
   },
   {
    "duration": 20,
    "start_time": "2024-05-12T11:54:45.689Z"
   },
   {
    "duration": 4571,
    "start_time": "2024-05-12T11:54:45.711Z"
   },
   {
    "duration": 20,
    "start_time": "2024-05-12T11:54:50.283Z"
   },
   {
    "duration": 14,
    "start_time": "2024-05-12T11:54:50.304Z"
   },
   {
    "duration": 14,
    "start_time": "2024-05-12T11:54:50.319Z"
   },
   {
    "duration": 16,
    "start_time": "2024-05-12T11:54:50.334Z"
   },
   {
    "duration": 19,
    "start_time": "2024-05-12T11:54:50.351Z"
   },
   {
    "duration": 36,
    "start_time": "2024-05-12T11:54:50.373Z"
   },
   {
    "duration": 397,
    "start_time": "2024-05-12T11:54:50.411Z"
   },
   {
    "duration": 6,
    "start_time": "2024-05-12T11:54:50.809Z"
   },
   {
    "duration": 333,
    "start_time": "2024-05-12T11:55:07.410Z"
   },
   {
    "duration": 357,
    "start_time": "2024-05-12T11:55:17.926Z"
   },
   {
    "duration": 4,
    "start_time": "2024-05-12T11:58:49.392Z"
   },
   {
    "duration": 4,
    "start_time": "2024-05-12T12:00:27.902Z"
   },
   {
    "duration": 4,
    "start_time": "2024-05-12T12:00:38.108Z"
   },
   {
    "duration": 29,
    "start_time": "2024-05-12T12:02:21.729Z"
   },
   {
    "duration": 4,
    "start_time": "2024-05-12T12:02:28.408Z"
   },
   {
    "duration": 4,
    "start_time": "2024-05-12T12:02:34.841Z"
   },
   {
    "duration": 26,
    "start_time": "2024-05-12T12:03:30.692Z"
   },
   {
    "duration": 71,
    "start_time": "2024-05-12T12:03:48.194Z"
   },
   {
    "duration": 65,
    "start_time": "2024-05-12T12:03:55.799Z"
   },
   {
    "duration": 73,
    "start_time": "2024-05-12T12:04:19.728Z"
   },
   {
    "duration": 26,
    "start_time": "2024-05-12T12:04:36.099Z"
   },
   {
    "duration": 55,
    "start_time": "2024-05-12T12:04:48.179Z"
   },
   {
    "duration": 1263,
    "start_time": "2024-05-12T12:04:58.978Z"
   },
   {
    "duration": 69,
    "start_time": "2024-05-12T12:05:00.243Z"
   },
   {
    "duration": 105,
    "start_time": "2024-05-12T12:05:00.314Z"
   },
   {
    "duration": 41,
    "start_time": "2024-05-12T12:05:00.422Z"
   },
   {
    "duration": 61,
    "start_time": "2024-05-12T12:05:00.465Z"
   },
   {
    "duration": 48,
    "start_time": "2024-05-12T12:05:00.528Z"
   },
   {
    "duration": 24,
    "start_time": "2024-05-12T12:05:00.578Z"
   },
   {
    "duration": 30,
    "start_time": "2024-05-12T12:05:00.604Z"
   },
   {
    "duration": 36,
    "start_time": "2024-05-12T12:05:00.636Z"
   },
   {
    "duration": 44,
    "start_time": "2024-05-12T12:05:00.677Z"
   },
   {
    "duration": 55,
    "start_time": "2024-05-12T12:05:00.723Z"
   },
   {
    "duration": 55,
    "start_time": "2024-05-12T12:05:00.780Z"
   },
   {
    "duration": 81,
    "start_time": "2024-05-12T12:05:00.837Z"
   },
   {
    "duration": 89,
    "start_time": "2024-05-12T12:05:00.919Z"
   },
   {
    "duration": 58,
    "start_time": "2024-05-12T12:05:01.010Z"
   },
   {
    "duration": 63,
    "start_time": "2024-05-12T12:05:01.069Z"
   },
   {
    "duration": 74,
    "start_time": "2024-05-12T12:05:01.134Z"
   },
   {
    "duration": 39,
    "start_time": "2024-05-12T12:05:01.209Z"
   },
   {
    "duration": 51,
    "start_time": "2024-05-12T12:05:01.250Z"
   },
   {
    "duration": 153,
    "start_time": "2024-05-12T12:05:01.302Z"
   },
   {
    "duration": 76,
    "start_time": "2024-05-12T12:05:01.457Z"
   },
   {
    "duration": 114,
    "start_time": "2024-05-12T12:05:01.534Z"
   },
   {
    "duration": 68,
    "start_time": "2024-05-12T12:05:01.650Z"
   },
   {
    "duration": 239,
    "start_time": "2024-05-12T12:05:01.720Z"
   },
   {
    "duration": 176,
    "start_time": "2024-05-12T12:05:01.961Z"
   },
   {
    "duration": 16,
    "start_time": "2024-05-12T12:05:02.139Z"
   },
   {
    "duration": 86,
    "start_time": "2024-05-12T12:05:02.156Z"
   },
   {
    "duration": 89,
    "start_time": "2024-05-12T12:05:02.246Z"
   },
   {
    "duration": 200,
    "start_time": "2024-05-12T12:05:02.337Z"
   },
   {
    "duration": 187,
    "start_time": "2024-05-12T12:05:02.538Z"
   },
   {
    "duration": 16,
    "start_time": "2024-05-12T12:05:02.727Z"
   },
   {
    "duration": 34,
    "start_time": "2024-05-12T12:05:02.744Z"
   },
   {
    "duration": 137,
    "start_time": "2024-05-12T12:05:02.781Z"
   },
   {
    "duration": 213,
    "start_time": "2024-05-12T12:05:02.920Z"
   },
   {
    "duration": 14,
    "start_time": "2024-05-12T12:05:03.135Z"
   },
   {
    "duration": 38,
    "start_time": "2024-05-12T12:05:03.150Z"
   },
   {
    "duration": 22,
    "start_time": "2024-05-12T12:05:03.190Z"
   },
   {
    "duration": 29,
    "start_time": "2024-05-12T12:05:03.214Z"
   },
   {
    "duration": 46,
    "start_time": "2024-05-12T12:05:03.245Z"
   },
   {
    "duration": 24,
    "start_time": "2024-05-12T12:05:03.293Z"
   },
   {
    "duration": 26,
    "start_time": "2024-05-12T12:05:03.318Z"
   },
   {
    "duration": 53,
    "start_time": "2024-05-12T12:05:03.346Z"
   },
   {
    "duration": 26,
    "start_time": "2024-05-12T12:05:03.401Z"
   },
   {
    "duration": 33,
    "start_time": "2024-05-12T12:05:03.429Z"
   },
   {
    "duration": 29,
    "start_time": "2024-05-12T12:05:03.464Z"
   },
   {
    "duration": 22,
    "start_time": "2024-05-12T12:05:03.494Z"
   },
   {
    "duration": 367,
    "start_time": "2024-05-12T12:05:03.518Z"
   },
   {
    "duration": 453,
    "start_time": "2024-05-12T12:05:03.887Z"
   },
   {
    "duration": 869,
    "start_time": "2024-05-12T12:05:04.342Z"
   },
   {
    "duration": 3,
    "start_time": "2024-05-12T12:05:05.213Z"
   },
   {
    "duration": 40,
    "start_time": "2024-05-12T12:05:05.218Z"
   },
   {
    "duration": 18,
    "start_time": "2024-05-12T12:05:05.259Z"
   },
   {
    "duration": 37,
    "start_time": "2024-05-12T12:05:05.279Z"
   },
   {
    "duration": 4587,
    "start_time": "2024-05-12T12:05:05.318Z"
   },
   {
    "duration": 18,
    "start_time": "2024-05-12T12:05:09.907Z"
   },
   {
    "duration": 4,
    "start_time": "2024-05-12T12:05:09.926Z"
   },
   {
    "duration": 7,
    "start_time": "2024-05-12T12:05:09.932Z"
   },
   {
    "duration": 30,
    "start_time": "2024-05-12T12:05:09.940Z"
   },
   {
    "duration": 15,
    "start_time": "2024-05-12T12:05:09.972Z"
   },
   {
    "duration": 219,
    "start_time": "2024-05-12T12:05:09.989Z"
   },
   {
    "duration": 0,
    "start_time": "2024-05-12T12:05:10.210Z"
   },
   {
    "duration": 46,
    "start_time": "2024-05-12T12:05:29.202Z"
   },
   {
    "duration": 179,
    "start_time": "2024-05-12T12:05:36.135Z"
   },
   {
    "duration": 310,
    "start_time": "2024-05-12T12:05:51.796Z"
   },
   {
    "duration": 508,
    "start_time": "2024-05-12T12:06:08.954Z"
   },
   {
    "duration": 347,
    "start_time": "2024-05-12T12:07:20.585Z"
   },
   {
    "duration": 357,
    "start_time": "2024-05-12T12:08:53.280Z"
   },
   {
    "duration": 360,
    "start_time": "2024-05-12T12:51:06.780Z"
   },
   {
    "duration": 395,
    "start_time": "2024-05-12T12:51:48.801Z"
   },
   {
    "duration": 359,
    "start_time": "2024-05-12T12:51:59.443Z"
   },
   {
    "duration": 4,
    "start_time": "2024-05-12T13:07:46.608Z"
   },
   {
    "duration": 5,
    "start_time": "2024-05-12T13:07:51.626Z"
   },
   {
    "duration": 5,
    "start_time": "2024-05-12T13:07:58.320Z"
   },
   {
    "duration": 4,
    "start_time": "2024-05-12T13:08:07.236Z"
   },
   {
    "duration": 11,
    "start_time": "2024-05-12T13:08:10.468Z"
   },
   {
    "duration": 4,
    "start_time": "2024-05-12T13:08:18.035Z"
   },
   {
    "duration": 5,
    "start_time": "2024-05-12T13:08:23.107Z"
   },
   {
    "duration": 5,
    "start_time": "2024-05-12T13:08:29.246Z"
   },
   {
    "duration": 5,
    "start_time": "2024-05-12T13:08:41.888Z"
   },
   {
    "duration": 4,
    "start_time": "2024-05-12T13:08:48.846Z"
   },
   {
    "duration": 5,
    "start_time": "2024-05-12T13:08:54.217Z"
   },
   {
    "duration": 530,
    "start_time": "2024-05-12T13:11:51.141Z"
   },
   {
    "duration": 435,
    "start_time": "2024-05-12T13:11:58.262Z"
   },
   {
    "duration": 404,
    "start_time": "2024-05-12T13:12:04.402Z"
   },
   {
    "duration": 392,
    "start_time": "2024-05-12T13:12:56.249Z"
   },
   {
    "duration": 10,
    "start_time": "2024-05-12T13:13:09.323Z"
   },
   {
    "duration": 9,
    "start_time": "2024-05-12T13:13:18.435Z"
   },
   {
    "duration": 12,
    "start_time": "2024-05-12T13:13:51.508Z"
   },
   {
    "duration": 1156,
    "start_time": "2024-05-12T13:13:56.672Z"
   },
   {
    "duration": 84,
    "start_time": "2024-05-12T13:13:57.830Z"
   },
   {
    "duration": 10,
    "start_time": "2024-05-12T13:13:57.916Z"
   },
   {
    "duration": 18,
    "start_time": "2024-05-12T13:13:57.928Z"
   },
   {
    "duration": 9,
    "start_time": "2024-05-12T13:13:57.949Z"
   },
   {
    "duration": 9,
    "start_time": "2024-05-12T13:13:57.960Z"
   },
   {
    "duration": 19,
    "start_time": "2024-05-12T13:13:57.970Z"
   },
   {
    "duration": 11,
    "start_time": "2024-05-12T13:13:57.991Z"
   },
   {
    "duration": 14,
    "start_time": "2024-05-12T13:13:58.004Z"
   },
   {
    "duration": 20,
    "start_time": "2024-05-12T13:13:58.020Z"
   },
   {
    "duration": 6,
    "start_time": "2024-05-12T13:13:58.041Z"
   },
   {
    "duration": 9,
    "start_time": "2024-05-12T13:13:58.049Z"
   },
   {
    "duration": 9,
    "start_time": "2024-05-12T13:13:58.059Z"
   },
   {
    "duration": 21,
    "start_time": "2024-05-12T13:13:58.072Z"
   },
   {
    "duration": 5,
    "start_time": "2024-05-12T13:13:58.096Z"
   },
   {
    "duration": 13,
    "start_time": "2024-05-12T13:13:58.102Z"
   },
   {
    "duration": 11,
    "start_time": "2024-05-12T13:13:58.117Z"
   },
   {
    "duration": 14,
    "start_time": "2024-05-12T13:13:58.130Z"
   },
   {
    "duration": 17,
    "start_time": "2024-05-12T13:13:58.146Z"
   },
   {
    "duration": 20,
    "start_time": "2024-05-12T13:13:58.165Z"
   },
   {
    "duration": 9,
    "start_time": "2024-05-12T13:13:58.189Z"
   },
   {
    "duration": 8,
    "start_time": "2024-05-12T13:13:58.200Z"
   },
   {
    "duration": 16,
    "start_time": "2024-05-12T13:13:58.209Z"
   },
   {
    "duration": 114,
    "start_time": "2024-05-12T13:13:58.226Z"
   },
   {
    "duration": 144,
    "start_time": "2024-05-12T13:13:58.342Z"
   },
   {
    "duration": 17,
    "start_time": "2024-05-12T13:13:58.487Z"
   },
   {
    "duration": 17,
    "start_time": "2024-05-12T13:13:58.505Z"
   },
   {
    "duration": 34,
    "start_time": "2024-05-12T13:13:58.524Z"
   },
   {
    "duration": 141,
    "start_time": "2024-05-12T13:13:58.560Z"
   },
   {
    "duration": 210,
    "start_time": "2024-05-12T13:13:58.702Z"
   },
   {
    "duration": 14,
    "start_time": "2024-05-12T13:13:58.914Z"
   },
   {
    "duration": 14,
    "start_time": "2024-05-12T13:13:58.930Z"
   },
   {
    "duration": 151,
    "start_time": "2024-05-12T13:13:58.945Z"
   },
   {
    "duration": 206,
    "start_time": "2024-05-12T13:13:59.097Z"
   },
   {
    "duration": 14,
    "start_time": "2024-05-12T13:13:59.305Z"
   },
   {
    "duration": 5,
    "start_time": "2024-05-12T13:13:59.321Z"
   },
   {
    "duration": 18,
    "start_time": "2024-05-12T13:13:59.327Z"
   },
   {
    "duration": 31,
    "start_time": "2024-05-12T13:13:59.346Z"
   },
   {
    "duration": 20,
    "start_time": "2024-05-12T13:13:59.379Z"
   },
   {
    "duration": 15,
    "start_time": "2024-05-12T13:13:59.401Z"
   },
   {
    "duration": 22,
    "start_time": "2024-05-12T13:13:59.420Z"
   },
   {
    "duration": 30,
    "start_time": "2024-05-12T13:13:59.444Z"
   },
   {
    "duration": 25,
    "start_time": "2024-05-12T13:13:59.476Z"
   },
   {
    "duration": 25,
    "start_time": "2024-05-12T13:13:59.503Z"
   },
   {
    "duration": 26,
    "start_time": "2024-05-12T13:13:59.530Z"
   },
   {
    "duration": 27,
    "start_time": "2024-05-12T13:13:59.558Z"
   },
   {
    "duration": 359,
    "start_time": "2024-05-12T13:13:59.587Z"
   },
   {
    "duration": 446,
    "start_time": "2024-05-12T13:13:59.948Z"
   },
   {
    "duration": 908,
    "start_time": "2024-05-12T13:14:00.396Z"
   },
   {
    "duration": 3,
    "start_time": "2024-05-12T13:14:01.306Z"
   },
   {
    "duration": 46,
    "start_time": "2024-05-12T13:14:01.310Z"
   },
   {
    "duration": 77,
    "start_time": "2024-05-12T13:14:01.358Z"
   },
   {
    "duration": 53,
    "start_time": "2024-05-12T13:14:01.437Z"
   },
   {
    "duration": 4557,
    "start_time": "2024-05-12T13:14:01.492Z"
   },
   {
    "duration": 24,
    "start_time": "2024-05-12T13:14:06.051Z"
   },
   {
    "duration": 43,
    "start_time": "2024-05-12T13:14:06.077Z"
   },
   {
    "duration": 34,
    "start_time": "2024-05-12T13:14:06.123Z"
   },
   {
    "duration": 36,
    "start_time": "2024-05-12T13:14:06.159Z"
   },
   {
    "duration": 41,
    "start_time": "2024-05-12T13:14:06.197Z"
   },
   {
    "duration": 411,
    "start_time": "2024-05-12T13:14:06.240Z"
   },
   {
    "duration": 5,
    "start_time": "2024-05-12T13:14:06.653Z"
   },
   {
    "duration": 1178,
    "start_time": "2024-05-12T13:14:30.221Z"
   },
   {
    "duration": 69,
    "start_time": "2024-05-12T13:14:31.401Z"
   },
   {
    "duration": 77,
    "start_time": "2024-05-12T13:14:31.472Z"
   },
   {
    "duration": 94,
    "start_time": "2024-05-12T13:14:31.551Z"
   },
   {
    "duration": 53,
    "start_time": "2024-05-12T13:14:31.648Z"
   },
   {
    "duration": 37,
    "start_time": "2024-05-12T13:14:31.703Z"
   },
   {
    "duration": 69,
    "start_time": "2024-05-12T13:14:31.741Z"
   },
   {
    "duration": 57,
    "start_time": "2024-05-12T13:14:31.811Z"
   },
   {
    "duration": 30,
    "start_time": "2024-05-12T13:14:31.870Z"
   },
   {
    "duration": 55,
    "start_time": "2024-05-12T13:14:31.901Z"
   },
   {
    "duration": 41,
    "start_time": "2024-05-12T13:14:31.958Z"
   },
   {
    "duration": 44,
    "start_time": "2024-05-12T13:14:32.001Z"
   },
   {
    "duration": 36,
    "start_time": "2024-05-12T13:14:32.046Z"
   },
   {
    "duration": 40,
    "start_time": "2024-05-12T13:14:32.086Z"
   },
   {
    "duration": 50,
    "start_time": "2024-05-12T13:14:32.128Z"
   },
   {
    "duration": 24,
    "start_time": "2024-05-12T13:14:32.180Z"
   },
   {
    "duration": 19,
    "start_time": "2024-05-12T13:14:32.208Z"
   },
   {
    "duration": 7,
    "start_time": "2024-05-12T13:14:32.229Z"
   },
   {
    "duration": 11,
    "start_time": "2024-05-12T13:14:32.237Z"
   },
   {
    "duration": 11,
    "start_time": "2024-05-12T13:14:32.250Z"
   },
   {
    "duration": 13,
    "start_time": "2024-05-12T13:14:32.263Z"
   },
   {
    "duration": 21,
    "start_time": "2024-05-12T13:14:32.278Z"
   },
   {
    "duration": 8,
    "start_time": "2024-05-12T13:14:32.301Z"
   },
   {
    "duration": 122,
    "start_time": "2024-05-12T13:14:32.311Z"
   },
   {
    "duration": 173,
    "start_time": "2024-05-12T13:14:32.434Z"
   },
   {
    "duration": 15,
    "start_time": "2024-05-12T13:14:32.609Z"
   },
   {
    "duration": 13,
    "start_time": "2024-05-12T13:14:32.625Z"
   },
   {
    "duration": 20,
    "start_time": "2024-05-12T13:14:32.640Z"
   },
   {
    "duration": 153,
    "start_time": "2024-05-12T13:14:32.662Z"
   },
   {
    "duration": 200,
    "start_time": "2024-05-12T13:14:32.816Z"
   },
   {
    "duration": 15,
    "start_time": "2024-05-12T13:14:33.018Z"
   },
   {
    "duration": 17,
    "start_time": "2024-05-12T13:14:33.034Z"
   },
   {
    "duration": 139,
    "start_time": "2024-05-12T13:14:33.052Z"
   },
   {
    "duration": 202,
    "start_time": "2024-05-12T13:14:33.193Z"
   },
   {
    "duration": 15,
    "start_time": "2024-05-12T13:14:33.396Z"
   },
   {
    "duration": 5,
    "start_time": "2024-05-12T13:14:33.412Z"
   },
   {
    "duration": 16,
    "start_time": "2024-05-12T13:14:33.419Z"
   },
   {
    "duration": 20,
    "start_time": "2024-05-12T13:14:33.436Z"
   },
   {
    "duration": 15,
    "start_time": "2024-05-12T13:14:33.472Z"
   },
   {
    "duration": 37,
    "start_time": "2024-05-12T13:14:33.489Z"
   },
   {
    "duration": 43,
    "start_time": "2024-05-12T13:14:33.530Z"
   },
   {
    "duration": 23,
    "start_time": "2024-05-12T13:14:33.574Z"
   },
   {
    "duration": 15,
    "start_time": "2024-05-12T13:14:33.599Z"
   },
   {
    "duration": 16,
    "start_time": "2024-05-12T13:14:33.615Z"
   },
   {
    "duration": 21,
    "start_time": "2024-05-12T13:14:33.633Z"
   },
   {
    "duration": 30,
    "start_time": "2024-05-12T13:14:33.655Z"
   },
   {
    "duration": 329,
    "start_time": "2024-05-12T13:14:33.687Z"
   },
   {
    "duration": 455,
    "start_time": "2024-05-12T13:14:34.018Z"
   },
   {
    "duration": 865,
    "start_time": "2024-05-12T13:14:34.474Z"
   },
   {
    "duration": 3,
    "start_time": "2024-05-12T13:14:35.340Z"
   },
   {
    "duration": 5,
    "start_time": "2024-05-12T13:14:35.345Z"
   },
   {
    "duration": 25,
    "start_time": "2024-05-12T13:14:35.351Z"
   },
   {
    "duration": 7,
    "start_time": "2024-05-12T13:14:35.378Z"
   },
   {
    "duration": 4360,
    "start_time": "2024-05-12T13:14:35.387Z"
   },
   {
    "duration": 22,
    "start_time": "2024-05-12T13:14:39.748Z"
   },
   {
    "duration": 5,
    "start_time": "2024-05-12T13:14:39.772Z"
   },
   {
    "duration": 135,
    "start_time": "2024-05-12T13:14:39.779Z"
   },
   {
    "duration": 0,
    "start_time": "2024-05-12T13:14:39.915Z"
   },
   {
    "duration": 0,
    "start_time": "2024-05-12T13:14:39.917Z"
   },
   {
    "duration": 0,
    "start_time": "2024-05-12T13:14:39.918Z"
   },
   {
    "duration": 385,
    "start_time": "2024-05-12T13:14:49.674Z"
   },
   {
    "duration": 10,
    "start_time": "2024-05-12T13:14:55.731Z"
   },
   {
    "duration": 1202,
    "start_time": "2024-05-12T13:17:21.676Z"
   },
   {
    "duration": 69,
    "start_time": "2024-05-12T13:17:22.881Z"
   },
   {
    "duration": 12,
    "start_time": "2024-05-12T13:17:22.951Z"
   },
   {
    "duration": 60,
    "start_time": "2024-05-12T13:17:22.964Z"
   },
   {
    "duration": 39,
    "start_time": "2024-05-12T13:17:23.026Z"
   },
   {
    "duration": 10,
    "start_time": "2024-05-12T13:17:23.067Z"
   },
   {
    "duration": 23,
    "start_time": "2024-05-12T13:17:23.078Z"
   },
   {
    "duration": 17,
    "start_time": "2024-05-12T13:17:23.102Z"
   },
   {
    "duration": 18,
    "start_time": "2024-05-12T13:17:23.120Z"
   },
   {
    "duration": 15,
    "start_time": "2024-05-12T13:17:23.139Z"
   },
   {
    "duration": 27,
    "start_time": "2024-05-12T13:17:23.155Z"
   },
   {
    "duration": 6,
    "start_time": "2024-05-12T13:17:23.185Z"
   },
   {
    "duration": 11,
    "start_time": "2024-05-12T13:17:23.192Z"
   },
   {
    "duration": 10,
    "start_time": "2024-05-12T13:17:23.206Z"
   },
   {
    "duration": 34,
    "start_time": "2024-05-12T13:17:23.217Z"
   },
   {
    "duration": 28,
    "start_time": "2024-05-12T13:17:23.253Z"
   },
   {
    "duration": 22,
    "start_time": "2024-05-12T13:17:23.282Z"
   },
   {
    "duration": 5,
    "start_time": "2024-05-12T13:17:23.306Z"
   },
   {
    "duration": 23,
    "start_time": "2024-05-12T13:17:23.312Z"
   },
   {
    "duration": 11,
    "start_time": "2024-05-12T13:17:23.337Z"
   },
   {
    "duration": 10,
    "start_time": "2024-05-12T13:17:23.350Z"
   },
   {
    "duration": 21,
    "start_time": "2024-05-12T13:17:23.362Z"
   },
   {
    "duration": 20,
    "start_time": "2024-05-12T13:17:23.385Z"
   },
   {
    "duration": 135,
    "start_time": "2024-05-12T13:17:23.406Z"
   },
   {
    "duration": 166,
    "start_time": "2024-05-12T13:17:23.543Z"
   },
   {
    "duration": 15,
    "start_time": "2024-05-12T13:17:23.711Z"
   },
   {
    "duration": 33,
    "start_time": "2024-05-12T13:17:23.727Z"
   },
   {
    "duration": 41,
    "start_time": "2024-05-12T13:17:23.762Z"
   },
   {
    "duration": 130,
    "start_time": "2024-05-12T13:17:23.804Z"
   },
   {
    "duration": 215,
    "start_time": "2024-05-12T13:17:23.936Z"
   },
   {
    "duration": 28,
    "start_time": "2024-05-12T13:17:24.153Z"
   },
   {
    "duration": 31,
    "start_time": "2024-05-12T13:17:24.183Z"
   },
   {
    "duration": 151,
    "start_time": "2024-05-12T13:17:24.215Z"
   },
   {
    "duration": 191,
    "start_time": "2024-05-12T13:17:24.369Z"
   },
   {
    "duration": 24,
    "start_time": "2024-05-12T13:17:24.561Z"
   },
   {
    "duration": 6,
    "start_time": "2024-05-12T13:17:24.588Z"
   },
   {
    "duration": 15,
    "start_time": "2024-05-12T13:17:24.596Z"
   },
   {
    "duration": 36,
    "start_time": "2024-05-12T13:17:24.612Z"
   },
   {
    "duration": 15,
    "start_time": "2024-05-12T13:17:24.649Z"
   },
   {
    "duration": 25,
    "start_time": "2024-05-12T13:17:24.665Z"
   },
   {
    "duration": 16,
    "start_time": "2024-05-12T13:17:24.696Z"
   },
   {
    "duration": 30,
    "start_time": "2024-05-12T13:17:24.713Z"
   },
   {
    "duration": 21,
    "start_time": "2024-05-12T13:17:24.745Z"
   },
   {
    "duration": 42,
    "start_time": "2024-05-12T13:17:24.767Z"
   },
   {
    "duration": 45,
    "start_time": "2024-05-12T13:17:24.810Z"
   },
   {
    "duration": 16,
    "start_time": "2024-05-12T13:17:24.857Z"
   },
   {
    "duration": 376,
    "start_time": "2024-05-12T13:17:24.875Z"
   },
   {
    "duration": 424,
    "start_time": "2024-05-12T13:17:25.253Z"
   },
   {
    "duration": 956,
    "start_time": "2024-05-12T13:17:25.679Z"
   },
   {
    "duration": 3,
    "start_time": "2024-05-12T13:17:26.636Z"
   },
   {
    "duration": 14,
    "start_time": "2024-05-12T13:17:26.641Z"
   },
   {
    "duration": 32,
    "start_time": "2024-05-12T13:17:26.657Z"
   },
   {
    "duration": 14,
    "start_time": "2024-05-12T13:17:26.690Z"
   },
   {
    "duration": 4402,
    "start_time": "2024-05-12T13:17:26.705Z"
   },
   {
    "duration": 16,
    "start_time": "2024-05-12T13:17:31.109Z"
   },
   {
    "duration": 127,
    "start_time": "2024-05-12T13:17:31.127Z"
   },
   {
    "duration": 49,
    "start_time": "2024-05-12T13:17:31.256Z"
   },
   {
    "duration": 70,
    "start_time": "2024-05-12T13:17:31.306Z"
   },
   {
    "duration": 53,
    "start_time": "2024-05-12T13:17:31.378Z"
   },
   {
    "duration": 180,
    "start_time": "2024-05-12T13:17:31.433Z"
   },
   {
    "duration": 1316,
    "start_time": "2024-05-12T13:17:48.765Z"
   },
   {
    "duration": 74,
    "start_time": "2024-05-12T13:17:50.083Z"
   },
   {
    "duration": 13,
    "start_time": "2024-05-12T13:17:50.158Z"
   },
   {
    "duration": 28,
    "start_time": "2024-05-12T13:17:50.174Z"
   },
   {
    "duration": 11,
    "start_time": "2024-05-12T13:17:50.205Z"
   },
   {
    "duration": 18,
    "start_time": "2024-05-12T13:17:50.218Z"
   },
   {
    "duration": 34,
    "start_time": "2024-05-12T13:17:50.238Z"
   },
   {
    "duration": 20,
    "start_time": "2024-05-12T13:17:50.274Z"
   },
   {
    "duration": 12,
    "start_time": "2024-05-12T13:17:50.296Z"
   },
   {
    "duration": 17,
    "start_time": "2024-05-12T13:17:50.309Z"
   },
   {
    "duration": 10,
    "start_time": "2024-05-12T13:17:50.328Z"
   },
   {
    "duration": 4,
    "start_time": "2024-05-12T13:17:50.340Z"
   },
   {
    "duration": 15,
    "start_time": "2024-05-12T13:17:50.346Z"
   },
   {
    "duration": 25,
    "start_time": "2024-05-12T13:17:50.364Z"
   },
   {
    "duration": 27,
    "start_time": "2024-05-12T13:17:50.391Z"
   },
   {
    "duration": 19,
    "start_time": "2024-05-12T13:17:50.420Z"
   },
   {
    "duration": 46,
    "start_time": "2024-05-12T13:17:50.441Z"
   },
   {
    "duration": 21,
    "start_time": "2024-05-12T13:17:50.489Z"
   },
   {
    "duration": 34,
    "start_time": "2024-05-12T13:17:50.512Z"
   },
   {
    "duration": 40,
    "start_time": "2024-05-12T13:17:50.548Z"
   },
   {
    "duration": 6,
    "start_time": "2024-05-12T13:17:50.590Z"
   },
   {
    "duration": 25,
    "start_time": "2024-05-12T13:17:50.597Z"
   },
   {
    "duration": 13,
    "start_time": "2024-05-12T13:17:50.624Z"
   },
   {
    "duration": 117,
    "start_time": "2024-05-12T13:17:50.639Z"
   },
   {
    "duration": 165,
    "start_time": "2024-05-12T13:17:50.757Z"
   },
   {
    "duration": 15,
    "start_time": "2024-05-12T13:17:50.924Z"
   },
   {
    "duration": 7,
    "start_time": "2024-05-12T13:17:50.941Z"
   },
   {
    "duration": 49,
    "start_time": "2024-05-12T13:17:50.949Z"
   },
   {
    "duration": 130,
    "start_time": "2024-05-12T13:17:50.999Z"
   },
   {
    "duration": 217,
    "start_time": "2024-05-12T13:17:51.131Z"
   },
   {
    "duration": 22,
    "start_time": "2024-05-12T13:17:51.349Z"
   },
   {
    "duration": 10,
    "start_time": "2024-05-12T13:17:51.375Z"
   },
   {
    "duration": 150,
    "start_time": "2024-05-12T13:17:51.387Z"
   },
   {
    "duration": 201,
    "start_time": "2024-05-12T13:17:51.538Z"
   },
   {
    "duration": 15,
    "start_time": "2024-05-12T13:17:51.741Z"
   },
   {
    "duration": 15,
    "start_time": "2024-05-12T13:17:51.758Z"
   },
   {
    "duration": 24,
    "start_time": "2024-05-12T13:17:51.775Z"
   },
   {
    "duration": 15,
    "start_time": "2024-05-12T13:17:51.800Z"
   },
   {
    "duration": 15,
    "start_time": "2024-05-12T13:17:51.816Z"
   },
   {
    "duration": 14,
    "start_time": "2024-05-12T13:17:51.833Z"
   },
   {
    "duration": 24,
    "start_time": "2024-05-12T13:17:51.852Z"
   },
   {
    "duration": 23,
    "start_time": "2024-05-12T13:17:51.879Z"
   },
   {
    "duration": 10,
    "start_time": "2024-05-12T13:17:51.904Z"
   },
   {
    "duration": 20,
    "start_time": "2024-05-12T13:17:51.915Z"
   },
   {
    "duration": 35,
    "start_time": "2024-05-12T13:17:51.937Z"
   },
   {
    "duration": 19,
    "start_time": "2024-05-12T13:17:51.977Z"
   },
   {
    "duration": 376,
    "start_time": "2024-05-12T13:17:51.997Z"
   },
   {
    "duration": 442,
    "start_time": "2024-05-12T13:17:52.375Z"
   },
   {
    "duration": 871,
    "start_time": "2024-05-12T13:17:52.819Z"
   },
   {
    "duration": 3,
    "start_time": "2024-05-12T13:17:53.693Z"
   },
   {
    "duration": 32,
    "start_time": "2024-05-12T13:17:53.698Z"
   },
   {
    "duration": 22,
    "start_time": "2024-05-12T13:17:53.732Z"
   },
   {
    "duration": 10,
    "start_time": "2024-05-12T13:17:53.755Z"
   },
   {
    "duration": 4484,
    "start_time": "2024-05-12T13:17:53.767Z"
   },
   {
    "duration": 25,
    "start_time": "2024-05-12T13:17:58.253Z"
   },
   {
    "duration": 12,
    "start_time": "2024-05-12T13:17:58.281Z"
   },
   {
    "duration": 11,
    "start_time": "2024-05-12T13:17:58.295Z"
   },
   {
    "duration": 4,
    "start_time": "2024-05-12T13:17:58.308Z"
   },
   {
    "duration": 8,
    "start_time": "2024-05-12T13:17:58.314Z"
   },
   {
    "duration": 387,
    "start_time": "2024-05-12T13:17:58.324Z"
   },
   {
    "duration": 116,
    "start_time": "2024-05-12T13:37:51.244Z"
   },
   {
    "duration": 6,
    "start_time": "2024-05-12T13:38:06.271Z"
   },
   {
    "duration": 5,
    "start_time": "2024-05-12T13:38:09.512Z"
   },
   {
    "duration": 6,
    "start_time": "2024-05-12T13:38:16.456Z"
   },
   {
    "duration": 9,
    "start_time": "2024-05-12T13:39:40.568Z"
   },
   {
    "duration": 14,
    "start_time": "2024-05-12T13:40:33.135Z"
   },
   {
    "duration": 16,
    "start_time": "2024-05-12T13:41:07.552Z"
   },
   {
    "duration": 22,
    "start_time": "2024-05-12T13:42:52.368Z"
   },
   {
    "duration": 6,
    "start_time": "2024-05-12T13:45:06.733Z"
   },
   {
    "duration": 112,
    "start_time": "2024-05-12T13:57:17.776Z"
   },
   {
    "duration": 135,
    "start_time": "2024-05-12T13:57:24.347Z"
   },
   {
    "duration": 5,
    "start_time": "2024-05-12T14:03:08.274Z"
   },
   {
    "duration": 9,
    "start_time": "2024-05-12T14:10:21.837Z"
   },
   {
    "duration": 9,
    "start_time": "2024-05-12T14:10:48.246Z"
   },
   {
    "duration": 142,
    "start_time": "2024-05-12T14:11:15.100Z"
   },
   {
    "duration": 185,
    "start_time": "2024-05-12T14:12:01.324Z"
   },
   {
    "duration": 136,
    "start_time": "2024-05-12T14:12:31.371Z"
   },
   {
    "duration": 155,
    "start_time": "2024-05-12T14:13:28.675Z"
   },
   {
    "duration": 158,
    "start_time": "2024-05-12T14:13:55.517Z"
   },
   {
    "duration": 144,
    "start_time": "2024-05-12T14:14:42.755Z"
   },
   {
    "duration": 148,
    "start_time": "2024-05-12T14:15:02.796Z"
   },
   {
    "duration": 250,
    "start_time": "2024-05-12T14:17:34.484Z"
   },
   {
    "duration": 157,
    "start_time": "2024-05-12T14:17:40.285Z"
   },
   {
    "duration": 173,
    "start_time": "2024-05-12T14:17:50.986Z"
   },
   {
    "duration": 192,
    "start_time": "2024-05-12T14:17:58.439Z"
   },
   {
    "duration": 192,
    "start_time": "2024-05-12T14:18:52.818Z"
   },
   {
    "duration": 166,
    "start_time": "2024-05-12T14:21:06.236Z"
   },
   {
    "duration": 113,
    "start_time": "2024-05-12T14:21:50.833Z"
   },
   {
    "duration": 146,
    "start_time": "2024-05-12T14:22:08.753Z"
   },
   {
    "duration": 140,
    "start_time": "2024-05-12T14:24:50.713Z"
   },
   {
    "duration": 141,
    "start_time": "2024-05-12T14:25:00.749Z"
   },
   {
    "duration": 146,
    "start_time": "2024-05-12T14:25:24.957Z"
   },
   {
    "duration": 143,
    "start_time": "2024-05-12T14:26:39.356Z"
   },
   {
    "duration": 401,
    "start_time": "2024-05-12T14:27:26.543Z"
   },
   {
    "duration": 366,
    "start_time": "2024-05-12T14:27:31.155Z"
   },
   {
    "duration": 479,
    "start_time": "2024-05-12T14:27:50.341Z"
   },
   {
    "duration": 1136,
    "start_time": "2024-05-12T14:28:06.719Z"
   },
   {
    "duration": 72,
    "start_time": "2024-05-12T14:28:07.857Z"
   },
   {
    "duration": 11,
    "start_time": "2024-05-12T14:28:07.930Z"
   },
   {
    "duration": 13,
    "start_time": "2024-05-12T14:28:07.943Z"
   },
   {
    "duration": 11,
    "start_time": "2024-05-12T14:28:07.958Z"
   },
   {
    "duration": 13,
    "start_time": "2024-05-12T14:28:07.971Z"
   },
   {
    "duration": 19,
    "start_time": "2024-05-12T14:28:07.986Z"
   },
   {
    "duration": 10,
    "start_time": "2024-05-12T14:28:08.006Z"
   },
   {
    "duration": 9,
    "start_time": "2024-05-12T14:28:08.017Z"
   },
   {
    "duration": 22,
    "start_time": "2024-05-12T14:28:08.028Z"
   },
   {
    "duration": 18,
    "start_time": "2024-05-12T14:28:08.052Z"
   },
   {
    "duration": 14,
    "start_time": "2024-05-12T14:28:08.072Z"
   },
   {
    "duration": 16,
    "start_time": "2024-05-12T14:28:08.088Z"
   },
   {
    "duration": 10,
    "start_time": "2024-05-12T14:28:08.106Z"
   },
   {
    "duration": 12,
    "start_time": "2024-05-12T14:28:08.117Z"
   },
   {
    "duration": 21,
    "start_time": "2024-05-12T14:28:08.130Z"
   },
   {
    "duration": 15,
    "start_time": "2024-05-12T14:28:08.153Z"
   },
   {
    "duration": 17,
    "start_time": "2024-05-12T14:28:08.170Z"
   },
   {
    "duration": 32,
    "start_time": "2024-05-12T14:28:08.189Z"
   },
   {
    "duration": 10,
    "start_time": "2024-05-12T14:28:08.222Z"
   },
   {
    "duration": 14,
    "start_time": "2024-05-12T14:28:08.233Z"
   },
   {
    "duration": 29,
    "start_time": "2024-05-12T14:28:08.248Z"
   },
   {
    "duration": 18,
    "start_time": "2024-05-12T14:28:08.279Z"
   },
   {
    "duration": 121,
    "start_time": "2024-05-12T14:28:08.298Z"
   },
   {
    "duration": 151,
    "start_time": "2024-05-12T14:28:08.420Z"
   },
   {
    "duration": 23,
    "start_time": "2024-05-12T14:28:08.573Z"
   },
   {
    "duration": 13,
    "start_time": "2024-05-12T14:28:08.598Z"
   },
   {
    "duration": 34,
    "start_time": "2024-05-12T14:28:08.612Z"
   },
   {
    "duration": 155,
    "start_time": "2024-05-12T14:28:08.647Z"
   },
   {
    "duration": 209,
    "start_time": "2024-05-12T14:28:08.804Z"
   },
   {
    "duration": 17,
    "start_time": "2024-05-12T14:28:09.015Z"
   },
   {
    "duration": 14,
    "start_time": "2024-05-12T14:28:09.033Z"
   },
   {
    "duration": 158,
    "start_time": "2024-05-12T14:28:09.049Z"
   },
   {
    "duration": 227,
    "start_time": "2024-05-12T14:28:09.209Z"
   },
   {
    "duration": 16,
    "start_time": "2024-05-12T14:28:09.438Z"
   },
   {
    "duration": 19,
    "start_time": "2024-05-12T14:28:09.455Z"
   },
   {
    "duration": 15,
    "start_time": "2024-05-12T14:28:09.476Z"
   },
   {
    "duration": 17,
    "start_time": "2024-05-12T14:28:09.493Z"
   },
   {
    "duration": 15,
    "start_time": "2024-05-12T14:28:09.512Z"
   },
   {
    "duration": 14,
    "start_time": "2024-05-12T14:28:09.528Z"
   },
   {
    "duration": 33,
    "start_time": "2024-05-12T14:28:09.546Z"
   },
   {
    "duration": 23,
    "start_time": "2024-05-12T14:28:09.581Z"
   },
   {
    "duration": 7,
    "start_time": "2024-05-12T14:28:09.606Z"
   },
   {
    "duration": 16,
    "start_time": "2024-05-12T14:28:09.615Z"
   },
   {
    "duration": 43,
    "start_time": "2024-05-12T14:28:09.633Z"
   },
   {
    "duration": 20,
    "start_time": "2024-05-12T14:28:09.678Z"
   },
   {
    "duration": 363,
    "start_time": "2024-05-12T14:28:09.700Z"
   },
   {
    "duration": 481,
    "start_time": "2024-05-12T14:28:10.065Z"
   },
   {
    "duration": 876,
    "start_time": "2024-05-12T14:28:10.548Z"
   },
   {
    "duration": 4,
    "start_time": "2024-05-12T14:28:11.425Z"
   },
   {
    "duration": 17,
    "start_time": "2024-05-12T14:28:11.430Z"
   },
   {
    "duration": 14,
    "start_time": "2024-05-12T14:28:11.448Z"
   },
   {
    "duration": 8,
    "start_time": "2024-05-12T14:28:11.464Z"
   },
   {
    "duration": 4358,
    "start_time": "2024-05-12T14:28:11.474Z"
   },
   {
    "duration": 18,
    "start_time": "2024-05-12T14:28:15.834Z"
   },
   {
    "duration": 18,
    "start_time": "2024-05-12T14:28:15.854Z"
   },
   {
    "duration": 28,
    "start_time": "2024-05-12T14:28:15.874Z"
   },
   {
    "duration": 17,
    "start_time": "2024-05-12T14:28:15.904Z"
   },
   {
    "duration": 11,
    "start_time": "2024-05-12T14:28:15.922Z"
   },
   {
    "duration": 375,
    "start_time": "2024-05-12T14:28:15.934Z"
   },
   {
    "duration": 144,
    "start_time": "2024-05-12T14:28:16.311Z"
   },
   {
    "duration": 1211,
    "start_time": "2024-05-12T14:52:22.050Z"
   },
   {
    "duration": 73,
    "start_time": "2024-05-12T14:52:23.263Z"
   },
   {
    "duration": 12,
    "start_time": "2024-05-12T14:52:23.337Z"
   },
   {
    "duration": 29,
    "start_time": "2024-05-12T14:52:23.350Z"
   },
   {
    "duration": 20,
    "start_time": "2024-05-12T14:52:23.381Z"
   },
   {
    "duration": 43,
    "start_time": "2024-05-12T14:52:23.402Z"
   },
   {
    "duration": 23,
    "start_time": "2024-05-12T14:52:23.446Z"
   },
   {
    "duration": 24,
    "start_time": "2024-05-12T14:52:23.471Z"
   },
   {
    "duration": 32,
    "start_time": "2024-05-12T14:52:23.496Z"
   },
   {
    "duration": 17,
    "start_time": "2024-05-12T14:52:23.530Z"
   },
   {
    "duration": 20,
    "start_time": "2024-05-12T14:52:23.549Z"
   },
   {
    "duration": 8,
    "start_time": "2024-05-12T14:52:23.571Z"
   },
   {
    "duration": 20,
    "start_time": "2024-05-12T14:52:23.581Z"
   },
   {
    "duration": 26,
    "start_time": "2024-05-12T14:52:23.604Z"
   },
   {
    "duration": 39,
    "start_time": "2024-05-12T14:52:23.632Z"
   },
   {
    "duration": 23,
    "start_time": "2024-05-12T14:52:23.673Z"
   },
   {
    "duration": 26,
    "start_time": "2024-05-12T14:52:23.697Z"
   },
   {
    "duration": 17,
    "start_time": "2024-05-12T14:52:23.725Z"
   },
   {
    "duration": 21,
    "start_time": "2024-05-12T14:52:23.744Z"
   },
   {
    "duration": 22,
    "start_time": "2024-05-12T14:52:23.766Z"
   },
   {
    "duration": 15,
    "start_time": "2024-05-12T14:52:23.790Z"
   },
   {
    "duration": 13,
    "start_time": "2024-05-12T14:52:23.806Z"
   },
   {
    "duration": 11,
    "start_time": "2024-05-12T14:52:23.821Z"
   },
   {
    "duration": 129,
    "start_time": "2024-05-12T14:52:23.834Z"
   },
   {
    "duration": 167,
    "start_time": "2024-05-12T14:52:23.964Z"
   },
   {
    "duration": 14,
    "start_time": "2024-05-12T14:52:24.133Z"
   },
   {
    "duration": 9,
    "start_time": "2024-05-12T14:52:24.148Z"
   },
   {
    "duration": 33,
    "start_time": "2024-05-12T14:52:24.170Z"
   },
   {
    "duration": 118,
    "start_time": "2024-05-12T14:52:24.204Z"
   },
   {
    "duration": 199,
    "start_time": "2024-05-12T14:52:24.324Z"
   },
   {
    "duration": 14,
    "start_time": "2024-05-12T14:52:24.525Z"
   },
   {
    "duration": 5,
    "start_time": "2024-05-12T14:52:24.540Z"
   },
   {
    "duration": 147,
    "start_time": "2024-05-12T14:52:24.547Z"
   },
   {
    "duration": 196,
    "start_time": "2024-05-12T14:52:24.696Z"
   },
   {
    "duration": 16,
    "start_time": "2024-05-12T14:52:24.894Z"
   },
   {
    "duration": 15,
    "start_time": "2024-05-12T14:52:24.912Z"
   },
   {
    "duration": 13,
    "start_time": "2024-05-12T14:52:24.929Z"
   },
   {
    "duration": 38,
    "start_time": "2024-05-12T14:52:24.943Z"
   },
   {
    "duration": 18,
    "start_time": "2024-05-12T14:52:24.983Z"
   },
   {
    "duration": 41,
    "start_time": "2024-05-12T14:52:25.002Z"
   },
   {
    "duration": 12,
    "start_time": "2024-05-12T14:52:25.047Z"
   },
   {
    "duration": 17,
    "start_time": "2024-05-12T14:52:25.061Z"
   },
   {
    "duration": 26,
    "start_time": "2024-05-12T14:52:25.080Z"
   },
   {
    "duration": 29,
    "start_time": "2024-05-12T14:52:25.108Z"
   },
   {
    "duration": 27,
    "start_time": "2024-05-12T14:52:25.138Z"
   },
   {
    "duration": 19,
    "start_time": "2024-05-12T14:52:25.166Z"
   },
   {
    "duration": 361,
    "start_time": "2024-05-12T14:52:25.186Z"
   },
   {
    "duration": 433,
    "start_time": "2024-05-12T14:52:25.548Z"
   },
   {
    "duration": 887,
    "start_time": "2024-05-12T14:52:25.983Z"
   },
   {
    "duration": 3,
    "start_time": "2024-05-12T14:52:26.873Z"
   },
   {
    "duration": 10,
    "start_time": "2024-05-12T14:52:26.879Z"
   },
   {
    "duration": 34,
    "start_time": "2024-05-12T14:52:26.891Z"
   },
   {
    "duration": 12,
    "start_time": "2024-05-12T14:52:26.927Z"
   },
   {
    "duration": 4521,
    "start_time": "2024-05-12T14:52:26.940Z"
   },
   {
    "duration": 26,
    "start_time": "2024-05-12T14:52:31.463Z"
   },
   {
    "duration": 93,
    "start_time": "2024-05-12T14:52:31.491Z"
   },
   {
    "duration": 57,
    "start_time": "2024-05-12T14:52:31.587Z"
   },
   {
    "duration": 89,
    "start_time": "2024-05-12T14:52:31.645Z"
   },
   {
    "duration": 103,
    "start_time": "2024-05-12T14:52:31.736Z"
   },
   {
    "duration": 454,
    "start_time": "2024-05-12T14:52:31.841Z"
   },
   {
    "duration": 152,
    "start_time": "2024-05-12T14:52:32.297Z"
   },
   {
    "duration": 6,
    "start_time": "2024-05-12T14:55:56.694Z"
   },
   {
    "duration": 5,
    "start_time": "2024-05-12T14:56:10.659Z"
   },
   {
    "duration": 12,
    "start_time": "2024-05-12T14:57:03.484Z"
   },
   {
    "duration": 16,
    "start_time": "2024-05-12T14:58:05.565Z"
   },
   {
    "duration": 62,
    "start_time": "2024-05-12T14:58:56.635Z"
   },
   {
    "duration": 65,
    "start_time": "2024-05-12T14:59:44.195Z"
   },
   {
    "duration": 65,
    "start_time": "2024-05-12T14:59:52.260Z"
   },
   {
    "duration": 12,
    "start_time": "2024-05-12T15:00:06.397Z"
   },
   {
    "duration": 4,
    "start_time": "2024-05-12T15:01:48.402Z"
   },
   {
    "duration": 8,
    "start_time": "2024-05-12T15:01:56.637Z"
   },
   {
    "duration": 8,
    "start_time": "2024-05-12T15:02:01.840Z"
   },
   {
    "duration": 7,
    "start_time": "2024-05-12T15:02:11.613Z"
   },
   {
    "duration": 8,
    "start_time": "2024-05-12T15:02:15.605Z"
   },
   {
    "duration": 1197,
    "start_time": "2024-05-12T15:07:12.931Z"
   },
   {
    "duration": 79,
    "start_time": "2024-05-12T15:07:14.129Z"
   },
   {
    "duration": 15,
    "start_time": "2024-05-12T15:07:14.210Z"
   },
   {
    "duration": 28,
    "start_time": "2024-05-12T15:07:14.228Z"
   },
   {
    "duration": 14,
    "start_time": "2024-05-12T15:07:14.258Z"
   },
   {
    "duration": 19,
    "start_time": "2024-05-12T15:07:14.274Z"
   },
   {
    "duration": 19,
    "start_time": "2024-05-12T15:07:14.296Z"
   },
   {
    "duration": 10,
    "start_time": "2024-05-12T15:07:14.316Z"
   },
   {
    "duration": 10,
    "start_time": "2024-05-12T15:07:14.328Z"
   },
   {
    "duration": 12,
    "start_time": "2024-05-12T15:07:14.340Z"
   },
   {
    "duration": 23,
    "start_time": "2024-05-12T15:07:14.354Z"
   },
   {
    "duration": 6,
    "start_time": "2024-05-12T15:07:14.380Z"
   },
   {
    "duration": 23,
    "start_time": "2024-05-12T15:07:14.388Z"
   },
   {
    "duration": 21,
    "start_time": "2024-05-12T15:07:14.412Z"
   },
   {
    "duration": 31,
    "start_time": "2024-05-12T15:07:14.435Z"
   },
   {
    "duration": 28,
    "start_time": "2024-05-12T15:07:14.467Z"
   },
   {
    "duration": 25,
    "start_time": "2024-05-12T15:07:14.497Z"
   },
   {
    "duration": 16,
    "start_time": "2024-05-12T15:07:14.524Z"
   },
   {
    "duration": 13,
    "start_time": "2024-05-12T15:07:14.541Z"
   },
   {
    "duration": 24,
    "start_time": "2024-05-12T15:07:14.556Z"
   },
   {
    "duration": 8,
    "start_time": "2024-05-12T15:07:14.582Z"
   },
   {
    "duration": 22,
    "start_time": "2024-05-12T15:07:14.592Z"
   },
   {
    "duration": 11,
    "start_time": "2024-05-12T15:07:14.616Z"
   },
   {
    "duration": 111,
    "start_time": "2024-05-12T15:07:14.628Z"
   },
   {
    "duration": 154,
    "start_time": "2024-05-12T15:07:14.741Z"
   },
   {
    "duration": 13,
    "start_time": "2024-05-12T15:07:14.897Z"
   },
   {
    "duration": 6,
    "start_time": "2024-05-12T15:07:14.912Z"
   },
   {
    "duration": 15,
    "start_time": "2024-05-12T15:07:14.921Z"
   },
   {
    "duration": 153,
    "start_time": "2024-05-12T15:07:14.937Z"
   },
   {
    "duration": 221,
    "start_time": "2024-05-12T15:07:15.092Z"
   },
   {
    "duration": 16,
    "start_time": "2024-05-12T15:07:15.314Z"
   },
   {
    "duration": 28,
    "start_time": "2024-05-12T15:07:15.331Z"
   },
   {
    "duration": 138,
    "start_time": "2024-05-12T15:07:15.361Z"
   },
   {
    "duration": 203,
    "start_time": "2024-05-12T15:07:15.501Z"
   },
   {
    "duration": 17,
    "start_time": "2024-05-12T15:07:15.706Z"
   },
   {
    "duration": 14,
    "start_time": "2024-05-12T15:07:15.725Z"
   },
   {
    "duration": 30,
    "start_time": "2024-05-12T15:07:15.741Z"
   },
   {
    "duration": 15,
    "start_time": "2024-05-12T15:07:15.773Z"
   },
   {
    "duration": 25,
    "start_time": "2024-05-12T15:07:15.790Z"
   },
   {
    "duration": 15,
    "start_time": "2024-05-12T15:07:15.817Z"
   },
   {
    "duration": 9,
    "start_time": "2024-05-12T15:07:15.834Z"
   },
   {
    "duration": 55,
    "start_time": "2024-05-12T15:07:15.844Z"
   },
   {
    "duration": 14,
    "start_time": "2024-05-12T15:07:15.901Z"
   },
   {
    "duration": 30,
    "start_time": "2024-05-12T15:07:15.917Z"
   },
   {
    "duration": 17,
    "start_time": "2024-05-12T15:07:15.948Z"
   },
   {
    "duration": 23,
    "start_time": "2024-05-12T15:07:15.966Z"
   },
   {
    "duration": 339,
    "start_time": "2024-05-12T15:07:15.991Z"
   },
   {
    "duration": 468,
    "start_time": "2024-05-12T15:07:16.331Z"
   },
   {
    "duration": 968,
    "start_time": "2024-05-12T15:07:16.801Z"
   },
   {
    "duration": 3,
    "start_time": "2024-05-12T15:07:17.772Z"
   },
   {
    "duration": 9,
    "start_time": "2024-05-12T15:07:17.778Z"
   },
   {
    "duration": 20,
    "start_time": "2024-05-12T15:07:17.789Z"
   },
   {
    "duration": 15,
    "start_time": "2024-05-12T15:07:17.811Z"
   },
   {
    "duration": 5666,
    "start_time": "2024-05-12T15:07:17.828Z"
   },
   {
    "duration": 19,
    "start_time": "2024-05-12T15:07:23.495Z"
   },
   {
    "duration": 14,
    "start_time": "2024-05-12T15:07:23.515Z"
   },
   {
    "duration": 50,
    "start_time": "2024-05-12T15:07:23.530Z"
   },
   {
    "duration": 35,
    "start_time": "2024-05-12T15:07:23.582Z"
   },
   {
    "duration": 22,
    "start_time": "2024-05-12T15:07:23.619Z"
   },
   {
    "duration": 364,
    "start_time": "2024-05-12T15:07:23.643Z"
   },
   {
    "duration": 146,
    "start_time": "2024-05-12T15:07:24.009Z"
   },
   {
    "duration": 67,
    "start_time": "2024-05-12T16:54:21.627Z"
   },
   {
    "duration": 1357,
    "start_time": "2024-05-12T17:01:29.248Z"
   },
   {
    "duration": 213,
    "start_time": "2024-05-12T17:01:30.607Z"
   },
   {
    "duration": 11,
    "start_time": "2024-05-12T17:01:30.821Z"
   },
   {
    "duration": 58,
    "start_time": "2024-05-12T17:01:30.834Z"
   },
   {
    "duration": 60,
    "start_time": "2024-05-12T17:01:30.894Z"
   },
   {
    "duration": 47,
    "start_time": "2024-05-12T17:01:30.956Z"
   },
   {
    "duration": 45,
    "start_time": "2024-05-12T17:01:31.004Z"
   },
   {
    "duration": 62,
    "start_time": "2024-05-12T17:01:31.050Z"
   },
   {
    "duration": 59,
    "start_time": "2024-05-12T17:01:31.114Z"
   },
   {
    "duration": 17,
    "start_time": "2024-05-12T17:01:31.176Z"
   },
   {
    "duration": 31,
    "start_time": "2024-05-12T17:01:31.196Z"
   },
   {
    "duration": 33,
    "start_time": "2024-05-12T17:01:31.228Z"
   },
   {
    "duration": 22,
    "start_time": "2024-05-12T17:01:31.263Z"
   },
   {
    "duration": 27,
    "start_time": "2024-05-12T17:01:31.287Z"
   },
   {
    "duration": 36,
    "start_time": "2024-05-12T17:01:31.315Z"
   },
   {
    "duration": 53,
    "start_time": "2024-05-12T17:01:31.353Z"
   },
   {
    "duration": 48,
    "start_time": "2024-05-12T17:01:31.408Z"
   },
   {
    "duration": 29,
    "start_time": "2024-05-12T17:01:31.458Z"
   },
   {
    "duration": 77,
    "start_time": "2024-05-12T17:01:31.488Z"
   },
   {
    "duration": 27,
    "start_time": "2024-05-12T17:01:31.568Z"
   },
   {
    "duration": 6,
    "start_time": "2024-05-12T17:01:31.596Z"
   },
   {
    "duration": 30,
    "start_time": "2024-05-12T17:01:31.603Z"
   },
   {
    "duration": 26,
    "start_time": "2024-05-12T17:01:31.634Z"
   },
   {
    "duration": 137,
    "start_time": "2024-05-12T17:01:31.662Z"
   },
   {
    "duration": 152,
    "start_time": "2024-05-12T17:01:31.801Z"
   },
   {
    "duration": 18,
    "start_time": "2024-05-12T17:01:31.955Z"
   },
   {
    "duration": 11,
    "start_time": "2024-05-12T17:01:31.975Z"
   },
   {
    "duration": 46,
    "start_time": "2024-05-12T17:01:31.989Z"
   },
   {
    "duration": 125,
    "start_time": "2024-05-12T17:01:32.036Z"
   },
   {
    "duration": 186,
    "start_time": "2024-05-12T17:01:32.163Z"
   },
   {
    "duration": 23,
    "start_time": "2024-05-12T17:01:32.351Z"
   },
   {
    "duration": 26,
    "start_time": "2024-05-12T17:01:32.375Z"
   },
   {
    "duration": 114,
    "start_time": "2024-05-12T17:01:32.403Z"
   },
   {
    "duration": 178,
    "start_time": "2024-05-12T17:01:32.518Z"
   },
   {
    "duration": 13,
    "start_time": "2024-05-12T17:01:32.698Z"
   },
   {
    "duration": 22,
    "start_time": "2024-05-12T17:01:32.712Z"
   },
   {
    "duration": 46,
    "start_time": "2024-05-12T17:01:32.736Z"
   },
   {
    "duration": 30,
    "start_time": "2024-05-12T17:01:32.784Z"
   },
   {
    "duration": 23,
    "start_time": "2024-05-12T17:01:32.816Z"
   },
   {
    "duration": 29,
    "start_time": "2024-05-12T17:01:32.841Z"
   },
   {
    "duration": 23,
    "start_time": "2024-05-12T17:01:32.872Z"
   },
   {
    "duration": 37,
    "start_time": "2024-05-12T17:01:32.897Z"
   },
   {
    "duration": 27,
    "start_time": "2024-05-12T17:01:32.935Z"
   },
   {
    "duration": 38,
    "start_time": "2024-05-12T17:01:32.965Z"
   },
   {
    "duration": 17,
    "start_time": "2024-05-12T17:01:33.005Z"
   },
   {
    "duration": 23,
    "start_time": "2024-05-12T17:01:33.023Z"
   },
   {
    "duration": 344,
    "start_time": "2024-05-12T17:01:33.048Z"
   },
   {
    "duration": 405,
    "start_time": "2024-05-12T17:01:33.394Z"
   },
   {
    "duration": 800,
    "start_time": "2024-05-12T17:01:33.800Z"
   },
   {
    "duration": 3,
    "start_time": "2024-05-12T17:01:34.602Z"
   },
   {
    "duration": 16,
    "start_time": "2024-05-12T17:01:34.606Z"
   },
   {
    "duration": 37,
    "start_time": "2024-05-12T17:01:34.623Z"
   },
   {
    "duration": 22,
    "start_time": "2024-05-12T17:01:34.661Z"
   },
   {
    "duration": 4299,
    "start_time": "2024-05-12T17:01:34.684Z"
   },
   {
    "duration": 17,
    "start_time": "2024-05-12T17:01:38.985Z"
   },
   {
    "duration": 3,
    "start_time": "2024-05-12T17:01:39.003Z"
   },
   {
    "duration": 6,
    "start_time": "2024-05-12T17:01:39.007Z"
   },
   {
    "duration": 9,
    "start_time": "2024-05-12T17:01:39.014Z"
   },
   {
    "duration": 7,
    "start_time": "2024-05-12T17:01:39.024Z"
   },
   {
    "duration": 452,
    "start_time": "2024-05-12T17:01:39.033Z"
   },
   {
    "duration": 147,
    "start_time": "2024-05-12T17:01:39.487Z"
   },
   {
    "duration": 19,
    "start_time": "2024-05-12T17:12:48.874Z"
   },
   {
    "duration": 10,
    "start_time": "2024-05-12T17:23:26.118Z"
   },
   {
    "duration": 1072,
    "start_time": "2024-05-12T17:23:57.209Z"
   },
   {
    "duration": 66,
    "start_time": "2024-05-12T17:23:58.283Z"
   },
   {
    "duration": 10,
    "start_time": "2024-05-12T17:23:58.351Z"
   },
   {
    "duration": 14,
    "start_time": "2024-05-12T17:23:58.362Z"
   },
   {
    "duration": 9,
    "start_time": "2024-05-12T17:23:58.378Z"
   },
   {
    "duration": 7,
    "start_time": "2024-05-12T17:23:58.389Z"
   },
   {
    "duration": 10,
    "start_time": "2024-05-12T17:23:58.397Z"
   },
   {
    "duration": 8,
    "start_time": "2024-05-12T17:23:58.408Z"
   },
   {
    "duration": 5,
    "start_time": "2024-05-12T17:23:58.418Z"
   },
   {
    "duration": 36,
    "start_time": "2024-05-12T17:23:58.424Z"
   },
   {
    "duration": 5,
    "start_time": "2024-05-12T17:23:58.462Z"
   },
   {
    "duration": 6,
    "start_time": "2024-05-12T17:23:58.468Z"
   },
   {
    "duration": 11,
    "start_time": "2024-05-12T17:23:58.475Z"
   },
   {
    "duration": 6,
    "start_time": "2024-05-12T17:23:58.489Z"
   },
   {
    "duration": 9,
    "start_time": "2024-05-12T17:23:58.496Z"
   },
   {
    "duration": 8,
    "start_time": "2024-05-12T17:23:58.506Z"
   },
   {
    "duration": 6,
    "start_time": "2024-05-12T17:23:58.516Z"
   },
   {
    "duration": 33,
    "start_time": "2024-05-12T17:23:58.524Z"
   },
   {
    "duration": 9,
    "start_time": "2024-05-12T17:23:58.558Z"
   },
   {
    "duration": 15,
    "start_time": "2024-05-12T17:23:58.569Z"
   },
   {
    "duration": 5,
    "start_time": "2024-05-12T17:23:58.586Z"
   },
   {
    "duration": 8,
    "start_time": "2024-05-12T17:23:58.592Z"
   },
   {
    "duration": 7,
    "start_time": "2024-05-12T17:23:58.601Z"
   },
   {
    "duration": 153,
    "start_time": "2024-05-12T17:23:58.610Z"
   },
   {
    "duration": 142,
    "start_time": "2024-05-12T17:23:58.764Z"
   },
   {
    "duration": 14,
    "start_time": "2024-05-12T17:23:58.908Z"
   },
   {
    "duration": 3,
    "start_time": "2024-05-12T17:23:58.923Z"
   },
   {
    "duration": 34,
    "start_time": "2024-05-12T17:23:58.928Z"
   },
   {
    "duration": 131,
    "start_time": "2024-05-12T17:23:58.964Z"
   },
   {
    "duration": 176,
    "start_time": "2024-05-12T17:23:59.097Z"
   },
   {
    "duration": 14,
    "start_time": "2024-05-12T17:23:59.275Z"
   },
   {
    "duration": 13,
    "start_time": "2024-05-12T17:23:59.290Z"
   },
   {
    "duration": 111,
    "start_time": "2024-05-12T17:23:59.304Z"
   },
   {
    "duration": 179,
    "start_time": "2024-05-12T17:23:59.417Z"
   },
   {
    "duration": 14,
    "start_time": "2024-05-12T17:23:59.597Z"
   },
   {
    "duration": 2,
    "start_time": "2024-05-12T17:23:59.612Z"
   },
   {
    "duration": 11,
    "start_time": "2024-05-12T17:23:59.615Z"
   },
   {
    "duration": 29,
    "start_time": "2024-05-12T17:23:59.627Z"
   },
   {
    "duration": 14,
    "start_time": "2024-05-12T17:23:59.658Z"
   },
   {
    "duration": 14,
    "start_time": "2024-05-12T17:23:59.673Z"
   },
   {
    "duration": 10,
    "start_time": "2024-05-12T17:23:59.690Z"
   },
   {
    "duration": 13,
    "start_time": "2024-05-12T17:23:59.701Z"
   },
   {
    "duration": 6,
    "start_time": "2024-05-12T17:23:59.715Z"
   },
   {
    "duration": 44,
    "start_time": "2024-05-12T17:23:59.723Z"
   },
   {
    "duration": 16,
    "start_time": "2024-05-12T17:23:59.768Z"
   },
   {
    "duration": 19,
    "start_time": "2024-05-12T17:23:59.786Z"
   },
   {
    "duration": 323,
    "start_time": "2024-05-12T17:23:59.807Z"
   },
   {
    "duration": 410,
    "start_time": "2024-05-12T17:24:00.131Z"
   },
   {
    "duration": 815,
    "start_time": "2024-05-12T17:24:00.542Z"
   },
   {
    "duration": 4,
    "start_time": "2024-05-12T17:24:01.358Z"
   },
   {
    "duration": 96,
    "start_time": "2024-05-12T17:24:01.363Z"
   },
   {
    "duration": 44,
    "start_time": "2024-05-12T17:24:01.460Z"
   },
   {
    "duration": 30,
    "start_time": "2024-05-12T17:24:01.506Z"
   },
   {
    "duration": 4354,
    "start_time": "2024-05-12T17:24:01.538Z"
   },
   {
    "duration": 19,
    "start_time": "2024-05-12T17:24:05.894Z"
   },
   {
    "duration": 26,
    "start_time": "2024-05-12T17:24:05.915Z"
   },
   {
    "duration": 2,
    "start_time": "2024-05-12T17:24:05.943Z"
   },
   {
    "duration": 15,
    "start_time": "2024-05-12T17:24:05.947Z"
   },
   {
    "duration": 4,
    "start_time": "2024-05-12T17:24:05.964Z"
   },
   {
    "duration": 15,
    "start_time": "2024-05-12T17:24:05.970Z"
   },
   {
    "duration": 389,
    "start_time": "2024-05-12T17:24:05.987Z"
   },
   {
    "duration": 140,
    "start_time": "2024-05-12T17:24:06.378Z"
   },
   {
    "duration": 330,
    "start_time": "2024-05-12T17:27:22.272Z"
   },
   {
    "duration": 1151,
    "start_time": "2024-05-12T17:28:29.548Z"
   },
   {
    "duration": 67,
    "start_time": "2024-05-12T17:28:30.701Z"
   },
   {
    "duration": 11,
    "start_time": "2024-05-12T17:28:30.769Z"
   },
   {
    "duration": 45,
    "start_time": "2024-05-12T17:28:30.782Z"
   },
   {
    "duration": 31,
    "start_time": "2024-05-12T17:28:30.829Z"
   },
   {
    "duration": 43,
    "start_time": "2024-05-12T17:28:30.862Z"
   },
   {
    "duration": 39,
    "start_time": "2024-05-12T17:28:30.907Z"
   },
   {
    "duration": 41,
    "start_time": "2024-05-12T17:28:30.948Z"
   },
   {
    "duration": 33,
    "start_time": "2024-05-12T17:28:30.991Z"
   },
   {
    "duration": 51,
    "start_time": "2024-05-12T17:28:31.027Z"
   },
   {
    "duration": 29,
    "start_time": "2024-05-12T17:28:31.079Z"
   },
   {
    "duration": 66,
    "start_time": "2024-05-12T17:28:31.110Z"
   },
   {
    "duration": 43,
    "start_time": "2024-05-12T17:28:31.178Z"
   },
   {
    "duration": 34,
    "start_time": "2024-05-12T17:28:31.223Z"
   },
   {
    "duration": 69,
    "start_time": "2024-05-12T17:28:31.259Z"
   },
   {
    "duration": 49,
    "start_time": "2024-05-12T17:28:31.329Z"
   },
   {
    "duration": 74,
    "start_time": "2024-05-12T17:28:31.379Z"
   },
   {
    "duration": 28,
    "start_time": "2024-05-12T17:28:31.455Z"
   },
   {
    "duration": 41,
    "start_time": "2024-05-12T17:28:31.485Z"
   },
   {
    "duration": 25,
    "start_time": "2024-05-12T17:28:31.528Z"
   },
   {
    "duration": 20,
    "start_time": "2024-05-12T17:28:31.555Z"
   },
   {
    "duration": 54,
    "start_time": "2024-05-12T17:28:31.577Z"
   },
   {
    "duration": 28,
    "start_time": "2024-05-12T17:28:31.632Z"
   },
   {
    "duration": 128,
    "start_time": "2024-05-12T17:28:31.661Z"
   },
   {
    "duration": 158,
    "start_time": "2024-05-12T17:28:31.791Z"
   },
   {
    "duration": 27,
    "start_time": "2024-05-12T17:28:31.950Z"
   },
   {
    "duration": 30,
    "start_time": "2024-05-12T17:28:31.979Z"
   },
   {
    "duration": 27,
    "start_time": "2024-05-12T17:28:32.012Z"
   },
   {
    "duration": 123,
    "start_time": "2024-05-12T17:28:32.041Z"
   },
   {
    "duration": 184,
    "start_time": "2024-05-12T17:28:32.166Z"
   },
   {
    "duration": 15,
    "start_time": "2024-05-12T17:28:32.351Z"
   },
   {
    "duration": 6,
    "start_time": "2024-05-12T17:28:32.368Z"
   },
   {
    "duration": 124,
    "start_time": "2024-05-12T17:28:32.375Z"
   },
   {
    "duration": 181,
    "start_time": "2024-05-12T17:28:32.500Z"
   },
   {
    "duration": 18,
    "start_time": "2024-05-12T17:28:32.682Z"
   },
   {
    "duration": 12,
    "start_time": "2024-05-12T17:28:32.701Z"
   },
   {
    "duration": 14,
    "start_time": "2024-05-12T17:28:32.715Z"
   },
   {
    "duration": 11,
    "start_time": "2024-05-12T17:28:32.730Z"
   },
   {
    "duration": 13,
    "start_time": "2024-05-12T17:28:32.756Z"
   },
   {
    "duration": 13,
    "start_time": "2024-05-12T17:28:32.771Z"
   },
   {
    "duration": 11,
    "start_time": "2024-05-12T17:28:32.786Z"
   },
   {
    "duration": 28,
    "start_time": "2024-05-12T17:28:32.798Z"
   },
   {
    "duration": 11,
    "start_time": "2024-05-12T17:28:32.829Z"
   },
   {
    "duration": 37,
    "start_time": "2024-05-12T17:28:32.841Z"
   },
   {
    "duration": 27,
    "start_time": "2024-05-12T17:28:32.880Z"
   },
   {
    "duration": 18,
    "start_time": "2024-05-12T17:28:32.908Z"
   },
   {
    "duration": 310,
    "start_time": "2024-05-12T17:28:32.928Z"
   },
   {
    "duration": 387,
    "start_time": "2024-05-12T17:28:33.240Z"
   },
   {
    "duration": 756,
    "start_time": "2024-05-12T17:28:33.629Z"
   },
   {
    "duration": 3,
    "start_time": "2024-05-12T17:28:34.386Z"
   },
   {
    "duration": 9,
    "start_time": "2024-05-12T17:28:34.391Z"
   },
   {
    "duration": 15,
    "start_time": "2024-05-12T17:28:34.412Z"
   },
   {
    "duration": 10,
    "start_time": "2024-05-12T17:28:34.428Z"
   },
   {
    "duration": 3944,
    "start_time": "2024-05-12T17:28:34.439Z"
   },
   {
    "duration": 17,
    "start_time": "2024-05-12T17:28:38.385Z"
   },
   {
    "duration": 4,
    "start_time": "2024-05-12T17:28:38.404Z"
   },
   {
    "duration": 7,
    "start_time": "2024-05-12T17:28:38.409Z"
   },
   {
    "duration": 4,
    "start_time": "2024-05-12T17:28:38.418Z"
   },
   {
    "duration": 37,
    "start_time": "2024-05-12T17:28:38.424Z"
   },
   {
    "duration": 325,
    "start_time": "2024-05-12T17:28:38.462Z"
   },
   {
    "duration": 145,
    "start_time": "2024-05-12T17:28:38.789Z"
   },
   {
    "duration": 50,
    "start_time": "2024-05-13T09:29:32.714Z"
   },
   {
    "duration": 1416,
    "start_time": "2024-05-13T09:29:39.367Z"
   },
   {
    "duration": 295,
    "start_time": "2024-05-13T09:29:40.786Z"
   },
   {
    "duration": 12,
    "start_time": "2024-05-13T09:29:41.082Z"
   },
   {
    "duration": 49,
    "start_time": "2024-05-13T09:29:41.096Z"
   },
   {
    "duration": 30,
    "start_time": "2024-05-13T09:29:41.147Z"
   },
   {
    "duration": 38,
    "start_time": "2024-05-13T09:29:41.179Z"
   },
   {
    "duration": 14,
    "start_time": "2024-05-13T09:29:41.219Z"
   },
   {
    "duration": 8,
    "start_time": "2024-05-13T09:29:41.236Z"
   },
   {
    "duration": 7,
    "start_time": "2024-05-13T09:29:41.246Z"
   },
   {
    "duration": 8,
    "start_time": "2024-05-13T09:29:41.256Z"
   },
   {
    "duration": 6,
    "start_time": "2024-05-13T09:29:41.265Z"
   },
   {
    "duration": 19,
    "start_time": "2024-05-13T09:29:41.272Z"
   },
   {
    "duration": 14,
    "start_time": "2024-05-13T09:29:41.293Z"
   },
   {
    "duration": 8,
    "start_time": "2024-05-13T09:29:41.309Z"
   },
   {
    "duration": 9,
    "start_time": "2024-05-13T09:29:41.319Z"
   },
   {
    "duration": 10,
    "start_time": "2024-05-13T09:29:41.329Z"
   },
   {
    "duration": 8,
    "start_time": "2024-05-13T09:29:41.341Z"
   },
   {
    "duration": 6,
    "start_time": "2024-05-13T09:29:41.351Z"
   },
   {
    "duration": 39,
    "start_time": "2024-05-13T09:29:41.359Z"
   },
   {
    "duration": 27,
    "start_time": "2024-05-13T09:29:41.400Z"
   },
   {
    "duration": 21,
    "start_time": "2024-05-13T09:29:41.429Z"
   },
   {
    "duration": 11,
    "start_time": "2024-05-13T09:29:41.452Z"
   },
   {
    "duration": 15,
    "start_time": "2024-05-13T09:29:41.464Z"
   },
   {
    "duration": 110,
    "start_time": "2024-05-13T09:29:41.480Z"
   },
   {
    "duration": 222,
    "start_time": "2024-05-13T09:29:41.592Z"
   },
   {
    "duration": 0,
    "start_time": "2024-05-13T09:29:41.817Z"
   },
   {
    "duration": 0,
    "start_time": "2024-05-13T09:29:41.818Z"
   },
   {
    "duration": 0,
    "start_time": "2024-05-13T09:29:41.820Z"
   },
   {
    "duration": 0,
    "start_time": "2024-05-13T09:29:41.821Z"
   },
   {
    "duration": 0,
    "start_time": "2024-05-13T09:29:41.823Z"
   },
   {
    "duration": 0,
    "start_time": "2024-05-13T09:29:41.824Z"
   },
   {
    "duration": 0,
    "start_time": "2024-05-13T09:29:41.825Z"
   },
   {
    "duration": 0,
    "start_time": "2024-05-13T09:29:41.826Z"
   },
   {
    "duration": 0,
    "start_time": "2024-05-13T09:29:41.828Z"
   },
   {
    "duration": 0,
    "start_time": "2024-05-13T09:29:41.829Z"
   },
   {
    "duration": 0,
    "start_time": "2024-05-13T09:29:41.831Z"
   },
   {
    "duration": 0,
    "start_time": "2024-05-13T09:29:41.832Z"
   },
   {
    "duration": 0,
    "start_time": "2024-05-13T09:29:41.833Z"
   },
   {
    "duration": 0,
    "start_time": "2024-05-13T09:29:41.834Z"
   },
   {
    "duration": 0,
    "start_time": "2024-05-13T09:29:41.835Z"
   },
   {
    "duration": 0,
    "start_time": "2024-05-13T09:29:41.836Z"
   },
   {
    "duration": 0,
    "start_time": "2024-05-13T09:29:41.838Z"
   },
   {
    "duration": 0,
    "start_time": "2024-05-13T09:29:41.839Z"
   },
   {
    "duration": 0,
    "start_time": "2024-05-13T09:29:41.840Z"
   },
   {
    "duration": 0,
    "start_time": "2024-05-13T09:29:41.842Z"
   },
   {
    "duration": 0,
    "start_time": "2024-05-13T09:29:41.843Z"
   },
   {
    "duration": 0,
    "start_time": "2024-05-13T09:29:41.844Z"
   },
   {
    "duration": 0,
    "start_time": "2024-05-13T09:29:41.846Z"
   },
   {
    "duration": 0,
    "start_time": "2024-05-13T09:29:41.891Z"
   },
   {
    "duration": 0,
    "start_time": "2024-05-13T09:29:41.893Z"
   },
   {
    "duration": 0,
    "start_time": "2024-05-13T09:29:41.895Z"
   },
   {
    "duration": 0,
    "start_time": "2024-05-13T09:29:41.896Z"
   },
   {
    "duration": 0,
    "start_time": "2024-05-13T09:29:41.898Z"
   },
   {
    "duration": 0,
    "start_time": "2024-05-13T09:29:41.899Z"
   },
   {
    "duration": 0,
    "start_time": "2024-05-13T09:29:41.900Z"
   },
   {
    "duration": 0,
    "start_time": "2024-05-13T09:29:41.903Z"
   },
   {
    "duration": 0,
    "start_time": "2024-05-13T09:29:41.904Z"
   },
   {
    "duration": 0,
    "start_time": "2024-05-13T09:29:41.905Z"
   },
   {
    "duration": 0,
    "start_time": "2024-05-13T09:29:41.906Z"
   },
   {
    "duration": 0,
    "start_time": "2024-05-13T09:29:41.907Z"
   },
   {
    "duration": 0,
    "start_time": "2024-05-13T09:29:41.908Z"
   },
   {
    "duration": 143,
    "start_time": "2024-05-13T09:33:22.027Z"
   },
   {
    "duration": 134,
    "start_time": "2024-05-13T09:33:32.283Z"
   },
   {
    "duration": 1234,
    "start_time": "2024-05-13T11:27:39.018Z"
   },
   {
    "duration": 80,
    "start_time": "2024-05-13T11:27:40.254Z"
   },
   {
    "duration": 11,
    "start_time": "2024-05-13T11:27:40.336Z"
   },
   {
    "duration": 34,
    "start_time": "2024-05-13T11:27:40.350Z"
   },
   {
    "duration": 13,
    "start_time": "2024-05-13T11:27:40.387Z"
   },
   {
    "duration": 13,
    "start_time": "2024-05-13T11:27:40.402Z"
   },
   {
    "duration": 28,
    "start_time": "2024-05-13T11:27:40.417Z"
   },
   {
    "duration": 22,
    "start_time": "2024-05-13T11:27:40.447Z"
   },
   {
    "duration": 9,
    "start_time": "2024-05-13T11:27:40.471Z"
   },
   {
    "duration": 56,
    "start_time": "2024-05-13T11:27:40.483Z"
   },
   {
    "duration": 18,
    "start_time": "2024-05-13T11:27:40.541Z"
   },
   {
    "duration": 9,
    "start_time": "2024-05-13T11:27:40.561Z"
   },
   {
    "duration": 17,
    "start_time": "2024-05-13T11:27:40.572Z"
   },
   {
    "duration": 14,
    "start_time": "2024-05-13T11:27:40.591Z"
   },
   {
    "duration": 34,
    "start_time": "2024-05-13T11:27:40.607Z"
   },
   {
    "duration": 21,
    "start_time": "2024-05-13T11:27:40.643Z"
   },
   {
    "duration": 20,
    "start_time": "2024-05-13T11:27:40.666Z"
   },
   {
    "duration": 13,
    "start_time": "2024-05-13T11:27:40.688Z"
   },
   {
    "duration": 33,
    "start_time": "2024-05-13T11:27:40.702Z"
   },
   {
    "duration": 40,
    "start_time": "2024-05-13T11:27:40.737Z"
   },
   {
    "duration": 71,
    "start_time": "2024-05-13T11:27:40.779Z"
   },
   {
    "duration": 20,
    "start_time": "2024-05-13T11:27:40.852Z"
   },
   {
    "duration": 10,
    "start_time": "2024-05-13T11:27:40.874Z"
   },
   {
    "duration": 148,
    "start_time": "2024-05-13T11:27:40.886Z"
   },
   {
    "duration": 174,
    "start_time": "2024-05-13T11:27:41.036Z"
   },
   {
    "duration": 19,
    "start_time": "2024-05-13T11:27:41.213Z"
   },
   {
    "duration": 17,
    "start_time": "2024-05-13T11:27:41.234Z"
   },
   {
    "duration": 37,
    "start_time": "2024-05-13T11:27:41.256Z"
   },
   {
    "duration": 137,
    "start_time": "2024-05-13T11:27:41.294Z"
   },
   {
    "duration": 212,
    "start_time": "2024-05-13T11:27:41.433Z"
   },
   {
    "duration": 17,
    "start_time": "2024-05-13T11:27:41.647Z"
   },
   {
    "duration": 8,
    "start_time": "2024-05-13T11:27:41.667Z"
   },
   {
    "duration": 140,
    "start_time": "2024-05-13T11:27:41.692Z"
   },
   {
    "duration": 209,
    "start_time": "2024-05-13T11:27:41.834Z"
   },
   {
    "duration": 19,
    "start_time": "2024-05-13T11:27:42.044Z"
   },
   {
    "duration": 28,
    "start_time": "2024-05-13T11:27:42.065Z"
   },
   {
    "duration": 16,
    "start_time": "2024-05-13T11:27:42.096Z"
   },
   {
    "duration": 24,
    "start_time": "2024-05-13T11:27:42.114Z"
   },
   {
    "duration": 29,
    "start_time": "2024-05-13T11:27:42.141Z"
   },
   {
    "duration": 16,
    "start_time": "2024-05-13T11:27:42.172Z"
   },
   {
    "duration": 9,
    "start_time": "2024-05-13T11:27:42.192Z"
   },
   {
    "duration": 16,
    "start_time": "2024-05-13T11:27:42.202Z"
   },
   {
    "duration": 12,
    "start_time": "2024-05-13T11:27:42.220Z"
   },
   {
    "duration": 24,
    "start_time": "2024-05-13T11:27:42.233Z"
   },
   {
    "duration": 33,
    "start_time": "2024-05-13T11:27:42.258Z"
   },
   {
    "duration": 16,
    "start_time": "2024-05-13T11:27:42.293Z"
   },
   {
    "duration": 352,
    "start_time": "2024-05-13T11:27:42.311Z"
   },
   {
    "duration": 431,
    "start_time": "2024-05-13T11:27:42.665Z"
   },
   {
    "duration": 889,
    "start_time": "2024-05-13T11:27:43.098Z"
   },
   {
    "duration": 3,
    "start_time": "2024-05-13T11:27:43.989Z"
   },
   {
    "duration": 13,
    "start_time": "2024-05-13T11:27:43.994Z"
   },
   {
    "duration": 14,
    "start_time": "2024-05-13T11:27:44.009Z"
   },
   {
    "duration": 9,
    "start_time": "2024-05-13T11:27:44.025Z"
   },
   {
    "duration": 131,
    "start_time": "2024-05-13T11:27:44.035Z"
   },
   {
    "duration": 0,
    "start_time": "2024-05-13T11:27:44.167Z"
   },
   {
    "duration": 0,
    "start_time": "2024-05-13T11:27:44.169Z"
   },
   {
    "duration": 0,
    "start_time": "2024-05-13T11:27:44.170Z"
   },
   {
    "duration": 0,
    "start_time": "2024-05-13T11:27:44.171Z"
   },
   {
    "duration": 0,
    "start_time": "2024-05-13T11:27:44.172Z"
   },
   {
    "duration": 0,
    "start_time": "2024-05-13T11:27:44.173Z"
   },
   {
    "duration": 0,
    "start_time": "2024-05-13T11:27:44.191Z"
   },
   {
    "duration": 4,
    "start_time": "2024-05-13T11:28:17.260Z"
   },
   {
    "duration": 4483,
    "start_time": "2024-05-13T11:28:19.665Z"
   },
   {
    "duration": 24,
    "start_time": "2024-05-13T11:28:24.848Z"
   },
   {
    "duration": 3,
    "start_time": "2024-05-13T11:28:27.165Z"
   },
   {
    "duration": 5,
    "start_time": "2024-05-13T11:28:28.542Z"
   },
   {
    "duration": 6,
    "start_time": "2024-05-13T11:28:30.888Z"
   },
   {
    "duration": 9,
    "start_time": "2024-05-13T11:28:32.704Z"
   },
   {
    "duration": 323,
    "start_time": "2024-05-13T11:28:35.194Z"
   },
   {
    "duration": 149,
    "start_time": "2024-05-13T11:28:37.358Z"
   },
   {
    "duration": 8,
    "start_time": "2024-05-13T11:41:15.943Z"
   },
   {
    "duration": 273,
    "start_time": "2024-05-13T11:53:59.248Z"
   },
   {
    "duration": 345,
    "start_time": "2024-05-13T11:54:07.146Z"
   },
   {
    "duration": 4,
    "start_time": "2024-05-13T12:01:17.169Z"
   },
   {
    "duration": 2,
    "start_time": "2024-05-13T12:01:26.608Z"
   },
   {
    "duration": 8,
    "start_time": "2024-05-13T12:10:07.900Z"
   },
   {
    "duration": 7,
    "start_time": "2024-05-13T12:10:18.933Z"
   },
   {
    "duration": 8,
    "start_time": "2024-05-13T12:12:01.087Z"
   },
   {
    "duration": 1180,
    "start_time": "2024-05-13T12:12:05.880Z"
   },
   {
    "duration": 68,
    "start_time": "2024-05-13T12:12:07.061Z"
   },
   {
    "duration": 12,
    "start_time": "2024-05-13T12:12:07.131Z"
   },
   {
    "duration": 31,
    "start_time": "2024-05-13T12:12:07.145Z"
   },
   {
    "duration": 12,
    "start_time": "2024-05-13T12:12:07.177Z"
   },
   {
    "duration": 15,
    "start_time": "2024-05-13T12:12:07.190Z"
   },
   {
    "duration": 13,
    "start_time": "2024-05-13T12:12:07.207Z"
   },
   {
    "duration": 11,
    "start_time": "2024-05-13T12:12:07.222Z"
   },
   {
    "duration": 7,
    "start_time": "2024-05-13T12:12:07.234Z"
   },
   {
    "duration": 5,
    "start_time": "2024-05-13T12:12:07.244Z"
   },
   {
    "duration": 21,
    "start_time": "2024-05-13T12:12:07.250Z"
   },
   {
    "duration": 7,
    "start_time": "2024-05-13T12:12:07.272Z"
   },
   {
    "duration": 7,
    "start_time": "2024-05-13T12:12:07.291Z"
   },
   {
    "duration": 9,
    "start_time": "2024-05-13T12:12:07.299Z"
   },
   {
    "duration": 9,
    "start_time": "2024-05-13T12:12:07.309Z"
   },
   {
    "duration": 6,
    "start_time": "2024-05-13T12:12:07.320Z"
   },
   {
    "duration": 7,
    "start_time": "2024-05-13T12:12:07.328Z"
   },
   {
    "duration": 28,
    "start_time": "2024-05-13T12:12:07.336Z"
   },
   {
    "duration": 10,
    "start_time": "2024-05-13T12:12:07.366Z"
   },
   {
    "duration": 6,
    "start_time": "2024-05-13T12:12:07.391Z"
   },
   {
    "duration": 11,
    "start_time": "2024-05-13T12:12:07.399Z"
   },
   {
    "duration": 8,
    "start_time": "2024-05-13T12:12:07.411Z"
   },
   {
    "duration": 148,
    "start_time": "2024-05-13T12:12:07.420Z"
   },
   {
    "duration": 173,
    "start_time": "2024-05-13T12:12:07.569Z"
   },
   {
    "duration": 15,
    "start_time": "2024-05-13T12:12:07.743Z"
   },
   {
    "duration": 10,
    "start_time": "2024-05-13T12:12:07.759Z"
   },
   {
    "duration": 31,
    "start_time": "2024-05-13T12:12:07.771Z"
   },
   {
    "duration": 155,
    "start_time": "2024-05-13T12:12:07.805Z"
   },
   {
    "duration": 223,
    "start_time": "2024-05-13T12:12:07.962Z"
   },
   {
    "duration": 15,
    "start_time": "2024-05-13T12:12:08.191Z"
   },
   {
    "duration": 6,
    "start_time": "2024-05-13T12:12:08.207Z"
   },
   {
    "duration": 140,
    "start_time": "2024-05-13T12:12:08.215Z"
   },
   {
    "duration": 195,
    "start_time": "2024-05-13T12:12:08.357Z"
   },
   {
    "duration": 16,
    "start_time": "2024-05-13T12:12:08.554Z"
   },
   {
    "duration": 19,
    "start_time": "2024-05-13T12:12:08.572Z"
   },
   {
    "duration": 16,
    "start_time": "2024-05-13T12:12:08.593Z"
   },
   {
    "duration": 15,
    "start_time": "2024-05-13T12:12:08.610Z"
   },
   {
    "duration": 17,
    "start_time": "2024-05-13T12:12:08.627Z"
   },
   {
    "duration": 15,
    "start_time": "2024-05-13T12:12:08.646Z"
   },
   {
    "duration": 17,
    "start_time": "2024-05-13T12:12:08.663Z"
   },
   {
    "duration": 27,
    "start_time": "2024-05-13T12:12:08.681Z"
   },
   {
    "duration": 14,
    "start_time": "2024-05-13T12:12:08.710Z"
   },
   {
    "duration": 19,
    "start_time": "2024-05-13T12:12:08.726Z"
   },
   {
    "duration": 22,
    "start_time": "2024-05-13T12:12:08.747Z"
   },
   {
    "duration": 28,
    "start_time": "2024-05-13T12:12:08.770Z"
   },
   {
    "duration": 333,
    "start_time": "2024-05-13T12:12:08.800Z"
   },
   {
    "duration": 455,
    "start_time": "2024-05-13T12:12:09.135Z"
   },
   {
    "duration": 853,
    "start_time": "2024-05-13T12:12:09.592Z"
   },
   {
    "duration": 3,
    "start_time": "2024-05-13T12:12:10.447Z"
   },
   {
    "duration": 17,
    "start_time": "2024-05-13T12:12:10.451Z"
   },
   {
    "duration": 17,
    "start_time": "2024-05-13T12:12:10.470Z"
   },
   {
    "duration": 7,
    "start_time": "2024-05-13T12:12:10.488Z"
   },
   {
    "duration": 4364,
    "start_time": "2024-05-13T12:12:10.497Z"
   },
   {
    "duration": 32,
    "start_time": "2024-05-13T12:12:14.862Z"
   },
   {
    "duration": 13,
    "start_time": "2024-05-13T12:12:14.895Z"
   },
   {
    "duration": 22,
    "start_time": "2024-05-13T12:12:14.909Z"
   },
   {
    "duration": 18,
    "start_time": "2024-05-13T12:12:14.932Z"
   },
   {
    "duration": 22,
    "start_time": "2024-05-13T12:12:14.952Z"
   },
   {
    "duration": 358,
    "start_time": "2024-05-13T12:12:14.976Z"
   },
   {
    "duration": 152,
    "start_time": "2024-05-13T12:12:15.336Z"
   },
   {
    "duration": 90,
    "start_time": "2024-05-13T12:15:12.058Z"
   },
   {
    "duration": 8,
    "start_time": "2024-05-13T12:16:33.104Z"
   },
   {
    "duration": 86,
    "start_time": "2024-05-13T12:17:32.128Z"
   },
   {
    "duration": 96,
    "start_time": "2024-05-13T12:17:42.472Z"
   },
   {
    "duration": 6,
    "start_time": "2024-05-13T12:17:49.426Z"
   },
   {
    "duration": 8,
    "start_time": "2024-05-13T12:18:01.209Z"
   },
   {
    "duration": 1242,
    "start_time": "2024-05-13T13:03:18.973Z"
   },
   {
    "duration": 68,
    "start_time": "2024-05-13T13:03:20.217Z"
   },
   {
    "duration": 10,
    "start_time": "2024-05-13T13:03:20.287Z"
   },
   {
    "duration": 46,
    "start_time": "2024-05-13T13:03:20.299Z"
   },
   {
    "duration": 24,
    "start_time": "2024-05-13T13:03:20.347Z"
   },
   {
    "duration": 26,
    "start_time": "2024-05-13T13:03:20.373Z"
   },
   {
    "duration": 18,
    "start_time": "2024-05-13T13:03:20.400Z"
   },
   {
    "duration": 42,
    "start_time": "2024-05-13T13:03:20.420Z"
   },
   {
    "duration": 30,
    "start_time": "2024-05-13T13:03:20.464Z"
   },
   {
    "duration": 8,
    "start_time": "2024-05-13T13:03:20.495Z"
   },
   {
    "duration": 17,
    "start_time": "2024-05-13T13:03:20.505Z"
   },
   {
    "duration": 29,
    "start_time": "2024-05-13T13:03:20.524Z"
   },
   {
    "duration": 30,
    "start_time": "2024-05-13T13:03:20.554Z"
   },
   {
    "duration": 11,
    "start_time": "2024-05-13T13:03:20.588Z"
   },
   {
    "duration": 42,
    "start_time": "2024-05-13T13:03:20.600Z"
   },
   {
    "duration": 56,
    "start_time": "2024-05-13T13:03:20.643Z"
   },
   {
    "duration": 13,
    "start_time": "2024-05-13T13:03:20.700Z"
   },
   {
    "duration": 14,
    "start_time": "2024-05-13T13:03:20.715Z"
   },
   {
    "duration": 30,
    "start_time": "2024-05-13T13:03:20.731Z"
   },
   {
    "duration": 19,
    "start_time": "2024-05-13T13:03:20.762Z"
   },
   {
    "duration": 14,
    "start_time": "2024-05-13T13:03:20.783Z"
   },
   {
    "duration": 9,
    "start_time": "2024-05-13T13:03:20.799Z"
   },
   {
    "duration": 142,
    "start_time": "2024-05-13T13:03:20.810Z"
   },
   {
    "duration": 154,
    "start_time": "2024-05-13T13:03:20.954Z"
   },
   {
    "duration": 14,
    "start_time": "2024-05-13T13:03:21.110Z"
   },
   {
    "duration": 7,
    "start_time": "2024-05-13T13:03:21.126Z"
   },
   {
    "duration": 27,
    "start_time": "2024-05-13T13:03:21.134Z"
   },
   {
    "duration": 174,
    "start_time": "2024-05-13T13:03:21.163Z"
   },
   {
    "duration": 219,
    "start_time": "2024-05-13T13:03:21.338Z"
   },
   {
    "duration": 15,
    "start_time": "2024-05-13T13:03:21.558Z"
   },
   {
    "duration": 22,
    "start_time": "2024-05-13T13:03:21.576Z"
   },
   {
    "duration": 134,
    "start_time": "2024-05-13T13:03:21.600Z"
   },
   {
    "duration": 203,
    "start_time": "2024-05-13T13:03:21.736Z"
   },
   {
    "duration": 15,
    "start_time": "2024-05-13T13:03:21.940Z"
   },
   {
    "duration": 63,
    "start_time": "2024-05-13T13:03:21.956Z"
   },
   {
    "duration": 74,
    "start_time": "2024-05-13T13:03:22.021Z"
   },
   {
    "duration": 53,
    "start_time": "2024-05-13T13:03:22.097Z"
   },
   {
    "duration": 15,
    "start_time": "2024-05-13T13:03:22.152Z"
   },
   {
    "duration": 14,
    "start_time": "2024-05-13T13:03:22.169Z"
   },
   {
    "duration": 40,
    "start_time": "2024-05-13T13:03:22.185Z"
   },
   {
    "duration": 20,
    "start_time": "2024-05-13T13:03:22.229Z"
   },
   {
    "duration": 30,
    "start_time": "2024-05-13T13:03:22.251Z"
   },
   {
    "duration": 61,
    "start_time": "2024-05-13T13:03:22.283Z"
   },
   {
    "duration": 50,
    "start_time": "2024-05-13T13:03:22.346Z"
   },
   {
    "duration": 16,
    "start_time": "2024-05-13T13:03:22.398Z"
   },
   {
    "duration": 138,
    "start_time": "2024-05-13T13:23:55.700Z"
   },
   {
    "duration": 213,
    "start_time": "2024-05-13T13:24:17.680Z"
   },
   {
    "duration": 9,
    "start_time": "2024-05-13T13:25:25.993Z"
   },
   {
    "duration": 145,
    "start_time": "2024-05-13T13:25:52.846Z"
   },
   {
    "duration": 138,
    "start_time": "2024-05-13T13:26:05.898Z"
   },
   {
    "duration": 159,
    "start_time": "2024-05-13T13:26:25.237Z"
   },
   {
    "duration": 16,
    "start_time": "2024-05-13T13:27:40.347Z"
   },
   {
    "duration": 125,
    "start_time": "2024-05-13T13:28:11.238Z"
   },
   {
    "duration": 178,
    "start_time": "2024-05-13T13:28:42.439Z"
   },
   {
    "duration": 240,
    "start_time": "2024-05-13T13:29:11.266Z"
   },
   {
    "duration": 147,
    "start_time": "2024-05-13T13:29:18.896Z"
   },
   {
    "duration": 148,
    "start_time": "2024-05-13T13:29:27.694Z"
   },
   {
    "duration": 150,
    "start_time": "2024-05-13T13:29:36.597Z"
   },
   {
    "duration": 128,
    "start_time": "2024-05-13T13:29:44.525Z"
   },
   {
    "duration": 151,
    "start_time": "2024-05-13T13:29:55.873Z"
   },
   {
    "duration": 108,
    "start_time": "2024-05-13T13:32:25.832Z"
   },
   {
    "duration": 127,
    "start_time": "2024-05-13T13:33:51.316Z"
   },
   {
    "duration": 184,
    "start_time": "2024-05-13T13:33:58.146Z"
   },
   {
    "duration": 136,
    "start_time": "2024-05-13T13:34:08.483Z"
   },
   {
    "duration": 74,
    "start_time": "2024-05-13T13:35:03.035Z"
   },
   {
    "duration": 114,
    "start_time": "2024-05-13T13:35:12.644Z"
   },
   {
    "duration": 10,
    "start_time": "2024-05-13T13:36:19.682Z"
   },
   {
    "duration": 118,
    "start_time": "2024-05-13T13:36:38.270Z"
   },
   {
    "duration": 121,
    "start_time": "2024-05-13T13:41:36.894Z"
   },
   {
    "duration": 172,
    "start_time": "2024-05-13T13:42:40.933Z"
   },
   {
    "duration": 171,
    "start_time": "2024-05-13T13:42:55.085Z"
   },
   {
    "duration": 134,
    "start_time": "2024-05-13T13:46:16.312Z"
   },
   {
    "duration": 162,
    "start_time": "2024-05-13T13:46:34.397Z"
   },
   {
    "duration": 73,
    "start_time": "2024-05-13T23:14:53.897Z"
   },
   {
    "duration": 46,
    "start_time": "2024-05-13T23:15:03.337Z"
   },
   {
    "duration": 1387,
    "start_time": "2024-05-13T23:15:09.367Z"
   },
   {
    "duration": 301,
    "start_time": "2024-05-13T23:15:10.756Z"
   },
   {
    "duration": 13,
    "start_time": "2024-05-13T23:15:11.058Z"
   },
   {
    "duration": 15,
    "start_time": "2024-05-13T23:15:11.073Z"
   },
   {
    "duration": 10,
    "start_time": "2024-05-13T23:15:11.089Z"
   },
   {
    "duration": 32,
    "start_time": "2024-05-13T23:15:11.101Z"
   },
   {
    "duration": 26,
    "start_time": "2024-05-13T23:15:11.135Z"
   },
   {
    "duration": 15,
    "start_time": "2024-05-13T23:15:11.162Z"
   },
   {
    "duration": 19,
    "start_time": "2024-05-13T23:15:11.178Z"
   },
   {
    "duration": 18,
    "start_time": "2024-05-13T23:15:11.200Z"
   },
   {
    "duration": 12,
    "start_time": "2024-05-13T23:15:11.219Z"
   },
   {
    "duration": 8,
    "start_time": "2024-05-13T23:15:11.232Z"
   },
   {
    "duration": 13,
    "start_time": "2024-05-13T23:15:11.241Z"
   },
   {
    "duration": 9,
    "start_time": "2024-05-13T23:15:11.256Z"
   },
   {
    "duration": 20,
    "start_time": "2024-05-13T23:15:11.266Z"
   },
   {
    "duration": 8,
    "start_time": "2024-05-13T23:15:11.288Z"
   },
   {
    "duration": 7,
    "start_time": "2024-05-13T23:15:11.298Z"
   },
   {
    "duration": 31,
    "start_time": "2024-05-13T23:15:11.306Z"
   },
   {
    "duration": 12,
    "start_time": "2024-05-13T23:15:11.339Z"
   },
   {
    "duration": 7,
    "start_time": "2024-05-13T23:15:11.353Z"
   },
   {
    "duration": 186,
    "start_time": "2024-05-13T23:15:11.361Z"
   },
   {
    "duration": 9,
    "start_time": "2024-05-13T23:15:11.549Z"
   },
   {
    "duration": 21,
    "start_time": "2024-05-13T23:15:11.560Z"
   },
   {
    "duration": 110,
    "start_time": "2024-05-13T23:15:11.583Z"
   },
   {
    "duration": 175,
    "start_time": "2024-05-13T23:15:11.695Z"
   },
   {
    "duration": 21,
    "start_time": "2024-05-13T23:15:11.872Z"
   },
   {
    "duration": 18,
    "start_time": "2024-05-13T23:15:11.894Z"
   },
   {
    "duration": 22,
    "start_time": "2024-05-13T23:15:11.917Z"
   },
   {
    "duration": 131,
    "start_time": "2024-05-13T23:15:11.941Z"
   },
   {
    "duration": 206,
    "start_time": "2024-05-13T23:15:12.081Z"
   },
   {
    "duration": 16,
    "start_time": "2024-05-13T23:15:12.289Z"
   },
   {
    "duration": 14,
    "start_time": "2024-05-13T23:15:12.307Z"
   },
   {
    "duration": 133,
    "start_time": "2024-05-13T23:15:12.322Z"
   },
   {
    "duration": 234,
    "start_time": "2024-05-13T23:15:12.457Z"
   },
   {
    "duration": 16,
    "start_time": "2024-05-13T23:15:12.693Z"
   },
   {
    "duration": 33,
    "start_time": "2024-05-13T23:15:12.710Z"
   },
   {
    "duration": 22,
    "start_time": "2024-05-13T23:15:12.744Z"
   },
   {
    "duration": 21,
    "start_time": "2024-05-13T23:15:12.767Z"
   },
   {
    "duration": 19,
    "start_time": "2024-05-13T23:15:12.789Z"
   },
   {
    "duration": 15,
    "start_time": "2024-05-13T23:15:12.810Z"
   },
   {
    "duration": 17,
    "start_time": "2024-05-13T23:15:12.827Z"
   },
   {
    "duration": 15,
    "start_time": "2024-05-13T23:15:12.846Z"
   },
   {
    "duration": 23,
    "start_time": "2024-05-13T23:15:12.862Z"
   },
   {
    "duration": 21,
    "start_time": "2024-05-13T23:15:12.887Z"
   },
   {
    "duration": 22,
    "start_time": "2024-05-13T23:15:12.910Z"
   },
   {
    "duration": 16,
    "start_time": "2024-05-13T23:15:12.934Z"
   },
   {
    "duration": 355,
    "start_time": "2024-05-13T23:15:12.951Z"
   },
   {
    "duration": 446,
    "start_time": "2024-05-13T23:15:13.308Z"
   },
   {
    "duration": 868,
    "start_time": "2024-05-13T23:15:13.756Z"
   },
   {
    "duration": 5,
    "start_time": "2024-05-13T23:15:14.626Z"
   },
   {
    "duration": 10,
    "start_time": "2024-05-13T23:15:14.633Z"
   },
   {
    "duration": 27,
    "start_time": "2024-05-13T23:15:14.646Z"
   },
   {
    "duration": 7,
    "start_time": "2024-05-13T23:15:14.675Z"
   },
   {
    "duration": 4619,
    "start_time": "2024-05-13T23:15:14.684Z"
   },
   {
    "duration": 18,
    "start_time": "2024-05-13T23:15:19.305Z"
   },
   {
    "duration": 17,
    "start_time": "2024-05-13T23:15:19.324Z"
   },
   {
    "duration": 21,
    "start_time": "2024-05-13T23:15:19.342Z"
   },
   {
    "duration": 21,
    "start_time": "2024-05-13T23:15:19.365Z"
   },
   {
    "duration": 13,
    "start_time": "2024-05-13T23:15:19.388Z"
   },
   {
    "duration": 432,
    "start_time": "2024-05-13T23:15:19.403Z"
   },
   {
    "duration": 149,
    "start_time": "2024-05-13T23:15:19.837Z"
   },
   {
    "duration": 100,
    "start_time": "2024-05-13T23:16:48.238Z"
   },
   {
    "duration": 67,
    "start_time": "2024-05-13T23:16:56.094Z"
   },
   {
    "duration": 91,
    "start_time": "2024-05-13T23:17:18.675Z"
   },
   {
    "duration": 71,
    "start_time": "2024-05-13T23:17:43.093Z"
   },
   {
    "duration": 78,
    "start_time": "2024-05-13T23:20:05.140Z"
   },
   {
    "duration": 77,
    "start_time": "2024-05-13T23:20:19.491Z"
   },
   {
    "duration": 265,
    "start_time": "2024-05-13T23:20:32.537Z"
   },
   {
    "duration": 166,
    "start_time": "2024-05-13T23:20:37.577Z"
   },
   {
    "duration": 72,
    "start_time": "2024-05-13T23:20:42.349Z"
   },
   {
    "duration": 76,
    "start_time": "2024-05-13T23:20:50.778Z"
   },
   {
    "duration": 83,
    "start_time": "2024-05-13T23:21:54.806Z"
   },
   {
    "duration": 82,
    "start_time": "2024-05-13T23:22:29.964Z"
   },
   {
    "duration": 83,
    "start_time": "2024-05-13T23:22:39.203Z"
   },
   {
    "duration": 81,
    "start_time": "2024-05-13T23:23:56.282Z"
   },
   {
    "duration": 98,
    "start_time": "2024-05-13T23:24:10.162Z"
   },
   {
    "duration": 84,
    "start_time": "2024-05-13T23:24:16.858Z"
   },
   {
    "duration": 104,
    "start_time": "2024-05-13T23:24:23.893Z"
   },
   {
    "duration": 66,
    "start_time": "2024-05-13T23:24:37.507Z"
   },
   {
    "duration": 64,
    "start_time": "2024-05-13T23:24:58.921Z"
   },
   {
    "duration": 102,
    "start_time": "2024-05-13T23:25:53.217Z"
   },
   {
    "duration": 72,
    "start_time": "2024-05-13T23:26:15.963Z"
   },
   {
    "duration": 7,
    "start_time": "2024-05-13T23:27:03.698Z"
   },
   {
    "duration": 91,
    "start_time": "2024-05-13T23:27:10.173Z"
   },
   {
    "duration": 116,
    "start_time": "2024-05-13T23:30:16.674Z"
   },
   {
    "duration": 119,
    "start_time": "2024-05-13T23:30:38.714Z"
   },
   {
    "duration": 97,
    "start_time": "2024-05-13T23:31:01.087Z"
   },
   {
    "duration": 41,
    "start_time": "2024-05-14T06:48:18.369Z"
   },
   {
    "duration": 1191,
    "start_time": "2024-05-14T06:48:24.449Z"
   },
   {
    "duration": 215,
    "start_time": "2024-05-14T06:48:25.642Z"
   },
   {
    "duration": 12,
    "start_time": "2024-05-14T06:48:25.859Z"
   },
   {
    "duration": 22,
    "start_time": "2024-05-14T06:48:25.873Z"
   },
   {
    "duration": 10,
    "start_time": "2024-05-14T06:48:25.897Z"
   },
   {
    "duration": 9,
    "start_time": "2024-05-14T06:48:25.908Z"
   },
   {
    "duration": 9,
    "start_time": "2024-05-14T06:48:25.918Z"
   },
   {
    "duration": 13,
    "start_time": "2024-05-14T06:48:25.928Z"
   },
   {
    "duration": 15,
    "start_time": "2024-05-14T06:48:25.942Z"
   },
   {
    "duration": 4,
    "start_time": "2024-05-14T06:48:25.959Z"
   },
   {
    "duration": 8,
    "start_time": "2024-05-14T06:48:25.965Z"
   },
   {
    "duration": 5,
    "start_time": "2024-05-14T06:48:25.975Z"
   },
   {
    "duration": 17,
    "start_time": "2024-05-14T06:48:25.982Z"
   },
   {
    "duration": 4,
    "start_time": "2024-05-14T06:48:26.000Z"
   },
   {
    "duration": 10,
    "start_time": "2024-05-14T06:48:26.005Z"
   },
   {
    "duration": 7,
    "start_time": "2024-05-14T06:48:26.017Z"
   },
   {
    "duration": 8,
    "start_time": "2024-05-14T06:48:26.025Z"
   },
   {
    "duration": 19,
    "start_time": "2024-05-14T06:48:26.034Z"
   },
   {
    "duration": 14,
    "start_time": "2024-05-14T06:48:26.055Z"
   },
   {
    "duration": 4,
    "start_time": "2024-05-14T06:48:26.070Z"
   },
   {
    "duration": 130,
    "start_time": "2024-05-14T06:48:26.075Z"
   },
   {
    "duration": 66,
    "start_time": "2024-05-14T06:48:26.206Z"
   },
   {
    "duration": 7,
    "start_time": "2024-05-14T06:48:26.274Z"
   },
   {
    "duration": 119,
    "start_time": "2024-05-14T06:48:26.282Z"
   },
   {
    "duration": 100,
    "start_time": "2024-05-14T06:48:26.403Z"
   },
   {
    "duration": 0,
    "start_time": "2024-05-14T06:48:26.505Z"
   },
   {
    "duration": 0,
    "start_time": "2024-05-14T06:48:26.506Z"
   },
   {
    "duration": 0,
    "start_time": "2024-05-14T06:48:26.508Z"
   },
   {
    "duration": 0,
    "start_time": "2024-05-14T06:48:26.509Z"
   },
   {
    "duration": 0,
    "start_time": "2024-05-14T06:48:26.510Z"
   },
   {
    "duration": 0,
    "start_time": "2024-05-14T06:48:26.512Z"
   },
   {
    "duration": 0,
    "start_time": "2024-05-14T06:48:26.513Z"
   },
   {
    "duration": 0,
    "start_time": "2024-05-14T06:48:26.514Z"
   },
   {
    "duration": 0,
    "start_time": "2024-05-14T06:48:26.515Z"
   },
   {
    "duration": 0,
    "start_time": "2024-05-14T06:48:26.516Z"
   },
   {
    "duration": 0,
    "start_time": "2024-05-14T06:48:26.517Z"
   },
   {
    "duration": 0,
    "start_time": "2024-05-14T06:48:26.518Z"
   },
   {
    "duration": 0,
    "start_time": "2024-05-14T06:48:26.519Z"
   },
   {
    "duration": 0,
    "start_time": "2024-05-14T06:48:26.520Z"
   },
   {
    "duration": 0,
    "start_time": "2024-05-14T06:48:26.521Z"
   },
   {
    "duration": 0,
    "start_time": "2024-05-14T06:48:26.522Z"
   },
   {
    "duration": 0,
    "start_time": "2024-05-14T06:48:26.523Z"
   },
   {
    "duration": 0,
    "start_time": "2024-05-14T06:48:26.524Z"
   },
   {
    "duration": 0,
    "start_time": "2024-05-14T06:48:26.525Z"
   },
   {
    "duration": 0,
    "start_time": "2024-05-14T06:48:26.526Z"
   },
   {
    "duration": 0,
    "start_time": "2024-05-14T06:48:26.527Z"
   },
   {
    "duration": 0,
    "start_time": "2024-05-14T06:48:26.529Z"
   },
   {
    "duration": 0,
    "start_time": "2024-05-14T06:48:26.529Z"
   },
   {
    "duration": 0,
    "start_time": "2024-05-14T06:48:26.531Z"
   },
   {
    "duration": 0,
    "start_time": "2024-05-14T06:48:26.532Z"
   },
   {
    "duration": 0,
    "start_time": "2024-05-14T06:48:26.533Z"
   },
   {
    "duration": 0,
    "start_time": "2024-05-14T06:48:26.534Z"
   },
   {
    "duration": 0,
    "start_time": "2024-05-14T06:48:26.534Z"
   },
   {
    "duration": 0,
    "start_time": "2024-05-14T06:48:26.536Z"
   },
   {
    "duration": 0,
    "start_time": "2024-05-14T06:48:26.537Z"
   },
   {
    "duration": 0,
    "start_time": "2024-05-14T06:48:26.538Z"
   },
   {
    "duration": 0,
    "start_time": "2024-05-14T06:48:26.539Z"
   },
   {
    "duration": 0,
    "start_time": "2024-05-14T06:48:26.540Z"
   },
   {
    "duration": 0,
    "start_time": "2024-05-14T06:48:26.542Z"
   },
   {
    "duration": 0,
    "start_time": "2024-05-14T06:48:26.543Z"
   },
   {
    "duration": 0,
    "start_time": "2024-05-14T06:48:26.544Z"
   },
   {
    "duration": 120,
    "start_time": "2024-05-14T06:48:52.115Z"
   },
   {
    "duration": 120,
    "start_time": "2024-05-14T06:49:12.924Z"
   },
   {
    "duration": 104,
    "start_time": "2024-05-14T06:49:40.660Z"
   },
   {
    "duration": 106,
    "start_time": "2024-05-14T06:50:02.406Z"
   },
   {
    "duration": 104,
    "start_time": "2024-05-14T06:50:11.987Z"
   },
   {
    "duration": 94,
    "start_time": "2024-05-14T06:50:36.268Z"
   },
   {
    "duration": 162,
    "start_time": "2024-05-14T06:52:22.196Z"
   },
   {
    "duration": 97,
    "start_time": "2024-05-14T06:57:06.622Z"
   },
   {
    "duration": 88,
    "start_time": "2024-05-14T06:57:37.273Z"
   },
   {
    "duration": 92,
    "start_time": "2024-05-14T06:58:06.806Z"
   },
   {
    "duration": 90,
    "start_time": "2024-05-14T06:58:16.499Z"
   },
   {
    "duration": 94,
    "start_time": "2024-05-14T06:59:07.273Z"
   },
   {
    "duration": 96,
    "start_time": "2024-05-14T06:59:13.297Z"
   },
   {
    "duration": 94,
    "start_time": "2024-05-14T06:59:22.535Z"
   },
   {
    "duration": 111,
    "start_time": "2024-05-14T06:59:51.590Z"
   },
   {
    "duration": 108,
    "start_time": "2024-05-14T06:59:59.455Z"
   },
   {
    "duration": 7,
    "start_time": "2024-05-14T07:07:36.386Z"
   },
   {
    "duration": 7,
    "start_time": "2024-05-14T07:07:46.815Z"
   },
   {
    "duration": 8,
    "start_time": "2024-05-14T07:07:53.152Z"
   },
   {
    "duration": 1582,
    "start_time": "2024-05-14T07:08:12.081Z"
   },
   {
    "duration": 1798,
    "start_time": "2024-05-14T07:08:19.598Z"
   },
   {
    "duration": 8,
    "start_time": "2024-05-14T07:08:39.679Z"
   },
   {
    "duration": 1553,
    "start_time": "2024-05-14T07:51:14.371Z"
   },
   {
    "duration": 93,
    "start_time": "2024-05-14T07:51:40.534Z"
   },
   {
    "duration": 1756,
    "start_time": "2024-05-14T07:52:15.227Z"
   },
   {
    "duration": 1706,
    "start_time": "2024-05-14T07:52:18.733Z"
   },
   {
    "duration": 143,
    "start_time": "2024-05-14T07:53:07.659Z"
   },
   {
    "duration": 8,
    "start_time": "2024-05-14T07:53:16.763Z"
   },
   {
    "duration": 136,
    "start_time": "2024-05-14T07:53:54.734Z"
   },
   {
    "duration": 278,
    "start_time": "2024-05-14T07:55:21.097Z"
   },
   {
    "duration": 78,
    "start_time": "2024-05-14T07:55:37.851Z"
   },
   {
    "duration": 92,
    "start_time": "2024-05-14T07:57:20.791Z"
   },
   {
    "duration": 93,
    "start_time": "2024-05-14T07:57:25.688Z"
   },
   {
    "duration": 100,
    "start_time": "2024-05-14T07:57:50.389Z"
   },
   {
    "duration": 94,
    "start_time": "2024-05-14T07:57:57.457Z"
   },
   {
    "duration": 92,
    "start_time": "2024-05-14T07:58:05.676Z"
   },
   {
    "duration": 94,
    "start_time": "2024-05-14T07:58:28.152Z"
   },
   {
    "duration": 93,
    "start_time": "2024-05-14T08:00:30.492Z"
   },
   {
    "duration": 86,
    "start_time": "2024-05-14T08:01:21.013Z"
   },
   {
    "duration": 88,
    "start_time": "2024-05-14T08:01:49.184Z"
   },
   {
    "duration": 83,
    "start_time": "2024-05-14T08:02:16.251Z"
   },
   {
    "duration": 127,
    "start_time": "2024-05-14T08:03:39.952Z"
   },
   {
    "duration": 121,
    "start_time": "2024-05-14T08:03:57.148Z"
   },
   {
    "duration": 71,
    "start_time": "2024-05-14T08:04:40.454Z"
   },
   {
    "duration": 70,
    "start_time": "2024-05-14T08:05:08.739Z"
   },
   {
    "duration": 131,
    "start_time": "2024-05-14T08:07:26.680Z"
   },
   {
    "duration": 115,
    "start_time": "2024-05-14T08:09:43.249Z"
   },
   {
    "duration": 14,
    "start_time": "2024-05-14T08:11:19.231Z"
   },
   {
    "duration": 113,
    "start_time": "2024-05-14T08:11:47.261Z"
   },
   {
    "duration": 115,
    "start_time": "2024-05-14T08:11:54.723Z"
   },
   {
    "duration": 118,
    "start_time": "2024-05-14T08:13:23.133Z"
   },
   {
    "duration": 104,
    "start_time": "2024-05-14T08:15:10.372Z"
   },
   {
    "duration": 248,
    "start_time": "2024-05-14T08:15:39.699Z"
   },
   {
    "duration": 159,
    "start_time": "2024-05-14T08:15:58.970Z"
   },
   {
    "duration": 102,
    "start_time": "2024-05-14T08:16:21.231Z"
   },
   {
    "duration": 168,
    "start_time": "2024-05-14T08:16:52.010Z"
   },
   {
    "duration": 322,
    "start_time": "2024-05-14T08:17:07.760Z"
   },
   {
    "duration": 174,
    "start_time": "2024-05-14T08:17:51.003Z"
   },
   {
    "duration": 182,
    "start_time": "2024-05-14T08:18:34.117Z"
   },
   {
    "duration": 89,
    "start_time": "2024-05-14T08:19:19.259Z"
   },
   {
    "duration": 191,
    "start_time": "2024-05-14T08:19:27.811Z"
   },
   {
    "duration": 185,
    "start_time": "2024-05-14T08:19:46.212Z"
   },
   {
    "duration": 181,
    "start_time": "2024-05-14T08:20:06.398Z"
   },
   {
    "duration": 300,
    "start_time": "2024-05-14T08:20:42.432Z"
   },
   {
    "duration": 286,
    "start_time": "2024-05-14T08:20:59.703Z"
   },
   {
    "duration": 431,
    "start_time": "2024-05-14T08:21:20.796Z"
   },
   {
    "duration": 294,
    "start_time": "2024-05-14T08:21:35.946Z"
   },
   {
    "duration": 193,
    "start_time": "2024-05-14T08:21:58.554Z"
   },
   {
    "duration": 210,
    "start_time": "2024-05-14T08:24:27.465Z"
   },
   {
    "duration": 344,
    "start_time": "2024-05-14T08:24:37.596Z"
   },
   {
    "duration": 345,
    "start_time": "2024-05-14T08:24:52.973Z"
   },
   {
    "duration": 398,
    "start_time": "2024-05-14T08:24:57.544Z"
   },
   {
    "duration": 371,
    "start_time": "2024-05-14T08:25:02.464Z"
   },
   {
    "duration": 350,
    "start_time": "2024-05-14T08:25:33.594Z"
   },
   {
    "duration": 466,
    "start_time": "2024-05-14T08:26:18.847Z"
   },
   {
    "duration": 618,
    "start_time": "2024-05-14T08:26:31.153Z"
   },
   {
    "duration": 441,
    "start_time": "2024-05-14T08:26:43.380Z"
   },
   {
    "duration": 404,
    "start_time": "2024-05-14T08:26:53.149Z"
   },
   {
    "duration": 431,
    "start_time": "2024-05-14T08:27:25.731Z"
   },
   {
    "duration": 381,
    "start_time": "2024-05-14T08:27:34.708Z"
   },
   {
    "duration": 422,
    "start_time": "2024-05-14T08:27:56.730Z"
   },
   {
    "duration": 416,
    "start_time": "2024-05-14T08:28:41.074Z"
   },
   {
    "duration": 451,
    "start_time": "2024-05-14T08:28:50.134Z"
   },
   {
    "duration": 448,
    "start_time": "2024-05-14T08:29:04.842Z"
   },
   {
    "duration": 417,
    "start_time": "2024-05-14T08:29:16.666Z"
   },
   {
    "duration": 557,
    "start_time": "2024-05-14T08:29:25.333Z"
   },
   {
    "duration": 420,
    "start_time": "2024-05-14T08:29:30.922Z"
   },
   {
    "duration": 451,
    "start_time": "2024-05-14T08:29:45.832Z"
   },
   {
    "duration": 466,
    "start_time": "2024-05-14T08:29:51.442Z"
   },
   {
    "duration": 441,
    "start_time": "2024-05-14T08:29:56.880Z"
   },
   {
    "duration": 474,
    "start_time": "2024-05-14T08:30:39.166Z"
   },
   {
    "duration": 467,
    "start_time": "2024-05-14T08:31:06.432Z"
   },
   {
    "duration": 488,
    "start_time": "2024-05-14T08:31:11.143Z"
   },
   {
    "duration": 446,
    "start_time": "2024-05-14T08:31:23.385Z"
   },
   {
    "duration": 602,
    "start_time": "2024-05-14T08:33:06.333Z"
   },
   {
    "duration": 461,
    "start_time": "2024-05-14T08:34:01.673Z"
   },
   {
    "duration": 43,
    "start_time": "2024-05-14T08:38:03.666Z"
   },
   {
    "duration": 40,
    "start_time": "2024-05-14T08:38:14.486Z"
   },
   {
    "duration": 502,
    "start_time": "2024-05-14T08:38:22.937Z"
   },
   {
    "duration": 50,
    "start_time": "2024-05-14T08:41:34.158Z"
   },
   {
    "duration": 496,
    "start_time": "2024-05-14T08:41:44.654Z"
   },
   {
    "duration": 503,
    "start_time": "2024-05-14T08:42:57.541Z"
   },
   {
    "duration": 508,
    "start_time": "2024-05-14T08:43:27.659Z"
   },
   {
    "duration": 515,
    "start_time": "2024-05-14T08:44:56.241Z"
   },
   {
    "duration": 708,
    "start_time": "2024-05-14T08:45:47.770Z"
   },
   {
    "duration": 516,
    "start_time": "2024-05-14T08:46:01.925Z"
   },
   {
    "duration": 517,
    "start_time": "2024-05-14T08:47:02.230Z"
   },
   {
    "duration": 540,
    "start_time": "2024-05-14T08:47:33.936Z"
   },
   {
    "duration": 442,
    "start_time": "2024-05-14T08:48:09.668Z"
   },
   {
    "duration": 436,
    "start_time": "2024-05-14T08:49:10.219Z"
   },
   {
    "duration": 433,
    "start_time": "2024-05-14T08:49:53.387Z"
   },
   {
    "duration": 535,
    "start_time": "2024-05-14T08:50:35.246Z"
   },
   {
    "duration": 735,
    "start_time": "2024-05-14T08:50:42.248Z"
   },
   {
    "duration": 454,
    "start_time": "2024-05-14T08:50:59.510Z"
   },
   {
    "duration": 506,
    "start_time": "2024-05-14T08:51:12.483Z"
   },
   {
    "duration": 516,
    "start_time": "2024-05-14T08:52:27.458Z"
   },
   {
    "duration": 522,
    "start_time": "2024-05-14T08:52:34.051Z"
   },
   {
    "duration": 497,
    "start_time": "2024-05-14T08:52:41.396Z"
   },
   {
    "duration": 510,
    "start_time": "2024-05-14T08:52:49.702Z"
   },
   {
    "duration": 2,
    "start_time": "2024-05-14T08:54:06.162Z"
   },
   {
    "duration": 709,
    "start_time": "2024-05-14T08:54:09.685Z"
   },
   {
    "duration": 548,
    "start_time": "2024-05-14T08:55:09.528Z"
   },
   {
    "duration": 514,
    "start_time": "2024-05-14T08:55:29.317Z"
   },
   {
    "duration": 510,
    "start_time": "2024-05-14T08:55:40.799Z"
   },
   {
    "duration": 506,
    "start_time": "2024-05-14T09:00:52.689Z"
   },
   {
    "duration": 555,
    "start_time": "2024-05-14T09:01:19.728Z"
   },
   {
    "duration": 467,
    "start_time": "2024-05-14T09:05:39.334Z"
   },
   {
    "duration": 533,
    "start_time": "2024-05-14T09:05:49.161Z"
   },
   {
    "duration": 735,
    "start_time": "2024-05-14T09:06:00.063Z"
   },
   {
    "duration": 537,
    "start_time": "2024-05-14T09:06:16.166Z"
   },
   {
    "duration": 527,
    "start_time": "2024-05-14T09:08:02.896Z"
   },
   {
    "duration": 593,
    "start_time": "2024-05-14T09:08:29.814Z"
   },
   {
    "duration": 646,
    "start_time": "2024-05-14T09:08:40.138Z"
   },
   {
    "duration": 810,
    "start_time": "2024-05-14T09:09:39.981Z"
   },
   {
    "duration": 627,
    "start_time": "2024-05-14T09:11:01.863Z"
   },
   {
    "duration": 343,
    "start_time": "2024-05-14T09:12:07.525Z"
   },
   {
    "duration": 481,
    "start_time": "2024-05-14T09:12:39.205Z"
   },
   {
    "duration": 643,
    "start_time": "2024-05-14T09:12:51.032Z"
   },
   {
    "duration": 3,
    "start_time": "2024-05-14T09:13:25.269Z"
   },
   {
    "duration": 822,
    "start_time": "2024-05-14T09:13:25.935Z"
   },
   {
    "duration": 139,
    "start_time": "2024-05-14T09:13:38.666Z"
   },
   {
    "duration": 648,
    "start_time": "2024-05-14T09:14:01.529Z"
   },
   {
    "duration": 725,
    "start_time": "2024-05-14T09:14:45.405Z"
   },
   {
    "duration": 633,
    "start_time": "2024-05-14T09:14:52.433Z"
   },
   {
    "duration": 3,
    "start_time": "2024-05-14T09:14:56.313Z"
   },
   {
    "duration": 802,
    "start_time": "2024-05-14T09:14:56.994Z"
   },
   {
    "duration": 650,
    "start_time": "2024-05-14T09:15:04.238Z"
   },
   {
    "duration": 871,
    "start_time": "2024-05-14T09:22:59.803Z"
   },
   {
    "duration": 918,
    "start_time": "2024-05-14T09:23:15.060Z"
   },
   {
    "duration": 974,
    "start_time": "2024-05-14T09:23:28.459Z"
   },
   {
    "duration": 1105,
    "start_time": "2024-05-14T09:23:40.112Z"
   },
   {
    "duration": 787,
    "start_time": "2024-05-14T09:23:50.654Z"
   },
   {
    "duration": 874,
    "start_time": "2024-05-14T09:23:58.266Z"
   },
   {
    "duration": 877,
    "start_time": "2024-05-14T09:26:47.843Z"
   },
   {
    "duration": 1103,
    "start_time": "2024-05-14T09:28:51.352Z"
   },
   {
    "duration": 950,
    "start_time": "2024-05-14T09:29:13.214Z"
   },
   {
    "duration": 889,
    "start_time": "2024-05-14T09:29:43.665Z"
   },
   {
    "duration": 648,
    "start_time": "2024-05-14T09:31:58.870Z"
   },
   {
    "duration": 42,
    "start_time": "2024-05-14T16:37:09.280Z"
   },
   {
    "duration": 1231,
    "start_time": "2024-05-14T16:37:15.975Z"
   },
   {
    "duration": 212,
    "start_time": "2024-05-14T16:37:17.208Z"
   },
   {
    "duration": 10,
    "start_time": "2024-05-14T16:37:17.421Z"
   },
   {
    "duration": 30,
    "start_time": "2024-05-14T16:37:17.433Z"
   },
   {
    "duration": 8,
    "start_time": "2024-05-14T16:37:17.464Z"
   },
   {
    "duration": 8,
    "start_time": "2024-05-14T16:37:17.473Z"
   },
   {
    "duration": 14,
    "start_time": "2024-05-14T16:37:17.483Z"
   },
   {
    "duration": 11,
    "start_time": "2024-05-14T16:37:17.498Z"
   },
   {
    "duration": 7,
    "start_time": "2024-05-14T16:37:17.510Z"
   },
   {
    "duration": 6,
    "start_time": "2024-05-14T16:37:17.519Z"
   },
   {
    "duration": 18,
    "start_time": "2024-05-14T16:37:17.526Z"
   },
   {
    "duration": 6,
    "start_time": "2024-05-14T16:37:17.545Z"
   },
   {
    "duration": 7,
    "start_time": "2024-05-14T16:37:17.552Z"
   },
   {
    "duration": 4,
    "start_time": "2024-05-14T16:37:17.560Z"
   },
   {
    "duration": 14,
    "start_time": "2024-05-14T16:37:17.565Z"
   },
   {
    "duration": 15,
    "start_time": "2024-05-14T16:37:17.580Z"
   },
   {
    "duration": 56,
    "start_time": "2024-05-14T16:37:17.595Z"
   },
   {
    "duration": 30,
    "start_time": "2024-05-14T16:37:17.652Z"
   },
   {
    "duration": 18,
    "start_time": "2024-05-14T16:37:17.683Z"
   },
   {
    "duration": 34,
    "start_time": "2024-05-14T16:37:17.703Z"
   },
   {
    "duration": 138,
    "start_time": "2024-05-14T16:37:17.738Z"
   },
   {
    "duration": 73,
    "start_time": "2024-05-14T16:37:17.877Z"
   },
   {
    "duration": 6,
    "start_time": "2024-05-14T16:37:17.951Z"
   },
   {
    "duration": 93,
    "start_time": "2024-05-14T16:37:17.958Z"
   },
   {
    "duration": 130,
    "start_time": "2024-05-14T16:37:18.053Z"
   },
   {
    "duration": 21,
    "start_time": "2024-05-14T16:37:18.184Z"
   },
   {
    "duration": 3,
    "start_time": "2024-05-14T16:37:18.206Z"
   },
   {
    "duration": 1019,
    "start_time": "2024-05-14T16:37:18.213Z"
   },
   {
    "duration": 13,
    "start_time": "2024-05-14T16:37:19.234Z"
   },
   {
    "duration": 5,
    "start_time": "2024-05-14T16:37:19.249Z"
   },
   {
    "duration": 120,
    "start_time": "2024-05-14T16:37:19.255Z"
   },
   {
    "duration": 189,
    "start_time": "2024-05-14T16:37:19.376Z"
   },
   {
    "duration": 11,
    "start_time": "2024-05-14T16:37:19.567Z"
   },
   {
    "duration": 4,
    "start_time": "2024-05-14T16:37:19.580Z"
   },
   {
    "duration": 18,
    "start_time": "2024-05-14T16:37:19.585Z"
   },
   {
    "duration": 14,
    "start_time": "2024-05-14T16:37:19.604Z"
   },
   {
    "duration": 11,
    "start_time": "2024-05-14T16:37:19.619Z"
   },
   {
    "duration": 11,
    "start_time": "2024-05-14T16:37:19.631Z"
   },
   {
    "duration": 45,
    "start_time": "2024-05-14T16:37:19.643Z"
   },
   {
    "duration": 13,
    "start_time": "2024-05-14T16:37:19.689Z"
   },
   {
    "duration": 30,
    "start_time": "2024-05-14T16:37:19.703Z"
   },
   {
    "duration": 44,
    "start_time": "2024-05-14T16:37:19.734Z"
   },
   {
    "duration": 19,
    "start_time": "2024-05-14T16:37:19.779Z"
   },
   {
    "duration": 11,
    "start_time": "2024-05-14T16:37:19.800Z"
   },
   {
    "duration": 239,
    "start_time": "2024-05-14T16:37:19.812Z"
   },
   {
    "duration": 258,
    "start_time": "2024-05-14T16:37:20.052Z"
   },
   {
    "duration": 820,
    "start_time": "2024-05-14T16:37:20.311Z"
   },
   {
    "duration": 3,
    "start_time": "2024-05-14T16:37:21.133Z"
   },
   {
    "duration": 43,
    "start_time": "2024-05-14T16:37:21.137Z"
   },
   {
    "duration": 47,
    "start_time": "2024-05-14T16:37:21.181Z"
   },
   {
    "duration": 28,
    "start_time": "2024-05-14T16:37:21.230Z"
   },
   {
    "duration": 3167,
    "start_time": "2024-05-14T16:37:21.260Z"
   },
   {
    "duration": 14,
    "start_time": "2024-05-14T16:37:24.429Z"
   },
   {
    "duration": 15,
    "start_time": "2024-05-14T16:37:24.445Z"
   },
   {
    "duration": 14,
    "start_time": "2024-05-14T16:37:24.462Z"
   },
   {
    "duration": 33,
    "start_time": "2024-05-14T16:37:24.478Z"
   },
   {
    "duration": 40,
    "start_time": "2024-05-14T16:37:24.513Z"
   },
   {
    "duration": 314,
    "start_time": "2024-05-14T16:37:24.555Z"
   },
   {
    "duration": 134,
    "start_time": "2024-05-14T16:37:24.871Z"
   },
   {
    "duration": 116,
    "start_time": "2024-05-14T16:37:40.686Z"
   },
   {
    "duration": 113,
    "start_time": "2024-05-14T16:38:17.521Z"
   },
   {
    "duration": 174,
    "start_time": "2024-05-14T16:38:30.750Z"
   },
   {
    "duration": 118,
    "start_time": "2024-05-14T16:39:12.437Z"
   },
   {
    "duration": 114,
    "start_time": "2024-05-14T16:39:22.530Z"
   },
   {
    "duration": 115,
    "start_time": "2024-05-14T16:39:28.367Z"
   },
   {
    "duration": 52,
    "start_time": "2024-05-14T16:40:03.422Z"
   },
   {
    "duration": 114,
    "start_time": "2024-05-14T16:40:46.368Z"
   },
   {
    "duration": 134,
    "start_time": "2024-05-14T16:40:50.996Z"
   },
   {
    "duration": 92,
    "start_time": "2024-05-14T16:43:24.062Z"
   },
   {
    "duration": 27,
    "start_time": "2024-05-14T16:43:46.454Z"
   },
   {
    "duration": 668,
    "start_time": "2024-05-14T16:44:21.899Z"
   },
   {
    "duration": 21,
    "start_time": "2024-05-14T16:44:34.006Z"
   },
   {
    "duration": 955,
    "start_time": "2024-05-14T16:47:10.037Z"
   },
   {
    "duration": 998,
    "start_time": "2024-05-14T16:47:41.063Z"
   },
   {
    "duration": 88,
    "start_time": "2024-05-14T16:57:15.255Z"
   },
   {
    "duration": 72,
    "start_time": "2024-05-14T16:57:32.014Z"
   },
   {
    "duration": 5,
    "start_time": "2024-05-14T16:59:06.750Z"
   },
   {
    "duration": 1018,
    "start_time": "2024-05-14T16:59:20.245Z"
   },
   {
    "duration": 65,
    "start_time": "2024-05-14T16:59:21.265Z"
   },
   {
    "duration": 9,
    "start_time": "2024-05-14T16:59:21.332Z"
   },
   {
    "duration": 26,
    "start_time": "2024-05-14T16:59:21.342Z"
   },
   {
    "duration": 10,
    "start_time": "2024-05-14T16:59:21.369Z"
   },
   {
    "duration": 8,
    "start_time": "2024-05-14T16:59:21.381Z"
   },
   {
    "duration": 18,
    "start_time": "2024-05-14T16:59:21.391Z"
   },
   {
    "duration": 13,
    "start_time": "2024-05-14T16:59:21.410Z"
   },
   {
    "duration": 6,
    "start_time": "2024-05-14T16:59:21.424Z"
   },
   {
    "duration": 7,
    "start_time": "2024-05-14T16:59:21.432Z"
   },
   {
    "duration": 7,
    "start_time": "2024-05-14T16:59:21.440Z"
   },
   {
    "duration": 6,
    "start_time": "2024-05-14T16:59:21.449Z"
   },
   {
    "duration": 5,
    "start_time": "2024-05-14T16:59:21.456Z"
   },
   {
    "duration": 5,
    "start_time": "2024-05-14T16:59:21.462Z"
   },
   {
    "duration": 41,
    "start_time": "2024-05-14T16:59:21.468Z"
   },
   {
    "duration": 5,
    "start_time": "2024-05-14T16:59:21.511Z"
   },
   {
    "duration": 10,
    "start_time": "2024-05-14T16:59:21.517Z"
   },
   {
    "duration": 16,
    "start_time": "2024-05-14T16:59:21.528Z"
   },
   {
    "duration": 10,
    "start_time": "2024-05-14T16:59:21.545Z"
   },
   {
    "duration": 22,
    "start_time": "2024-05-14T16:59:21.556Z"
   },
   {
    "duration": 140,
    "start_time": "2024-05-14T16:59:21.580Z"
   },
   {
    "duration": 87,
    "start_time": "2024-05-14T16:59:21.721Z"
   },
   {
    "duration": 27,
    "start_time": "2024-05-14T16:59:21.810Z"
   },
   {
    "duration": 3,
    "start_time": "2024-05-14T16:59:21.838Z"
   },
   {
    "duration": 1023,
    "start_time": "2024-05-14T16:59:21.843Z"
   },
   {
    "duration": 91,
    "start_time": "2024-05-14T16:59:22.868Z"
   },
   {
    "duration": 147,
    "start_time": "2024-05-14T16:59:22.961Z"
   },
   {
    "duration": 76,
    "start_time": "2024-05-14T16:59:23.110Z"
   },
   {
    "duration": 15,
    "start_time": "2024-05-14T16:59:23.188Z"
   },
   {
    "duration": 28,
    "start_time": "2024-05-14T16:59:23.205Z"
   },
   {
    "duration": 23,
    "start_time": "2024-05-14T16:59:23.235Z"
   },
   {
    "duration": 19,
    "start_time": "2024-05-14T16:59:23.260Z"
   },
   {
    "duration": 21,
    "start_time": "2024-05-14T16:59:23.281Z"
   },
   {
    "duration": 9,
    "start_time": "2024-05-14T16:59:23.303Z"
   },
   {
    "duration": 12,
    "start_time": "2024-05-14T16:59:23.314Z"
   },
   {
    "duration": 6,
    "start_time": "2024-05-14T16:59:23.328Z"
   },
   {
    "duration": 13,
    "start_time": "2024-05-14T16:59:23.336Z"
   },
   {
    "duration": 14,
    "start_time": "2024-05-14T16:59:23.350Z"
   },
   {
    "duration": 39,
    "start_time": "2024-05-14T16:59:23.366Z"
   },
   {
    "duration": 270,
    "start_time": "2024-05-14T16:59:23.407Z"
   },
   {
    "duration": 291,
    "start_time": "2024-05-14T16:59:23.678Z"
   },
   {
    "duration": 875,
    "start_time": "2024-05-14T16:59:23.970Z"
   },
   {
    "duration": 3,
    "start_time": "2024-05-14T16:59:24.846Z"
   },
   {
    "duration": 8,
    "start_time": "2024-05-14T16:59:24.851Z"
   },
   {
    "duration": 11,
    "start_time": "2024-05-14T16:59:24.861Z"
   },
   {
    "duration": 10,
    "start_time": "2024-05-14T16:59:24.873Z"
   },
   {
    "duration": 3293,
    "start_time": "2024-05-14T16:59:24.884Z"
   },
   {
    "duration": 25,
    "start_time": "2024-05-14T16:59:28.179Z"
   },
   {
    "duration": 4,
    "start_time": "2024-05-14T16:59:28.206Z"
   },
   {
    "duration": 6,
    "start_time": "2024-05-14T16:59:28.212Z"
   },
   {
    "duration": 17,
    "start_time": "2024-05-14T16:59:28.219Z"
   },
   {
    "duration": 19,
    "start_time": "2024-05-14T16:59:28.237Z"
   },
   {
    "duration": 310,
    "start_time": "2024-05-14T16:59:28.257Z"
   },
   {
    "duration": 120,
    "start_time": "2024-05-14T16:59:28.568Z"
   },
   {
    "duration": 5,
    "start_time": "2024-05-14T17:01:57.832Z"
   },
   {
    "duration": 951,
    "start_time": "2024-05-14T17:02:11.423Z"
   },
   {
    "duration": 65,
    "start_time": "2024-05-14T17:02:12.375Z"
   },
   {
    "duration": 10,
    "start_time": "2024-05-14T17:02:12.441Z"
   },
   {
    "duration": 13,
    "start_time": "2024-05-14T17:02:12.452Z"
   },
   {
    "duration": 9,
    "start_time": "2024-05-14T17:02:12.466Z"
   },
   {
    "duration": 7,
    "start_time": "2024-05-14T17:02:12.476Z"
   },
   {
    "duration": 13,
    "start_time": "2024-05-14T17:02:12.484Z"
   },
   {
    "duration": 15,
    "start_time": "2024-05-14T17:02:12.498Z"
   },
   {
    "duration": 9,
    "start_time": "2024-05-14T17:02:12.514Z"
   },
   {
    "duration": 7,
    "start_time": "2024-05-14T17:02:12.526Z"
   },
   {
    "duration": 7,
    "start_time": "2024-05-14T17:02:12.534Z"
   },
   {
    "duration": 7,
    "start_time": "2024-05-14T17:02:12.542Z"
   },
   {
    "duration": 33,
    "start_time": "2024-05-14T17:02:12.551Z"
   },
   {
    "duration": 5,
    "start_time": "2024-05-14T17:02:12.585Z"
   },
   {
    "duration": 22,
    "start_time": "2024-05-14T17:02:12.591Z"
   },
   {
    "duration": 20,
    "start_time": "2024-05-14T17:02:12.615Z"
   },
   {
    "duration": 10,
    "start_time": "2024-05-14T17:02:12.636Z"
   },
   {
    "duration": 19,
    "start_time": "2024-05-14T17:02:12.647Z"
   },
   {
    "duration": 15,
    "start_time": "2024-05-14T17:02:12.667Z"
   },
   {
    "duration": 5,
    "start_time": "2024-05-14T17:02:12.683Z"
   },
   {
    "duration": 147,
    "start_time": "2024-05-14T17:02:12.690Z"
   },
   {
    "duration": 81,
    "start_time": "2024-05-14T17:02:12.838Z"
   },
   {
    "duration": 21,
    "start_time": "2024-05-14T17:02:12.921Z"
   },
   {
    "duration": 3,
    "start_time": "2024-05-14T17:02:12.943Z"
   },
   {
    "duration": 1013,
    "start_time": "2024-05-14T17:02:12.947Z"
   },
   {
    "duration": 9,
    "start_time": "2024-05-14T17:02:13.961Z"
   },
   {
    "duration": 18,
    "start_time": "2024-05-14T17:02:13.972Z"
   },
   {
    "duration": 11,
    "start_time": "2024-05-14T17:02:13.993Z"
   },
   {
    "duration": 13,
    "start_time": "2024-05-14T17:02:14.006Z"
   },
   {
    "duration": 13,
    "start_time": "2024-05-14T17:02:14.020Z"
   },
   {
    "duration": 26,
    "start_time": "2024-05-14T17:02:14.035Z"
   },
   {
    "duration": 8,
    "start_time": "2024-05-14T17:02:14.063Z"
   },
   {
    "duration": 14,
    "start_time": "2024-05-14T17:02:14.072Z"
   },
   {
    "duration": 19,
    "start_time": "2024-05-14T17:02:14.087Z"
   },
   {
    "duration": 50,
    "start_time": "2024-05-14T17:02:14.107Z"
   },
   {
    "duration": 35,
    "start_time": "2024-05-14T17:02:14.158Z"
   },
   {
    "duration": 14,
    "start_time": "2024-05-14T17:02:14.194Z"
   },
   {
    "duration": 241,
    "start_time": "2024-05-14T17:02:14.210Z"
   },
   {
    "duration": 325,
    "start_time": "2024-05-14T17:02:14.452Z"
   },
   {
    "duration": 851,
    "start_time": "2024-05-14T17:02:14.778Z"
   },
   {
    "duration": 3,
    "start_time": "2024-05-14T17:02:15.630Z"
   },
   {
    "duration": 9,
    "start_time": "2024-05-14T17:02:15.634Z"
   },
   {
    "duration": 32,
    "start_time": "2024-05-14T17:02:15.645Z"
   },
   {
    "duration": 23,
    "start_time": "2024-05-14T17:02:15.679Z"
   },
   {
    "duration": 3322,
    "start_time": "2024-05-14T17:02:15.704Z"
   },
   {
    "duration": 14,
    "start_time": "2024-05-14T17:02:19.027Z"
   },
   {
    "duration": 7,
    "start_time": "2024-05-14T17:02:19.042Z"
   },
   {
    "duration": 8,
    "start_time": "2024-05-14T17:02:19.050Z"
   },
   {
    "duration": 13,
    "start_time": "2024-05-14T17:02:19.059Z"
   },
   {
    "duration": 9,
    "start_time": "2024-05-14T17:02:19.073Z"
   },
   {
    "duration": 306,
    "start_time": "2024-05-14T17:02:19.083Z"
   },
   {
    "duration": 126,
    "start_time": "2024-05-14T17:02:19.390Z"
   },
   {
    "duration": 9,
    "start_time": "2024-05-14T17:02:58.015Z"
   },
   {
    "duration": 9,
    "start_time": "2024-05-14T17:04:00.531Z"
   },
   {
    "duration": 115,
    "start_time": "2024-05-14T17:04:10.577Z"
   },
   {
    "duration": 17,
    "start_time": "2024-05-14T17:04:21.242Z"
   },
   {
    "duration": 16,
    "start_time": "2024-05-14T17:04:44.481Z"
   },
   {
    "duration": 13,
    "start_time": "2024-05-14T17:04:49.744Z"
   },
   {
    "duration": 12,
    "start_time": "2024-05-14T17:05:18.144Z"
   },
   {
    "duration": 682,
    "start_time": "2024-05-14T17:06:36.386Z"
   },
   {
    "duration": 13,
    "start_time": "2024-05-14T17:06:42.013Z"
   },
   {
    "duration": 16,
    "start_time": "2024-05-14T17:07:02.684Z"
   },
   {
    "duration": 146,
    "start_time": "2024-05-14T17:08:01.721Z"
   },
   {
    "duration": 11,
    "start_time": "2024-05-14T17:08:29.543Z"
   },
   {
    "duration": 14,
    "start_time": "2024-05-14T17:08:42.927Z"
   },
   {
    "duration": 22,
    "start_time": "2024-05-14T22:15:53.232Z"
   },
   {
    "duration": 13,
    "start_time": "2024-05-14T22:16:09.096Z"
   },
   {
    "duration": 17,
    "start_time": "2024-05-14T22:16:21.508Z"
   },
   {
    "duration": 10,
    "start_time": "2024-05-14T22:16:31.624Z"
   },
   {
    "duration": 5,
    "start_time": "2024-05-14T22:17:20.204Z"
   },
   {
    "duration": 13,
    "start_time": "2024-05-14T22:17:43.084Z"
   },
   {
    "duration": 51,
    "start_time": "2024-05-15T05:16:54.403Z"
   },
   {
    "duration": 1451,
    "start_time": "2024-05-15T05:16:59.493Z"
   },
   {
    "duration": 224,
    "start_time": "2024-05-15T05:17:00.947Z"
   },
   {
    "duration": 22,
    "start_time": "2024-05-15T05:17:01.173Z"
   },
   {
    "duration": 52,
    "start_time": "2024-05-15T05:17:01.197Z"
   },
   {
    "duration": 76,
    "start_time": "2024-05-15T05:17:01.250Z"
   },
   {
    "duration": 48,
    "start_time": "2024-05-15T05:17:01.328Z"
   },
   {
    "duration": 54,
    "start_time": "2024-05-15T05:17:01.377Z"
   },
   {
    "duration": 62,
    "start_time": "2024-05-15T05:17:01.432Z"
   },
   {
    "duration": 32,
    "start_time": "2024-05-15T05:17:01.496Z"
   },
   {
    "duration": 74,
    "start_time": "2024-05-15T05:17:01.530Z"
   },
   {
    "duration": 32,
    "start_time": "2024-05-15T05:17:01.605Z"
   },
   {
    "duration": 85,
    "start_time": "2024-05-15T05:17:01.639Z"
   },
   {
    "duration": 89,
    "start_time": "2024-05-15T05:17:01.725Z"
   },
   {
    "duration": 78,
    "start_time": "2024-05-15T05:17:01.816Z"
   },
   {
    "duration": 30,
    "start_time": "2024-05-15T05:17:01.895Z"
   },
   {
    "duration": 22,
    "start_time": "2024-05-15T05:17:01.927Z"
   },
   {
    "duration": 27,
    "start_time": "2024-05-15T05:17:01.951Z"
   },
   {
    "duration": 50,
    "start_time": "2024-05-15T05:17:01.981Z"
   },
   {
    "duration": 59,
    "start_time": "2024-05-15T05:17:02.033Z"
   },
   {
    "duration": 71,
    "start_time": "2024-05-15T05:17:02.094Z"
   },
   {
    "duration": 217,
    "start_time": "2024-05-15T05:17:02.166Z"
   },
   {
    "duration": 101,
    "start_time": "2024-05-15T05:17:02.396Z"
   },
   {
    "duration": 34,
    "start_time": "2024-05-15T05:17:02.498Z"
   },
   {
    "duration": 3,
    "start_time": "2024-05-15T05:17:02.534Z"
   },
   {
    "duration": 1434,
    "start_time": "2024-05-15T05:17:02.539Z"
   },
   {
    "duration": 29,
    "start_time": "2024-05-15T05:17:03.974Z"
   },
   {
    "duration": 23,
    "start_time": "2024-05-15T05:17:04.005Z"
   },
   {
    "duration": 15,
    "start_time": "2024-05-15T05:17:04.032Z"
   },
   {
    "duration": 11,
    "start_time": "2024-05-15T05:17:04.048Z"
   },
   {
    "duration": 34,
    "start_time": "2024-05-15T05:17:04.060Z"
   },
   {
    "duration": 17,
    "start_time": "2024-05-15T05:17:04.096Z"
   },
   {
    "duration": 31,
    "start_time": "2024-05-15T05:17:04.115Z"
   },
   {
    "duration": 11,
    "start_time": "2024-05-15T05:17:04.147Z"
   },
   {
    "duration": 17,
    "start_time": "2024-05-15T05:17:04.160Z"
   },
   {
    "duration": 20,
    "start_time": "2024-05-15T05:17:04.181Z"
   },
   {
    "duration": 17,
    "start_time": "2024-05-15T05:17:04.203Z"
   },
   {
    "duration": 32,
    "start_time": "2024-05-15T05:17:04.222Z"
   },
   {
    "duration": 20,
    "start_time": "2024-05-15T05:17:04.256Z"
   },
   {
    "duration": 342,
    "start_time": "2024-05-15T05:17:04.278Z"
   },
   {
    "duration": 430,
    "start_time": "2024-05-15T05:17:04.621Z"
   },
   {
    "duration": 993,
    "start_time": "2024-05-15T05:17:05.053Z"
   },
   {
    "duration": 3,
    "start_time": "2024-05-15T05:17:06.048Z"
   },
   {
    "duration": 8,
    "start_time": "2024-05-15T05:17:06.053Z"
   },
   {
    "duration": 28,
    "start_time": "2024-05-15T05:17:06.063Z"
   },
   {
    "duration": 6,
    "start_time": "2024-05-15T05:17:06.092Z"
   },
   {
    "duration": 5120,
    "start_time": "2024-05-15T05:17:06.099Z"
   },
   {
    "duration": 17,
    "start_time": "2024-05-15T05:17:11.220Z"
   },
   {
    "duration": 4,
    "start_time": "2024-05-15T05:17:11.239Z"
   },
   {
    "duration": 16,
    "start_time": "2024-05-15T05:17:11.244Z"
   },
   {
    "duration": 5,
    "start_time": "2024-05-15T05:17:11.261Z"
   },
   {
    "duration": 10,
    "start_time": "2024-05-15T05:17:11.288Z"
   },
   {
    "duration": 401,
    "start_time": "2024-05-15T05:17:11.300Z"
   },
   {
    "duration": 156,
    "start_time": "2024-05-15T05:17:11.703Z"
   },
   {
    "duration": 10,
    "start_time": "2024-05-15T05:17:43.199Z"
   },
   {
    "duration": 9,
    "start_time": "2024-05-15T05:18:00.758Z"
   },
   {
    "duration": 8,
    "start_time": "2024-05-15T05:18:24.053Z"
   },
   {
    "duration": 54,
    "start_time": "2024-05-15T05:18:39.169Z"
   },
   {
    "duration": 11,
    "start_time": "2024-05-15T05:18:48.782Z"
   },
   {
    "duration": 124,
    "start_time": "2024-05-15T05:19:31.425Z"
   },
   {
    "duration": 19,
    "start_time": "2024-05-15T05:19:59.408Z"
   },
   {
    "duration": 5,
    "start_time": "2024-05-15T05:25:29.854Z"
   },
   {
    "duration": 14,
    "start_time": "2024-05-15T05:25:48.193Z"
   },
   {
    "duration": 22,
    "start_time": "2024-05-15T05:26:06.299Z"
   },
   {
    "duration": 21,
    "start_time": "2024-05-15T05:27:51.967Z"
   },
   {
    "duration": 16,
    "start_time": "2024-05-15T05:29:44.616Z"
   },
   {
    "duration": 14,
    "start_time": "2024-05-15T05:29:55.947Z"
   },
   {
    "duration": 1291,
    "start_time": "2024-05-15T05:46:43.199Z"
   },
   {
    "duration": 80,
    "start_time": "2024-05-15T05:46:44.499Z"
   },
   {
    "duration": 18,
    "start_time": "2024-05-15T05:46:44.581Z"
   },
   {
    "duration": 17,
    "start_time": "2024-05-15T05:46:44.601Z"
   },
   {
    "duration": 12,
    "start_time": "2024-05-15T05:46:44.620Z"
   },
   {
    "duration": 10,
    "start_time": "2024-05-15T05:46:44.634Z"
   },
   {
    "duration": 52,
    "start_time": "2024-05-15T05:46:44.645Z"
   },
   {
    "duration": 9,
    "start_time": "2024-05-15T05:46:44.699Z"
   },
   {
    "duration": 6,
    "start_time": "2024-05-15T05:46:44.709Z"
   },
   {
    "duration": 5,
    "start_time": "2024-05-15T05:46:44.718Z"
   },
   {
    "duration": 10,
    "start_time": "2024-05-15T05:46:44.724Z"
   },
   {
    "duration": 7,
    "start_time": "2024-05-15T05:46:44.735Z"
   },
   {
    "duration": 8,
    "start_time": "2024-05-15T05:46:44.744Z"
   },
   {
    "duration": 34,
    "start_time": "2024-05-15T05:46:44.753Z"
   },
   {
    "duration": 16,
    "start_time": "2024-05-15T05:46:44.789Z"
   },
   {
    "duration": 5,
    "start_time": "2024-05-15T05:46:44.807Z"
   },
   {
    "duration": 10,
    "start_time": "2024-05-15T05:46:44.813Z"
   },
   {
    "duration": 13,
    "start_time": "2024-05-15T05:46:44.824Z"
   },
   {
    "duration": 14,
    "start_time": "2024-05-15T05:46:44.839Z"
   },
   {
    "duration": 35,
    "start_time": "2024-05-15T05:46:44.855Z"
   },
   {
    "duration": 174,
    "start_time": "2024-05-15T05:46:44.896Z"
   },
   {
    "duration": 136,
    "start_time": "2024-05-15T05:46:45.072Z"
   },
   {
    "duration": 28,
    "start_time": "2024-05-15T05:46:45.210Z"
   },
   {
    "duration": 15,
    "start_time": "2024-05-15T05:46:45.240Z"
   },
   {
    "duration": 1574,
    "start_time": "2024-05-15T05:46:45.258Z"
   },
   {
    "duration": 16,
    "start_time": "2024-05-15T05:46:46.834Z"
   },
   {
    "duration": 19,
    "start_time": "2024-05-15T05:46:46.851Z"
   },
   {
    "duration": 4,
    "start_time": "2024-05-15T05:46:46.874Z"
   },
   {
    "duration": 35,
    "start_time": "2024-05-15T05:46:46.879Z"
   },
   {
    "duration": 12,
    "start_time": "2024-05-15T05:46:46.918Z"
   },
   {
    "duration": 11,
    "start_time": "2024-05-15T05:46:46.932Z"
   },
   {
    "duration": 15,
    "start_time": "2024-05-15T05:46:46.945Z"
   },
   {
    "duration": 40,
    "start_time": "2024-05-15T05:46:46.962Z"
   },
   {
    "duration": 8,
    "start_time": "2024-05-15T05:46:47.004Z"
   },
   {
    "duration": 16,
    "start_time": "2024-05-15T05:46:47.013Z"
   },
   {
    "duration": 7,
    "start_time": "2024-05-15T05:46:47.030Z"
   },
   {
    "duration": 15,
    "start_time": "2024-05-15T05:46:47.039Z"
   },
   {
    "duration": 50,
    "start_time": "2024-05-15T05:46:47.055Z"
   },
   {
    "duration": 16,
    "start_time": "2024-05-15T05:46:47.107Z"
   },
   {
    "duration": 352,
    "start_time": "2024-05-15T05:46:47.124Z"
   },
   {
    "duration": 444,
    "start_time": "2024-05-15T05:46:47.478Z"
   },
   {
    "duration": 1005,
    "start_time": "2024-05-15T05:46:47.924Z"
   },
   {
    "duration": 4,
    "start_time": "2024-05-15T05:46:48.931Z"
   },
   {
    "duration": 12,
    "start_time": "2024-05-15T05:46:48.936Z"
   },
   {
    "duration": 13,
    "start_time": "2024-05-15T05:46:48.949Z"
   },
   {
    "duration": 23,
    "start_time": "2024-05-15T05:46:48.964Z"
   },
   {
    "duration": 5110,
    "start_time": "2024-05-15T05:46:48.992Z"
   },
   {
    "duration": 18,
    "start_time": "2024-05-15T05:46:54.104Z"
   },
   {
    "duration": 4,
    "start_time": "2024-05-15T05:46:54.124Z"
   },
   {
    "duration": 7,
    "start_time": "2024-05-15T05:46:54.130Z"
   },
   {
    "duration": 28,
    "start_time": "2024-05-15T05:46:54.138Z"
   },
   {
    "duration": 9,
    "start_time": "2024-05-15T05:46:54.168Z"
   },
   {
    "duration": 344,
    "start_time": "2024-05-15T05:46:54.193Z"
   },
   {
    "duration": 168,
    "start_time": "2024-05-15T05:46:54.539Z"
   },
   {
    "duration": 10,
    "start_time": "2024-05-15T05:47:57.922Z"
   },
   {
    "duration": 1172,
    "start_time": "2024-05-15T05:48:03.894Z"
   },
   {
    "duration": 73,
    "start_time": "2024-05-15T05:48:05.068Z"
   },
   {
    "duration": 11,
    "start_time": "2024-05-15T05:48:05.143Z"
   },
   {
    "duration": 19,
    "start_time": "2024-05-15T05:48:05.158Z"
   },
   {
    "duration": 17,
    "start_time": "2024-05-15T05:48:05.179Z"
   },
   {
    "duration": 10,
    "start_time": "2024-05-15T05:48:05.202Z"
   },
   {
    "duration": 25,
    "start_time": "2024-05-15T05:48:05.213Z"
   },
   {
    "duration": 10,
    "start_time": "2024-05-15T05:48:05.239Z"
   },
   {
    "duration": 20,
    "start_time": "2024-05-15T05:48:05.250Z"
   },
   {
    "duration": 5,
    "start_time": "2024-05-15T05:48:05.273Z"
   },
   {
    "duration": 20,
    "start_time": "2024-05-15T05:48:05.279Z"
   },
   {
    "duration": 16,
    "start_time": "2024-05-15T05:48:05.300Z"
   },
   {
    "duration": 19,
    "start_time": "2024-05-15T05:48:05.317Z"
   },
   {
    "duration": 11,
    "start_time": "2024-05-15T05:48:05.338Z"
   },
   {
    "duration": 12,
    "start_time": "2024-05-15T05:48:05.351Z"
   },
   {
    "duration": 15,
    "start_time": "2024-05-15T05:48:05.364Z"
   },
   {
    "duration": 36,
    "start_time": "2024-05-15T05:48:05.381Z"
   },
   {
    "duration": 23,
    "start_time": "2024-05-15T05:48:05.418Z"
   },
   {
    "duration": 22,
    "start_time": "2024-05-15T05:48:05.442Z"
   },
   {
    "duration": 19,
    "start_time": "2024-05-15T05:48:05.466Z"
   },
   {
    "duration": 198,
    "start_time": "2024-05-15T05:48:05.486Z"
   },
   {
    "duration": 94,
    "start_time": "2024-05-15T05:48:05.696Z"
   },
   {
    "duration": 26,
    "start_time": "2024-05-15T05:48:05.792Z"
   },
   {
    "duration": 9,
    "start_time": "2024-05-15T05:48:05.820Z"
   },
   {
    "duration": 1270,
    "start_time": "2024-05-15T05:48:05.830Z"
   },
   {
    "duration": 15,
    "start_time": "2024-05-15T05:48:07.102Z"
   },
   {
    "duration": 34,
    "start_time": "2024-05-15T05:48:07.119Z"
   },
   {
    "duration": 17,
    "start_time": "2024-05-15T05:48:07.158Z"
   },
   {
    "duration": 19,
    "start_time": "2024-05-15T05:48:07.177Z"
   },
   {
    "duration": 24,
    "start_time": "2024-05-15T05:48:07.198Z"
   },
   {
    "duration": 11,
    "start_time": "2024-05-15T05:48:07.224Z"
   },
   {
    "duration": 13,
    "start_time": "2024-05-15T05:48:07.236Z"
   },
   {
    "duration": 41,
    "start_time": "2024-05-15T05:48:07.250Z"
   },
   {
    "duration": 16,
    "start_time": "2024-05-15T05:48:07.293Z"
   },
   {
    "duration": 22,
    "start_time": "2024-05-15T05:48:07.310Z"
   },
   {
    "duration": 15,
    "start_time": "2024-05-15T05:48:07.334Z"
   },
   {
    "duration": 11,
    "start_time": "2024-05-15T05:48:07.351Z"
   },
   {
    "duration": 17,
    "start_time": "2024-05-15T05:48:07.364Z"
   },
   {
    "duration": 24,
    "start_time": "2024-05-15T05:48:07.388Z"
   },
   {
    "duration": 17,
    "start_time": "2024-05-15T05:48:07.413Z"
   },
   {
    "duration": 344,
    "start_time": "2024-05-15T05:48:07.431Z"
   },
   {
    "duration": 450,
    "start_time": "2024-05-15T05:48:07.776Z"
   },
   {
    "duration": 983,
    "start_time": "2024-05-15T05:48:08.228Z"
   },
   {
    "duration": 3,
    "start_time": "2024-05-15T05:48:09.212Z"
   },
   {
    "duration": 9,
    "start_time": "2024-05-15T05:48:09.217Z"
   },
   {
    "duration": 15,
    "start_time": "2024-05-15T05:48:09.228Z"
   },
   {
    "duration": 5,
    "start_time": "2024-05-15T05:48:09.244Z"
   },
   {
    "duration": 5073,
    "start_time": "2024-05-15T05:48:09.251Z"
   },
   {
    "duration": 19,
    "start_time": "2024-05-15T05:48:14.325Z"
   },
   {
    "duration": 8,
    "start_time": "2024-05-15T05:48:14.346Z"
   },
   {
    "duration": 19,
    "start_time": "2024-05-15T05:48:14.355Z"
   },
   {
    "duration": 14,
    "start_time": "2024-05-15T05:48:14.376Z"
   },
   {
    "duration": 24,
    "start_time": "2024-05-15T05:48:14.393Z"
   },
   {
    "duration": 391,
    "start_time": "2024-05-15T05:48:14.419Z"
   },
   {
    "duration": 166,
    "start_time": "2024-05-15T05:48:14.812Z"
   },
   {
    "duration": 11,
    "start_time": "2024-05-15T05:49:28.292Z"
   },
   {
    "duration": 1197,
    "start_time": "2024-05-15T05:49:38.569Z"
   },
   {
    "duration": 71,
    "start_time": "2024-05-15T05:49:39.768Z"
   },
   {
    "duration": 12,
    "start_time": "2024-05-15T05:49:39.841Z"
   },
   {
    "duration": 17,
    "start_time": "2024-05-15T05:49:39.855Z"
   },
   {
    "duration": 33,
    "start_time": "2024-05-15T05:49:39.873Z"
   },
   {
    "duration": 10,
    "start_time": "2024-05-15T05:49:39.907Z"
   },
   {
    "duration": 22,
    "start_time": "2024-05-15T05:49:39.918Z"
   },
   {
    "duration": 12,
    "start_time": "2024-05-15T05:49:39.942Z"
   },
   {
    "duration": 7,
    "start_time": "2024-05-15T05:49:39.956Z"
   },
   {
    "duration": 22,
    "start_time": "2024-05-15T05:49:39.966Z"
   },
   {
    "duration": 13,
    "start_time": "2024-05-15T05:49:39.992Z"
   },
   {
    "duration": 9,
    "start_time": "2024-05-15T05:49:40.006Z"
   },
   {
    "duration": 30,
    "start_time": "2024-05-15T05:49:40.016Z"
   },
   {
    "duration": 6,
    "start_time": "2024-05-15T05:49:40.048Z"
   },
   {
    "duration": 41,
    "start_time": "2024-05-15T05:49:40.056Z"
   },
   {
    "duration": 8,
    "start_time": "2024-05-15T05:49:40.100Z"
   },
   {
    "duration": 19,
    "start_time": "2024-05-15T05:49:40.109Z"
   },
   {
    "duration": 11,
    "start_time": "2024-05-15T05:49:40.129Z"
   },
   {
    "duration": 15,
    "start_time": "2024-05-15T05:49:40.142Z"
   },
   {
    "duration": 6,
    "start_time": "2024-05-15T05:49:40.159Z"
   },
   {
    "duration": 179,
    "start_time": "2024-05-15T05:49:40.166Z"
   },
   {
    "duration": 106,
    "start_time": "2024-05-15T05:49:40.346Z"
   },
   {
    "duration": 47,
    "start_time": "2024-05-15T05:49:40.454Z"
   },
   {
    "duration": 2,
    "start_time": "2024-05-15T05:49:40.503Z"
   },
   {
    "duration": 1287,
    "start_time": "2024-05-15T05:49:40.507Z"
   },
   {
    "duration": 16,
    "start_time": "2024-05-15T05:49:41.800Z"
   },
   {
    "duration": 22,
    "start_time": "2024-05-15T05:49:41.818Z"
   },
   {
    "duration": 23,
    "start_time": "2024-05-15T05:49:41.844Z"
   },
   {
    "duration": 8,
    "start_time": "2024-05-15T05:49:41.884Z"
   },
   {
    "duration": 38,
    "start_time": "2024-05-15T05:49:41.896Z"
   },
   {
    "duration": 10,
    "start_time": "2024-05-15T05:49:41.936Z"
   },
   {
    "duration": 14,
    "start_time": "2024-05-15T05:49:41.948Z"
   },
   {
    "duration": 44,
    "start_time": "2024-05-15T05:49:41.965Z"
   },
   {
    "duration": 24,
    "start_time": "2024-05-15T05:49:42.012Z"
   },
   {
    "duration": 12,
    "start_time": "2024-05-15T05:49:42.039Z"
   },
   {
    "duration": 38,
    "start_time": "2024-05-15T05:49:42.052Z"
   },
   {
    "duration": 22,
    "start_time": "2024-05-15T05:49:42.092Z"
   },
   {
    "duration": 16,
    "start_time": "2024-05-15T05:49:42.116Z"
   },
   {
    "duration": 16,
    "start_time": "2024-05-15T05:49:42.134Z"
   },
   {
    "duration": 16,
    "start_time": "2024-05-15T05:49:42.152Z"
   },
   {
    "duration": 375,
    "start_time": "2024-05-15T05:49:42.170Z"
   },
   {
    "duration": 449,
    "start_time": "2024-05-15T05:49:42.547Z"
   },
   {
    "duration": 975,
    "start_time": "2024-05-15T05:49:42.997Z"
   },
   {
    "duration": 4,
    "start_time": "2024-05-15T05:49:43.973Z"
   },
   {
    "duration": 11,
    "start_time": "2024-05-15T05:49:43.987Z"
   },
   {
    "duration": 16,
    "start_time": "2024-05-15T05:49:44.000Z"
   },
   {
    "duration": 13,
    "start_time": "2024-05-15T05:49:44.018Z"
   },
   {
    "duration": 4952,
    "start_time": "2024-05-15T05:49:44.033Z"
   },
   {
    "duration": 19,
    "start_time": "2024-05-15T05:49:48.986Z"
   },
   {
    "duration": 29,
    "start_time": "2024-05-15T05:49:49.007Z"
   },
   {
    "duration": 7,
    "start_time": "2024-05-15T05:49:49.038Z"
   },
   {
    "duration": 8,
    "start_time": "2024-05-15T05:49:49.047Z"
   },
   {
    "duration": 16,
    "start_time": "2024-05-15T05:49:49.056Z"
   },
   {
    "duration": 354,
    "start_time": "2024-05-15T05:49:49.073Z"
   },
   {
    "duration": 169,
    "start_time": "2024-05-15T05:49:49.428Z"
   },
   {
    "duration": 16,
    "start_time": "2024-05-15T06:04:10.922Z"
   },
   {
    "duration": 13,
    "start_time": "2024-05-15T06:08:47.835Z"
   },
   {
    "duration": 19,
    "start_time": "2024-05-15T06:09:13.887Z"
   },
   {
    "duration": 1227,
    "start_time": "2024-05-15T06:29:13.207Z"
   },
   {
    "duration": 74,
    "start_time": "2024-05-15T06:29:14.436Z"
   },
   {
    "duration": 12,
    "start_time": "2024-05-15T06:29:14.511Z"
   },
   {
    "duration": 14,
    "start_time": "2024-05-15T06:29:14.525Z"
   },
   {
    "duration": 10,
    "start_time": "2024-05-15T06:29:14.541Z"
   },
   {
    "duration": 8,
    "start_time": "2024-05-15T06:29:14.553Z"
   },
   {
    "duration": 29,
    "start_time": "2024-05-15T06:29:14.563Z"
   },
   {
    "duration": 8,
    "start_time": "2024-05-15T06:29:14.595Z"
   },
   {
    "duration": 16,
    "start_time": "2024-05-15T06:29:14.605Z"
   },
   {
    "duration": 6,
    "start_time": "2024-05-15T06:29:14.624Z"
   },
   {
    "duration": 9,
    "start_time": "2024-05-15T06:29:14.631Z"
   },
   {
    "duration": 7,
    "start_time": "2024-05-15T06:29:14.642Z"
   },
   {
    "duration": 14,
    "start_time": "2024-05-15T06:29:14.650Z"
   },
   {
    "duration": 25,
    "start_time": "2024-05-15T06:29:14.666Z"
   },
   {
    "duration": 17,
    "start_time": "2024-05-15T06:29:14.692Z"
   },
   {
    "duration": 17,
    "start_time": "2024-05-15T06:29:14.711Z"
   },
   {
    "duration": 11,
    "start_time": "2024-05-15T06:29:14.730Z"
   },
   {
    "duration": 17,
    "start_time": "2024-05-15T06:29:14.743Z"
   },
   {
    "duration": 10,
    "start_time": "2024-05-15T06:29:14.762Z"
   },
   {
    "duration": 19,
    "start_time": "2024-05-15T06:29:14.773Z"
   },
   {
    "duration": 170,
    "start_time": "2024-05-15T06:29:14.794Z"
   },
   {
    "duration": 103,
    "start_time": "2024-05-15T06:29:14.966Z"
   },
   {
    "duration": 46,
    "start_time": "2024-05-15T06:29:15.070Z"
   },
   {
    "duration": 22,
    "start_time": "2024-05-15T06:29:15.118Z"
   },
   {
    "duration": 1311,
    "start_time": "2024-05-15T06:29:15.141Z"
   },
   {
    "duration": 15,
    "start_time": "2024-05-15T06:29:16.454Z"
   },
   {
    "duration": 25,
    "start_time": "2024-05-15T06:29:16.470Z"
   },
   {
    "duration": 4,
    "start_time": "2024-05-15T06:29:16.500Z"
   },
   {
    "duration": 13,
    "start_time": "2024-05-15T06:29:16.506Z"
   },
   {
    "duration": 15,
    "start_time": "2024-05-15T06:29:16.521Z"
   },
   {
    "duration": 17,
    "start_time": "2024-05-15T06:29:16.538Z"
   },
   {
    "duration": 14,
    "start_time": "2024-05-15T06:29:16.556Z"
   },
   {
    "duration": 18,
    "start_time": "2024-05-15T06:29:16.584Z"
   },
   {
    "duration": 9,
    "start_time": "2024-05-15T06:29:16.604Z"
   },
   {
    "duration": 18,
    "start_time": "2024-05-15T06:29:16.615Z"
   },
   {
    "duration": 18,
    "start_time": "2024-05-15T06:29:16.634Z"
   },
   {
    "duration": 7,
    "start_time": "2024-05-15T06:29:16.653Z"
   },
   {
    "duration": 37,
    "start_time": "2024-05-15T06:29:16.662Z"
   },
   {
    "duration": 36,
    "start_time": "2024-05-15T06:29:16.701Z"
   },
   {
    "duration": 37,
    "start_time": "2024-05-15T06:29:16.738Z"
   },
   {
    "duration": 21,
    "start_time": "2024-05-15T06:29:16.777Z"
   },
   {
    "duration": 337,
    "start_time": "2024-05-15T06:29:16.800Z"
   },
   {
    "duration": 438,
    "start_time": "2024-05-15T06:29:17.139Z"
   },
   {
    "duration": 999,
    "start_time": "2024-05-15T06:29:17.579Z"
   },
   {
    "duration": 8,
    "start_time": "2024-05-15T06:29:18.579Z"
   },
   {
    "duration": 7,
    "start_time": "2024-05-15T06:29:18.591Z"
   },
   {
    "duration": 14,
    "start_time": "2024-05-15T06:29:18.599Z"
   },
   {
    "duration": 5,
    "start_time": "2024-05-15T06:29:18.614Z"
   },
   {
    "duration": 5102,
    "start_time": "2024-05-15T06:29:18.620Z"
   },
   {
    "duration": 17,
    "start_time": "2024-05-15T06:29:23.723Z"
   },
   {
    "duration": 7,
    "start_time": "2024-05-15T06:29:23.742Z"
   },
   {
    "duration": 14,
    "start_time": "2024-05-15T06:29:23.750Z"
   },
   {
    "duration": 29,
    "start_time": "2024-05-15T06:29:23.766Z"
   },
   {
    "duration": 20,
    "start_time": "2024-05-15T06:29:23.796Z"
   },
   {
    "duration": 405,
    "start_time": "2024-05-15T06:29:23.818Z"
   },
   {
    "duration": 170,
    "start_time": "2024-05-15T06:29:24.225Z"
   },
   {
    "duration": 567,
    "start_time": "2024-05-15T06:57:19.443Z"
   },
   {
    "duration": 332,
    "start_time": "2024-05-15T06:57:33.184Z"
   },
   {
    "duration": 352,
    "start_time": "2024-05-15T06:58:12.496Z"
   },
   {
    "duration": 302,
    "start_time": "2024-05-15T06:58:19.993Z"
   },
   {
    "duration": 355,
    "start_time": "2024-05-15T06:58:33.832Z"
   },
   {
    "duration": 430,
    "start_time": "2024-05-15T06:58:39.933Z"
   },
   {
    "duration": 356,
    "start_time": "2024-05-15T06:58:55.340Z"
   },
   {
    "duration": 378,
    "start_time": "2024-05-15T06:59:58.520Z"
   },
   {
    "duration": 335,
    "start_time": "2024-05-15T07:01:23.796Z"
   },
   {
    "duration": 3,
    "start_time": "2024-05-15T07:01:36.304Z"
   },
   {
    "duration": 731,
    "start_time": "2024-05-15T07:01:37.177Z"
   },
   {
    "duration": 3,
    "start_time": "2024-05-15T07:01:53.936Z"
   },
   {
    "duration": 1232,
    "start_time": "2024-05-15T07:01:54.616Z"
   },
   {
    "duration": 527,
    "start_time": "2024-05-15T07:02:06.593Z"
   },
   {
    "duration": 3,
    "start_time": "2024-05-15T07:02:33.307Z"
   },
   {
    "duration": 1201,
    "start_time": "2024-05-15T07:02:33.936Z"
   },
   {
    "duration": 349,
    "start_time": "2024-05-15T07:03:14.654Z"
   },
   {
    "duration": 351,
    "start_time": "2024-05-15T07:05:13.953Z"
   },
   {
    "duration": 360,
    "start_time": "2024-05-15T07:05:47.858Z"
   },
   {
    "duration": 370,
    "start_time": "2024-05-15T07:06:23.534Z"
   },
   {
    "duration": 364,
    "start_time": "2024-05-15T07:06:38.575Z"
   },
   {
    "duration": 413,
    "start_time": "2024-05-15T07:07:00.534Z"
   },
   {
    "duration": 549,
    "start_time": "2024-05-15T07:07:16.246Z"
   },
   {
    "duration": 547,
    "start_time": "2024-05-15T07:08:23.978Z"
   },
   {
    "duration": 544,
    "start_time": "2024-05-15T07:09:02.096Z"
   },
   {
    "duration": 535,
    "start_time": "2024-05-15T07:09:26.757Z"
   },
   {
    "duration": 516,
    "start_time": "2024-05-15T07:09:52.193Z"
   },
   {
    "duration": 835,
    "start_time": "2024-05-15T07:10:58.325Z"
   },
   {
    "duration": 686,
    "start_time": "2024-05-15T07:11:14.254Z"
   },
   {
    "duration": 680,
    "start_time": "2024-05-15T07:11:38.115Z"
   },
   {
    "duration": 784,
    "start_time": "2024-05-15T07:12:35.074Z"
   },
   {
    "duration": 700,
    "start_time": "2024-05-15T07:12:47.905Z"
   },
   {
    "duration": 629,
    "start_time": "2024-05-15T07:13:35.093Z"
   },
   {
    "duration": 66,
    "start_time": "2024-05-15T07:13:54.959Z"
   },
   {
    "duration": 53,
    "start_time": "2024-05-15T07:14:04.400Z"
   },
   {
    "duration": 65,
    "start_time": "2024-05-15T07:14:09.031Z"
   },
   {
    "duration": 394,
    "start_time": "2024-05-15T07:14:38.526Z"
   },
   {
    "duration": 633,
    "start_time": "2024-05-15T07:15:09.597Z"
   },
   {
    "duration": 618,
    "start_time": "2024-05-15T07:15:40.894Z"
   },
   {
    "duration": 805,
    "start_time": "2024-05-15T07:16:03.954Z"
   },
   {
    "duration": 694,
    "start_time": "2024-05-15T07:16:12.921Z"
   },
   {
    "duration": 649,
    "start_time": "2024-05-15T07:16:20.146Z"
   },
   {
    "duration": 810,
    "start_time": "2024-05-15T07:16:44.254Z"
   },
   {
    "duration": 693,
    "start_time": "2024-05-15T07:17:00.625Z"
   },
   {
    "duration": 661,
    "start_time": "2024-05-15T07:17:12.174Z"
   },
   {
    "duration": 822,
    "start_time": "2024-05-15T07:19:13.567Z"
   },
   {
    "duration": 690,
    "start_time": "2024-05-15T07:19:30.418Z"
   },
   {
    "duration": 653,
    "start_time": "2024-05-15T07:19:45.418Z"
   },
   {
    "duration": 672,
    "start_time": "2024-05-15T07:20:01.394Z"
   },
   {
    "duration": 823,
    "start_time": "2024-05-15T07:20:32.978Z"
   },
   {
    "duration": 685,
    "start_time": "2024-05-15T07:22:31.513Z"
   },
   {
    "duration": 545,
    "start_time": "2024-05-15T07:24:42.722Z"
   },
   {
    "duration": 680,
    "start_time": "2024-05-15T07:24:56.182Z"
   },
   {
    "duration": 829,
    "start_time": "2024-05-15T07:25:28.542Z"
   },
   {
    "duration": 727,
    "start_time": "2024-05-15T07:25:55.162Z"
   },
   {
    "duration": 1295,
    "start_time": "2024-05-15T07:28:42.002Z"
   },
   {
    "duration": 69,
    "start_time": "2024-05-15T07:28:43.301Z"
   },
   {
    "duration": 26,
    "start_time": "2024-05-15T07:28:43.372Z"
   },
   {
    "duration": 13,
    "start_time": "2024-05-15T07:28:43.399Z"
   },
   {
    "duration": 10,
    "start_time": "2024-05-15T07:28:43.414Z"
   },
   {
    "duration": 19,
    "start_time": "2024-05-15T07:28:43.426Z"
   },
   {
    "duration": 13,
    "start_time": "2024-05-15T07:28:43.447Z"
   },
   {
    "duration": 26,
    "start_time": "2024-05-15T07:28:43.462Z"
   },
   {
    "duration": 10,
    "start_time": "2024-05-15T07:28:43.490Z"
   },
   {
    "duration": 15,
    "start_time": "2024-05-15T07:28:43.502Z"
   },
   {
    "duration": 11,
    "start_time": "2024-05-15T07:28:43.519Z"
   },
   {
    "duration": 8,
    "start_time": "2024-05-15T07:28:43.532Z"
   },
   {
    "duration": 13,
    "start_time": "2024-05-15T07:28:43.541Z"
   },
   {
    "duration": 5,
    "start_time": "2024-05-15T07:28:43.557Z"
   },
   {
    "duration": 34,
    "start_time": "2024-05-15T07:28:43.563Z"
   },
   {
    "duration": 6,
    "start_time": "2024-05-15T07:28:43.598Z"
   },
   {
    "duration": 12,
    "start_time": "2024-05-15T07:28:43.606Z"
   },
   {
    "duration": 17,
    "start_time": "2024-05-15T07:28:43.621Z"
   },
   {
    "duration": 11,
    "start_time": "2024-05-15T07:28:43.640Z"
   },
   {
    "duration": 3,
    "start_time": "2024-05-15T07:28:43.653Z"
   },
   {
    "duration": 213,
    "start_time": "2024-05-15T07:28:43.657Z"
   },
   {
    "duration": 133,
    "start_time": "2024-05-15T07:28:43.872Z"
   },
   {
    "duration": 30,
    "start_time": "2024-05-15T07:28:44.007Z"
   },
   {
    "duration": 9,
    "start_time": "2024-05-15T07:28:44.039Z"
   },
   {
    "duration": 1370,
    "start_time": "2024-05-15T07:28:44.051Z"
   },
   {
    "duration": 20,
    "start_time": "2024-05-15T07:28:45.423Z"
   },
   {
    "duration": 69,
    "start_time": "2024-05-15T07:28:45.447Z"
   },
   {
    "duration": 17,
    "start_time": "2024-05-15T07:28:45.518Z"
   },
   {
    "duration": 11,
    "start_time": "2024-05-15T07:28:45.537Z"
   },
   {
    "duration": 40,
    "start_time": "2024-05-15T07:28:45.550Z"
   },
   {
    "duration": 25,
    "start_time": "2024-05-15T07:28:45.592Z"
   },
   {
    "duration": 18,
    "start_time": "2024-05-15T07:28:45.619Z"
   },
   {
    "duration": 21,
    "start_time": "2024-05-15T07:28:45.639Z"
   },
   {
    "duration": 32,
    "start_time": "2024-05-15T07:28:45.662Z"
   },
   {
    "duration": 12,
    "start_time": "2024-05-15T07:28:45.700Z"
   },
   {
    "duration": 27,
    "start_time": "2024-05-15T07:28:45.714Z"
   },
   {
    "duration": 9,
    "start_time": "2024-05-15T07:28:45.743Z"
   },
   {
    "duration": 28,
    "start_time": "2024-05-15T07:28:45.754Z"
   },
   {
    "duration": 24,
    "start_time": "2024-05-15T07:28:45.783Z"
   },
   {
    "duration": 19,
    "start_time": "2024-05-15T07:28:45.809Z"
   },
   {
    "duration": 20,
    "start_time": "2024-05-15T07:28:45.832Z"
   },
   {
    "duration": 811,
    "start_time": "2024-05-15T07:28:45.854Z"
   },
   {
    "duration": 1009,
    "start_time": "2024-05-15T07:28:46.667Z"
   },
   {
    "duration": 14,
    "start_time": "2024-05-15T07:28:47.677Z"
   },
   {
    "duration": 5,
    "start_time": "2024-05-15T07:28:47.698Z"
   },
   {
    "duration": 30,
    "start_time": "2024-05-15T07:28:47.704Z"
   },
   {
    "duration": 5,
    "start_time": "2024-05-15T07:28:47.736Z"
   },
   {
    "duration": 5150,
    "start_time": "2024-05-15T07:28:47.742Z"
   },
   {
    "duration": 20,
    "start_time": "2024-05-15T07:28:52.898Z"
   },
   {
    "duration": 15,
    "start_time": "2024-05-15T07:28:52.919Z"
   },
   {
    "duration": 10,
    "start_time": "2024-05-15T07:28:52.935Z"
   },
   {
    "duration": 5,
    "start_time": "2024-05-15T07:28:52.947Z"
   },
   {
    "duration": 12,
    "start_time": "2024-05-15T07:28:52.953Z"
   },
   {
    "duration": 376,
    "start_time": "2024-05-15T07:28:52.967Z"
   },
   {
    "duration": 171,
    "start_time": "2024-05-15T07:28:53.346Z"
   },
   {
    "duration": 649,
    "start_time": "2024-05-15T07:31:41.306Z"
   },
   {
    "duration": 739,
    "start_time": "2024-05-15T07:31:51.583Z"
   },
   {
    "duration": 839,
    "start_time": "2024-05-15T07:31:59.151Z"
   },
   {
    "duration": 661,
    "start_time": "2024-05-15T07:32:10.902Z"
   },
   {
    "duration": 675,
    "start_time": "2024-05-15T07:32:21.089Z"
   },
   {
    "duration": 884,
    "start_time": "2024-05-15T07:32:31.078Z"
   },
   {
    "duration": 718,
    "start_time": "2024-05-15T07:32:40.957Z"
   },
   {
    "duration": 826,
    "start_time": "2024-05-15T07:41:48.945Z"
   },
   {
    "duration": 26,
    "start_time": "2024-05-15T07:42:25.227Z"
   },
   {
    "duration": 40,
    "start_time": "2024-05-15T07:42:38.173Z"
   },
   {
    "duration": 29,
    "start_time": "2024-05-15T07:43:33.791Z"
   },
   {
    "duration": 22,
    "start_time": "2024-05-15T07:44:02.614Z"
   },
   {
    "duration": 23,
    "start_time": "2024-05-15T07:44:17.300Z"
   },
   {
    "duration": 24,
    "start_time": "2024-05-15T07:44:25.756Z"
   },
   {
    "duration": 24,
    "start_time": "2024-05-15T07:46:15.056Z"
   },
   {
    "duration": 27,
    "start_time": "2024-05-15T07:48:32.549Z"
   },
   {
    "duration": 166,
    "start_time": "2024-05-15T07:51:00.948Z"
   },
   {
    "duration": 43,
    "start_time": "2024-05-15T07:51:15.966Z"
   },
   {
    "duration": 24,
    "start_time": "2024-05-15T07:53:05.880Z"
   },
   {
    "duration": 24,
    "start_time": "2024-05-15T07:56:23.733Z"
   },
   {
    "duration": 28,
    "start_time": "2024-05-15T07:56:30.918Z"
   },
   {
    "duration": 1262,
    "start_time": "2024-05-15T08:02:00.730Z"
   },
   {
    "duration": 77,
    "start_time": "2024-05-15T08:02:01.994Z"
   },
   {
    "duration": 14,
    "start_time": "2024-05-15T08:02:02.073Z"
   },
   {
    "duration": 30,
    "start_time": "2024-05-15T08:02:02.089Z"
   },
   {
    "duration": 18,
    "start_time": "2024-05-15T08:02:02.122Z"
   },
   {
    "duration": 26,
    "start_time": "2024-05-15T08:02:02.142Z"
   },
   {
    "duration": 20,
    "start_time": "2024-05-15T08:02:02.170Z"
   },
   {
    "duration": 25,
    "start_time": "2024-05-15T08:02:02.192Z"
   },
   {
    "duration": 6,
    "start_time": "2024-05-15T08:02:02.220Z"
   },
   {
    "duration": 6,
    "start_time": "2024-05-15T08:02:02.228Z"
   },
   {
    "duration": 12,
    "start_time": "2024-05-15T08:02:02.236Z"
   },
   {
    "duration": 8,
    "start_time": "2024-05-15T08:02:02.249Z"
   },
   {
    "duration": 12,
    "start_time": "2024-05-15T08:02:02.259Z"
   },
   {
    "duration": 22,
    "start_time": "2024-05-15T08:02:02.287Z"
   },
   {
    "duration": 11,
    "start_time": "2024-05-15T08:02:02.311Z"
   },
   {
    "duration": 5,
    "start_time": "2024-05-15T08:02:02.325Z"
   },
   {
    "duration": 6,
    "start_time": "2024-05-15T08:02:02.332Z"
   },
   {
    "duration": 11,
    "start_time": "2024-05-15T08:02:02.340Z"
   },
   {
    "duration": 43,
    "start_time": "2024-05-15T08:02:02.352Z"
   },
   {
    "duration": 3,
    "start_time": "2024-05-15T08:02:02.397Z"
   },
   {
    "duration": 236,
    "start_time": "2024-05-15T08:02:02.401Z"
   },
   {
    "duration": 156,
    "start_time": "2024-05-15T08:02:02.639Z"
   },
   {
    "duration": 32,
    "start_time": "2024-05-15T08:02:02.797Z"
   },
   {
    "duration": 15,
    "start_time": "2024-05-15T08:02:02.831Z"
   },
   {
    "duration": 1393,
    "start_time": "2024-05-15T08:02:02.848Z"
   },
   {
    "duration": 21,
    "start_time": "2024-05-15T08:02:04.242Z"
   },
   {
    "duration": 27,
    "start_time": "2024-05-15T08:02:04.265Z"
   },
   {
    "duration": 5,
    "start_time": "2024-05-15T08:02:04.300Z"
   },
   {
    "duration": 12,
    "start_time": "2024-05-15T08:02:04.307Z"
   },
   {
    "duration": 13,
    "start_time": "2024-05-15T08:02:04.320Z"
   },
   {
    "duration": 22,
    "start_time": "2024-05-15T08:02:04.334Z"
   },
   {
    "duration": 36,
    "start_time": "2024-05-15T08:02:04.357Z"
   },
   {
    "duration": 18,
    "start_time": "2024-05-15T08:02:04.395Z"
   },
   {
    "duration": 28,
    "start_time": "2024-05-15T08:02:04.415Z"
   },
   {
    "duration": 14,
    "start_time": "2024-05-15T08:02:04.445Z"
   },
   {
    "duration": 36,
    "start_time": "2024-05-15T08:02:04.462Z"
   },
   {
    "duration": 8,
    "start_time": "2024-05-15T08:02:04.502Z"
   },
   {
    "duration": 22,
    "start_time": "2024-05-15T08:02:04.512Z"
   },
   {
    "duration": 16,
    "start_time": "2024-05-15T08:02:04.536Z"
   },
   {
    "duration": 889,
    "start_time": "2024-05-15T08:02:04.554Z"
   },
   {
    "duration": 40,
    "start_time": "2024-05-15T08:02:05.447Z"
   },
   {
    "duration": 54,
    "start_time": "2024-05-16T09:45:59.146Z"
   },
   {
    "duration": 1474,
    "start_time": "2024-05-16T09:46:05.012Z"
   },
   {
    "duration": 209,
    "start_time": "2024-05-16T09:46:06.488Z"
   },
   {
    "duration": 12,
    "start_time": "2024-05-16T09:46:06.699Z"
   },
   {
    "duration": 20,
    "start_time": "2024-05-16T09:46:06.714Z"
   },
   {
    "duration": 30,
    "start_time": "2024-05-16T09:46:06.736Z"
   },
   {
    "duration": 14,
    "start_time": "2024-05-16T09:46:06.768Z"
   },
   {
    "duration": 26,
    "start_time": "2024-05-16T09:46:06.784Z"
   },
   {
    "duration": 16,
    "start_time": "2024-05-16T09:46:06.812Z"
   },
   {
    "duration": 11,
    "start_time": "2024-05-16T09:46:06.829Z"
   },
   {
    "duration": 28,
    "start_time": "2024-05-16T09:46:06.843Z"
   },
   {
    "duration": 42,
    "start_time": "2024-05-16T09:46:06.872Z"
   },
   {
    "duration": 34,
    "start_time": "2024-05-16T09:46:06.916Z"
   },
   {
    "duration": 39,
    "start_time": "2024-05-16T09:46:06.951Z"
   },
   {
    "duration": 60,
    "start_time": "2024-05-16T09:46:06.992Z"
   },
   {
    "duration": 44,
    "start_time": "2024-05-16T09:46:07.053Z"
   },
   {
    "duration": 17,
    "start_time": "2024-05-16T09:46:07.099Z"
   },
   {
    "duration": 32,
    "start_time": "2024-05-16T09:46:07.118Z"
   },
   {
    "duration": 29,
    "start_time": "2024-05-16T09:46:07.151Z"
   },
   {
    "duration": 128,
    "start_time": "2024-05-16T09:46:07.182Z"
   },
   {
    "duration": 38,
    "start_time": "2024-05-16T09:46:07.312Z"
   },
   {
    "duration": 198,
    "start_time": "2024-05-16T09:46:07.352Z"
   },
   {
    "duration": 116,
    "start_time": "2024-05-16T09:46:07.553Z"
   },
   {
    "duration": 38,
    "start_time": "2024-05-16T09:46:07.671Z"
   },
   {
    "duration": 19,
    "start_time": "2024-05-16T09:46:07.711Z"
   },
   {
    "duration": 1272,
    "start_time": "2024-05-16T09:46:07.732Z"
   },
   {
    "duration": 16,
    "start_time": "2024-05-16T09:46:09.006Z"
   },
   {
    "duration": 98,
    "start_time": "2024-05-16T09:46:09.023Z"
   },
   {
    "duration": 9,
    "start_time": "2024-05-16T09:46:09.125Z"
   },
   {
    "duration": 20,
    "start_time": "2024-05-16T09:46:09.136Z"
   },
   {
    "duration": 22,
    "start_time": "2024-05-16T09:46:09.158Z"
   },
   {
    "duration": 17,
    "start_time": "2024-05-16T09:46:09.182Z"
   },
   {
    "duration": 16,
    "start_time": "2024-05-16T09:46:09.201Z"
   },
   {
    "duration": 17,
    "start_time": "2024-05-16T09:46:09.228Z"
   },
   {
    "duration": 27,
    "start_time": "2024-05-16T09:46:09.247Z"
   },
   {
    "duration": 14,
    "start_time": "2024-05-16T09:46:09.276Z"
   },
   {
    "duration": 29,
    "start_time": "2024-05-16T09:46:09.291Z"
   },
   {
    "duration": 55,
    "start_time": "2024-05-16T09:46:09.322Z"
   },
   {
    "duration": 30,
    "start_time": "2024-05-16T09:46:09.379Z"
   },
   {
    "duration": 17,
    "start_time": "2024-05-16T09:46:09.412Z"
   },
   {
    "duration": 739,
    "start_time": "2024-05-16T09:46:09.430Z"
   },
   {
    "duration": 30,
    "start_time": "2024-05-16T09:46:10.171Z"
   },
   {
    "duration": 47,
    "start_time": "2024-05-16T09:46:10.202Z"
   },
   {
    "duration": 988,
    "start_time": "2024-05-16T09:46:10.251Z"
   },
   {
    "duration": 3,
    "start_time": "2024-05-16T09:46:11.241Z"
   },
   {
    "duration": 27,
    "start_time": "2024-05-16T09:46:11.246Z"
   },
   {
    "duration": 14,
    "start_time": "2024-05-16T09:46:11.275Z"
   },
   {
    "duration": 36,
    "start_time": "2024-05-16T09:46:11.291Z"
   },
   {
    "duration": 4670,
    "start_time": "2024-05-16T09:46:11.329Z"
   },
   {
    "duration": 18,
    "start_time": "2024-05-16T09:46:16.000Z"
   },
   {
    "duration": 3,
    "start_time": "2024-05-16T09:46:16.030Z"
   },
   {
    "duration": 10,
    "start_time": "2024-05-16T09:46:16.035Z"
   },
   {
    "duration": 7,
    "start_time": "2024-05-16T09:46:16.047Z"
   },
   {
    "duration": 12,
    "start_time": "2024-05-16T09:46:16.056Z"
   },
   {
    "duration": 374,
    "start_time": "2024-05-16T09:46:16.070Z"
   },
   {
    "duration": 154,
    "start_time": "2024-05-16T09:46:16.445Z"
   },
   {
    "duration": 8,
    "start_time": "2024-05-16T09:46:55.846Z"
   },
   {
    "duration": 5,
    "start_time": "2024-05-16T09:47:04.392Z"
   },
   {
    "duration": 13,
    "start_time": "2024-05-16T09:47:44.759Z"
   },
   {
    "duration": 6,
    "start_time": "2024-05-16T10:07:23.497Z"
   },
   {
    "duration": 5,
    "start_time": "2024-05-16T10:07:28.933Z"
   },
   {
    "duration": 5,
    "start_time": "2024-05-16T10:08:19.800Z"
   },
   {
    "duration": 163,
    "start_time": "2024-05-16T10:22:29.922Z"
   },
   {
    "duration": 1236,
    "start_time": "2024-05-16T10:26:53.466Z"
   },
   {
    "duration": 72,
    "start_time": "2024-05-16T10:26:54.704Z"
   },
   {
    "duration": 12,
    "start_time": "2024-05-16T10:26:54.778Z"
   },
   {
    "duration": 14,
    "start_time": "2024-05-16T10:26:54.793Z"
   },
   {
    "duration": 12,
    "start_time": "2024-05-16T10:26:54.808Z"
   },
   {
    "duration": 11,
    "start_time": "2024-05-16T10:26:54.822Z"
   },
   {
    "duration": 24,
    "start_time": "2024-05-16T10:26:54.834Z"
   },
   {
    "duration": 8,
    "start_time": "2024-05-16T10:26:54.860Z"
   },
   {
    "duration": 11,
    "start_time": "2024-05-16T10:26:54.871Z"
   },
   {
    "duration": 8,
    "start_time": "2024-05-16T10:26:54.885Z"
   },
   {
    "duration": 20,
    "start_time": "2024-05-16T10:26:54.895Z"
   },
   {
    "duration": 17,
    "start_time": "2024-05-16T10:26:54.916Z"
   },
   {
    "duration": 13,
    "start_time": "2024-05-16T10:26:54.934Z"
   },
   {
    "duration": 10,
    "start_time": "2024-05-16T10:26:54.948Z"
   },
   {
    "duration": 11,
    "start_time": "2024-05-16T10:26:54.959Z"
   },
   {
    "duration": 5,
    "start_time": "2024-05-16T10:26:54.972Z"
   },
   {
    "duration": 16,
    "start_time": "2024-05-16T10:26:54.978Z"
   },
   {
    "duration": 41,
    "start_time": "2024-05-16T10:26:54.996Z"
   },
   {
    "duration": 21,
    "start_time": "2024-05-16T10:26:55.038Z"
   },
   {
    "duration": 5,
    "start_time": "2024-05-16T10:26:55.061Z"
   },
   {
    "duration": 178,
    "start_time": "2024-05-16T10:26:55.067Z"
   },
   {
    "duration": 109,
    "start_time": "2024-05-16T10:26:55.247Z"
   },
   {
    "duration": 27,
    "start_time": "2024-05-16T10:26:55.358Z"
   },
   {
    "duration": 3,
    "start_time": "2024-05-16T10:26:55.387Z"
   },
   {
    "duration": 1248,
    "start_time": "2024-05-16T10:26:55.392Z"
   },
   {
    "duration": 15,
    "start_time": "2024-05-16T10:26:56.642Z"
   },
   {
    "duration": 29,
    "start_time": "2024-05-16T10:26:56.658Z"
   },
   {
    "duration": 11,
    "start_time": "2024-05-16T10:26:56.691Z"
   },
   {
    "duration": 22,
    "start_time": "2024-05-16T10:26:56.703Z"
   },
   {
    "duration": 48,
    "start_time": "2024-05-16T10:26:56.727Z"
   },
   {
    "duration": 28,
    "start_time": "2024-05-16T10:26:56.776Z"
   },
   {
    "duration": 32,
    "start_time": "2024-05-16T10:26:56.806Z"
   },
   {
    "duration": 18,
    "start_time": "2024-05-16T10:26:56.840Z"
   },
   {
    "duration": 29,
    "start_time": "2024-05-16T10:26:56.859Z"
   },
   {
    "duration": 30,
    "start_time": "2024-05-16T10:26:56.890Z"
   },
   {
    "duration": 19,
    "start_time": "2024-05-16T10:26:56.922Z"
   },
   {
    "duration": 13,
    "start_time": "2024-05-16T10:26:56.943Z"
   },
   {
    "duration": 20,
    "start_time": "2024-05-16T10:26:56.958Z"
   },
   {
    "duration": 16,
    "start_time": "2024-05-16T10:26:56.979Z"
   },
   {
    "duration": 833,
    "start_time": "2024-05-16T10:26:56.997Z"
   },
   {
    "duration": 31,
    "start_time": "2024-05-16T10:26:57.832Z"
   },
   {
    "duration": 3,
    "start_time": "2024-05-16T10:26:57.865Z"
   },
   {
    "duration": 10,
    "start_time": "2024-05-16T10:26:57.870Z"
   },
   {
    "duration": 962,
    "start_time": "2024-05-16T10:26:57.882Z"
   },
   {
    "duration": 3,
    "start_time": "2024-05-16T10:26:58.846Z"
   },
   {
    "duration": 25,
    "start_time": "2024-05-16T10:26:58.851Z"
   },
   {
    "duration": 19,
    "start_time": "2024-05-16T10:26:58.877Z"
   },
   {
    "duration": 4844,
    "start_time": "2024-05-16T10:26:58.897Z"
   },
   {
    "duration": 17,
    "start_time": "2024-05-16T10:27:03.742Z"
   },
   {
    "duration": 105,
    "start_time": "2024-05-16T10:27:03.760Z"
   },
   {
    "duration": 326,
    "start_time": "2024-05-16T10:27:03.867Z"
   },
   {
    "duration": 298,
    "start_time": "2024-05-16T10:27:04.195Z"
   },
   {
    "duration": 103,
    "start_time": "2024-05-16T10:27:04.495Z"
   },
   {
    "duration": 474,
    "start_time": "2024-05-16T10:27:04.600Z"
   },
   {
    "duration": 160,
    "start_time": "2024-05-16T10:27:05.076Z"
   },
   {
    "duration": 1245,
    "start_time": "2024-05-16T10:46:59.681Z"
   },
   {
    "duration": 70,
    "start_time": "2024-05-16T10:47:00.929Z"
   },
   {
    "duration": 12,
    "start_time": "2024-05-16T10:47:01.001Z"
   },
   {
    "duration": 113,
    "start_time": "2024-05-16T10:47:01.016Z"
   },
   {
    "duration": 57,
    "start_time": "2024-05-16T10:47:01.131Z"
   },
   {
    "duration": 58,
    "start_time": "2024-05-16T10:47:01.189Z"
   },
   {
    "duration": 79,
    "start_time": "2024-05-16T10:47:01.249Z"
   },
   {
    "duration": 94,
    "start_time": "2024-05-16T10:47:01.330Z"
   },
   {
    "duration": 54,
    "start_time": "2024-05-16T10:47:01.425Z"
   },
   {
    "duration": 88,
    "start_time": "2024-05-16T10:47:01.482Z"
   },
   {
    "duration": 58,
    "start_time": "2024-05-16T10:47:01.571Z"
   },
   {
    "duration": 126,
    "start_time": "2024-05-16T10:47:01.631Z"
   },
   {
    "duration": 186,
    "start_time": "2024-05-16T10:47:01.759Z"
   },
   {
    "duration": 62,
    "start_time": "2024-05-16T10:47:01.947Z"
   },
   {
    "duration": 142,
    "start_time": "2024-05-16T10:47:02.011Z"
   },
   {
    "duration": 129,
    "start_time": "2024-05-16T10:47:02.155Z"
   },
   {
    "duration": 171,
    "start_time": "2024-05-16T10:47:02.286Z"
   },
   {
    "duration": 219,
    "start_time": "2024-05-16T10:47:02.459Z"
   },
   {
    "duration": 141,
    "start_time": "2024-05-16T10:47:02.680Z"
   },
   {
    "duration": 337,
    "start_time": "2024-05-16T10:47:02.822Z"
   },
   {
    "duration": 114,
    "start_time": "2024-05-16T10:47:03.162Z"
   },
   {
    "duration": 55,
    "start_time": "2024-05-16T10:47:03.278Z"
   },
   {
    "duration": 3,
    "start_time": "2024-05-16T10:47:03.335Z"
   },
   {
    "duration": 1252,
    "start_time": "2024-05-16T10:47:03.340Z"
   },
   {
    "duration": 16,
    "start_time": "2024-05-16T10:47:04.594Z"
   },
   {
    "duration": 64,
    "start_time": "2024-05-16T10:47:04.611Z"
   },
   {
    "duration": 31,
    "start_time": "2024-05-16T10:47:04.677Z"
   },
   {
    "duration": 61,
    "start_time": "2024-05-16T10:47:04.712Z"
   },
   {
    "duration": 34,
    "start_time": "2024-05-16T10:47:04.775Z"
   },
   {
    "duration": 25,
    "start_time": "2024-05-16T10:47:04.811Z"
   },
   {
    "duration": 21,
    "start_time": "2024-05-16T10:47:04.837Z"
   },
   {
    "duration": 40,
    "start_time": "2024-05-16T10:47:04.859Z"
   },
   {
    "duration": 40,
    "start_time": "2024-05-16T10:47:04.901Z"
   },
   {
    "duration": 19,
    "start_time": "2024-05-16T10:47:04.943Z"
   },
   {
    "duration": 73,
    "start_time": "2024-05-16T10:47:04.964Z"
   },
   {
    "duration": 41,
    "start_time": "2024-05-16T10:47:05.039Z"
   },
   {
    "duration": 38,
    "start_time": "2024-05-16T10:47:05.082Z"
   },
   {
    "duration": 28,
    "start_time": "2024-05-16T10:47:05.122Z"
   },
   {
    "duration": 890,
    "start_time": "2024-05-16T10:47:05.151Z"
   },
   {
    "duration": 30,
    "start_time": "2024-05-16T10:47:06.043Z"
   },
   {
    "duration": 49,
    "start_time": "2024-05-16T10:47:06.074Z"
   },
   {
    "duration": 34,
    "start_time": "2024-05-16T10:47:06.124Z"
   },
   {
    "duration": 940,
    "start_time": "2024-05-16T10:47:06.159Z"
   },
   {
    "duration": 4,
    "start_time": "2024-05-16T10:47:07.100Z"
   },
   {
    "duration": 51,
    "start_time": "2024-05-16T10:47:07.105Z"
   },
   {
    "duration": 21,
    "start_time": "2024-05-16T10:47:07.158Z"
   },
   {
    "duration": 4850,
    "start_time": "2024-05-16T10:47:07.181Z"
   },
   {
    "duration": 19,
    "start_time": "2024-05-16T10:47:12.033Z"
   },
   {
    "duration": 21,
    "start_time": "2024-05-16T10:47:12.053Z"
   },
   {
    "duration": 41,
    "start_time": "2024-05-16T10:47:12.076Z"
   },
   {
    "duration": 24,
    "start_time": "2024-05-16T10:47:12.119Z"
   },
   {
    "duration": 24,
    "start_time": "2024-05-16T10:47:12.145Z"
   },
   {
    "duration": 372,
    "start_time": "2024-05-16T10:47:12.171Z"
   },
   {
    "duration": 165,
    "start_time": "2024-05-16T10:47:12.545Z"
   },
   {
    "duration": 484,
    "start_time": "2024-05-16T10:49:02.586Z"
   },
   {
    "duration": 352,
    "start_time": "2024-05-16T10:49:51.948Z"
   },
   {
    "duration": 333,
    "start_time": "2024-05-16T10:50:21.132Z"
   },
   {
    "duration": 363,
    "start_time": "2024-05-16T10:51:44.324Z"
   },
   {
    "duration": 348,
    "start_time": "2024-05-16T10:51:59.099Z"
   },
   {
    "duration": 259,
    "start_time": "2024-05-16T10:52:57.135Z"
   },
   {
    "duration": 47,
    "start_time": "2024-05-16T10:53:23.281Z"
   },
   {
    "duration": 482,
    "start_time": "2024-05-16T10:53:36.832Z"
   },
   {
    "duration": 358,
    "start_time": "2024-05-16T10:54:24.188Z"
   },
   {
    "duration": 355,
    "start_time": "2024-05-16T10:54:41.017Z"
   },
   {
    "duration": 390,
    "start_time": "2024-05-16T10:54:47.896Z"
   },
   {
    "duration": 39,
    "start_time": "2024-05-16T10:55:17.046Z"
   },
   {
    "duration": 40,
    "start_time": "2024-05-16T10:56:07.769Z"
   },
   {
    "duration": 42,
    "start_time": "2024-05-16T10:56:18.889Z"
   },
   {
    "duration": 399,
    "start_time": "2024-05-16T10:56:23.871Z"
   },
   {
    "duration": 378,
    "start_time": "2024-05-16T10:57:04.851Z"
   },
   {
    "duration": 340,
    "start_time": "2024-05-16T10:57:37.836Z"
   },
   {
    "duration": 386,
    "start_time": "2024-05-16T10:58:21.175Z"
   },
   {
    "duration": 388,
    "start_time": "2024-05-16T10:59:05.829Z"
   },
   {
    "duration": 373,
    "start_time": "2024-05-16T10:59:29.811Z"
   },
   {
    "duration": 177,
    "start_time": "2024-05-16T11:00:25.011Z"
   },
   {
    "duration": 160,
    "start_time": "2024-05-16T11:00:54.407Z"
   },
   {
    "duration": 150,
    "start_time": "2024-05-16T11:01:02.053Z"
   },
   {
    "duration": 159,
    "start_time": "2024-05-16T11:01:25.060Z"
   },
   {
    "duration": 169,
    "start_time": "2024-05-16T11:02:15.069Z"
   },
   {
    "duration": 129,
    "start_time": "2024-05-16T11:03:12.959Z"
   },
   {
    "duration": 168,
    "start_time": "2024-05-16T11:04:18.638Z"
   },
   {
    "duration": 117,
    "start_time": "2024-05-16T11:04:57.659Z"
   },
   {
    "duration": 117,
    "start_time": "2024-05-16T11:05:01.257Z"
   },
   {
    "duration": 165,
    "start_time": "2024-05-16T11:05:36.303Z"
   },
   {
    "duration": 162,
    "start_time": "2024-05-16T11:05:56.715Z"
   },
   {
    "duration": 334,
    "start_time": "2024-05-16T11:06:12.896Z"
   },
   {
    "duration": 186,
    "start_time": "2024-05-16T11:08:18.586Z"
   },
   {
    "duration": 143,
    "start_time": "2024-05-16T11:08:41.937Z"
   },
   {
    "duration": 183,
    "start_time": "2024-05-16T11:08:56.320Z"
   },
   {
    "duration": 189,
    "start_time": "2024-05-16T11:09:34.940Z"
   },
   {
    "duration": 15,
    "start_time": "2024-05-16T11:10:20.131Z"
   },
   {
    "duration": 178,
    "start_time": "2024-05-16T11:10:26.279Z"
   },
   {
    "duration": 192,
    "start_time": "2024-05-16T11:10:39.392Z"
   },
   {
    "duration": 190,
    "start_time": "2024-05-16T11:10:45.543Z"
   },
   {
    "duration": 1220,
    "start_time": "2024-05-16T11:11:21.930Z"
   },
   {
    "duration": 72,
    "start_time": "2024-05-16T11:11:23.152Z"
   },
   {
    "duration": 12,
    "start_time": "2024-05-16T11:11:23.226Z"
   },
   {
    "duration": 23,
    "start_time": "2024-05-16T11:11:23.240Z"
   },
   {
    "duration": 30,
    "start_time": "2024-05-16T11:11:23.264Z"
   },
   {
    "duration": 23,
    "start_time": "2024-05-16T11:11:23.295Z"
   },
   {
    "duration": 60,
    "start_time": "2024-05-16T11:11:23.320Z"
   },
   {
    "duration": 60,
    "start_time": "2024-05-16T11:11:23.381Z"
   },
   {
    "duration": 62,
    "start_time": "2024-05-16T11:11:23.442Z"
   },
   {
    "duration": 10,
    "start_time": "2024-05-16T11:11:23.508Z"
   },
   {
    "duration": 41,
    "start_time": "2024-05-16T11:11:23.520Z"
   },
   {
    "duration": 27,
    "start_time": "2024-05-16T11:11:23.563Z"
   },
   {
    "duration": 45,
    "start_time": "2024-05-16T11:11:23.592Z"
   },
   {
    "duration": 18,
    "start_time": "2024-05-16T11:11:23.638Z"
   },
   {
    "duration": 11,
    "start_time": "2024-05-16T11:11:23.657Z"
   },
   {
    "duration": 19,
    "start_time": "2024-05-16T11:11:23.669Z"
   },
   {
    "duration": 8,
    "start_time": "2024-05-16T11:11:23.690Z"
   },
   {
    "duration": 15,
    "start_time": "2024-05-16T11:11:23.700Z"
   },
   {
    "duration": 22,
    "start_time": "2024-05-16T11:11:23.716Z"
   },
   {
    "duration": 179,
    "start_time": "2024-05-16T11:11:23.739Z"
   },
   {
    "duration": 113,
    "start_time": "2024-05-16T11:11:23.929Z"
   },
   {
    "duration": 26,
    "start_time": "2024-05-16T11:11:24.044Z"
   },
   {
    "duration": 3,
    "start_time": "2024-05-16T11:11:24.072Z"
   },
   {
    "duration": 1275,
    "start_time": "2024-05-16T11:11:24.077Z"
   },
   {
    "duration": 15,
    "start_time": "2024-05-16T11:11:25.354Z"
   },
   {
    "duration": 32,
    "start_time": "2024-05-16T11:11:25.371Z"
   },
   {
    "duration": 5,
    "start_time": "2024-05-16T11:11:25.404Z"
   },
   {
    "duration": 11,
    "start_time": "2024-05-16T11:11:25.429Z"
   },
   {
    "duration": 23,
    "start_time": "2024-05-16T11:11:25.442Z"
   },
   {
    "duration": 42,
    "start_time": "2024-05-16T11:11:25.467Z"
   },
   {
    "duration": 20,
    "start_time": "2024-05-16T11:11:25.510Z"
   },
   {
    "duration": 21,
    "start_time": "2024-05-16T11:11:25.532Z"
   },
   {
    "duration": 25,
    "start_time": "2024-05-16T11:11:25.555Z"
   },
   {
    "duration": 20,
    "start_time": "2024-05-16T11:11:25.581Z"
   },
   {
    "duration": 34,
    "start_time": "2024-05-16T11:11:25.603Z"
   },
   {
    "duration": 15,
    "start_time": "2024-05-16T11:11:25.639Z"
   },
   {
    "duration": 13,
    "start_time": "2024-05-16T11:11:25.656Z"
   },
   {
    "duration": 22,
    "start_time": "2024-05-16T11:11:25.671Z"
   },
   {
    "duration": 862,
    "start_time": "2024-05-16T11:11:25.694Z"
   },
   {
    "duration": 32,
    "start_time": "2024-05-16T11:11:26.557Z"
   },
   {
    "duration": 3,
    "start_time": "2024-05-16T11:11:26.591Z"
   },
   {
    "duration": 23,
    "start_time": "2024-05-16T11:11:26.595Z"
   },
   {
    "duration": 904,
    "start_time": "2024-05-16T11:11:26.629Z"
   },
   {
    "duration": 4,
    "start_time": "2024-05-16T11:11:27.535Z"
   },
   {
    "duration": 25,
    "start_time": "2024-05-16T11:11:27.540Z"
   },
   {
    "duration": 18,
    "start_time": "2024-05-16T11:11:27.567Z"
   },
   {
    "duration": 4807,
    "start_time": "2024-05-16T11:11:27.587Z"
   },
   {
    "duration": 19,
    "start_time": "2024-05-16T11:11:32.395Z"
   },
   {
    "duration": 47,
    "start_time": "2024-05-16T11:11:32.432Z"
   },
   {
    "duration": 248,
    "start_time": "2024-05-16T11:11:32.480Z"
   },
   {
    "duration": 113,
    "start_time": "2024-05-16T11:11:32.730Z"
   },
   {
    "duration": 196,
    "start_time": "2024-05-16T11:11:32.845Z"
   },
   {
    "duration": 649,
    "start_time": "2024-05-16T11:11:33.042Z"
   },
   {
    "duration": 197,
    "start_time": "2024-05-16T11:11:33.693Z"
   },
   {
    "duration": 1048,
    "start_time": "2024-05-16T14:28:39.405Z"
   },
   {
    "duration": 66,
    "start_time": "2024-05-16T14:28:40.455Z"
   },
   {
    "duration": 9,
    "start_time": "2024-05-16T14:28:40.523Z"
   },
   {
    "duration": 12,
    "start_time": "2024-05-16T14:28:40.534Z"
   },
   {
    "duration": 10,
    "start_time": "2024-05-16T14:28:40.547Z"
   },
   {
    "duration": 9,
    "start_time": "2024-05-16T14:28:40.559Z"
   },
   {
    "duration": 40,
    "start_time": "2024-05-16T14:28:40.569Z"
   },
   {
    "duration": 18,
    "start_time": "2024-05-16T14:28:40.610Z"
   },
   {
    "duration": 11,
    "start_time": "2024-05-16T14:28:40.629Z"
   },
   {
    "duration": 33,
    "start_time": "2024-05-16T14:28:40.642Z"
   },
   {
    "duration": 11,
    "start_time": "2024-05-16T14:28:40.677Z"
   },
   {
    "duration": 18,
    "start_time": "2024-05-16T14:28:40.689Z"
   },
   {
    "duration": 12,
    "start_time": "2024-05-16T14:28:40.708Z"
   },
   {
    "duration": 11,
    "start_time": "2024-05-16T14:28:40.721Z"
   },
   {
    "duration": 13,
    "start_time": "2024-05-16T14:28:40.734Z"
   },
   {
    "duration": 14,
    "start_time": "2024-05-16T14:28:40.749Z"
   },
   {
    "duration": 12,
    "start_time": "2024-05-16T14:28:40.765Z"
   },
   {
    "duration": 11,
    "start_time": "2024-05-16T14:28:40.778Z"
   },
   {
    "duration": 13,
    "start_time": "2024-05-16T14:28:40.790Z"
   },
   {
    "duration": 149,
    "start_time": "2024-05-16T14:28:40.805Z"
   },
   {
    "duration": 90,
    "start_time": "2024-05-16T14:28:40.955Z"
   },
   {
    "duration": 23,
    "start_time": "2024-05-16T14:28:41.046Z"
   },
   {
    "duration": 2,
    "start_time": "2024-05-16T14:28:41.071Z"
   },
   {
    "duration": 1139,
    "start_time": "2024-05-16T14:28:41.075Z"
   },
   {
    "duration": 13,
    "start_time": "2024-05-16T14:28:42.216Z"
   },
   {
    "duration": 45,
    "start_time": "2024-05-16T14:28:42.231Z"
   },
   {
    "duration": 26,
    "start_time": "2024-05-16T14:28:42.277Z"
   },
   {
    "duration": 36,
    "start_time": "2024-05-16T14:28:42.307Z"
   },
   {
    "duration": 27,
    "start_time": "2024-05-16T14:28:42.345Z"
   },
   {
    "duration": 21,
    "start_time": "2024-05-16T14:28:42.374Z"
   },
   {
    "duration": 20,
    "start_time": "2024-05-16T14:28:42.396Z"
   },
   {
    "duration": 26,
    "start_time": "2024-05-16T14:28:42.417Z"
   },
   {
    "duration": 30,
    "start_time": "2024-05-16T14:28:42.445Z"
   },
   {
    "duration": 34,
    "start_time": "2024-05-16T14:28:42.476Z"
   },
   {
    "duration": 51,
    "start_time": "2024-05-16T14:28:42.511Z"
   },
   {
    "duration": 28,
    "start_time": "2024-05-16T14:28:42.563Z"
   },
   {
    "duration": 24,
    "start_time": "2024-05-16T14:28:42.592Z"
   },
   {
    "duration": 24,
    "start_time": "2024-05-16T14:28:42.618Z"
   },
   {
    "duration": 739,
    "start_time": "2024-05-16T14:28:42.644Z"
   },
   {
    "duration": 27,
    "start_time": "2024-05-16T14:28:43.385Z"
   },
   {
    "duration": 4,
    "start_time": "2024-05-16T14:28:43.413Z"
   },
   {
    "duration": 28,
    "start_time": "2024-05-16T14:28:43.418Z"
   },
   {
    "duration": 816,
    "start_time": "2024-05-16T14:28:43.447Z"
   },
   {
    "duration": 3,
    "start_time": "2024-05-16T14:28:44.264Z"
   },
   {
    "duration": 40,
    "start_time": "2024-05-16T14:28:44.268Z"
   },
   {
    "duration": 5,
    "start_time": "2024-05-16T14:28:44.310Z"
   },
   {
    "duration": 4462,
    "start_time": "2024-05-16T14:28:44.316Z"
   },
   {
    "duration": 15,
    "start_time": "2024-05-16T14:28:48.780Z"
   },
   {
    "duration": 4,
    "start_time": "2024-05-16T14:28:48.797Z"
   },
   {
    "duration": 12,
    "start_time": "2024-05-16T14:28:48.802Z"
   },
   {
    "duration": 6,
    "start_time": "2024-05-16T14:28:48.816Z"
   },
   {
    "duration": 21,
    "start_time": "2024-05-16T14:28:48.824Z"
   },
   {
    "duration": 334,
    "start_time": "2024-05-16T14:28:48.847Z"
   },
   {
    "duration": 162,
    "start_time": "2024-05-16T14:28:49.183Z"
   },
   {
    "duration": 1110,
    "start_time": "2024-05-16T17:14:48.488Z"
   },
   {
    "duration": 69,
    "start_time": "2024-05-16T17:14:49.599Z"
   },
   {
    "duration": 10,
    "start_time": "2024-05-16T17:14:49.670Z"
   },
   {
    "duration": 19,
    "start_time": "2024-05-16T17:14:49.683Z"
   },
   {
    "duration": 14,
    "start_time": "2024-05-16T17:14:49.704Z"
   },
   {
    "duration": 8,
    "start_time": "2024-05-16T17:14:49.719Z"
   },
   {
    "duration": 18,
    "start_time": "2024-05-16T17:14:49.729Z"
   },
   {
    "duration": 12,
    "start_time": "2024-05-16T17:14:49.749Z"
   },
   {
    "duration": 15,
    "start_time": "2024-05-16T17:14:49.763Z"
   },
   {
    "duration": 4,
    "start_time": "2024-05-16T17:14:49.781Z"
   },
   {
    "duration": 9,
    "start_time": "2024-05-16T17:14:49.787Z"
   },
   {
    "duration": 9,
    "start_time": "2024-05-16T17:14:49.797Z"
   },
   {
    "duration": 6,
    "start_time": "2024-05-16T17:14:49.807Z"
   },
   {
    "duration": 11,
    "start_time": "2024-05-16T17:14:49.815Z"
   },
   {
    "duration": 18,
    "start_time": "2024-05-16T17:14:49.827Z"
   },
   {
    "duration": 3,
    "start_time": "2024-05-16T17:14:49.847Z"
   },
   {
    "duration": 4,
    "start_time": "2024-05-16T17:14:49.852Z"
   },
   {
    "duration": 16,
    "start_time": "2024-05-16T17:14:49.858Z"
   },
   {
    "duration": 12,
    "start_time": "2024-05-16T17:14:49.876Z"
   },
   {
    "duration": 173,
    "start_time": "2024-05-16T17:14:49.889Z"
   },
   {
    "duration": 96,
    "start_time": "2024-05-16T17:14:50.064Z"
   },
   {
    "duration": 25,
    "start_time": "2024-05-16T17:14:50.162Z"
   },
   {
    "duration": 3,
    "start_time": "2024-05-16T17:14:50.189Z"
   },
   {
    "duration": 1104,
    "start_time": "2024-05-16T17:14:50.194Z"
   },
   {
    "duration": 14,
    "start_time": "2024-05-16T17:14:51.300Z"
   },
   {
    "duration": 29,
    "start_time": "2024-05-16T17:14:51.316Z"
   },
   {
    "duration": 6,
    "start_time": "2024-05-16T17:14:51.347Z"
   },
   {
    "duration": 29,
    "start_time": "2024-05-16T17:14:51.356Z"
   },
   {
    "duration": 33,
    "start_time": "2024-05-16T17:14:51.387Z"
   },
   {
    "duration": 14,
    "start_time": "2024-05-16T17:14:51.422Z"
   },
   {
    "duration": 23,
    "start_time": "2024-05-16T17:14:51.438Z"
   },
   {
    "duration": 19,
    "start_time": "2024-05-16T17:14:51.463Z"
   },
   {
    "duration": 38,
    "start_time": "2024-05-16T17:14:51.484Z"
   },
   {
    "duration": 13,
    "start_time": "2024-05-16T17:14:51.523Z"
   },
   {
    "duration": 20,
    "start_time": "2024-05-16T17:14:51.538Z"
   },
   {
    "duration": 24,
    "start_time": "2024-05-16T17:14:51.560Z"
   },
   {
    "duration": 32,
    "start_time": "2024-05-16T17:14:51.585Z"
   },
   {
    "duration": 20,
    "start_time": "2024-05-16T17:14:51.618Z"
   },
   {
    "duration": 793,
    "start_time": "2024-05-16T17:14:51.640Z"
   },
   {
    "duration": 35,
    "start_time": "2024-05-16T17:14:52.434Z"
   },
   {
    "duration": 3,
    "start_time": "2024-05-16T17:14:52.470Z"
   },
   {
    "duration": 14,
    "start_time": "2024-05-16T17:14:52.475Z"
   },
   {
    "duration": 867,
    "start_time": "2024-05-16T17:14:52.491Z"
   },
   {
    "duration": 3,
    "start_time": "2024-05-16T17:14:53.360Z"
   },
   {
    "duration": 46,
    "start_time": "2024-05-16T17:14:53.365Z"
   },
   {
    "duration": 32,
    "start_time": "2024-05-16T17:14:53.412Z"
   },
   {
    "duration": 4539,
    "start_time": "2024-05-16T17:14:53.446Z"
   },
   {
    "duration": 16,
    "start_time": "2024-05-16T17:14:57.986Z"
   },
   {
    "duration": 4,
    "start_time": "2024-05-16T17:14:58.003Z"
   },
   {
    "duration": 7,
    "start_time": "2024-05-16T17:14:58.008Z"
   },
   {
    "duration": 6,
    "start_time": "2024-05-16T17:14:58.016Z"
   },
   {
    "duration": 23,
    "start_time": "2024-05-16T17:14:58.023Z"
   },
   {
    "duration": 315,
    "start_time": "2024-05-16T17:14:58.047Z"
   },
   {
    "duration": 167,
    "start_time": "2024-05-16T17:14:58.364Z"
   }
  ],
  "kernelspec": {
   "display_name": "Python 3 (ipykernel)",
   "language": "python",
   "name": "python3"
  },
  "language_info": {
   "codemirror_mode": {
    "name": "ipython",
    "version": 3
   },
   "file_extension": ".py",
   "mimetype": "text/x-python",
   "name": "python",
   "nbconvert_exporter": "python",
   "pygments_lexer": "ipython3",
   "version": "3.12.4"
  },
  "toc": {
   "base_numbering": 1,
   "nav_menu": {},
   "number_sections": true,
   "sideBar": true,
   "skip_h1_title": true,
   "title_cell": "Table of Contents",
   "title_sidebar": "Contents",
   "toc_cell": false,
   "toc_position": {},
   "toc_section_display": true,
   "toc_window_display": false
  }
 },
 "nbformat": 4,
 "nbformat_minor": 5
}
